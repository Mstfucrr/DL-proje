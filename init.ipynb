{
 "cells": [
  {
   "cell_type": "markdown",
   "metadata": {},
   "source": [
    "## Importing the libraries"
   ]
  },
  {
   "cell_type": "code",
   "execution_count": 19,
   "metadata": {},
   "outputs": [],
   "source": [
    "import matplotlib.pyplot as plt\n",
    "import numpy as np\n",
    "import pandas as pd\n",
    "import seaborn as sns"
   ]
  },
  {
   "cell_type": "markdown",
   "metadata": {},
   "source": [
    "## Importing the dataset"
   ]
  },
  {
   "cell_type": "code",
   "execution_count": 20,
   "metadata": {},
   "outputs": [
    {
     "data": {
      "text/html": [
       "<div>\n",
       "<style scoped>\n",
       "    .dataframe tbody tr th:only-of-type {\n",
       "        vertical-align: middle;\n",
       "    }\n",
       "\n",
       "    .dataframe tbody tr th {\n",
       "        vertical-align: top;\n",
       "    }\n",
       "\n",
       "    .dataframe thead th {\n",
       "        text-align: right;\n",
       "    }\n",
       "</style>\n",
       "<table border=\"1\" class=\"dataframe\">\n",
       "  <thead>\n",
       "    <tr style=\"text-align: right;\">\n",
       "      <th></th>\n",
       "      <th>KOD</th>\n",
       "      <th>BARKOD</th>\n",
       "      <th>MAMUL</th>\n",
       "      <th>K.İÇİ</th>\n",
       "      <th>GR</th>\n",
       "      <th>LİSTE</th>\n",
       "      <th>FATURA ALTI %</th>\n",
       "      <th>DÖNEM SONU %</th>\n",
       "      <th>KDV</th>\n",
       "      <th>NET MALİYET</th>\n",
       "      <th>Ö.RAF</th>\n",
       "      <th>KATEGORİ</th>\n",
       "      <th>AY</th>\n",
       "    </tr>\n",
       "  </thead>\n",
       "  <tbody>\n",
       "    <tr>\n",
       "      <th>0</th>\n",
       "      <td>67293883</td>\n",
       "      <td>8690637840746</td>\n",
       "      <td>1</td>\n",
       "      <td>8</td>\n",
       "      <td>400.0</td>\n",
       "      <td>21.85</td>\n",
       "      <td>12.0</td>\n",
       "      <td>5</td>\n",
       "      <td>0.01</td>\n",
       "      <td>18.449266</td>\n",
       "      <td>23.061583</td>\n",
       "      <td>FOOD</td>\n",
       "      <td>MART</td>\n",
       "    </tr>\n",
       "    <tr>\n",
       "      <th>1</th>\n",
       "      <td>67293891</td>\n",
       "      <td>8690637840821</td>\n",
       "      <td>1</td>\n",
       "      <td>8</td>\n",
       "      <td>400.0</td>\n",
       "      <td>21.85</td>\n",
       "      <td>12.0</td>\n",
       "      <td>5</td>\n",
       "      <td>0.01</td>\n",
       "      <td>18.449266</td>\n",
       "      <td>23.061583</td>\n",
       "      <td>FOOD</td>\n",
       "      <td>MART</td>\n",
       "    </tr>\n",
       "    <tr>\n",
       "      <th>2</th>\n",
       "      <td>67767533</td>\n",
       "      <td>8690637905896</td>\n",
       "      <td>1</td>\n",
       "      <td>12</td>\n",
       "      <td>600.0</td>\n",
       "      <td>27.00</td>\n",
       "      <td>13.0</td>\n",
       "      <td>5</td>\n",
       "      <td>0.01</td>\n",
       "      <td>22.538655</td>\n",
       "      <td>28.173319</td>\n",
       "      <td>FOOD</td>\n",
       "      <td>MART</td>\n",
       "    </tr>\n",
       "    <tr>\n",
       "      <th>3</th>\n",
       "      <td>67754288</td>\n",
       "      <td>8690637905193</td>\n",
       "      <td>1</td>\n",
       "      <td>12</td>\n",
       "      <td>600.0</td>\n",
       "      <td>27.00</td>\n",
       "      <td>13.0</td>\n",
       "      <td>5</td>\n",
       "      <td>0.01</td>\n",
       "      <td>22.538655</td>\n",
       "      <td>28.173319</td>\n",
       "      <td>FOOD</td>\n",
       "      <td>MART</td>\n",
       "    </tr>\n",
       "    <tr>\n",
       "      <th>4</th>\n",
       "      <td>68612788</td>\n",
       "      <td>8690637999277</td>\n",
       "      <td>1</td>\n",
       "      <td>8</td>\n",
       "      <td>335.0</td>\n",
       "      <td>39.75</td>\n",
       "      <td>10.0</td>\n",
       "      <td>5</td>\n",
       "      <td>0.01</td>\n",
       "      <td>34.326113</td>\n",
       "      <td>42.907641</td>\n",
       "      <td>FOOD</td>\n",
       "      <td>MART</td>\n",
       "    </tr>\n",
       "  </tbody>\n",
       "</table>\n",
       "</div>"
      ],
      "text/plain": [
       "        KOD         BARKOD  MAMUL  K.İÇİ     GR  LİSTE  FATURA ALTI %  \\\n",
       "0  67293883  8690637840746      1      8  400.0  21.85           12.0   \n",
       "1  67293891  8690637840821      1      8  400.0  21.85           12.0   \n",
       "2  67767533  8690637905896      1     12  600.0  27.00           13.0   \n",
       "3  67754288  8690637905193      1     12  600.0  27.00           13.0   \n",
       "4  68612788  8690637999277      1      8  335.0  39.75           10.0   \n",
       "\n",
       "   DÖNEM SONU %   KDV  NET MALİYET      Ö.RAF KATEGORİ    AY  \n",
       "0             5  0.01    18.449266  23.061583     FOOD  MART  \n",
       "1             5  0.01    18.449266  23.061583     FOOD  MART  \n",
       "2             5  0.01    22.538655  28.173319     FOOD  MART  \n",
       "3             5  0.01    22.538655  28.173319     FOOD  MART  \n",
       "4             5  0.01    34.326113  42.907641     FOOD  MART  "
      ]
     },
     "execution_count": 20,
     "metadata": {},
     "output_type": "execute_result"
    }
   ],
   "source": [
    "dataset = pd.read_excel(\"dataset.xlsx\")\n",
    "dataset.head()"
   ]
  },
  {
   "cell_type": "code",
   "execution_count": 21,
   "metadata": {},
   "outputs": [
    {
     "data": {
      "text/html": [
       "<div>\n",
       "<style scoped>\n",
       "    .dataframe tbody tr th:only-of-type {\n",
       "        vertical-align: middle;\n",
       "    }\n",
       "\n",
       "    .dataframe tbody tr th {\n",
       "        vertical-align: top;\n",
       "    }\n",
       "\n",
       "    .dataframe thead th {\n",
       "        text-align: right;\n",
       "    }\n",
       "</style>\n",
       "<table border=\"1\" class=\"dataframe\">\n",
       "  <thead>\n",
       "    <tr style=\"text-align: right;\">\n",
       "      <th></th>\n",
       "      <th>KATEGORİ</th>\n",
       "      <th>AY</th>\n",
       "      <th>MAMUL</th>\n",
       "      <th>K.İÇİ</th>\n",
       "      <th>GR</th>\n",
       "      <th>LİSTE</th>\n",
       "      <th>NET MALİYET</th>\n",
       "    </tr>\n",
       "  </thead>\n",
       "  <tbody>\n",
       "    <tr>\n",
       "      <th>0</th>\n",
       "      <td>FOOD</td>\n",
       "      <td>MART</td>\n",
       "      <td>1</td>\n",
       "      <td>8</td>\n",
       "      <td>400.0</td>\n",
       "      <td>21.85</td>\n",
       "      <td>18.449266</td>\n",
       "    </tr>\n",
       "    <tr>\n",
       "      <th>1</th>\n",
       "      <td>FOOD</td>\n",
       "      <td>MART</td>\n",
       "      <td>1</td>\n",
       "      <td>8</td>\n",
       "      <td>400.0</td>\n",
       "      <td>21.85</td>\n",
       "      <td>18.449266</td>\n",
       "    </tr>\n",
       "    <tr>\n",
       "      <th>2</th>\n",
       "      <td>FOOD</td>\n",
       "      <td>MART</td>\n",
       "      <td>1</td>\n",
       "      <td>12</td>\n",
       "      <td>600.0</td>\n",
       "      <td>27.00</td>\n",
       "      <td>22.538655</td>\n",
       "    </tr>\n",
       "    <tr>\n",
       "      <th>3</th>\n",
       "      <td>FOOD</td>\n",
       "      <td>MART</td>\n",
       "      <td>1</td>\n",
       "      <td>12</td>\n",
       "      <td>600.0</td>\n",
       "      <td>27.00</td>\n",
       "      <td>22.538655</td>\n",
       "    </tr>\n",
       "    <tr>\n",
       "      <th>4</th>\n",
       "      <td>FOOD</td>\n",
       "      <td>MART</td>\n",
       "      <td>1</td>\n",
       "      <td>8</td>\n",
       "      <td>335.0</td>\n",
       "      <td>39.75</td>\n",
       "      <td>34.326113</td>\n",
       "    </tr>\n",
       "  </tbody>\n",
       "</table>\n",
       "</div>"
      ],
      "text/plain": [
       "  KATEGORİ    AY  MAMUL  K.İÇİ     GR  LİSTE  NET MALİYET\n",
       "0     FOOD  MART      1      8  400.0  21.85    18.449266\n",
       "1     FOOD  MART      1      8  400.0  21.85    18.449266\n",
       "2     FOOD  MART      1     12  600.0  27.00    22.538655\n",
       "3     FOOD  MART      1     12  600.0  27.00    22.538655\n",
       "4     FOOD  MART      1      8  335.0  39.75    34.326113"
      ]
     },
     "execution_count": 21,
     "metadata": {},
     "output_type": "execute_result"
    }
   ],
   "source": [
    "selected_columns = ['KATEGORİ', 'AY', 'MAMUL', 'K.İÇİ', 'GR', 'LİSTE', 'NET MALİYET']\n",
    "data_selected = dataset[selected_columns]\n",
    "data_selected.head()"
   ]
  },
  {
   "cell_type": "code",
   "execution_count": 22,
   "metadata": {},
   "outputs": [],
   "source": [
    "categorical_columns = ['AY', 'MAMUL']\n",
    "numeric_columns = ['K.İÇİ', 'GR', 'LİSTE']"
   ]
  },
  {
   "cell_type": "code",
   "execution_count": 23,
   "metadata": {},
   "outputs": [],
   "source": [
    "X = data_selected.drop(columns=[\"KATEGORİ\"])  # Giriş verileri\n",
    "y = data_selected[\"KATEGORİ\"]  # Çıkış (etiket) verileri"
   ]
  },
  {
   "cell_type": "code",
   "execution_count": 24,
   "metadata": {},
   "outputs": [],
   "source": [
    "from sklearn.compose import ColumnTransformer\n",
    "from sklearn.preprocessing import StandardScaler, LabelEncoder, OneHotEncoder\n",
    "\n",
    "# Sayısal ve kategorik sütunları işlemek için bir sütun dönüştürücü oluşturun\n",
    "preprocessor = ColumnTransformer(\n",
    "    transformers=[\n",
    "        (\"sayısal\", StandardScaler(), numeric_columns),\n",
    "        (\"kategori\", OneHotEncoder(), categorical_columns),\n",
    "    ],\n",
    "    remainder=\"passthrough\",\n",
    ")\n",
    "\n",
    "le = LabelEncoder()\n",
    "\n",
    "# Verileri dönüştürün\n",
    "X = preprocessor.fit_transform(X)\n",
    "y = le.fit_transform(y)\n"
   ]
  },
  {
   "cell_type": "code",
   "execution_count": 25,
   "metadata": {},
   "outputs": [
    {
     "data": {
      "text/html": [
       "<div>\n",
       "<style scoped>\n",
       "    .dataframe tbody tr th:only-of-type {\n",
       "        vertical-align: middle;\n",
       "    }\n",
       "\n",
       "    .dataframe tbody tr th {\n",
       "        vertical-align: top;\n",
       "    }\n",
       "\n",
       "    .dataframe thead th {\n",
       "        text-align: right;\n",
       "    }\n",
       "</style>\n",
       "<table border=\"1\" class=\"dataframe\">\n",
       "  <thead>\n",
       "    <tr style=\"text-align: right;\">\n",
       "      <th></th>\n",
       "      <th>0</th>\n",
       "      <th>1</th>\n",
       "      <th>2</th>\n",
       "      <th>3</th>\n",
       "      <th>4</th>\n",
       "      <th>5</th>\n",
       "      <th>6</th>\n",
       "      <th>7</th>\n",
       "      <th>8</th>\n",
       "      <th>9</th>\n",
       "      <th>...</th>\n",
       "      <th>15</th>\n",
       "      <th>16</th>\n",
       "      <th>17</th>\n",
       "      <th>18</th>\n",
       "      <th>19</th>\n",
       "      <th>20</th>\n",
       "      <th>21</th>\n",
       "      <th>22</th>\n",
       "      <th>23</th>\n",
       "      <th>24</th>\n",
       "    </tr>\n",
       "  </thead>\n",
       "  <tbody>\n",
       "    <tr>\n",
       "      <th>0</th>\n",
       "      <td>-0.565928</td>\n",
       "      <td>-0.110449</td>\n",
       "      <td>-0.986225</td>\n",
       "      <td>0.0</td>\n",
       "      <td>0.0</td>\n",
       "      <td>0.0</td>\n",
       "      <td>0.0</td>\n",
       "      <td>1.0</td>\n",
       "      <td>0.0</td>\n",
       "      <td>0.0</td>\n",
       "      <td>...</td>\n",
       "      <td>0.0</td>\n",
       "      <td>0.0</td>\n",
       "      <td>0.0</td>\n",
       "      <td>0.0</td>\n",
       "      <td>0.0</td>\n",
       "      <td>0.0</td>\n",
       "      <td>0.0</td>\n",
       "      <td>0.0</td>\n",
       "      <td>0.0</td>\n",
       "      <td>18.449266</td>\n",
       "    </tr>\n",
       "    <tr>\n",
       "      <th>1</th>\n",
       "      <td>-0.565928</td>\n",
       "      <td>-0.110449</td>\n",
       "      <td>-0.986225</td>\n",
       "      <td>0.0</td>\n",
       "      <td>0.0</td>\n",
       "      <td>0.0</td>\n",
       "      <td>0.0</td>\n",
       "      <td>1.0</td>\n",
       "      <td>0.0</td>\n",
       "      <td>0.0</td>\n",
       "      <td>...</td>\n",
       "      <td>0.0</td>\n",
       "      <td>0.0</td>\n",
       "      <td>0.0</td>\n",
       "      <td>0.0</td>\n",
       "      <td>0.0</td>\n",
       "      <td>0.0</td>\n",
       "      <td>0.0</td>\n",
       "      <td>0.0</td>\n",
       "      <td>0.0</td>\n",
       "      <td>18.449266</td>\n",
       "    </tr>\n",
       "    <tr>\n",
       "      <th>2</th>\n",
       "      <td>-0.470838</td>\n",
       "      <td>0.121934</td>\n",
       "      <td>-0.829472</td>\n",
       "      <td>0.0</td>\n",
       "      <td>0.0</td>\n",
       "      <td>0.0</td>\n",
       "      <td>0.0</td>\n",
       "      <td>1.0</td>\n",
       "      <td>0.0</td>\n",
       "      <td>0.0</td>\n",
       "      <td>...</td>\n",
       "      <td>0.0</td>\n",
       "      <td>0.0</td>\n",
       "      <td>0.0</td>\n",
       "      <td>0.0</td>\n",
       "      <td>0.0</td>\n",
       "      <td>0.0</td>\n",
       "      <td>0.0</td>\n",
       "      <td>0.0</td>\n",
       "      <td>0.0</td>\n",
       "      <td>22.538655</td>\n",
       "    </tr>\n",
       "    <tr>\n",
       "      <th>3</th>\n",
       "      <td>-0.470838</td>\n",
       "      <td>0.121934</td>\n",
       "      <td>-0.829472</td>\n",
       "      <td>0.0</td>\n",
       "      <td>0.0</td>\n",
       "      <td>0.0</td>\n",
       "      <td>0.0</td>\n",
       "      <td>1.0</td>\n",
       "      <td>0.0</td>\n",
       "      <td>0.0</td>\n",
       "      <td>...</td>\n",
       "      <td>0.0</td>\n",
       "      <td>0.0</td>\n",
       "      <td>0.0</td>\n",
       "      <td>0.0</td>\n",
       "      <td>0.0</td>\n",
       "      <td>0.0</td>\n",
       "      <td>0.0</td>\n",
       "      <td>0.0</td>\n",
       "      <td>0.0</td>\n",
       "      <td>22.538655</td>\n",
       "    </tr>\n",
       "    <tr>\n",
       "      <th>4</th>\n",
       "      <td>-0.565928</td>\n",
       "      <td>-0.185974</td>\n",
       "      <td>-0.441394</td>\n",
       "      <td>0.0</td>\n",
       "      <td>0.0</td>\n",
       "      <td>0.0</td>\n",
       "      <td>0.0</td>\n",
       "      <td>1.0</td>\n",
       "      <td>0.0</td>\n",
       "      <td>0.0</td>\n",
       "      <td>...</td>\n",
       "      <td>0.0</td>\n",
       "      <td>0.0</td>\n",
       "      <td>0.0</td>\n",
       "      <td>0.0</td>\n",
       "      <td>0.0</td>\n",
       "      <td>0.0</td>\n",
       "      <td>0.0</td>\n",
       "      <td>0.0</td>\n",
       "      <td>0.0</td>\n",
       "      <td>34.326113</td>\n",
       "    </tr>\n",
       "  </tbody>\n",
       "</table>\n",
       "<p>5 rows × 25 columns</p>\n",
       "</div>"
      ],
      "text/plain": [
       "         0         1         2    3    4    5    6    7    8    9   ...   15  \\\n",
       "0 -0.565928 -0.110449 -0.986225  0.0  0.0  0.0  0.0  1.0  0.0  0.0  ...  0.0   \n",
       "1 -0.565928 -0.110449 -0.986225  0.0  0.0  0.0  0.0  1.0  0.0  0.0  ...  0.0   \n",
       "2 -0.470838  0.121934 -0.829472  0.0  0.0  0.0  0.0  1.0  0.0  0.0  ...  0.0   \n",
       "3 -0.470838  0.121934 -0.829472  0.0  0.0  0.0  0.0  1.0  0.0  0.0  ...  0.0   \n",
       "4 -0.565928 -0.185974 -0.441394  0.0  0.0  0.0  0.0  1.0  0.0  0.0  ...  0.0   \n",
       "\n",
       "    16   17   18   19   20   21   22   23         24  \n",
       "0  0.0  0.0  0.0  0.0  0.0  0.0  0.0  0.0  18.449266  \n",
       "1  0.0  0.0  0.0  0.0  0.0  0.0  0.0  0.0  18.449266  \n",
       "2  0.0  0.0  0.0  0.0  0.0  0.0  0.0  0.0  22.538655  \n",
       "3  0.0  0.0  0.0  0.0  0.0  0.0  0.0  0.0  22.538655  \n",
       "4  0.0  0.0  0.0  0.0  0.0  0.0  0.0  0.0  34.326113  \n",
       "\n",
       "[5 rows x 25 columns]"
      ]
     },
     "execution_count": 25,
     "metadata": {},
     "output_type": "execute_result"
    }
   ],
   "source": [
    "x_dataset = pd.DataFrame(X.toarray())\n",
    "x_dataset.head()"
   ]
  },
  {
   "cell_type": "code",
   "execution_count": 26,
   "metadata": {},
   "outputs": [],
   "source": [
    "from sklearn.model_selection import train_test_split\n",
    "\n",
    "# Verileri eğitim ve test kümelerine bölün\n",
    "X_train, X_test, y_train, y_test = train_test_split(X, y, test_size=0.2, random_state=42)"
   ]
  },
  {
   "cell_type": "markdown",
   "metadata": {},
   "source": [
    "#### Modeli oluşturun"
   ]
  },
  {
   "cell_type": "code",
   "execution_count": 27,
   "metadata": {},
   "outputs": [],
   "source": [
    "from tensorflow import keras\n",
    "from keras import layers\n",
    "\n",
    "model = keras.Sequential([ # Sıralı bir model oluşturun\n",
    "    layers.Dense(64, activation='relu', input_shape=[X_train.shape[1]]), # Giriş katmanı\n",
    "    layers.Dense(64, activation='relu'), # Gizli katman\n",
    "    layers.Dense(3, activation='softmax') # Çıkış katmanı\n",
    "])\n"
   ]
  },
  {
   "cell_type": "markdown",
   "metadata": {},
   "source": [
    "#### Modeli Derle"
   ]
  },
  {
   "cell_type": "code",
   "execution_count": 28,
   "metadata": {},
   "outputs": [],
   "source": [
    "model.compile(\n",
    "    optimizer='adam', # Optimizasyon fonksiyonu\n",
    "    loss='sparse_categorical_crossentropy', # Kayıp fonksiyonu\n",
    "    metrics=['accuracy'] # Başarı metriği\n",
    ")"
   ]
  },
  {
   "cell_type": "markdown",
   "metadata": {},
   "source": [
    "#### Eğitim işlemini başlatın"
   ]
  },
  {
   "cell_type": "code",
   "execution_count": 30,
   "metadata": {},
   "outputs": [
    {
     "name": "stdout",
     "output_type": "stream",
     "text": [
      "Epoch 1/100\n"
     ]
    },
    {
     "name": "stdout",
     "output_type": "stream",
     "text": [
      "77/77 [==============================] - 1s 2ms/step - loss: 1.0500 - accuracy: 0.5368 - val_loss: 0.7869 - val_accuracy: 0.6356\n",
      "Epoch 2/100\n",
      "77/77 [==============================] - 0s 921us/step - loss: 0.5196 - accuracy: 0.8429 - val_loss: 0.3795 - val_accuracy: 0.8791\n",
      "Epoch 3/100\n",
      "77/77 [==============================] - 0s 908us/step - loss: 0.2303 - accuracy: 0.9550 - val_loss: 0.1488 - val_accuracy: 0.9984\n",
      "Epoch 4/100\n",
      "77/77 [==============================] - 0s 912us/step - loss: 0.0815 - accuracy: 0.9984 - val_loss: 0.0614 - val_accuracy: 1.0000\n",
      "Epoch 5/100\n",
      "77/77 [==============================] - 0s 1ms/step - loss: 0.0418 - accuracy: 0.9992 - val_loss: 0.0337 - val_accuracy: 1.0000\n",
      "Epoch 6/100\n",
      "77/77 [==============================] - 0s 1ms/step - loss: 0.0226 - accuracy: 1.0000 - val_loss: 0.0191 - val_accuracy: 1.0000\n",
      "Epoch 7/100\n",
      "77/77 [==============================] - 0s 961us/step - loss: 0.0131 - accuracy: 1.0000 - val_loss: 0.0140 - val_accuracy: 1.0000\n",
      "Epoch 8/100\n",
      "77/77 [==============================] - 0s 961us/step - loss: 0.0097 - accuracy: 1.0000 - val_loss: 0.0153 - val_accuracy: 0.9984\n",
      "Epoch 9/100\n",
      "77/77 [==============================] - 0s 934us/step - loss: 0.0061 - accuracy: 1.0000 - val_loss: 0.0057 - val_accuracy: 1.0000\n",
      "Epoch 10/100\n",
      "77/77 [==============================] - 0s 974us/step - loss: 0.0044 - accuracy: 1.0000 - val_loss: 0.0042 - val_accuracy: 1.0000\n",
      "Epoch 11/100\n",
      "77/77 [==============================] - 0s 1ms/step - loss: 0.0031 - accuracy: 1.0000 - val_loss: 0.0032 - val_accuracy: 1.0000\n",
      "Epoch 12/100\n",
      "77/77 [==============================] - 0s 1ms/step - loss: 0.0024 - accuracy: 1.0000 - val_loss: 0.0026 - val_accuracy: 1.0000\n",
      "Epoch 13/100\n",
      "77/77 [==============================] - 0s 1ms/step - loss: 0.0019 - accuracy: 1.0000 - val_loss: 0.0023 - val_accuracy: 1.0000\n",
      "Epoch 14/100\n",
      "77/77 [==============================] - 0s 934us/step - loss: 0.0016 - accuracy: 1.0000 - val_loss: 0.0017 - val_accuracy: 1.0000\n",
      "Epoch 15/100\n",
      "77/77 [==============================] - 0s 947us/step - loss: 0.0013 - accuracy: 1.0000 - val_loss: 0.0014 - val_accuracy: 1.0000\n",
      "Epoch 16/100\n",
      "77/77 [==============================] - 0s 941us/step - loss: 0.0011 - accuracy: 1.0000 - val_loss: 0.0012 - val_accuracy: 1.0000\n",
      "Epoch 17/100\n",
      "77/77 [==============================] - 0s 906us/step - loss: 8.9500e-04 - accuracy: 1.0000 - val_loss: 0.0010 - val_accuracy: 1.0000\n",
      "Epoch 18/100\n",
      "77/77 [==============================] - 0s 921us/step - loss: 7.6376e-04 - accuracy: 1.0000 - val_loss: 8.3914e-04 - val_accuracy: 1.0000\n",
      "Epoch 19/100\n",
      "77/77 [==============================] - 0s 921us/step - loss: 6.9238e-04 - accuracy: 1.0000 - val_loss: 8.9355e-04 - val_accuracy: 1.0000\n",
      "Epoch 20/100\n",
      "77/77 [==============================] - 0s 944us/step - loss: 5.6080e-04 - accuracy: 1.0000 - val_loss: 6.1028e-04 - val_accuracy: 1.0000\n",
      "Epoch 21/100\n",
      "77/77 [==============================] - 0s 967us/step - loss: 4.7838e-04 - accuracy: 1.0000 - val_loss: 5.4035e-04 - val_accuracy: 1.0000\n",
      "Epoch 22/100\n",
      "77/77 [==============================] - 0s 987us/step - loss: 4.1846e-04 - accuracy: 1.0000 - val_loss: 4.5530e-04 - val_accuracy: 1.0000\n",
      "Epoch 23/100\n",
      "77/77 [==============================] - 0s 947us/step - loss: 3.5912e-04 - accuracy: 1.0000 - val_loss: 4.0658e-04 - val_accuracy: 1.0000\n",
      "Epoch 24/100\n",
      "77/77 [==============================] - 0s 908us/step - loss: 3.1686e-04 - accuracy: 1.0000 - val_loss: 3.5618e-04 - val_accuracy: 1.0000\n",
      "Epoch 25/100\n",
      "77/77 [==============================] - 0s 906us/step - loss: 2.7105e-04 - accuracy: 1.0000 - val_loss: 3.0764e-04 - val_accuracy: 1.0000\n",
      "Epoch 26/100\n",
      "77/77 [==============================] - 0s 894us/step - loss: 2.2444e-04 - accuracy: 1.0000 - val_loss: 2.2437e-04 - val_accuracy: 1.0000\n",
      "Epoch 27/100\n",
      "77/77 [==============================] - 0s 917us/step - loss: 1.7197e-04 - accuracy: 1.0000 - val_loss: 1.9000e-04 - val_accuracy: 1.0000\n",
      "Epoch 28/100\n",
      "77/77 [==============================] - 0s 902us/step - loss: 1.4517e-04 - accuracy: 1.0000 - val_loss: 1.6373e-04 - val_accuracy: 1.0000\n",
      "Epoch 29/100\n",
      "77/77 [==============================] - 0s 915us/step - loss: 1.2696e-04 - accuracy: 1.0000 - val_loss: 1.4701e-04 - val_accuracy: 1.0000\n",
      "Epoch 30/100\n",
      "77/77 [==============================] - 0s 915us/step - loss: 1.0858e-04 - accuracy: 1.0000 - val_loss: 1.2074e-04 - val_accuracy: 1.0000\n",
      "Epoch 31/100\n",
      "77/77 [==============================] - 0s 915us/step - loss: 9.4240e-05 - accuracy: 1.0000 - val_loss: 1.0453e-04 - val_accuracy: 1.0000\n",
      "Epoch 32/100\n",
      "77/77 [==============================] - 0s 915us/step - loss: 8.3608e-05 - accuracy: 1.0000 - val_loss: 9.6961e-05 - val_accuracy: 1.0000\n",
      "Epoch 33/100\n",
      "77/77 [==============================] - 0s 922us/step - loss: 7.4093e-05 - accuracy: 1.0000 - val_loss: 8.4210e-05 - val_accuracy: 1.0000\n",
      "Epoch 34/100\n",
      "77/77 [==============================] - 0s 941us/step - loss: 6.6963e-05 - accuracy: 1.0000 - val_loss: 7.5038e-05 - val_accuracy: 1.0000\n",
      "Epoch 35/100\n",
      "77/77 [==============================] - 0s 922us/step - loss: 5.9524e-05 - accuracy: 1.0000 - val_loss: 6.7405e-05 - val_accuracy: 1.0000\n",
      "Epoch 36/100\n",
      "77/77 [==============================] - 0s 1ms/step - loss: 5.2797e-05 - accuracy: 1.0000 - val_loss: 5.8007e-05 - val_accuracy: 1.0000\n",
      "Epoch 37/100\n",
      "77/77 [==============================] - 0s 1ms/step - loss: 4.4258e-05 - accuracy: 1.0000 - val_loss: 5.2220e-05 - val_accuracy: 1.0000\n",
      "Epoch 38/100\n",
      "77/77 [==============================] - 0s 947us/step - loss: 3.6016e-05 - accuracy: 1.0000 - val_loss: 3.9770e-05 - val_accuracy: 1.0000\n",
      "Epoch 39/100\n",
      "77/77 [==============================] - 0s 908us/step - loss: 2.9646e-05 - accuracy: 1.0000 - val_loss: 3.2747e-05 - val_accuracy: 1.0000\n",
      "Epoch 40/100\n",
      "77/77 [==============================] - 0s 911us/step - loss: 2.4397e-05 - accuracy: 1.0000 - val_loss: 2.7802e-05 - val_accuracy: 1.0000\n",
      "Epoch 41/100\n",
      "77/77 [==============================] - 0s 908us/step - loss: 2.0510e-05 - accuracy: 1.0000 - val_loss: 2.4055e-05 - val_accuracy: 1.0000\n",
      "Epoch 42/100\n",
      "77/77 [==============================] - 0s 901us/step - loss: 1.7214e-05 - accuracy: 1.0000 - val_loss: 2.0337e-05 - val_accuracy: 1.0000\n",
      "Epoch 43/100\n",
      "77/77 [==============================] - 0s 911us/step - loss: 1.4740e-05 - accuracy: 1.0000 - val_loss: 1.7731e-05 - val_accuracy: 1.0000\n",
      "Epoch 44/100\n",
      "77/77 [==============================] - 0s 922us/step - loss: 1.2829e-05 - accuracy: 1.0000 - val_loss: 1.5508e-05 - val_accuracy: 1.0000\n",
      "Epoch 45/100\n",
      "77/77 [==============================] - 0s 917us/step - loss: 1.1215e-05 - accuracy: 1.0000 - val_loss: 1.3725e-05 - val_accuracy: 1.0000\n",
      "Epoch 46/100\n",
      "77/77 [==============================] - 0s 947us/step - loss: 9.8694e-06 - accuracy: 1.0000 - val_loss: 1.2103e-05 - val_accuracy: 1.0000\n",
      "Epoch 47/100\n",
      "77/77 [==============================] - 0s 908us/step - loss: 8.7973e-06 - accuracy: 1.0000 - val_loss: 1.1129e-05 - val_accuracy: 1.0000\n",
      "Epoch 48/100\n",
      "77/77 [==============================] - 0s 928us/step - loss: 7.8866e-06 - accuracy: 1.0000 - val_loss: 9.8777e-06 - val_accuracy: 1.0000\n",
      "Epoch 49/100\n",
      "77/77 [==============================] - 0s 921us/step - loss: 7.1464e-06 - accuracy: 1.0000 - val_loss: 9.1648e-06 - val_accuracy: 1.0000\n",
      "Epoch 50/100\n",
      "77/77 [==============================] - 0s 921us/step - loss: 6.5060e-06 - accuracy: 1.0000 - val_loss: 8.2482e-06 - val_accuracy: 1.0000\n",
      "Epoch 51/100\n",
      "77/77 [==============================] - 0s 921us/step - loss: 5.9073e-06 - accuracy: 1.0000 - val_loss: 7.4915e-06 - val_accuracy: 1.0000\n",
      "Epoch 52/100\n",
      "77/77 [==============================] - 0s 1ms/step - loss: 5.4219e-06 - accuracy: 1.0000 - val_loss: 6.9821e-06 - val_accuracy: 1.0000\n",
      "Epoch 53/100\n",
      "77/77 [==============================] - 0s 998us/step - loss: 4.9715e-06 - accuracy: 1.0000 - val_loss: 6.4558e-06 - val_accuracy: 1.0000\n",
      "Epoch 54/100\n",
      "77/77 [==============================] - 0s 934us/step - loss: 4.5891e-06 - accuracy: 1.0000 - val_loss: 5.8616e-06 - val_accuracy: 1.0000\n",
      "Epoch 55/100\n",
      "77/77 [==============================] - 0s 921us/step - loss: 4.2357e-06 - accuracy: 1.0000 - val_loss: 5.4574e-06 - val_accuracy: 1.0000\n",
      "Epoch 56/100\n",
      "77/77 [==============================] - 0s 921us/step - loss: 3.9385e-06 - accuracy: 1.0000 - val_loss: 5.2317e-06 - val_accuracy: 1.0000\n",
      "Epoch 57/100\n",
      "77/77 [==============================] - 0s 934us/step - loss: 3.6653e-06 - accuracy: 1.0000 - val_loss: 4.7539e-06 - val_accuracy: 1.0000\n",
      "Epoch 58/100\n",
      "77/77 [==============================] - 0s 934us/step - loss: 3.4459e-06 - accuracy: 1.0000 - val_loss: 4.5268e-06 - val_accuracy: 1.0000\n",
      "Epoch 59/100\n",
      "77/77 [==============================] - 0s 908us/step - loss: 3.2191e-06 - accuracy: 1.0000 - val_loss: 4.1929e-06 - val_accuracy: 1.0000\n",
      "Epoch 60/100\n",
      "77/77 [==============================] - 0s 916us/step - loss: 3.0176e-06 - accuracy: 1.0000 - val_loss: 4.0184e-06 - val_accuracy: 1.0000\n",
      "Epoch 61/100\n",
      "77/77 [==============================] - 0s 921us/step - loss: 2.8439e-06 - accuracy: 1.0000 - val_loss: 3.6900e-06 - val_accuracy: 1.0000\n",
      "Epoch 62/100\n",
      "77/77 [==============================] - 0s 902us/step - loss: 2.6709e-06 - accuracy: 1.0000 - val_loss: 3.4829e-06 - val_accuracy: 1.0000\n",
      "Epoch 63/100\n",
      "77/77 [==============================] - 0s 935us/step - loss: 2.5236e-06 - accuracy: 1.0000 - val_loss: 3.3518e-06 - val_accuracy: 1.0000\n",
      "Epoch 64/100\n",
      "77/77 [==============================] - 0s 902us/step - loss: 2.3816e-06 - accuracy: 1.0000 - val_loss: 3.2081e-06 - val_accuracy: 1.0000\n",
      "Epoch 65/100\n",
      "77/77 [==============================] - 0s 928us/step - loss: 2.2507e-06 - accuracy: 1.0000 - val_loss: 2.9572e-06 - val_accuracy: 1.0000\n",
      "Epoch 66/100\n",
      "77/77 [==============================] - 0s 934us/step - loss: 2.1289e-06 - accuracy: 1.0000 - val_loss: 2.8331e-06 - val_accuracy: 1.0000\n",
      "Epoch 67/100\n",
      "77/77 [==============================] - 0s 921us/step - loss: 2.0198e-06 - accuracy: 1.0000 - val_loss: 2.6956e-06 - val_accuracy: 1.0000\n",
      "Epoch 68/100\n",
      "77/77 [==============================] - 0s 1ms/step - loss: 1.9085e-06 - accuracy: 1.0000 - val_loss: 2.5073e-06 - val_accuracy: 1.0000\n",
      "Epoch 69/100\n",
      "77/77 [==============================] - 0s 987us/step - loss: 1.8130e-06 - accuracy: 1.0000 - val_loss: 2.4052e-06 - val_accuracy: 1.0000\n",
      "Epoch 70/100\n",
      "77/77 [==============================] - 0s 921us/step - loss: 1.7181e-06 - accuracy: 1.0000 - val_loss: 2.2833e-06 - val_accuracy: 1.0000\n",
      "Epoch 71/100\n",
      "77/77 [==============================] - 0s 908us/step - loss: 1.6326e-06 - accuracy: 1.0000 - val_loss: 2.2030e-06 - val_accuracy: 1.0000\n",
      "Epoch 72/100\n",
      "77/77 [==============================] - 0s 905us/step - loss: 1.5529e-06 - accuracy: 1.0000 - val_loss: 2.0710e-06 - val_accuracy: 1.0000\n",
      "Epoch 73/100\n",
      "77/77 [==============================] - 0s 934us/step - loss: 1.4728e-06 - accuracy: 1.0000 - val_loss: 1.9642e-06 - val_accuracy: 1.0000\n",
      "Epoch 74/100\n",
      "77/77 [==============================] - 0s 932us/step - loss: 1.4014e-06 - accuracy: 1.0000 - val_loss: 1.8559e-06 - val_accuracy: 1.0000\n",
      "Epoch 75/100\n",
      "77/77 [==============================] - 0s 927us/step - loss: 1.3264e-06 - accuracy: 1.0000 - val_loss: 1.7778e-06 - val_accuracy: 1.0000\n",
      "Epoch 76/100\n",
      "77/77 [==============================] - 0s 943us/step - loss: 1.2644e-06 - accuracy: 1.0000 - val_loss: 1.7083e-06 - val_accuracy: 1.0000\n",
      "Epoch 77/100\n",
      "77/77 [==============================] - 0s 919us/step - loss: 1.2040e-06 - accuracy: 1.0000 - val_loss: 1.6039e-06 - val_accuracy: 1.0000\n",
      "Epoch 78/100\n",
      "77/77 [==============================] - 0s 935us/step - loss: 1.1416e-06 - accuracy: 1.0000 - val_loss: 1.5413e-06 - val_accuracy: 1.0000\n",
      "Epoch 79/100\n",
      "77/77 [==============================] - 0s 921us/step - loss: 1.0867e-06 - accuracy: 1.0000 - val_loss: 1.4552e-06 - val_accuracy: 1.0000\n",
      "Epoch 80/100\n",
      "77/77 [==============================] - 0s 934us/step - loss: 1.0386e-06 - accuracy: 1.0000 - val_loss: 1.4095e-06 - val_accuracy: 1.0000\n",
      "Epoch 81/100\n",
      "77/77 [==============================] - 0s 908us/step - loss: 9.8386e-07 - accuracy: 1.0000 - val_loss: 1.3374e-06 - val_accuracy: 1.0000\n",
      "Epoch 82/100\n",
      "77/77 [==============================] - 0s 921us/step - loss: 9.3723e-07 - accuracy: 1.0000 - val_loss: 1.2511e-06 - val_accuracy: 1.0000\n",
      "Epoch 83/100\n",
      "77/77 [==============================] - 0s 918us/step - loss: 8.9392e-07 - accuracy: 1.0000 - val_loss: 1.2084e-06 - val_accuracy: 1.0000\n",
      "Epoch 84/100\n",
      "77/77 [==============================] - 0s 928us/step - loss: 8.4983e-07 - accuracy: 1.0000 - val_loss: 1.1473e-06 - val_accuracy: 1.0000\n",
      "Epoch 85/100\n",
      "77/77 [==============================] - 0s 889us/step - loss: 8.1037e-07 - accuracy: 1.0000 - val_loss: 1.0916e-06 - val_accuracy: 1.0000\n",
      "Epoch 86/100\n",
      "77/77 [==============================] - 0s 895us/step - loss: 7.7520e-07 - accuracy: 1.0000 - val_loss: 1.0267e-06 - val_accuracy: 1.0000\n",
      "Epoch 87/100\n",
      "77/77 [==============================] - 0s 882us/step - loss: 7.3364e-07 - accuracy: 1.0000 - val_loss: 1.0148e-06 - val_accuracy: 1.0000\n",
      "Epoch 88/100\n",
      "77/77 [==============================] - 0s 963us/step - loss: 7.0408e-07 - accuracy: 1.0000 - val_loss: 9.3926e-07 - val_accuracy: 1.0000\n",
      "Epoch 89/100\n",
      "77/77 [==============================] - 0s 939us/step - loss: 6.6672e-07 - accuracy: 1.0000 - val_loss: 9.0575e-07 - val_accuracy: 1.0000\n",
      "Epoch 90/100\n",
      "77/77 [==============================] - 0s 902us/step - loss: 6.3550e-07 - accuracy: 1.0000 - val_loss: 8.6660e-07 - val_accuracy: 1.0000\n",
      "Epoch 91/100\n",
      "77/77 [==============================] - 0s 934us/step - loss: 6.0512e-07 - accuracy: 1.0000 - val_loss: 8.0914e-07 - val_accuracy: 1.0000\n",
      "Epoch 92/100\n",
      "77/77 [==============================] - 0s 908us/step - loss: 5.7605e-07 - accuracy: 1.0000 - val_loss: 7.8265e-07 - val_accuracy: 1.0000\n",
      "Epoch 93/100\n",
      "77/77 [==============================] - 0s 895us/step - loss: 5.5063e-07 - accuracy: 1.0000 - val_loss: 7.4369e-07 - val_accuracy: 1.0000\n",
      "Epoch 94/100\n",
      "77/77 [==============================] - 0s 895us/step - loss: 5.2849e-07 - accuracy: 1.0000 - val_loss: 7.1233e-07 - val_accuracy: 1.0000\n",
      "Epoch 95/100\n",
      "77/77 [==============================] - 0s 908us/step - loss: 5.0283e-07 - accuracy: 1.0000 - val_loss: 6.7571e-07 - val_accuracy: 1.0000\n",
      "Epoch 96/100\n",
      "77/77 [==============================] - 0s 934us/step - loss: 4.7840e-07 - accuracy: 1.0000 - val_loss: 6.4143e-07 - val_accuracy: 1.0000\n",
      "Epoch 97/100\n",
      "77/77 [==============================] - 0s 908us/step - loss: 4.5791e-07 - accuracy: 1.0000 - val_loss: 6.2020e-07 - val_accuracy: 1.0000\n",
      "Epoch 98/100\n",
      "77/77 [==============================] - 0s 900us/step - loss: 4.3801e-07 - accuracy: 1.0000 - val_loss: 5.8611e-07 - val_accuracy: 1.0000\n",
      "Epoch 99/100\n",
      "77/77 [==============================] - 0s 906us/step - loss: 4.1518e-07 - accuracy: 1.0000 - val_loss: 5.5865e-07 - val_accuracy: 1.0000\n",
      "Epoch 100/100\n",
      "77/77 [==============================] - 0s 950us/step - loss: 4.0094e-07 - accuracy: 1.0000 - val_loss: 5.4326e-07 - val_accuracy: 1.0000\n"
     ]
    }
   ],
   "source": [
    "X_train = X_train.toarray()\n",
    "y_train = y_train.reshape(-1, 1)\n",
    "history = model.fit(\n",
    "    X_train, y_train, # Eğitim verileri\n",
    "    validation_split=0.2, # Eğitim verilerinin %20'sini doğrulama verileri olarak kullanın\n",
    "    batch_size=32, # Her iterasyonda 32 örnek kullanın\n",
    "    epochs=100, # 100 iterasyon\n",
    "    verbose=1 # Her iterasyonda ekrana çıktı ver\n",
    ")"
   ]
  },
  {
   "cell_type": "markdown",
   "metadata": {},
   "source": [
    "#### Eğitim ve doğrulama kayıp grafiği"
   ]
  },
  {
   "cell_type": "code",
   "execution_count": 31,
   "metadata": {},
   "outputs": [
    {
     "data": {
      "application/vnd.plotly.v1+json": {
       "config": {
        "plotlyServerURL": "https://plot.ly"
       },
       "data": [
        {
         "name": "Eğitim Kaybı",
         "type": "scatter",
         "xaxis": "x",
         "y": [
          1.0499627590179443,
          0.5196088552474976,
          0.23026801645755768,
          0.08153178542852402,
          0.04178301617503166,
          0.022628240287303925,
          0.013102575205266476,
          0.009749175980687141,
          0.006137704476714134,
          0.004404953680932522,
          0.0030504658352583647,
          0.0024136053398251534,
          0.001929794903844595,
          0.0015738157089799643,
          0.0012975797289982438,
          0.001108083175495267,
          0.0008949950570240617,
          0.0007637607050128281,
          0.0006923772161826491,
          0.0005608037463389337,
          0.00047838210593909025,
          0.00041845874511636794,
          0.0003591154236346483,
          0.00031685843714512885,
          0.00027104964829050004,
          0.00022444345813710243,
          0.00017196792759932578,
          0.00014516737428493798,
          0.0001269647036679089,
          0.00010858252790058032,
          0.00009423978190170601,
          0.00008360824722331017,
          0.00007409323006868362,
          0.00006696327909594402,
          0.000059524048992898315,
          0.000052797393436776474,
          0.00004425848601385951,
          0.00003601608477765694,
          0.000029646118491655216,
          0.00002439667696307879,
          0.0000205097039724933,
          0.000017213647879543714,
          0.000014739533071406186,
          0.000012829092156607658,
          0.000011215088306926191,
          0.00000986940176517237,
          0.000008797335794952232,
          0.00000788663874118356,
          0.000007146354619180784,
          0.000006506003046524711,
          0.000005907300419494277,
          0.000005421899913926609,
          0.000004971522685082164,
          0.000004589126547216438,
          0.000004235707820043899,
          0.000003938525424018735,
          0.000003665336635094718,
          0.0000034458996651665075,
          0.0000032191442187468056,
          0.0000030176051950547844,
          0.000002843918309736182,
          0.0000026709121812018566,
          0.0000025236111014237395,
          0.0000023816257908038097,
          0.000002250711986562237,
          0.0000021289206415531226,
          0.0000020197614958306076,
          0.0000019085036910837516,
          0.0000018130499483959284,
          0.0000017181331486426643,
          0.000001632580620025692,
          0.0000015528808035014663,
          0.0000014727917232448817,
          0.0000014013838836035575,
          0.0000013264153722047922,
          0.0000012644213711610064,
          0.0000012040369483656832,
          0.0000011415553444749094,
          0.0000010867314585993881,
          0.0000010385896302977926,
          9.83863060355361e-7,
          9.372331533086253e-7,
          8.939201165958366e-7,
          8.498267902723455e-7,
          8.103668847070367e-7,
          7.751992256999074e-7,
          7.336423095694045e-7,
          7.04083845448622e-7,
          6.667215188826958e-7,
          6.355049322337436e-7,
          6.051174068488763e-7,
          5.760469434790139e-7,
          5.50634524643101e-7,
          5.284902613311715e-7,
          5.028339273849269e-7,
          4.783970553035033e-7,
          4.5791114189341897e-7,
          4.3801051674563496e-7,
          4.151832513343834e-7,
          4.009406495697476e-7
         ],
         "yaxis": "y"
        },
        {
         "name": "Doğrulama Kaybı",
         "type": "scatter",
         "xaxis": "x",
         "y": [
          0.7869212031364441,
          0.3795437216758728,
          0.14881691336631775,
          0.061362676322460175,
          0.03370722010731697,
          0.019071640446782112,
          0.013990983366966248,
          0.01532564777880907,
          0.005688861478120089,
          0.004167458973824978,
          0.003246674546971917,
          0.0026098540984094143,
          0.0023143140133470297,
          0.0016890885308384895,
          0.0014139064587652683,
          0.0011915001086890697,
          0.0010258038528263569,
          0.0008391398005187511,
          0.000893548596650362,
          0.0006102774059399962,
          0.0005403489340096712,
          0.00045529831550084054,
          0.000406579376431182,
          0.0003561819903552532,
          0.00030763758695684373,
          0.00022437323059421033,
          0.00018999632447957993,
          0.00016372764366678894,
          0.00014700985047966242,
          0.00012073740072082728,
          0.00010452555579831824,
          0.00009696139022707939,
          0.00008421020902460441,
          0.00007503847882617265,
          0.00006740543904015794,
          0.00005800735380034894,
          0.00005222000618232414,
          0.00003977012966061011,
          0.000032746851502452046,
          0.000027801923351944424,
          0.000024055310859694146,
          0.00002033699092862662,
          0.000017730542822391726,
          0.000015508448996115476,
          0.000013724973541684449,
          0.00001210254049510695,
          0.000011129262929898687,
          0.000009877658158075064,
          0.00000916478438739432,
          0.00000824817379907472,
          0.000007491478299925802,
          0.000006982136710576015,
          0.000006455844413721934,
          0.000005861584668309661,
          0.0000054574165915255435,
          0.000005231665454630274,
          0.000004753876510221744,
          0.000004526762040768517,
          0.000004192908363620518,
          0.0000040183858800446615,
          0.0000036899855331284925,
          0.000003482932697806973,
          0.0000033518429063406074,
          0.0000032080927212518873,
          0.000002957215201604413,
          0.0000028331380690360675,
          0.000002695621560633299,
          0.0000025072677090065554,
          0.000002405201485089492,
          0.0000022832668946648482,
          0.0000022030158106645104,
          0.0000020709528598672478,
          0.000001964211605809396,
          0.0000018559122736405698,
          0.000001777803504410258,
          0.0000017082653585021035,
          0.0000016038612784541328,
          0.0000015413357914439985,
          0.0000014552413176716072,
          0.0000014094665630182135,
          0.0000013373966112339986,
          0.0000012511072782217525,
          0.0000012084490208508214,
          0.0000011472868663986446,
          0.0000010915783832388115,
          0.0000010267151537846075,
          0.0000010148330602532951,
          9.392567221766512e-7,
          9.05753609004023e-7,
          8.666017379255209e-7,
          8.091402037280204e-7,
          7.826494083928992e-7,
          7.436924533976708e-7,
          7.12331939212163e-7,
          6.757122719136532e-7,
          6.414300628421188e-7,
          6.201984206199995e-7,
          5.861110707883199e-7,
          5.586463203144376e-7,
          5.432582383946283e-7
         ],
         "yaxis": "y"
        },
        {
         "name": "Eğitim Başarısı",
         "type": "scatter",
         "xaxis": "x2",
         "y": [
          0.5368248820304871,
          0.8428805470466614,
          0.9549918174743652,
          0.9983633160591125,
          0.9991816878318787,
          1,
          1,
          1,
          1,
          1,
          1,
          1,
          1,
          1,
          1,
          1,
          1,
          1,
          1,
          1,
          1,
          1,
          1,
          1,
          1,
          1,
          1,
          1,
          1,
          1,
          1,
          1,
          1,
          1,
          1,
          1,
          1,
          1,
          1,
          1,
          1,
          1,
          1,
          1,
          1,
          1,
          1,
          1,
          1,
          1,
          1,
          1,
          1,
          1,
          1,
          1,
          1,
          1,
          1,
          1,
          1,
          1,
          1,
          1,
          1,
          1,
          1,
          1,
          1,
          1,
          1,
          1,
          1,
          1,
          1,
          1,
          1,
          1,
          1,
          1,
          1,
          1,
          1,
          1,
          1,
          1,
          1,
          1,
          1,
          1,
          1,
          1,
          1,
          1,
          1,
          1,
          1,
          1,
          1,
          1
         ],
         "yaxis": "y2"
        },
        {
         "name": "Doğrulama Başarısı",
         "type": "scatter",
         "xaxis": "x2",
         "y": [
          0.6356208920478821,
          0.8790849447250366,
          0.9983659982681274,
          1,
          1,
          1,
          1,
          0.9983659982681274,
          1,
          1,
          1,
          1,
          1,
          1,
          1,
          1,
          1,
          1,
          1,
          1,
          1,
          1,
          1,
          1,
          1,
          1,
          1,
          1,
          1,
          1,
          1,
          1,
          1,
          1,
          1,
          1,
          1,
          1,
          1,
          1,
          1,
          1,
          1,
          1,
          1,
          1,
          1,
          1,
          1,
          1,
          1,
          1,
          1,
          1,
          1,
          1,
          1,
          1,
          1,
          1,
          1,
          1,
          1,
          1,
          1,
          1,
          1,
          1,
          1,
          1,
          1,
          1,
          1,
          1,
          1,
          1,
          1,
          1,
          1,
          1,
          1,
          1,
          1,
          1,
          1,
          1,
          1,
          1,
          1,
          1,
          1,
          1,
          1,
          1,
          1,
          1,
          1,
          1,
          1,
          1
         ],
         "yaxis": "y2"
        }
       ],
       "layout": {
        "height": 500,
        "template": {
         "data": {
          "bar": [
           {
            "error_x": {
             "color": "#2a3f5f"
            },
            "error_y": {
             "color": "#2a3f5f"
            },
            "marker": {
             "line": {
              "color": "#E5ECF6",
              "width": 0.5
             },
             "pattern": {
              "fillmode": "overlay",
              "size": 10,
              "solidity": 0.2
             }
            },
            "type": "bar"
           }
          ],
          "barpolar": [
           {
            "marker": {
             "line": {
              "color": "#E5ECF6",
              "width": 0.5
             },
             "pattern": {
              "fillmode": "overlay",
              "size": 10,
              "solidity": 0.2
             }
            },
            "type": "barpolar"
           }
          ],
          "carpet": [
           {
            "aaxis": {
             "endlinecolor": "#2a3f5f",
             "gridcolor": "white",
             "linecolor": "white",
             "minorgridcolor": "white",
             "startlinecolor": "#2a3f5f"
            },
            "baxis": {
             "endlinecolor": "#2a3f5f",
             "gridcolor": "white",
             "linecolor": "white",
             "minorgridcolor": "white",
             "startlinecolor": "#2a3f5f"
            },
            "type": "carpet"
           }
          ],
          "choropleth": [
           {
            "colorbar": {
             "outlinewidth": 0,
             "ticks": ""
            },
            "type": "choropleth"
           }
          ],
          "contour": [
           {
            "colorbar": {
             "outlinewidth": 0,
             "ticks": ""
            },
            "colorscale": [
             [
              0,
              "#0d0887"
             ],
             [
              0.1111111111111111,
              "#46039f"
             ],
             [
              0.2222222222222222,
              "#7201a8"
             ],
             [
              0.3333333333333333,
              "#9c179e"
             ],
             [
              0.4444444444444444,
              "#bd3786"
             ],
             [
              0.5555555555555556,
              "#d8576b"
             ],
             [
              0.6666666666666666,
              "#ed7953"
             ],
             [
              0.7777777777777778,
              "#fb9f3a"
             ],
             [
              0.8888888888888888,
              "#fdca26"
             ],
             [
              1,
              "#f0f921"
             ]
            ],
            "type": "contour"
           }
          ],
          "contourcarpet": [
           {
            "colorbar": {
             "outlinewidth": 0,
             "ticks": ""
            },
            "type": "contourcarpet"
           }
          ],
          "heatmap": [
           {
            "colorbar": {
             "outlinewidth": 0,
             "ticks": ""
            },
            "colorscale": [
             [
              0,
              "#0d0887"
             ],
             [
              0.1111111111111111,
              "#46039f"
             ],
             [
              0.2222222222222222,
              "#7201a8"
             ],
             [
              0.3333333333333333,
              "#9c179e"
             ],
             [
              0.4444444444444444,
              "#bd3786"
             ],
             [
              0.5555555555555556,
              "#d8576b"
             ],
             [
              0.6666666666666666,
              "#ed7953"
             ],
             [
              0.7777777777777778,
              "#fb9f3a"
             ],
             [
              0.8888888888888888,
              "#fdca26"
             ],
             [
              1,
              "#f0f921"
             ]
            ],
            "type": "heatmap"
           }
          ],
          "heatmapgl": [
           {
            "colorbar": {
             "outlinewidth": 0,
             "ticks": ""
            },
            "colorscale": [
             [
              0,
              "#0d0887"
             ],
             [
              0.1111111111111111,
              "#46039f"
             ],
             [
              0.2222222222222222,
              "#7201a8"
             ],
             [
              0.3333333333333333,
              "#9c179e"
             ],
             [
              0.4444444444444444,
              "#bd3786"
             ],
             [
              0.5555555555555556,
              "#d8576b"
             ],
             [
              0.6666666666666666,
              "#ed7953"
             ],
             [
              0.7777777777777778,
              "#fb9f3a"
             ],
             [
              0.8888888888888888,
              "#fdca26"
             ],
             [
              1,
              "#f0f921"
             ]
            ],
            "type": "heatmapgl"
           }
          ],
          "histogram": [
           {
            "marker": {
             "pattern": {
              "fillmode": "overlay",
              "size": 10,
              "solidity": 0.2
             }
            },
            "type": "histogram"
           }
          ],
          "histogram2d": [
           {
            "colorbar": {
             "outlinewidth": 0,
             "ticks": ""
            },
            "colorscale": [
             [
              0,
              "#0d0887"
             ],
             [
              0.1111111111111111,
              "#46039f"
             ],
             [
              0.2222222222222222,
              "#7201a8"
             ],
             [
              0.3333333333333333,
              "#9c179e"
             ],
             [
              0.4444444444444444,
              "#bd3786"
             ],
             [
              0.5555555555555556,
              "#d8576b"
             ],
             [
              0.6666666666666666,
              "#ed7953"
             ],
             [
              0.7777777777777778,
              "#fb9f3a"
             ],
             [
              0.8888888888888888,
              "#fdca26"
             ],
             [
              1,
              "#f0f921"
             ]
            ],
            "type": "histogram2d"
           }
          ],
          "histogram2dcontour": [
           {
            "colorbar": {
             "outlinewidth": 0,
             "ticks": ""
            },
            "colorscale": [
             [
              0,
              "#0d0887"
             ],
             [
              0.1111111111111111,
              "#46039f"
             ],
             [
              0.2222222222222222,
              "#7201a8"
             ],
             [
              0.3333333333333333,
              "#9c179e"
             ],
             [
              0.4444444444444444,
              "#bd3786"
             ],
             [
              0.5555555555555556,
              "#d8576b"
             ],
             [
              0.6666666666666666,
              "#ed7953"
             ],
             [
              0.7777777777777778,
              "#fb9f3a"
             ],
             [
              0.8888888888888888,
              "#fdca26"
             ],
             [
              1,
              "#f0f921"
             ]
            ],
            "type": "histogram2dcontour"
           }
          ],
          "mesh3d": [
           {
            "colorbar": {
             "outlinewidth": 0,
             "ticks": ""
            },
            "type": "mesh3d"
           }
          ],
          "parcoords": [
           {
            "line": {
             "colorbar": {
              "outlinewidth": 0,
              "ticks": ""
             }
            },
            "type": "parcoords"
           }
          ],
          "pie": [
           {
            "automargin": true,
            "type": "pie"
           }
          ],
          "scatter": [
           {
            "fillpattern": {
             "fillmode": "overlay",
             "size": 10,
             "solidity": 0.2
            },
            "type": "scatter"
           }
          ],
          "scatter3d": [
           {
            "line": {
             "colorbar": {
              "outlinewidth": 0,
              "ticks": ""
             }
            },
            "marker": {
             "colorbar": {
              "outlinewidth": 0,
              "ticks": ""
             }
            },
            "type": "scatter3d"
           }
          ],
          "scattercarpet": [
           {
            "marker": {
             "colorbar": {
              "outlinewidth": 0,
              "ticks": ""
             }
            },
            "type": "scattercarpet"
           }
          ],
          "scattergeo": [
           {
            "marker": {
             "colorbar": {
              "outlinewidth": 0,
              "ticks": ""
             }
            },
            "type": "scattergeo"
           }
          ],
          "scattergl": [
           {
            "marker": {
             "colorbar": {
              "outlinewidth": 0,
              "ticks": ""
             }
            },
            "type": "scattergl"
           }
          ],
          "scattermapbox": [
           {
            "marker": {
             "colorbar": {
              "outlinewidth": 0,
              "ticks": ""
             }
            },
            "type": "scattermapbox"
           }
          ],
          "scatterpolar": [
           {
            "marker": {
             "colorbar": {
              "outlinewidth": 0,
              "ticks": ""
             }
            },
            "type": "scatterpolar"
           }
          ],
          "scatterpolargl": [
           {
            "marker": {
             "colorbar": {
              "outlinewidth": 0,
              "ticks": ""
             }
            },
            "type": "scatterpolargl"
           }
          ],
          "scatterternary": [
           {
            "marker": {
             "colorbar": {
              "outlinewidth": 0,
              "ticks": ""
             }
            },
            "type": "scatterternary"
           }
          ],
          "surface": [
           {
            "colorbar": {
             "outlinewidth": 0,
             "ticks": ""
            },
            "colorscale": [
             [
              0,
              "#0d0887"
             ],
             [
              0.1111111111111111,
              "#46039f"
             ],
             [
              0.2222222222222222,
              "#7201a8"
             ],
             [
              0.3333333333333333,
              "#9c179e"
             ],
             [
              0.4444444444444444,
              "#bd3786"
             ],
             [
              0.5555555555555556,
              "#d8576b"
             ],
             [
              0.6666666666666666,
              "#ed7953"
             ],
             [
              0.7777777777777778,
              "#fb9f3a"
             ],
             [
              0.8888888888888888,
              "#fdca26"
             ],
             [
              1,
              "#f0f921"
             ]
            ],
            "type": "surface"
           }
          ],
          "table": [
           {
            "cells": {
             "fill": {
              "color": "#EBF0F8"
             },
             "line": {
              "color": "white"
             }
            },
            "header": {
             "fill": {
              "color": "#C8D4E3"
             },
             "line": {
              "color": "white"
             }
            },
            "type": "table"
           }
          ]
         },
         "layout": {
          "annotationdefaults": {
           "arrowcolor": "#2a3f5f",
           "arrowhead": 0,
           "arrowwidth": 1
          },
          "autotypenumbers": "strict",
          "coloraxis": {
           "colorbar": {
            "outlinewidth": 0,
            "ticks": ""
           }
          },
          "colorscale": {
           "diverging": [
            [
             0,
             "#8e0152"
            ],
            [
             0.1,
             "#c51b7d"
            ],
            [
             0.2,
             "#de77ae"
            ],
            [
             0.3,
             "#f1b6da"
            ],
            [
             0.4,
             "#fde0ef"
            ],
            [
             0.5,
             "#f7f7f7"
            ],
            [
             0.6,
             "#e6f5d0"
            ],
            [
             0.7,
             "#b8e186"
            ],
            [
             0.8,
             "#7fbc41"
            ],
            [
             0.9,
             "#4d9221"
            ],
            [
             1,
             "#276419"
            ]
           ],
           "sequential": [
            [
             0,
             "#0d0887"
            ],
            [
             0.1111111111111111,
             "#46039f"
            ],
            [
             0.2222222222222222,
             "#7201a8"
            ],
            [
             0.3333333333333333,
             "#9c179e"
            ],
            [
             0.4444444444444444,
             "#bd3786"
            ],
            [
             0.5555555555555556,
             "#d8576b"
            ],
            [
             0.6666666666666666,
             "#ed7953"
            ],
            [
             0.7777777777777778,
             "#fb9f3a"
            ],
            [
             0.8888888888888888,
             "#fdca26"
            ],
            [
             1,
             "#f0f921"
            ]
           ],
           "sequentialminus": [
            [
             0,
             "#0d0887"
            ],
            [
             0.1111111111111111,
             "#46039f"
            ],
            [
             0.2222222222222222,
             "#7201a8"
            ],
            [
             0.3333333333333333,
             "#9c179e"
            ],
            [
             0.4444444444444444,
             "#bd3786"
            ],
            [
             0.5555555555555556,
             "#d8576b"
            ],
            [
             0.6666666666666666,
             "#ed7953"
            ],
            [
             0.7777777777777778,
             "#fb9f3a"
            ],
            [
             0.8888888888888888,
             "#fdca26"
            ],
            [
             1,
             "#f0f921"
            ]
           ]
          },
          "colorway": [
           "#636efa",
           "#EF553B",
           "#00cc96",
           "#ab63fa",
           "#FFA15A",
           "#19d3f3",
           "#FF6692",
           "#B6E880",
           "#FF97FF",
           "#FECB52"
          ],
          "font": {
           "color": "#2a3f5f"
          },
          "geo": {
           "bgcolor": "white",
           "lakecolor": "white",
           "landcolor": "#E5ECF6",
           "showlakes": true,
           "showland": true,
           "subunitcolor": "white"
          },
          "hoverlabel": {
           "align": "left"
          },
          "hovermode": "closest",
          "mapbox": {
           "style": "light"
          },
          "paper_bgcolor": "white",
          "plot_bgcolor": "#E5ECF6",
          "polar": {
           "angularaxis": {
            "gridcolor": "white",
            "linecolor": "white",
            "ticks": ""
           },
           "bgcolor": "#E5ECF6",
           "radialaxis": {
            "gridcolor": "white",
            "linecolor": "white",
            "ticks": ""
           }
          },
          "scene": {
           "xaxis": {
            "backgroundcolor": "#E5ECF6",
            "gridcolor": "white",
            "gridwidth": 2,
            "linecolor": "white",
            "showbackground": true,
            "ticks": "",
            "zerolinecolor": "white"
           },
           "yaxis": {
            "backgroundcolor": "#E5ECF6",
            "gridcolor": "white",
            "gridwidth": 2,
            "linecolor": "white",
            "showbackground": true,
            "ticks": "",
            "zerolinecolor": "white"
           },
           "zaxis": {
            "backgroundcolor": "#E5ECF6",
            "gridcolor": "white",
            "gridwidth": 2,
            "linecolor": "white",
            "showbackground": true,
            "ticks": "",
            "zerolinecolor": "white"
           }
          },
          "shapedefaults": {
           "line": {
            "color": "#2a3f5f"
           }
          },
          "ternary": {
           "aaxis": {
            "gridcolor": "white",
            "linecolor": "white",
            "ticks": ""
           },
           "baxis": {
            "gridcolor": "white",
            "linecolor": "white",
            "ticks": ""
           },
           "bgcolor": "#E5ECF6",
           "caxis": {
            "gridcolor": "white",
            "linecolor": "white",
            "ticks": ""
           }
          },
          "title": {
           "x": 0.05
          },
          "xaxis": {
           "automargin": true,
           "gridcolor": "white",
           "linecolor": "white",
           "ticks": "",
           "title": {
            "standoff": 15
           },
           "zerolinecolor": "white",
           "zerolinewidth": 2
          },
          "yaxis": {
           "automargin": true,
           "gridcolor": "white",
           "linecolor": "white",
           "ticks": "",
           "title": {
            "standoff": 15
           },
           "zerolinecolor": "white",
           "zerolinewidth": 2
          }
         }
        },
        "title": {
         "text": "Eğitim ve Doğrulama Metrikleri"
        },
        "width": 800,
        "xaxis": {
         "anchor": "y",
         "domain": [
          0,
          0.45
         ]
        },
        "xaxis2": {
         "anchor": "y2",
         "domain": [
          0.55,
          1
         ]
        },
        "yaxis": {
         "anchor": "x",
         "domain": [
          0,
          1
         ]
        },
        "yaxis2": {
         "anchor": "x2",
         "domain": [
          0,
          1
         ]
        }
       }
      }
     },
     "metadata": {},
     "output_type": "display_data"
    }
   ],
   "source": [
    "# Eğitim ve doğrulama kayıp grafiği ve Eğitim ve doğrulama başarı grafiği\n",
    "\n",
    "import plotly.graph_objects as go\n",
    "from plotly.subplots import make_subplots\n",
    "\n",
    "fig = make_subplots(rows=1, cols=2)\n",
    "\n",
    "fig.add_trace(\n",
    "    go.Scatter(y=history.history['loss'], name=\"Eğitim Kaybı\"),\n",
    "    row=1, col=1\n",
    ")\n",
    "\n",
    "fig.add_trace(\n",
    "    go.Scatter(y=history.history['val_loss'], name=\"Doğrulama Kaybı\"),\n",
    "    row=1, col=1\n",
    ")\n",
    "\n",
    "fig.add_trace(\n",
    "    go.Scatter(y=history.history['accuracy'], name=\"Eğitim Başarısı\"),\n",
    "    row=1, col=2\n",
    ")\n",
    "\n",
    "fig.add_trace(\n",
    "    go.Scatter(y=history.history['val_accuracy'], name=\"Doğrulama Başarısı\"),\n",
    "    row=1, col=2\n",
    ")\n",
    "\n",
    "fig.update_layout(height=500, width=800, title_text=\"Eğitim ve Doğrulama Metrikleri\")\n",
    "fig.show()\n",
    "\n"
   ]
  },
  {
   "cell_type": "code",
   "execution_count": 32,
   "metadata": {},
   "outputs": [
    {
     "name": "stdout",
     "output_type": "stream",
     "text": [
      "24/24 - 0s - loss: 3.9242e-07 - accuracy: 1.0000 - 28ms/epoch - 1ms/step\n",
      "24/24 [==============================] - 0s 522us/step\n"
     ]
    },
    {
     "name": "stderr",
     "output_type": "stream",
     "text": [
      "c:\\Users\\PC\\AppData\\Local\\Programs\\Python\\Python311\\Lib\\site-packages\\sklearn\\preprocessing\\_label.py:155: DataConversionWarning:\n",
      "\n",
      "A column-vector y was passed when a 1d array was expected. Please change the shape of y to (n_samples, ), for example using ravel().\n",
      "\n"
     ]
    },
    {
     "data": {
      "application/vnd.plotly.v1+json": {
       "config": {
        "plotlyServerURL": "https://plot.ly"
       },
       "data": [
        {
         "colorscale": [
          [
           0,
           "#440154"
          ],
          [
           0.1111111111111111,
           "#482878"
          ],
          [
           0.2222222222222222,
           "#3e4989"
          ],
          [
           0.3333333333333333,
           "#31688e"
          ],
          [
           0.4444444444444444,
           "#26828e"
          ],
          [
           0.5555555555555556,
           "#1f9e89"
          ],
          [
           0.6666666666666666,
           "#35b779"
          ],
          [
           0.7777777777777778,
           "#6ece58"
          ],
          [
           0.8888888888888888,
           "#b5de2b"
          ],
          [
           1,
           "#fde725"
          ]
         ],
         "reversescale": false,
         "showscale": false,
         "type": "heatmap",
         "x": [
          "Food",
          "HC",
          "PC"
         ],
         "y": [
          "Food",
          "HC",
          "PC"
         ],
         "z": [
          [
           0,
           0,
           0
          ],
          [
           0,
           171,
           0
          ],
          [
           0,
           0,
           324
          ]
         ]
        }
       ],
       "layout": {
        "annotations": [
         {
          "font": {
           "color": "#FFFFFF"
          },
          "showarrow": false,
          "text": "0",
          "x": "Food",
          "xref": "x",
          "y": "Food",
          "yref": "y"
         },
         {
          "font": {
           "color": "#FFFFFF"
          },
          "showarrow": false,
          "text": "0",
          "x": "HC",
          "xref": "x",
          "y": "Food",
          "yref": "y"
         },
         {
          "font": {
           "color": "#FFFFFF"
          },
          "showarrow": false,
          "text": "0",
          "x": "PC",
          "xref": "x",
          "y": "Food",
          "yref": "y"
         },
         {
          "font": {
           "color": "#FFFFFF"
          },
          "showarrow": false,
          "text": "0",
          "x": "Food",
          "xref": "x",
          "y": "HC",
          "yref": "y"
         },
         {
          "font": {
           "color": "#000000"
          },
          "showarrow": false,
          "text": "171",
          "x": "HC",
          "xref": "x",
          "y": "HC",
          "yref": "y"
         },
         {
          "font": {
           "color": "#FFFFFF"
          },
          "showarrow": false,
          "text": "0",
          "x": "PC",
          "xref": "x",
          "y": "HC",
          "yref": "y"
         },
         {
          "font": {
           "color": "#FFFFFF"
          },
          "showarrow": false,
          "text": "0",
          "x": "Food",
          "xref": "x",
          "y": "PC",
          "yref": "y"
         },
         {
          "font": {
           "color": "#FFFFFF"
          },
          "showarrow": false,
          "text": "0",
          "x": "HC",
          "xref": "x",
          "y": "PC",
          "yref": "y"
         },
         {
          "font": {
           "color": "#000000"
          },
          "showarrow": false,
          "text": "324",
          "x": "PC",
          "xref": "x",
          "y": "PC",
          "yref": "y"
         }
        ],
        "template": {
         "data": {
          "bar": [
           {
            "error_x": {
             "color": "#2a3f5f"
            },
            "error_y": {
             "color": "#2a3f5f"
            },
            "marker": {
             "line": {
              "color": "#E5ECF6",
              "width": 0.5
             },
             "pattern": {
              "fillmode": "overlay",
              "size": 10,
              "solidity": 0.2
             }
            },
            "type": "bar"
           }
          ],
          "barpolar": [
           {
            "marker": {
             "line": {
              "color": "#E5ECF6",
              "width": 0.5
             },
             "pattern": {
              "fillmode": "overlay",
              "size": 10,
              "solidity": 0.2
             }
            },
            "type": "barpolar"
           }
          ],
          "carpet": [
           {
            "aaxis": {
             "endlinecolor": "#2a3f5f",
             "gridcolor": "white",
             "linecolor": "white",
             "minorgridcolor": "white",
             "startlinecolor": "#2a3f5f"
            },
            "baxis": {
             "endlinecolor": "#2a3f5f",
             "gridcolor": "white",
             "linecolor": "white",
             "minorgridcolor": "white",
             "startlinecolor": "#2a3f5f"
            },
            "type": "carpet"
           }
          ],
          "choropleth": [
           {
            "colorbar": {
             "outlinewidth": 0,
             "ticks": ""
            },
            "type": "choropleth"
           }
          ],
          "contour": [
           {
            "colorbar": {
             "outlinewidth": 0,
             "ticks": ""
            },
            "colorscale": [
             [
              0,
              "#0d0887"
             ],
             [
              0.1111111111111111,
              "#46039f"
             ],
             [
              0.2222222222222222,
              "#7201a8"
             ],
             [
              0.3333333333333333,
              "#9c179e"
             ],
             [
              0.4444444444444444,
              "#bd3786"
             ],
             [
              0.5555555555555556,
              "#d8576b"
             ],
             [
              0.6666666666666666,
              "#ed7953"
             ],
             [
              0.7777777777777778,
              "#fb9f3a"
             ],
             [
              0.8888888888888888,
              "#fdca26"
             ],
             [
              1,
              "#f0f921"
             ]
            ],
            "type": "contour"
           }
          ],
          "contourcarpet": [
           {
            "colorbar": {
             "outlinewidth": 0,
             "ticks": ""
            },
            "type": "contourcarpet"
           }
          ],
          "heatmap": [
           {
            "colorbar": {
             "outlinewidth": 0,
             "ticks": ""
            },
            "colorscale": [
             [
              0,
              "#0d0887"
             ],
             [
              0.1111111111111111,
              "#46039f"
             ],
             [
              0.2222222222222222,
              "#7201a8"
             ],
             [
              0.3333333333333333,
              "#9c179e"
             ],
             [
              0.4444444444444444,
              "#bd3786"
             ],
             [
              0.5555555555555556,
              "#d8576b"
             ],
             [
              0.6666666666666666,
              "#ed7953"
             ],
             [
              0.7777777777777778,
              "#fb9f3a"
             ],
             [
              0.8888888888888888,
              "#fdca26"
             ],
             [
              1,
              "#f0f921"
             ]
            ],
            "type": "heatmap"
           }
          ],
          "heatmapgl": [
           {
            "colorbar": {
             "outlinewidth": 0,
             "ticks": ""
            },
            "colorscale": [
             [
              0,
              "#0d0887"
             ],
             [
              0.1111111111111111,
              "#46039f"
             ],
             [
              0.2222222222222222,
              "#7201a8"
             ],
             [
              0.3333333333333333,
              "#9c179e"
             ],
             [
              0.4444444444444444,
              "#bd3786"
             ],
             [
              0.5555555555555556,
              "#d8576b"
             ],
             [
              0.6666666666666666,
              "#ed7953"
             ],
             [
              0.7777777777777778,
              "#fb9f3a"
             ],
             [
              0.8888888888888888,
              "#fdca26"
             ],
             [
              1,
              "#f0f921"
             ]
            ],
            "type": "heatmapgl"
           }
          ],
          "histogram": [
           {
            "marker": {
             "pattern": {
              "fillmode": "overlay",
              "size": 10,
              "solidity": 0.2
             }
            },
            "type": "histogram"
           }
          ],
          "histogram2d": [
           {
            "colorbar": {
             "outlinewidth": 0,
             "ticks": ""
            },
            "colorscale": [
             [
              0,
              "#0d0887"
             ],
             [
              0.1111111111111111,
              "#46039f"
             ],
             [
              0.2222222222222222,
              "#7201a8"
             ],
             [
              0.3333333333333333,
              "#9c179e"
             ],
             [
              0.4444444444444444,
              "#bd3786"
             ],
             [
              0.5555555555555556,
              "#d8576b"
             ],
             [
              0.6666666666666666,
              "#ed7953"
             ],
             [
              0.7777777777777778,
              "#fb9f3a"
             ],
             [
              0.8888888888888888,
              "#fdca26"
             ],
             [
              1,
              "#f0f921"
             ]
            ],
            "type": "histogram2d"
           }
          ],
          "histogram2dcontour": [
           {
            "colorbar": {
             "outlinewidth": 0,
             "ticks": ""
            },
            "colorscale": [
             [
              0,
              "#0d0887"
             ],
             [
              0.1111111111111111,
              "#46039f"
             ],
             [
              0.2222222222222222,
              "#7201a8"
             ],
             [
              0.3333333333333333,
              "#9c179e"
             ],
             [
              0.4444444444444444,
              "#bd3786"
             ],
             [
              0.5555555555555556,
              "#d8576b"
             ],
             [
              0.6666666666666666,
              "#ed7953"
             ],
             [
              0.7777777777777778,
              "#fb9f3a"
             ],
             [
              0.8888888888888888,
              "#fdca26"
             ],
             [
              1,
              "#f0f921"
             ]
            ],
            "type": "histogram2dcontour"
           }
          ],
          "mesh3d": [
           {
            "colorbar": {
             "outlinewidth": 0,
             "ticks": ""
            },
            "type": "mesh3d"
           }
          ],
          "parcoords": [
           {
            "line": {
             "colorbar": {
              "outlinewidth": 0,
              "ticks": ""
             }
            },
            "type": "parcoords"
           }
          ],
          "pie": [
           {
            "automargin": true,
            "type": "pie"
           }
          ],
          "scatter": [
           {
            "fillpattern": {
             "fillmode": "overlay",
             "size": 10,
             "solidity": 0.2
            },
            "type": "scatter"
           }
          ],
          "scatter3d": [
           {
            "line": {
             "colorbar": {
              "outlinewidth": 0,
              "ticks": ""
             }
            },
            "marker": {
             "colorbar": {
              "outlinewidth": 0,
              "ticks": ""
             }
            },
            "type": "scatter3d"
           }
          ],
          "scattercarpet": [
           {
            "marker": {
             "colorbar": {
              "outlinewidth": 0,
              "ticks": ""
             }
            },
            "type": "scattercarpet"
           }
          ],
          "scattergeo": [
           {
            "marker": {
             "colorbar": {
              "outlinewidth": 0,
              "ticks": ""
             }
            },
            "type": "scattergeo"
           }
          ],
          "scattergl": [
           {
            "marker": {
             "colorbar": {
              "outlinewidth": 0,
              "ticks": ""
             }
            },
            "type": "scattergl"
           }
          ],
          "scattermapbox": [
           {
            "marker": {
             "colorbar": {
              "outlinewidth": 0,
              "ticks": ""
             }
            },
            "type": "scattermapbox"
           }
          ],
          "scatterpolar": [
           {
            "marker": {
             "colorbar": {
              "outlinewidth": 0,
              "ticks": ""
             }
            },
            "type": "scatterpolar"
           }
          ],
          "scatterpolargl": [
           {
            "marker": {
             "colorbar": {
              "outlinewidth": 0,
              "ticks": ""
             }
            },
            "type": "scatterpolargl"
           }
          ],
          "scatterternary": [
           {
            "marker": {
             "colorbar": {
              "outlinewidth": 0,
              "ticks": ""
             }
            },
            "type": "scatterternary"
           }
          ],
          "surface": [
           {
            "colorbar": {
             "outlinewidth": 0,
             "ticks": ""
            },
            "colorscale": [
             [
              0,
              "#0d0887"
             ],
             [
              0.1111111111111111,
              "#46039f"
             ],
             [
              0.2222222222222222,
              "#7201a8"
             ],
             [
              0.3333333333333333,
              "#9c179e"
             ],
             [
              0.4444444444444444,
              "#bd3786"
             ],
             [
              0.5555555555555556,
              "#d8576b"
             ],
             [
              0.6666666666666666,
              "#ed7953"
             ],
             [
              0.7777777777777778,
              "#fb9f3a"
             ],
             [
              0.8888888888888888,
              "#fdca26"
             ],
             [
              1,
              "#f0f921"
             ]
            ],
            "type": "surface"
           }
          ],
          "table": [
           {
            "cells": {
             "fill": {
              "color": "#EBF0F8"
             },
             "line": {
              "color": "white"
             }
            },
            "header": {
             "fill": {
              "color": "#C8D4E3"
             },
             "line": {
              "color": "white"
             }
            },
            "type": "table"
           }
          ]
         },
         "layout": {
          "annotationdefaults": {
           "arrowcolor": "#2a3f5f",
           "arrowhead": 0,
           "arrowwidth": 1
          },
          "autotypenumbers": "strict",
          "coloraxis": {
           "colorbar": {
            "outlinewidth": 0,
            "ticks": ""
           }
          },
          "colorscale": {
           "diverging": [
            [
             0,
             "#8e0152"
            ],
            [
             0.1,
             "#c51b7d"
            ],
            [
             0.2,
             "#de77ae"
            ],
            [
             0.3,
             "#f1b6da"
            ],
            [
             0.4,
             "#fde0ef"
            ],
            [
             0.5,
             "#f7f7f7"
            ],
            [
             0.6,
             "#e6f5d0"
            ],
            [
             0.7,
             "#b8e186"
            ],
            [
             0.8,
             "#7fbc41"
            ],
            [
             0.9,
             "#4d9221"
            ],
            [
             1,
             "#276419"
            ]
           ],
           "sequential": [
            [
             0,
             "#0d0887"
            ],
            [
             0.1111111111111111,
             "#46039f"
            ],
            [
             0.2222222222222222,
             "#7201a8"
            ],
            [
             0.3333333333333333,
             "#9c179e"
            ],
            [
             0.4444444444444444,
             "#bd3786"
            ],
            [
             0.5555555555555556,
             "#d8576b"
            ],
            [
             0.6666666666666666,
             "#ed7953"
            ],
            [
             0.7777777777777778,
             "#fb9f3a"
            ],
            [
             0.8888888888888888,
             "#fdca26"
            ],
            [
             1,
             "#f0f921"
            ]
           ],
           "sequentialminus": [
            [
             0,
             "#0d0887"
            ],
            [
             0.1111111111111111,
             "#46039f"
            ],
            [
             0.2222222222222222,
             "#7201a8"
            ],
            [
             0.3333333333333333,
             "#9c179e"
            ],
            [
             0.4444444444444444,
             "#bd3786"
            ],
            [
             0.5555555555555556,
             "#d8576b"
            ],
            [
             0.6666666666666666,
             "#ed7953"
            ],
            [
             0.7777777777777778,
             "#fb9f3a"
            ],
            [
             0.8888888888888888,
             "#fdca26"
            ],
            [
             1,
             "#f0f921"
            ]
           ]
          },
          "colorway": [
           "#636efa",
           "#EF553B",
           "#00cc96",
           "#ab63fa",
           "#FFA15A",
           "#19d3f3",
           "#FF6692",
           "#B6E880",
           "#FF97FF",
           "#FECB52"
          ],
          "font": {
           "color": "#2a3f5f"
          },
          "geo": {
           "bgcolor": "white",
           "lakecolor": "white",
           "landcolor": "#E5ECF6",
           "showlakes": true,
           "showland": true,
           "subunitcolor": "white"
          },
          "hoverlabel": {
           "align": "left"
          },
          "hovermode": "closest",
          "mapbox": {
           "style": "light"
          },
          "paper_bgcolor": "white",
          "plot_bgcolor": "#E5ECF6",
          "polar": {
           "angularaxis": {
            "gridcolor": "white",
            "linecolor": "white",
            "ticks": ""
           },
           "bgcolor": "#E5ECF6",
           "radialaxis": {
            "gridcolor": "white",
            "linecolor": "white",
            "ticks": ""
           }
          },
          "scene": {
           "xaxis": {
            "backgroundcolor": "#E5ECF6",
            "gridcolor": "white",
            "gridwidth": 2,
            "linecolor": "white",
            "showbackground": true,
            "ticks": "",
            "zerolinecolor": "white"
           },
           "yaxis": {
            "backgroundcolor": "#E5ECF6",
            "gridcolor": "white",
            "gridwidth": 2,
            "linecolor": "white",
            "showbackground": true,
            "ticks": "",
            "zerolinecolor": "white"
           },
           "zaxis": {
            "backgroundcolor": "#E5ECF6",
            "gridcolor": "white",
            "gridwidth": 2,
            "linecolor": "white",
            "showbackground": true,
            "ticks": "",
            "zerolinecolor": "white"
           }
          },
          "shapedefaults": {
           "line": {
            "color": "#2a3f5f"
           }
          },
          "ternary": {
           "aaxis": {
            "gridcolor": "white",
            "linecolor": "white",
            "ticks": ""
           },
           "baxis": {
            "gridcolor": "white",
            "linecolor": "white",
            "ticks": ""
           },
           "bgcolor": "#E5ECF6",
           "caxis": {
            "gridcolor": "white",
            "linecolor": "white",
            "ticks": ""
           }
          },
          "title": {
           "x": 0.05
          },
          "xaxis": {
           "automargin": true,
           "gridcolor": "white",
           "linecolor": "white",
           "ticks": "",
           "title": {
            "standoff": 15
           },
           "zerolinecolor": "white",
           "zerolinewidth": 2
          },
          "yaxis": {
           "automargin": true,
           "gridcolor": "white",
           "linecolor": "white",
           "ticks": "",
           "title": {
            "standoff": 15
           },
           "zerolinecolor": "white",
           "zerolinewidth": 2
          }
         }
        },
        "title": {
         "text": "Karmaşıklık Matrisi"
        },
        "xaxis": {
         "dtick": 1,
         "gridcolor": "rgb(0, 0, 0)",
         "side": "top",
         "ticks": "",
         "title": {
          "text": "Tahmin"
         }
        },
        "yaxis": {
         "dtick": 1,
         "ticks": "",
         "ticksuffix": "  ",
         "title": {
          "text": "Gerçek"
         }
        }
       }
      }
     },
     "metadata": {},
     "output_type": "display_data"
    }
   ],
   "source": [
    "# Test verileri üzerinde modeli değerlendirin\n",
    "X_test = X_test.toarray()\n",
    "y_test = y_test.reshape(-1, 1)\n",
    "model.evaluate(X_test, y_test, verbose=2)\n",
    "\n",
    "# Test verileri üzerinde tahmin yapın\n",
    "y_pred = model.predict(X_test)\n",
    "y_pred = np.argmax(y_pred, axis=1)\n",
    "y_pred = le.inverse_transform(y_pred)\n",
    "\n",
    "y_test = le.inverse_transform(y_test)\n",
    "\n",
    "from sklearn.metrics import confusion_matrix\n",
    "import plotly.figure_factory as ff\n",
    "\n",
    "cm = confusion_matrix(y_test, y_pred, labels=[\"Food\", \"HC\", \"PC\"])\n",
    "\n",
    "fig = ff.create_annotated_heatmap(\n",
    "    z=cm,\n",
    "    x=[\"Food\", \"HC\", \"PC\"],\n",
    "    y=[\"Food\", \"HC\", \"PC\"],\n",
    "    colorscale='Viridis'\n",
    ")\n",
    "\n",
    "fig.update_layout(title_text='Karmaşıklık Matrisi', xaxis = dict(title='Tahmin'), yaxis = dict(title='Gerçek'))\n",
    "\n",
    "fig.show()\n"
   ]
  }
 ],
 "metadata": {
  "kernelspec": {
   "display_name": "Python 3.11.0 64-bit",
   "language": "python",
   "name": "python3"
  },
  "language_info": {
   "codemirror_mode": {
    "name": "ipython",
    "version": 3
   },
   "file_extension": ".py",
   "mimetype": "text/x-python",
   "name": "python",
   "nbconvert_exporter": "python",
   "pygments_lexer": "ipython3",
   "version": "3.11.0"
  },
  "orig_nbformat": 4,
  "vscode": {
   "interpreter": {
    "hash": "5ffd7eb2cebf9ac436b5021ba01877e9cee6b03524e01bf8c8637d3e64111215"
   }
  }
 },
 "nbformat": 4,
 "nbformat_minor": 2
}
