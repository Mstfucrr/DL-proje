{
 "cells": [
  {
   "cell_type": "markdown",
   "metadata": {},
   "source": [
    "## Importing the libraries"
   ]
  },
  {
   "cell_type": "code",
   "execution_count": 333,
   "metadata": {},
   "outputs": [],
   "source": [
    "import matplotlib.pyplot as plt\n",
    "import numpy as np\n",
    "import pandas as pd\n",
    "import seaborn as sns"
   ]
  },
  {
   "cell_type": "markdown",
   "metadata": {},
   "source": [
    "## Importing the dataset"
   ]
  },
  {
   "cell_type": "code",
   "execution_count": 334,
   "metadata": {},
   "outputs": [
    {
     "data": {
      "text/html": [
       "<div>\n",
       "<style scoped>\n",
       "    .dataframe tbody tr th:only-of-type {\n",
       "        vertical-align: middle;\n",
       "    }\n",
       "\n",
       "    .dataframe tbody tr th {\n",
       "        vertical-align: top;\n",
       "    }\n",
       "\n",
       "    .dataframe thead th {\n",
       "        text-align: right;\n",
       "    }\n",
       "</style>\n",
       "<table border=\"1\" class=\"dataframe\">\n",
       "  <thead>\n",
       "    <tr style=\"text-align: right;\">\n",
       "      <th></th>\n",
       "      <th>KOD</th>\n",
       "      <th>BARKOD</th>\n",
       "      <th>MAMUL</th>\n",
       "      <th>K.İÇİ</th>\n",
       "      <th>GR</th>\n",
       "      <th>LİSTE</th>\n",
       "      <th>FATURA ALTI %</th>\n",
       "      <th>DÖNEM SONU %</th>\n",
       "      <th>KDV</th>\n",
       "      <th>NET MALİYET</th>\n",
       "      <th>Ö.RAF</th>\n",
       "      <th>KATEGORİ</th>\n",
       "      <th>AY</th>\n",
       "    </tr>\n",
       "  </thead>\n",
       "  <tbody>\n",
       "    <tr>\n",
       "      <th>0</th>\n",
       "      <td>67293883</td>\n",
       "      <td>8690637840746</td>\n",
       "      <td>1</td>\n",
       "      <td>8</td>\n",
       "      <td>400.0</td>\n",
       "      <td>21.85</td>\n",
       "      <td>12.0</td>\n",
       "      <td>5</td>\n",
       "      <td>0.01</td>\n",
       "      <td>18.449266</td>\n",
       "      <td>23.061583</td>\n",
       "      <td>FOOD</td>\n",
       "      <td>MART</td>\n",
       "    </tr>\n",
       "    <tr>\n",
       "      <th>1</th>\n",
       "      <td>67293891</td>\n",
       "      <td>8690637840821</td>\n",
       "      <td>1</td>\n",
       "      <td>8</td>\n",
       "      <td>400.0</td>\n",
       "      <td>21.85</td>\n",
       "      <td>12.0</td>\n",
       "      <td>5</td>\n",
       "      <td>0.01</td>\n",
       "      <td>18.449266</td>\n",
       "      <td>23.061583</td>\n",
       "      <td>FOOD</td>\n",
       "      <td>MART</td>\n",
       "    </tr>\n",
       "    <tr>\n",
       "      <th>2</th>\n",
       "      <td>67767533</td>\n",
       "      <td>8690637905896</td>\n",
       "      <td>1</td>\n",
       "      <td>12</td>\n",
       "      <td>600.0</td>\n",
       "      <td>27.00</td>\n",
       "      <td>13.0</td>\n",
       "      <td>5</td>\n",
       "      <td>0.01</td>\n",
       "      <td>22.538655</td>\n",
       "      <td>28.173319</td>\n",
       "      <td>FOOD</td>\n",
       "      <td>MART</td>\n",
       "    </tr>\n",
       "    <tr>\n",
       "      <th>3</th>\n",
       "      <td>67754288</td>\n",
       "      <td>8690637905193</td>\n",
       "      <td>1</td>\n",
       "      <td>12</td>\n",
       "      <td>600.0</td>\n",
       "      <td>27.00</td>\n",
       "      <td>13.0</td>\n",
       "      <td>5</td>\n",
       "      <td>0.01</td>\n",
       "      <td>22.538655</td>\n",
       "      <td>28.173319</td>\n",
       "      <td>FOOD</td>\n",
       "      <td>MART</td>\n",
       "    </tr>\n",
       "    <tr>\n",
       "      <th>4</th>\n",
       "      <td>68612788</td>\n",
       "      <td>8690637999277</td>\n",
       "      <td>1</td>\n",
       "      <td>8</td>\n",
       "      <td>335.0</td>\n",
       "      <td>39.75</td>\n",
       "      <td>10.0</td>\n",
       "      <td>5</td>\n",
       "      <td>0.01</td>\n",
       "      <td>34.326113</td>\n",
       "      <td>42.907641</td>\n",
       "      <td>FOOD</td>\n",
       "      <td>MART</td>\n",
       "    </tr>\n",
       "  </tbody>\n",
       "</table>\n",
       "</div>"
      ],
      "text/plain": [
       "        KOD         BARKOD  MAMUL  K.İÇİ     GR  LİSTE  FATURA ALTI %  \\\n",
       "0  67293883  8690637840746      1      8  400.0  21.85           12.0   \n",
       "1  67293891  8690637840821      1      8  400.0  21.85           12.0   \n",
       "2  67767533  8690637905896      1     12  600.0  27.00           13.0   \n",
       "3  67754288  8690637905193      1     12  600.0  27.00           13.0   \n",
       "4  68612788  8690637999277      1      8  335.0  39.75           10.0   \n",
       "\n",
       "   DÖNEM SONU %   KDV  NET MALİYET      Ö.RAF KATEGORİ    AY  \n",
       "0             5  0.01    18.449266  23.061583     FOOD  MART  \n",
       "1             5  0.01    18.449266  23.061583     FOOD  MART  \n",
       "2             5  0.01    22.538655  28.173319     FOOD  MART  \n",
       "3             5  0.01    22.538655  28.173319     FOOD  MART  \n",
       "4             5  0.01    34.326113  42.907641     FOOD  MART  "
      ]
     },
     "execution_count": 334,
     "metadata": {},
     "output_type": "execute_result"
    }
   ],
   "source": [
    "dataset = pd.read_excel(\"dataset.xlsx\")\n",
    "dataset.head()"
   ]
  },
  {
   "cell_type": "code",
   "execution_count": 335,
   "metadata": {},
   "outputs": [
    {
     "data": {
      "text/html": [
       "<div>\n",
       "<style scoped>\n",
       "    .dataframe tbody tr th:only-of-type {\n",
       "        vertical-align: middle;\n",
       "    }\n",
       "\n",
       "    .dataframe tbody tr th {\n",
       "        vertical-align: top;\n",
       "    }\n",
       "\n",
       "    .dataframe thead th {\n",
       "        text-align: right;\n",
       "    }\n",
       "</style>\n",
       "<table border=\"1\" class=\"dataframe\">\n",
       "  <thead>\n",
       "    <tr style=\"text-align: right;\">\n",
       "      <th></th>\n",
       "      <th>KATEGORİ</th>\n",
       "      <th>AY</th>\n",
       "      <th>MAMUL</th>\n",
       "      <th>K.İÇİ</th>\n",
       "      <th>GR</th>\n",
       "      <th>LİSTE</th>\n",
       "      <th>NET MALİYET</th>\n",
       "    </tr>\n",
       "  </thead>\n",
       "  <tbody>\n",
       "    <tr>\n",
       "      <th>0</th>\n",
       "      <td>FOOD</td>\n",
       "      <td>MART</td>\n",
       "      <td>1</td>\n",
       "      <td>8</td>\n",
       "      <td>400.0</td>\n",
       "      <td>21.85</td>\n",
       "      <td>18.449266</td>\n",
       "    </tr>\n",
       "    <tr>\n",
       "      <th>1</th>\n",
       "      <td>FOOD</td>\n",
       "      <td>MART</td>\n",
       "      <td>1</td>\n",
       "      <td>8</td>\n",
       "      <td>400.0</td>\n",
       "      <td>21.85</td>\n",
       "      <td>18.449266</td>\n",
       "    </tr>\n",
       "    <tr>\n",
       "      <th>2</th>\n",
       "      <td>FOOD</td>\n",
       "      <td>MART</td>\n",
       "      <td>1</td>\n",
       "      <td>12</td>\n",
       "      <td>600.0</td>\n",
       "      <td>27.00</td>\n",
       "      <td>22.538655</td>\n",
       "    </tr>\n",
       "    <tr>\n",
       "      <th>3</th>\n",
       "      <td>FOOD</td>\n",
       "      <td>MART</td>\n",
       "      <td>1</td>\n",
       "      <td>12</td>\n",
       "      <td>600.0</td>\n",
       "      <td>27.00</td>\n",
       "      <td>22.538655</td>\n",
       "    </tr>\n",
       "    <tr>\n",
       "      <th>4</th>\n",
       "      <td>FOOD</td>\n",
       "      <td>MART</td>\n",
       "      <td>1</td>\n",
       "      <td>8</td>\n",
       "      <td>335.0</td>\n",
       "      <td>39.75</td>\n",
       "      <td>34.326113</td>\n",
       "    </tr>\n",
       "  </tbody>\n",
       "</table>\n",
       "</div>"
      ],
      "text/plain": [
       "  KATEGORİ    AY  MAMUL  K.İÇİ     GR  LİSTE  NET MALİYET\n",
       "0     FOOD  MART      1      8  400.0  21.85    18.449266\n",
       "1     FOOD  MART      1      8  400.0  21.85    18.449266\n",
       "2     FOOD  MART      1     12  600.0  27.00    22.538655\n",
       "3     FOOD  MART      1     12  600.0  27.00    22.538655\n",
       "4     FOOD  MART      1      8  335.0  39.75    34.326113"
      ]
     },
     "execution_count": 335,
     "metadata": {},
     "output_type": "execute_result"
    }
   ],
   "source": [
    "selected_columns = ['KATEGORİ', 'AY', 'MAMUL', 'K.İÇİ', 'GR', 'LİSTE', 'NET MALİYET']\n",
    "data_selected = dataset[selected_columns]\n",
    "data_selected.head()"
   ]
  },
  {
   "cell_type": "code",
   "execution_count": 336,
   "metadata": {},
   "outputs": [],
   "source": [
    "categorical_columns = ['AY', 'MAMUL']\n",
    "numeric_columns = ['K.İÇİ', 'GR', 'LİSTE']"
   ]
  },
  {
   "cell_type": "code",
   "execution_count": 337,
   "metadata": {},
   "outputs": [],
   "source": [
    "X = data_selected.drop(columns=[\"KATEGORİ\"])  # Giriş verileri\n",
    "y = data_selected[\"KATEGORİ\"]  # Çıkış (etiket) verileri"
   ]
  },
  {
   "cell_type": "code",
   "execution_count": 338,
   "metadata": {},
   "outputs": [],
   "source": [
    "from sklearn.compose import ColumnTransformer\n",
    "from sklearn.preprocessing import StandardScaler, LabelEncoder, OneHotEncoder\n",
    "\n",
    "# Sayısal ve kategorik sütunları işlemek için bir sütun dönüştürücü oluşturun\n",
    "preprocessor = ColumnTransformer(\n",
    "    transformers=[\n",
    "        (\"sayısal\", StandardScaler(), numeric_columns),\n",
    "        (\"kategori\", OneHotEncoder(), categorical_columns),\n",
    "    ],\n",
    "    remainder=\"passthrough\",\n",
    ")\n",
    "\n",
    "le = LabelEncoder()\n",
    "\n",
    "# Verileri dönüştürün\n",
    "X = preprocessor.fit_transform(X)\n",
    "y = le.fit_transform(y)\n"
   ]
  },
  {
   "cell_type": "code",
   "execution_count": 351,
   "metadata": {},
   "outputs": [
    {
     "data": {
      "text/html": [
       "<div>\n",
       "<style scoped>\n",
       "    .dataframe tbody tr th:only-of-type {\n",
       "        vertical-align: middle;\n",
       "    }\n",
       "\n",
       "    .dataframe tbody tr th {\n",
       "        vertical-align: top;\n",
       "    }\n",
       "\n",
       "    .dataframe thead th {\n",
       "        text-align: right;\n",
       "    }\n",
       "</style>\n",
       "<table border=\"1\" class=\"dataframe\">\n",
       "  <thead>\n",
       "    <tr style=\"text-align: right;\">\n",
       "      <th></th>\n",
       "      <th>0</th>\n",
       "      <th>1</th>\n",
       "      <th>2</th>\n",
       "      <th>3</th>\n",
       "      <th>4</th>\n",
       "      <th>5</th>\n",
       "      <th>6</th>\n",
       "      <th>7</th>\n",
       "      <th>8</th>\n",
       "      <th>9</th>\n",
       "      <th>...</th>\n",
       "      <th>15</th>\n",
       "      <th>16</th>\n",
       "      <th>17</th>\n",
       "      <th>18</th>\n",
       "      <th>19</th>\n",
       "      <th>20</th>\n",
       "      <th>21</th>\n",
       "      <th>22</th>\n",
       "      <th>23</th>\n",
       "      <th>24</th>\n",
       "    </tr>\n",
       "  </thead>\n",
       "  <tbody>\n",
       "    <tr>\n",
       "      <th>0</th>\n",
       "      <td>-0.565928</td>\n",
       "      <td>-0.110449</td>\n",
       "      <td>-0.986225</td>\n",
       "      <td>0.0</td>\n",
       "      <td>0.0</td>\n",
       "      <td>0.0</td>\n",
       "      <td>0.0</td>\n",
       "      <td>1.0</td>\n",
       "      <td>0.0</td>\n",
       "      <td>0.0</td>\n",
       "      <td>...</td>\n",
       "      <td>0.0</td>\n",
       "      <td>0.0</td>\n",
       "      <td>0.0</td>\n",
       "      <td>0.0</td>\n",
       "      <td>0.0</td>\n",
       "      <td>0.0</td>\n",
       "      <td>0.0</td>\n",
       "      <td>0.0</td>\n",
       "      <td>0.0</td>\n",
       "      <td>18.449266</td>\n",
       "    </tr>\n",
       "    <tr>\n",
       "      <th>1</th>\n",
       "      <td>-0.565928</td>\n",
       "      <td>-0.110449</td>\n",
       "      <td>-0.986225</td>\n",
       "      <td>0.0</td>\n",
       "      <td>0.0</td>\n",
       "      <td>0.0</td>\n",
       "      <td>0.0</td>\n",
       "      <td>1.0</td>\n",
       "      <td>0.0</td>\n",
       "      <td>0.0</td>\n",
       "      <td>...</td>\n",
       "      <td>0.0</td>\n",
       "      <td>0.0</td>\n",
       "      <td>0.0</td>\n",
       "      <td>0.0</td>\n",
       "      <td>0.0</td>\n",
       "      <td>0.0</td>\n",
       "      <td>0.0</td>\n",
       "      <td>0.0</td>\n",
       "      <td>0.0</td>\n",
       "      <td>18.449266</td>\n",
       "    </tr>\n",
       "    <tr>\n",
       "      <th>2</th>\n",
       "      <td>-0.470838</td>\n",
       "      <td>0.121934</td>\n",
       "      <td>-0.829472</td>\n",
       "      <td>0.0</td>\n",
       "      <td>0.0</td>\n",
       "      <td>0.0</td>\n",
       "      <td>0.0</td>\n",
       "      <td>1.0</td>\n",
       "      <td>0.0</td>\n",
       "      <td>0.0</td>\n",
       "      <td>...</td>\n",
       "      <td>0.0</td>\n",
       "      <td>0.0</td>\n",
       "      <td>0.0</td>\n",
       "      <td>0.0</td>\n",
       "      <td>0.0</td>\n",
       "      <td>0.0</td>\n",
       "      <td>0.0</td>\n",
       "      <td>0.0</td>\n",
       "      <td>0.0</td>\n",
       "      <td>22.538655</td>\n",
       "    </tr>\n",
       "    <tr>\n",
       "      <th>3</th>\n",
       "      <td>-0.470838</td>\n",
       "      <td>0.121934</td>\n",
       "      <td>-0.829472</td>\n",
       "      <td>0.0</td>\n",
       "      <td>0.0</td>\n",
       "      <td>0.0</td>\n",
       "      <td>0.0</td>\n",
       "      <td>1.0</td>\n",
       "      <td>0.0</td>\n",
       "      <td>0.0</td>\n",
       "      <td>...</td>\n",
       "      <td>0.0</td>\n",
       "      <td>0.0</td>\n",
       "      <td>0.0</td>\n",
       "      <td>0.0</td>\n",
       "      <td>0.0</td>\n",
       "      <td>0.0</td>\n",
       "      <td>0.0</td>\n",
       "      <td>0.0</td>\n",
       "      <td>0.0</td>\n",
       "      <td>22.538655</td>\n",
       "    </tr>\n",
       "    <tr>\n",
       "      <th>4</th>\n",
       "      <td>-0.565928</td>\n",
       "      <td>-0.185974</td>\n",
       "      <td>-0.441394</td>\n",
       "      <td>0.0</td>\n",
       "      <td>0.0</td>\n",
       "      <td>0.0</td>\n",
       "      <td>0.0</td>\n",
       "      <td>1.0</td>\n",
       "      <td>0.0</td>\n",
       "      <td>0.0</td>\n",
       "      <td>...</td>\n",
       "      <td>0.0</td>\n",
       "      <td>0.0</td>\n",
       "      <td>0.0</td>\n",
       "      <td>0.0</td>\n",
       "      <td>0.0</td>\n",
       "      <td>0.0</td>\n",
       "      <td>0.0</td>\n",
       "      <td>0.0</td>\n",
       "      <td>0.0</td>\n",
       "      <td>34.326113</td>\n",
       "    </tr>\n",
       "  </tbody>\n",
       "</table>\n",
       "<p>5 rows × 25 columns</p>\n",
       "</div>"
      ],
      "text/plain": [
       "         0         1         2    3    4    5    6    7    8    9   ...   15  \\\n",
       "0 -0.565928 -0.110449 -0.986225  0.0  0.0  0.0  0.0  1.0  0.0  0.0  ...  0.0   \n",
       "1 -0.565928 -0.110449 -0.986225  0.0  0.0  0.0  0.0  1.0  0.0  0.0  ...  0.0   \n",
       "2 -0.470838  0.121934 -0.829472  0.0  0.0  0.0  0.0  1.0  0.0  0.0  ...  0.0   \n",
       "3 -0.470838  0.121934 -0.829472  0.0  0.0  0.0  0.0  1.0  0.0  0.0  ...  0.0   \n",
       "4 -0.565928 -0.185974 -0.441394  0.0  0.0  0.0  0.0  1.0  0.0  0.0  ...  0.0   \n",
       "\n",
       "    16   17   18   19   20   21   22   23         24  \n",
       "0  0.0  0.0  0.0  0.0  0.0  0.0  0.0  0.0  18.449266  \n",
       "1  0.0  0.0  0.0  0.0  0.0  0.0  0.0  0.0  18.449266  \n",
       "2  0.0  0.0  0.0  0.0  0.0  0.0  0.0  0.0  22.538655  \n",
       "3  0.0  0.0  0.0  0.0  0.0  0.0  0.0  0.0  22.538655  \n",
       "4  0.0  0.0  0.0  0.0  0.0  0.0  0.0  0.0  34.326113  \n",
       "\n",
       "[5 rows x 25 columns]"
      ]
     },
     "execution_count": 351,
     "metadata": {},
     "output_type": "execute_result"
    }
   ],
   "source": [
    "x_dataset = pd.DataFrame(X.toarray())\n",
    "x_dataset.head()"
   ]
  },
  {
   "cell_type": "code",
   "execution_count": 340,
   "metadata": {},
   "outputs": [],
   "source": [
    "from sklearn.model_selection import train_test_split\n",
    "\n",
    "# Verileri eğitim ve test kümelerine bölün\n",
    "X_train, X_test, y_train, y_test = train_test_split(X, y, test_size=0.2, random_state=42)"
   ]
  },
  {
   "cell_type": "markdown",
   "metadata": {},
   "source": [
    "#### Modeli oluşturun"
   ]
  },
  {
   "cell_type": "code",
   "execution_count": 341,
   "metadata": {},
   "outputs": [],
   "source": [
    "from tensorflow import keras\n",
    "from keras import layers\n",
    "\n",
    "model = keras.Sequential([ # Sıralı bir model oluşturun\n",
    "    layers.Dense(64, activation='relu', input_shape=[X_train.shape[1]]), # Giriş katmanı\n",
    "    layers.Dense(64, activation='relu'), # Gizli katman\n",
    "    layers.Dense(3, activation='softmax') # Çıkış katmanı\n",
    "])\n"
   ]
  },
  {
   "cell_type": "markdown",
   "metadata": {},
   "source": [
    "#### Modeli Derle"
   ]
  },
  {
   "cell_type": "code",
   "execution_count": 342,
   "metadata": {},
   "outputs": [],
   "source": [
    "model.compile(\n",
    "    optimizer='adam', # Optimizasyon fonksiyonu\n",
    "    loss='sparse_categorical_crossentropy', # Kayıp fonksiyonu\n",
    "    metrics=['accuracy'] # Başarı metriği\n",
    ")"
   ]
  },
  {
   "cell_type": "code",
   "execution_count": 343,
   "metadata": {},
   "outputs": [],
   "source": [
    "y_train = y_train.reshape(-1, 1)"
   ]
  },
  {
   "cell_type": "markdown",
   "metadata": {},
   "source": [
    "#### Eğitim işlemini başlatın"
   ]
  },
  {
   "cell_type": "code",
   "execution_count": 344,
   "metadata": {},
   "outputs": [
    {
     "name": "stdout",
     "output_type": "stream",
     "text": [
      "Epoch 1/100\n",
      "77/77 [==============================] - 1s 3ms/step - loss: 0.9959 - accuracy: 0.5736 - val_loss: 0.7587 - val_accuracy: 0.8105\n",
      "Epoch 2/100\n",
      "77/77 [==============================] - 0s 1ms/step - loss: 0.5606 - accuracy: 0.8355 - val_loss: 0.4176 - val_accuracy: 0.8873\n",
      "Epoch 3/100\n",
      "77/77 [==============================] - 0s 1ms/step - loss: 0.2703 - accuracy: 0.9517 - val_loss: 0.1739 - val_accuracy: 0.9869\n",
      "Epoch 4/100\n",
      "77/77 [==============================] - 0s 1ms/step - loss: 0.1137 - accuracy: 0.9902 - val_loss: 0.0740 - val_accuracy: 1.0000\n",
      "Epoch 5/100\n",
      "77/77 [==============================] - 0s 1ms/step - loss: 0.0413 - accuracy: 0.9992 - val_loss: 0.0346 - val_accuracy: 1.0000\n",
      "Epoch 6/100\n",
      "77/77 [==============================] - 0s 1ms/step - loss: 0.0214 - accuracy: 1.0000 - val_loss: 0.0180 - val_accuracy: 1.0000\n",
      "Epoch 7/100\n",
      "77/77 [==============================] - 0s 1ms/step - loss: 0.0135 - accuracy: 1.0000 - val_loss: 0.0123 - val_accuracy: 1.0000\n",
      "Epoch 8/100\n",
      "77/77 [==============================] - 0s 1ms/step - loss: 0.0095 - accuracy: 1.0000 - val_loss: 0.0081 - val_accuracy: 1.0000\n",
      "Epoch 9/100\n",
      "77/77 [==============================] - 0s 1ms/step - loss: 0.0058 - accuracy: 1.0000 - val_loss: 0.0061 - val_accuracy: 1.0000\n",
      "Epoch 10/100\n",
      "77/77 [==============================] - 0s 1ms/step - loss: 0.0042 - accuracy: 1.0000 - val_loss: 0.0043 - val_accuracy: 1.0000\n",
      "Epoch 11/100\n",
      "77/77 [==============================] - 0s 1ms/step - loss: 0.0031 - accuracy: 1.0000 - val_loss: 0.0033 - val_accuracy: 1.0000\n",
      "Epoch 12/100\n",
      "77/77 [==============================] - 0s 1ms/step - loss: 0.0026 - accuracy: 1.0000 - val_loss: 0.0027 - val_accuracy: 1.0000\n",
      "Epoch 13/100\n",
      "77/77 [==============================] - 0s 1ms/step - loss: 0.0019 - accuracy: 1.0000 - val_loss: 0.0021 - val_accuracy: 1.0000\n",
      "Epoch 14/100\n",
      "77/77 [==============================] - 0s 1ms/step - loss: 0.0016 - accuracy: 1.0000 - val_loss: 0.0018 - val_accuracy: 1.0000\n",
      "Epoch 15/100\n",
      "77/77 [==============================] - 0s 1ms/step - loss: 0.0013 - accuracy: 1.0000 - val_loss: 0.0015 - val_accuracy: 1.0000\n",
      "Epoch 16/100\n",
      "77/77 [==============================] - 0s 1ms/step - loss: 9.9915e-04 - accuracy: 1.0000 - val_loss: 0.0012 - val_accuracy: 1.0000\n",
      "Epoch 17/100\n",
      "77/77 [==============================] - 0s 1ms/step - loss: 7.7474e-04 - accuracy: 1.0000 - val_loss: 8.6623e-04 - val_accuracy: 1.0000\n",
      "Epoch 18/100\n",
      "77/77 [==============================] - 0s 1ms/step - loss: 6.0342e-04 - accuracy: 1.0000 - val_loss: 7.2237e-04 - val_accuracy: 1.0000\n",
      "Epoch 19/100\n",
      "77/77 [==============================] - 0s 1ms/step - loss: 4.8717e-04 - accuracy: 1.0000 - val_loss: 5.5982e-04 - val_accuracy: 1.0000\n",
      "Epoch 20/100\n",
      "77/77 [==============================] - 0s 1ms/step - loss: 3.9970e-04 - accuracy: 1.0000 - val_loss: 4.7444e-04 - val_accuracy: 1.0000\n",
      "Epoch 21/100\n",
      "77/77 [==============================] - 0s 1ms/step - loss: 3.3093e-04 - accuracy: 1.0000 - val_loss: 4.2033e-04 - val_accuracy: 1.0000\n",
      "Epoch 22/100\n",
      "77/77 [==============================] - 0s 1ms/step - loss: 2.8012e-04 - accuracy: 1.0000 - val_loss: 3.3694e-04 - val_accuracy: 1.0000\n",
      "Epoch 23/100\n",
      "77/77 [==============================] - 0s 1ms/step - loss: 2.3761e-04 - accuracy: 1.0000 - val_loss: 3.0593e-04 - val_accuracy: 1.0000\n",
      "Epoch 24/100\n",
      "77/77 [==============================] - 0s 1ms/step - loss: 2.0606e-04 - accuracy: 1.0000 - val_loss: 2.5653e-04 - val_accuracy: 1.0000\n",
      "Epoch 25/100\n",
      "77/77 [==============================] - 0s 2ms/step - loss: 1.7811e-04 - accuracy: 1.0000 - val_loss: 2.2022e-04 - val_accuracy: 1.0000\n",
      "Epoch 26/100\n",
      "77/77 [==============================] - 0s 2ms/step - loss: 1.5645e-04 - accuracy: 1.0000 - val_loss: 1.9755e-04 - val_accuracy: 1.0000\n",
      "Epoch 27/100\n",
      "77/77 [==============================] - 0s 2ms/step - loss: 1.3798e-04 - accuracy: 1.0000 - val_loss: 1.7569e-04 - val_accuracy: 1.0000\n",
      "Epoch 28/100\n",
      "77/77 [==============================] - 0s 1ms/step - loss: 1.2265e-04 - accuracy: 1.0000 - val_loss: 1.5465e-04 - val_accuracy: 1.0000\n",
      "Epoch 29/100\n",
      "77/77 [==============================] - 0s 1ms/step - loss: 1.0927e-04 - accuracy: 1.0000 - val_loss: 1.3332e-04 - val_accuracy: 1.0000\n",
      "Epoch 30/100\n",
      "77/77 [==============================] - 0s 1ms/step - loss: 9.7819e-05 - accuracy: 1.0000 - val_loss: 1.2168e-04 - val_accuracy: 1.0000\n",
      "Epoch 31/100\n",
      "77/77 [==============================] - 0s 1ms/step - loss: 8.8261e-05 - accuracy: 1.0000 - val_loss: 1.1098e-04 - val_accuracy: 1.0000\n",
      "Epoch 32/100\n",
      "77/77 [==============================] - 0s 1ms/step - loss: 8.0090e-05 - accuracy: 1.0000 - val_loss: 1.0105e-04 - val_accuracy: 1.0000\n",
      "Epoch 33/100\n",
      "77/77 [==============================] - 0s 1ms/step - loss: 7.2924e-05 - accuracy: 1.0000 - val_loss: 9.1730e-05 - val_accuracy: 1.0000\n",
      "Epoch 34/100\n",
      "77/77 [==============================] - 0s 1ms/step - loss: 6.6382e-05 - accuracy: 1.0000 - val_loss: 8.3541e-05 - val_accuracy: 1.0000\n",
      "Epoch 35/100\n",
      "77/77 [==============================] - 0s 1ms/step - loss: 6.0541e-05 - accuracy: 1.0000 - val_loss: 7.5595e-05 - val_accuracy: 1.0000\n",
      "Epoch 36/100\n",
      "77/77 [==============================] - 0s 1ms/step - loss: 5.5677e-05 - accuracy: 1.0000 - val_loss: 6.9363e-05 - val_accuracy: 1.0000\n",
      "Epoch 37/100\n",
      "77/77 [==============================] - 0s 1ms/step - loss: 5.1122e-05 - accuracy: 1.0000 - val_loss: 6.7002e-05 - val_accuracy: 1.0000\n",
      "Epoch 38/100\n",
      "77/77 [==============================] - 0s 1ms/step - loss: 4.7270e-05 - accuracy: 1.0000 - val_loss: 5.9361e-05 - val_accuracy: 1.0000\n",
      "Epoch 39/100\n",
      "77/77 [==============================] - 0s 1ms/step - loss: 4.3838e-05 - accuracy: 1.0000 - val_loss: 5.6140e-05 - val_accuracy: 1.0000\n",
      "Epoch 40/100\n",
      "77/77 [==============================] - 0s 2ms/step - loss: 4.0365e-05 - accuracy: 1.0000 - val_loss: 5.1344e-05 - val_accuracy: 1.0000\n",
      "Epoch 41/100\n",
      "77/77 [==============================] - 0s 2ms/step - loss: 3.7482e-05 - accuracy: 1.0000 - val_loss: 5.0210e-05 - val_accuracy: 1.0000\n",
      "Epoch 42/100\n",
      "77/77 [==============================] - 0s 2ms/step - loss: 3.4931e-05 - accuracy: 1.0000 - val_loss: 4.5663e-05 - val_accuracy: 1.0000\n",
      "Epoch 43/100\n",
      "77/77 [==============================] - 0s 1ms/step - loss: 3.2429e-05 - accuracy: 1.0000 - val_loss: 4.2579e-05 - val_accuracy: 1.0000\n",
      "Epoch 44/100\n",
      "77/77 [==============================] - 0s 1ms/step - loss: 3.0273e-05 - accuracy: 1.0000 - val_loss: 3.9703e-05 - val_accuracy: 1.0000\n",
      "Epoch 45/100\n",
      "77/77 [==============================] - 0s 2ms/step - loss: 2.8278e-05 - accuracy: 1.0000 - val_loss: 3.6887e-05 - val_accuracy: 1.0000\n",
      "Epoch 46/100\n",
      "77/77 [==============================] - 0s 2ms/step - loss: 2.6458e-05 - accuracy: 1.0000 - val_loss: 3.4836e-05 - val_accuracy: 1.0000\n",
      "Epoch 47/100\n",
      "77/77 [==============================] - 0s 2ms/step - loss: 2.4811e-05 - accuracy: 1.0000 - val_loss: 3.2334e-05 - val_accuracy: 1.0000\n",
      "Epoch 48/100\n",
      "77/77 [==============================] - 0s 1ms/step - loss: 2.3281e-05 - accuracy: 1.0000 - val_loss: 3.0341e-05 - val_accuracy: 1.0000\n",
      "Epoch 49/100\n",
      "77/77 [==============================] - 0s 1ms/step - loss: 2.1837e-05 - accuracy: 1.0000 - val_loss: 2.9173e-05 - val_accuracy: 1.0000\n",
      "Epoch 50/100\n",
      "77/77 [==============================] - 0s 1ms/step - loss: 2.0558e-05 - accuracy: 1.0000 - val_loss: 2.7462e-05 - val_accuracy: 1.0000\n",
      "Epoch 51/100\n",
      "77/77 [==============================] - 0s 1ms/step - loss: 1.9331e-05 - accuracy: 1.0000 - val_loss: 2.5988e-05 - val_accuracy: 1.0000\n",
      "Epoch 52/100\n",
      "77/77 [==============================] - 0s 2ms/step - loss: 1.8247e-05 - accuracy: 1.0000 - val_loss: 2.4090e-05 - val_accuracy: 1.0000\n",
      "Epoch 53/100\n",
      "77/77 [==============================] - 0s 2ms/step - loss: 1.7148e-05 - accuracy: 1.0000 - val_loss: 2.3499e-05 - val_accuracy: 1.0000\n",
      "Epoch 54/100\n",
      "77/77 [==============================] - 0s 1ms/step - loss: 1.6211e-05 - accuracy: 1.0000 - val_loss: 2.1595e-05 - val_accuracy: 1.0000\n",
      "Epoch 55/100\n",
      "77/77 [==============================] - 0s 1ms/step - loss: 1.5325e-05 - accuracy: 1.0000 - val_loss: 2.0303e-05 - val_accuracy: 1.0000\n",
      "Epoch 56/100\n",
      "77/77 [==============================] - 0s 1ms/step - loss: 1.4433e-05 - accuracy: 1.0000 - val_loss: 1.9521e-05 - val_accuracy: 1.0000\n",
      "Epoch 57/100\n",
      "77/77 [==============================] - 0s 1ms/step - loss: 1.3662e-05 - accuracy: 1.0000 - val_loss: 1.8670e-05 - val_accuracy: 1.0000\n",
      "Epoch 58/100\n",
      "77/77 [==============================] - 0s 1ms/step - loss: 1.2916e-05 - accuracy: 1.0000 - val_loss: 1.7352e-05 - val_accuracy: 1.0000\n",
      "Epoch 59/100\n",
      "77/77 [==============================] - 0s 1ms/step - loss: 1.2228e-05 - accuracy: 1.0000 - val_loss: 1.6522e-05 - val_accuracy: 1.0000\n",
      "Epoch 60/100\n",
      "77/77 [==============================] - 0s 1ms/step - loss: 1.1602e-05 - accuracy: 1.0000 - val_loss: 1.6049e-05 - val_accuracy: 1.0000\n",
      "Epoch 61/100\n",
      "77/77 [==============================] - 0s 2ms/step - loss: 1.0992e-05 - accuracy: 1.0000 - val_loss: 1.4883e-05 - val_accuracy: 1.0000\n",
      "Epoch 62/100\n",
      "77/77 [==============================] - 0s 1ms/step - loss: 1.0428e-05 - accuracy: 1.0000 - val_loss: 1.3894e-05 - val_accuracy: 1.0000\n",
      "Epoch 63/100\n",
      "77/77 [==============================] - 0s 1ms/step - loss: 9.8862e-06 - accuracy: 1.0000 - val_loss: 1.3455e-05 - val_accuracy: 1.0000\n",
      "Epoch 64/100\n",
      "77/77 [==============================] - 0s 1ms/step - loss: 9.3771e-06 - accuracy: 1.0000 - val_loss: 1.2705e-05 - val_accuracy: 1.0000\n",
      "Epoch 65/100\n",
      "77/77 [==============================] - 0s 1ms/step - loss: 8.8943e-06 - accuracy: 1.0000 - val_loss: 1.2065e-05 - val_accuracy: 1.0000\n",
      "Epoch 66/100\n",
      "77/77 [==============================] - 0s 1ms/step - loss: 8.4641e-06 - accuracy: 1.0000 - val_loss: 1.1428e-05 - val_accuracy: 1.0000\n",
      "Epoch 67/100\n",
      "77/77 [==============================] - 0s 1ms/step - loss: 8.0204e-06 - accuracy: 1.0000 - val_loss: 1.0950e-05 - val_accuracy: 1.0000\n",
      "Epoch 68/100\n",
      "77/77 [==============================] - 0s 1ms/step - loss: 7.6244e-06 - accuracy: 1.0000 - val_loss: 1.0467e-05 - val_accuracy: 1.0000\n",
      "Epoch 69/100\n",
      "77/77 [==============================] - 0s 1ms/step - loss: 7.2458e-06 - accuracy: 1.0000 - val_loss: 1.0020e-05 - val_accuracy: 1.0000\n",
      "Epoch 70/100\n",
      "77/77 [==============================] - 0s 1ms/step - loss: 6.8923e-06 - accuracy: 1.0000 - val_loss: 9.4109e-06 - val_accuracy: 1.0000\n",
      "Epoch 71/100\n",
      "77/77 [==============================] - 0s 1ms/step - loss: 6.5543e-06 - accuracy: 1.0000 - val_loss: 9.1943e-06 - val_accuracy: 1.0000\n",
      "Epoch 72/100\n",
      "77/77 [==============================] - 0s 1ms/step - loss: 6.2626e-06 - accuracy: 1.0000 - val_loss: 8.5942e-06 - val_accuracy: 1.0000\n",
      "Epoch 73/100\n",
      "77/77 [==============================] - 0s 1ms/step - loss: 5.9429e-06 - accuracy: 1.0000 - val_loss: 8.2625e-06 - val_accuracy: 1.0000\n",
      "Epoch 74/100\n",
      "77/77 [==============================] - 0s 2ms/step - loss: 5.6759e-06 - accuracy: 1.0000 - val_loss: 7.7777e-06 - val_accuracy: 1.0000\n",
      "Epoch 75/100\n",
      "77/77 [==============================] - 0s 1ms/step - loss: 5.3971e-06 - accuracy: 1.0000 - val_loss: 7.4994e-06 - val_accuracy: 1.0000\n",
      "Epoch 76/100\n",
      "77/77 [==============================] - 0s 2ms/step - loss: 5.1424e-06 - accuracy: 1.0000 - val_loss: 7.1772e-06 - val_accuracy: 1.0000\n",
      "Epoch 77/100\n",
      "77/77 [==============================] - 0s 1ms/step - loss: 4.8977e-06 - accuracy: 1.0000 - val_loss: 6.7840e-06 - val_accuracy: 1.0000\n",
      "Epoch 78/100\n",
      "77/77 [==============================] - 0s 1ms/step - loss: 4.6715e-06 - accuracy: 1.0000 - val_loss: 6.4515e-06 - val_accuracy: 1.0000\n",
      "Epoch 79/100\n",
      "77/77 [==============================] - 0s 1ms/step - loss: 4.4536e-06 - accuracy: 1.0000 - val_loss: 6.0949e-06 - val_accuracy: 1.0000\n",
      "Epoch 80/100\n",
      "77/77 [==============================] - 0s 1ms/step - loss: 4.2497e-06 - accuracy: 1.0000 - val_loss: 5.9239e-06 - val_accuracy: 1.0000\n",
      "Epoch 81/100\n",
      "77/77 [==============================] - 0s 1ms/step - loss: 4.0470e-06 - accuracy: 1.0000 - val_loss: 5.5781e-06 - val_accuracy: 1.0000\n",
      "Epoch 82/100\n",
      "77/77 [==============================] - 0s 1ms/step - loss: 3.8614e-06 - accuracy: 1.0000 - val_loss: 5.3695e-06 - val_accuracy: 1.0000\n",
      "Epoch 83/100\n",
      "77/77 [==============================] - 0s 2ms/step - loss: 3.6882e-06 - accuracy: 1.0000 - val_loss: 5.1239e-06 - val_accuracy: 1.0000\n",
      "Epoch 84/100\n",
      "77/77 [==============================] - 0s 2ms/step - loss: 3.5165e-06 - accuracy: 1.0000 - val_loss: 4.8775e-06 - val_accuracy: 1.0000\n",
      "Epoch 85/100\n",
      "77/77 [==============================] - 0s 2ms/step - loss: 3.3524e-06 - accuracy: 1.0000 - val_loss: 4.6471e-06 - val_accuracy: 1.0000\n",
      "Epoch 86/100\n",
      "77/77 [==============================] - 0s 2ms/step - loss: 3.2004e-06 - accuracy: 1.0000 - val_loss: 4.4854e-06 - val_accuracy: 1.0000\n",
      "Epoch 87/100\n",
      "77/77 [==============================] - 0s 2ms/step - loss: 3.0567e-06 - accuracy: 1.0000 - val_loss: 4.2731e-06 - val_accuracy: 1.0000\n",
      "Epoch 88/100\n",
      "77/77 [==============================] - 0s 1ms/step - loss: 2.9222e-06 - accuracy: 1.0000 - val_loss: 4.1418e-06 - val_accuracy: 1.0000\n",
      "Epoch 89/100\n",
      "77/77 [==============================] - 0s 1ms/step - loss: 2.7864e-06 - accuracy: 1.0000 - val_loss: 3.9089e-06 - val_accuracy: 1.0000\n",
      "Epoch 90/100\n",
      "77/77 [==============================] - 0s 1ms/step - loss: 2.6633e-06 - accuracy: 1.0000 - val_loss: 3.7350e-06 - val_accuracy: 1.0000\n",
      "Epoch 91/100\n",
      "77/77 [==============================] - 0s 1ms/step - loss: 2.5459e-06 - accuracy: 1.0000 - val_loss: 3.5702e-06 - val_accuracy: 1.0000\n",
      "Epoch 92/100\n",
      "77/77 [==============================] - 0s 1ms/step - loss: 2.4288e-06 - accuracy: 1.0000 - val_loss: 3.4011e-06 - val_accuracy: 1.0000\n",
      "Epoch 93/100\n",
      "77/77 [==============================] - 0s 1ms/step - loss: 2.3272e-06 - accuracy: 1.0000 - val_loss: 3.2266e-06 - val_accuracy: 1.0000\n",
      "Epoch 94/100\n",
      "77/77 [==============================] - 0s 1ms/step - loss: 2.2131e-06 - accuracy: 1.0000 - val_loss: 3.0750e-06 - val_accuracy: 1.0000\n",
      "Epoch 95/100\n",
      "77/77 [==============================] - 0s 1ms/step - loss: 2.1166e-06 - accuracy: 1.0000 - val_loss: 2.9194e-06 - val_accuracy: 1.0000\n",
      "Epoch 96/100\n",
      "77/77 [==============================] - 0s 1ms/step - loss: 2.0195e-06 - accuracy: 1.0000 - val_loss: 2.8575e-06 - val_accuracy: 1.0000\n",
      "Epoch 97/100\n",
      "77/77 [==============================] - 0s 1ms/step - loss: 1.9297e-06 - accuracy: 1.0000 - val_loss: 2.7007e-06 - val_accuracy: 1.0000\n",
      "Epoch 98/100\n",
      "77/77 [==============================] - 0s 1ms/step - loss: 1.8429e-06 - accuracy: 1.0000 - val_loss: 2.6235e-06 - val_accuracy: 1.0000\n",
      "Epoch 99/100\n",
      "77/77 [==============================] - 0s 1ms/step - loss: 1.7651e-06 - accuracy: 1.0000 - val_loss: 2.4960e-06 - val_accuracy: 1.0000\n",
      "Epoch 100/100\n",
      "77/77 [==============================] - 0s 1ms/step - loss: 1.6876e-06 - accuracy: 1.0000 - val_loss: 2.3662e-06 - val_accuracy: 1.0000\n"
     ]
    }
   ],
   "source": [
    "\n",
    "X_train = X_train.toarray()\n",
    "\n",
    "history = model.fit(\n",
    "    X_train, y_train, # Eğitim verileri\n",
    "    validation_split=0.2, # Eğitim verilerinin %20'sini doğrulama verileri olarak kullanın\n",
    "    batch_size=32, # Her iterasyonda 32 örnek kullanın\n",
    "    epochs=100, # 100 iterasyon\n",
    "    verbose=1 # Her iterasyonda ekrana çıktı ver\n",
    ")"
   ]
  },
  {
   "cell_type": "markdown",
   "metadata": {},
   "source": [
    "#### Eğitim ve doğrulama kayıp grafiği"
   ]
  },
  {
   "cell_type": "code",
   "execution_count": 345,
   "metadata": {},
   "outputs": [
    {
     "data": {
      "application/vnd.plotly.v1+json": {
       "config": {
        "plotlyServerURL": "https://plot.ly"
       },
       "data": [
        {
         "name": "Eğitim Kaybı",
         "type": "scatter",
         "xaxis": "x",
         "y": [
          0.9959282279014587,
          0.5606346726417542,
          0.27033185958862305,
          0.11367936432361603,
          0.04131593555212021,
          0.021368663758039474,
          0.0134954284876585,
          0.00949165504425764,
          0.005844189319759607,
          0.0041664475575089455,
          0.0031312161590903997,
          0.002561545930802822,
          0.001917763496749103,
          0.0015562423504889011,
          0.0012600822374224663,
          0.0009991502156481147,
          0.000774740765336901,
          0.0006034169346094131,
          0.0004871663695666939,
          0.0003997032472398132,
          0.0003309331659693271,
          0.0002801241644192487,
          0.00023760925978422165,
          0.00020606066391337663,
          0.00017811098950915039,
          0.00015645097300875932,
          0.0001379791647195816,
          0.00012264642282389104,
          0.00010927032417384908,
          0.00009781889093574136,
          0.00008826117846183479,
          0.00008009013254195452,
          0.00007292420923477039,
          0.00006638177728746086,
          0.00006054058758309111,
          0.00005567657353822142,
          0.00005112216604175046,
          0.000047270263166865334,
          0.00004383753184811212,
          0.00004036487371195108,
          0.00003748194285435602,
          0.000034930686524603516,
          0.00003242911407141946,
          0.000030273464290075935,
          0.00002827818207151722,
          0.000026457822968950495,
          0.000024811350158415735,
          0.00002328083064639941,
          0.00002183682045142632,
          0.00002055806362477597,
          0.000019330564100528136,
          0.00001824714672693517,
          0.000017147771359304897,
          0.000016210771718760952,
          0.000015324612832046114,
          0.000014432986063184217,
          0.000013662380297319032,
          0.0000129157579067396,
          0.000012227590559632517,
          0.000011601965525187552,
          0.000010991739145538304,
          0.00001042815074470127,
          0.000009886210136755835,
          0.000009377144124300685,
          0.000008894259735825472,
          0.000008464092388749123,
          0.000008020370842132252,
          0.0000076243895819061436,
          0.000007245822416734882,
          0.000006892318197060376,
          0.000006554280389536871,
          0.00000626261953584617,
          0.000005942867119301809,
          0.000005675882221112261,
          0.000005397095264925156,
          0.00000514244902660721,
          0.0000048976571633829735,
          0.000004671543592849048,
          0.000004453624569578096,
          0.000004249749963491922,
          0.000004046950380143244,
          0.000003861366167257074,
          0.000003688169272209052,
          0.00000351648577634478,
          0.000003352409066792461,
          0.000003200380206180853,
          0.000003056739387830021,
          0.0000029222212560853222,
          0.0000027864323328685714,
          0.000002663276973180473,
          0.000002545926008679089,
          0.0000024288181066367542,
          0.0000023272200451174285,
          0.0000022131362129584886,
          0.0000021165617454244057,
          0.0000020194520402583294,
          0.0000019297060589451576,
          0.0000018428867178954533,
          0.0000017651393591222586,
          0.00000168763619967649
         ],
         "yaxis": "y"
        },
        {
         "name": "Doğrulama Kaybı",
         "type": "scatter",
         "xaxis": "x",
         "y": [
          0.7587451338768005,
          0.4176431894302368,
          0.17390590906143188,
          0.07402857393026352,
          0.03460235521197319,
          0.018045462667942047,
          0.012270343489944935,
          0.008114796131849289,
          0.0060994564555585384,
          0.004293242935091257,
          0.0033374596387147903,
          0.002687442349269986,
          0.0021280795335769653,
          0.0017863258253782988,
          0.0015208619879558682,
          0.0012286273995414376,
          0.0008662338368594646,
          0.000722366850823164,
          0.0005598198040388525,
          0.00047443894436582923,
          0.0004203342832624912,
          0.00033693917794153094,
          0.00030592968687415123,
          0.0002565269242040813,
          0.00022022031771484762,
          0.0001975480845430866,
          0.0001756906131049618,
          0.0001546509301988408,
          0.00013331641093827784,
          0.00012167645763838664,
          0.0001109787481254898,
          0.0001010473642963916,
          0.00009173034777631983,
          0.00008354094461537898,
          0.0000755952496547252,
          0.00006936275167390704,
          0.00006700200901832432,
          0.00005936103843851015,
          0.00005613950270344503,
          0.000051343897212063894,
          0.000050209564506076276,
          0.000045662953198188916,
          0.00004257857654010877,
          0.000039703238144284114,
          0.00003688749347929843,
          0.00003483631735434756,
          0.000032333591661881655,
          0.000030341403544298373,
          0.00002917324673035182,
          0.000027461832360131666,
          0.00002598798346298281,
          0.000024090399165288545,
          0.000023499074814026244,
          0.000021595224097836763,
          0.000020302650227677077,
          0.00001952125421667006,
          0.000018670149074750952,
          0.00001735166551952716,
          0.000016522173609700985,
          0.000016048692486947402,
          0.000014882863069942687,
          0.000013894062249164563,
          0.000013455438420351129,
          0.000012704623259196524,
          0.000012064813745382708,
          0.000011427730896684807,
          0.000010949766874546185,
          0.000010466934327268973,
          0.000010019743058364838,
          0.000009410892744199373,
          0.00000919430203794036,
          0.000008594215614721179,
          0.000008262518349511083,
          0.00000777773038862506,
          0.000007499398179788841,
          0.000007177241059252992,
          0.0000067839941948477644,
          0.000006451513399952091,
          0.000006094880518503487,
          0.00000592386641073972,
          0.000005578139735007426,
          0.000005369533482735278,
          0.000005123919436300639,
          0.000004877526862401282,
          0.0000046471045607177075,
          0.000004485438694246113,
          0.000004273130343790399,
          0.0000041418497858103365,
          0.000003908893631887622,
          0.0000037349557260313304,
          0.0000035701730212167604,
          0.000003401104549993761,
          0.0000032265816116705537,
          0.0000030750420592084993,
          0.0000029194127364462474,
          0.0000028574722819030285,
          0.000002700673576327972,
          0.000002623540240165312,
          0.0000024959583697636845,
          0.0000023662339572183555
         ],
         "yaxis": "y"
        },
        {
         "name": "Eğitim Başarısı",
         "type": "scatter",
         "xaxis": "x2",
         "y": [
          0.5736497640609741,
          0.835515558719635,
          0.9517185091972351,
          0.9901800155639648,
          0.9991816878318787,
          1,
          1,
          1,
          1,
          1,
          1,
          1,
          1,
          1,
          1,
          1,
          1,
          1,
          1,
          1,
          1,
          1,
          1,
          1,
          1,
          1,
          1,
          1,
          1,
          1,
          1,
          1,
          1,
          1,
          1,
          1,
          1,
          1,
          1,
          1,
          1,
          1,
          1,
          1,
          1,
          1,
          1,
          1,
          1,
          1,
          1,
          1,
          1,
          1,
          1,
          1,
          1,
          1,
          1,
          1,
          1,
          1,
          1,
          1,
          1,
          1,
          1,
          1,
          1,
          1,
          1,
          1,
          1,
          1,
          1,
          1,
          1,
          1,
          1,
          1,
          1,
          1,
          1,
          1,
          1,
          1,
          1,
          1,
          1,
          1,
          1,
          1,
          1,
          1,
          1,
          1,
          1,
          1,
          1,
          1
         ],
         "yaxis": "y2"
        },
        {
         "name": "Doğrulama Başarısı",
         "type": "scatter",
         "xaxis": "x2",
         "y": [
          0.8104575276374817,
          0.8872548937797546,
          0.9869281053543091,
          1,
          1,
          1,
          1,
          1,
          1,
          1,
          1,
          1,
          1,
          1,
          1,
          1,
          1,
          1,
          1,
          1,
          1,
          1,
          1,
          1,
          1,
          1,
          1,
          1,
          1,
          1,
          1,
          1,
          1,
          1,
          1,
          1,
          1,
          1,
          1,
          1,
          1,
          1,
          1,
          1,
          1,
          1,
          1,
          1,
          1,
          1,
          1,
          1,
          1,
          1,
          1,
          1,
          1,
          1,
          1,
          1,
          1,
          1,
          1,
          1,
          1,
          1,
          1,
          1,
          1,
          1,
          1,
          1,
          1,
          1,
          1,
          1,
          1,
          1,
          1,
          1,
          1,
          1,
          1,
          1,
          1,
          1,
          1,
          1,
          1,
          1,
          1,
          1,
          1,
          1,
          1,
          1,
          1,
          1,
          1,
          1
         ],
         "yaxis": "y2"
        }
       ],
       "layout": {
        "height": 500,
        "template": {
         "data": {
          "bar": [
           {
            "error_x": {
             "color": "#2a3f5f"
            },
            "error_y": {
             "color": "#2a3f5f"
            },
            "marker": {
             "line": {
              "color": "#E5ECF6",
              "width": 0.5
             },
             "pattern": {
              "fillmode": "overlay",
              "size": 10,
              "solidity": 0.2
             }
            },
            "type": "bar"
           }
          ],
          "barpolar": [
           {
            "marker": {
             "line": {
              "color": "#E5ECF6",
              "width": 0.5
             },
             "pattern": {
              "fillmode": "overlay",
              "size": 10,
              "solidity": 0.2
             }
            },
            "type": "barpolar"
           }
          ],
          "carpet": [
           {
            "aaxis": {
             "endlinecolor": "#2a3f5f",
             "gridcolor": "white",
             "linecolor": "white",
             "minorgridcolor": "white",
             "startlinecolor": "#2a3f5f"
            },
            "baxis": {
             "endlinecolor": "#2a3f5f",
             "gridcolor": "white",
             "linecolor": "white",
             "minorgridcolor": "white",
             "startlinecolor": "#2a3f5f"
            },
            "type": "carpet"
           }
          ],
          "choropleth": [
           {
            "colorbar": {
             "outlinewidth": 0,
             "ticks": ""
            },
            "type": "choropleth"
           }
          ],
          "contour": [
           {
            "colorbar": {
             "outlinewidth": 0,
             "ticks": ""
            },
            "colorscale": [
             [
              0,
              "#0d0887"
             ],
             [
              0.1111111111111111,
              "#46039f"
             ],
             [
              0.2222222222222222,
              "#7201a8"
             ],
             [
              0.3333333333333333,
              "#9c179e"
             ],
             [
              0.4444444444444444,
              "#bd3786"
             ],
             [
              0.5555555555555556,
              "#d8576b"
             ],
             [
              0.6666666666666666,
              "#ed7953"
             ],
             [
              0.7777777777777778,
              "#fb9f3a"
             ],
             [
              0.8888888888888888,
              "#fdca26"
             ],
             [
              1,
              "#f0f921"
             ]
            ],
            "type": "contour"
           }
          ],
          "contourcarpet": [
           {
            "colorbar": {
             "outlinewidth": 0,
             "ticks": ""
            },
            "type": "contourcarpet"
           }
          ],
          "heatmap": [
           {
            "colorbar": {
             "outlinewidth": 0,
             "ticks": ""
            },
            "colorscale": [
             [
              0,
              "#0d0887"
             ],
             [
              0.1111111111111111,
              "#46039f"
             ],
             [
              0.2222222222222222,
              "#7201a8"
             ],
             [
              0.3333333333333333,
              "#9c179e"
             ],
             [
              0.4444444444444444,
              "#bd3786"
             ],
             [
              0.5555555555555556,
              "#d8576b"
             ],
             [
              0.6666666666666666,
              "#ed7953"
             ],
             [
              0.7777777777777778,
              "#fb9f3a"
             ],
             [
              0.8888888888888888,
              "#fdca26"
             ],
             [
              1,
              "#f0f921"
             ]
            ],
            "type": "heatmap"
           }
          ],
          "heatmapgl": [
           {
            "colorbar": {
             "outlinewidth": 0,
             "ticks": ""
            },
            "colorscale": [
             [
              0,
              "#0d0887"
             ],
             [
              0.1111111111111111,
              "#46039f"
             ],
             [
              0.2222222222222222,
              "#7201a8"
             ],
             [
              0.3333333333333333,
              "#9c179e"
             ],
             [
              0.4444444444444444,
              "#bd3786"
             ],
             [
              0.5555555555555556,
              "#d8576b"
             ],
             [
              0.6666666666666666,
              "#ed7953"
             ],
             [
              0.7777777777777778,
              "#fb9f3a"
             ],
             [
              0.8888888888888888,
              "#fdca26"
             ],
             [
              1,
              "#f0f921"
             ]
            ],
            "type": "heatmapgl"
           }
          ],
          "histogram": [
           {
            "marker": {
             "pattern": {
              "fillmode": "overlay",
              "size": 10,
              "solidity": 0.2
             }
            },
            "type": "histogram"
           }
          ],
          "histogram2d": [
           {
            "colorbar": {
             "outlinewidth": 0,
             "ticks": ""
            },
            "colorscale": [
             [
              0,
              "#0d0887"
             ],
             [
              0.1111111111111111,
              "#46039f"
             ],
             [
              0.2222222222222222,
              "#7201a8"
             ],
             [
              0.3333333333333333,
              "#9c179e"
             ],
             [
              0.4444444444444444,
              "#bd3786"
             ],
             [
              0.5555555555555556,
              "#d8576b"
             ],
             [
              0.6666666666666666,
              "#ed7953"
             ],
             [
              0.7777777777777778,
              "#fb9f3a"
             ],
             [
              0.8888888888888888,
              "#fdca26"
             ],
             [
              1,
              "#f0f921"
             ]
            ],
            "type": "histogram2d"
           }
          ],
          "histogram2dcontour": [
           {
            "colorbar": {
             "outlinewidth": 0,
             "ticks": ""
            },
            "colorscale": [
             [
              0,
              "#0d0887"
             ],
             [
              0.1111111111111111,
              "#46039f"
             ],
             [
              0.2222222222222222,
              "#7201a8"
             ],
             [
              0.3333333333333333,
              "#9c179e"
             ],
             [
              0.4444444444444444,
              "#bd3786"
             ],
             [
              0.5555555555555556,
              "#d8576b"
             ],
             [
              0.6666666666666666,
              "#ed7953"
             ],
             [
              0.7777777777777778,
              "#fb9f3a"
             ],
             [
              0.8888888888888888,
              "#fdca26"
             ],
             [
              1,
              "#f0f921"
             ]
            ],
            "type": "histogram2dcontour"
           }
          ],
          "mesh3d": [
           {
            "colorbar": {
             "outlinewidth": 0,
             "ticks": ""
            },
            "type": "mesh3d"
           }
          ],
          "parcoords": [
           {
            "line": {
             "colorbar": {
              "outlinewidth": 0,
              "ticks": ""
             }
            },
            "type": "parcoords"
           }
          ],
          "pie": [
           {
            "automargin": true,
            "type": "pie"
           }
          ],
          "scatter": [
           {
            "fillpattern": {
             "fillmode": "overlay",
             "size": 10,
             "solidity": 0.2
            },
            "type": "scatter"
           }
          ],
          "scatter3d": [
           {
            "line": {
             "colorbar": {
              "outlinewidth": 0,
              "ticks": ""
             }
            },
            "marker": {
             "colorbar": {
              "outlinewidth": 0,
              "ticks": ""
             }
            },
            "type": "scatter3d"
           }
          ],
          "scattercarpet": [
           {
            "marker": {
             "colorbar": {
              "outlinewidth": 0,
              "ticks": ""
             }
            },
            "type": "scattercarpet"
           }
          ],
          "scattergeo": [
           {
            "marker": {
             "colorbar": {
              "outlinewidth": 0,
              "ticks": ""
             }
            },
            "type": "scattergeo"
           }
          ],
          "scattergl": [
           {
            "marker": {
             "colorbar": {
              "outlinewidth": 0,
              "ticks": ""
             }
            },
            "type": "scattergl"
           }
          ],
          "scattermapbox": [
           {
            "marker": {
             "colorbar": {
              "outlinewidth": 0,
              "ticks": ""
             }
            },
            "type": "scattermapbox"
           }
          ],
          "scatterpolar": [
           {
            "marker": {
             "colorbar": {
              "outlinewidth": 0,
              "ticks": ""
             }
            },
            "type": "scatterpolar"
           }
          ],
          "scatterpolargl": [
           {
            "marker": {
             "colorbar": {
              "outlinewidth": 0,
              "ticks": ""
             }
            },
            "type": "scatterpolargl"
           }
          ],
          "scatterternary": [
           {
            "marker": {
             "colorbar": {
              "outlinewidth": 0,
              "ticks": ""
             }
            },
            "type": "scatterternary"
           }
          ],
          "surface": [
           {
            "colorbar": {
             "outlinewidth": 0,
             "ticks": ""
            },
            "colorscale": [
             [
              0,
              "#0d0887"
             ],
             [
              0.1111111111111111,
              "#46039f"
             ],
             [
              0.2222222222222222,
              "#7201a8"
             ],
             [
              0.3333333333333333,
              "#9c179e"
             ],
             [
              0.4444444444444444,
              "#bd3786"
             ],
             [
              0.5555555555555556,
              "#d8576b"
             ],
             [
              0.6666666666666666,
              "#ed7953"
             ],
             [
              0.7777777777777778,
              "#fb9f3a"
             ],
             [
              0.8888888888888888,
              "#fdca26"
             ],
             [
              1,
              "#f0f921"
             ]
            ],
            "type": "surface"
           }
          ],
          "table": [
           {
            "cells": {
             "fill": {
              "color": "#EBF0F8"
             },
             "line": {
              "color": "white"
             }
            },
            "header": {
             "fill": {
              "color": "#C8D4E3"
             },
             "line": {
              "color": "white"
             }
            },
            "type": "table"
           }
          ]
         },
         "layout": {
          "annotationdefaults": {
           "arrowcolor": "#2a3f5f",
           "arrowhead": 0,
           "arrowwidth": 1
          },
          "autotypenumbers": "strict",
          "coloraxis": {
           "colorbar": {
            "outlinewidth": 0,
            "ticks": ""
           }
          },
          "colorscale": {
           "diverging": [
            [
             0,
             "#8e0152"
            ],
            [
             0.1,
             "#c51b7d"
            ],
            [
             0.2,
             "#de77ae"
            ],
            [
             0.3,
             "#f1b6da"
            ],
            [
             0.4,
             "#fde0ef"
            ],
            [
             0.5,
             "#f7f7f7"
            ],
            [
             0.6,
             "#e6f5d0"
            ],
            [
             0.7,
             "#b8e186"
            ],
            [
             0.8,
             "#7fbc41"
            ],
            [
             0.9,
             "#4d9221"
            ],
            [
             1,
             "#276419"
            ]
           ],
           "sequential": [
            [
             0,
             "#0d0887"
            ],
            [
             0.1111111111111111,
             "#46039f"
            ],
            [
             0.2222222222222222,
             "#7201a8"
            ],
            [
             0.3333333333333333,
             "#9c179e"
            ],
            [
             0.4444444444444444,
             "#bd3786"
            ],
            [
             0.5555555555555556,
             "#d8576b"
            ],
            [
             0.6666666666666666,
             "#ed7953"
            ],
            [
             0.7777777777777778,
             "#fb9f3a"
            ],
            [
             0.8888888888888888,
             "#fdca26"
            ],
            [
             1,
             "#f0f921"
            ]
           ],
           "sequentialminus": [
            [
             0,
             "#0d0887"
            ],
            [
             0.1111111111111111,
             "#46039f"
            ],
            [
             0.2222222222222222,
             "#7201a8"
            ],
            [
             0.3333333333333333,
             "#9c179e"
            ],
            [
             0.4444444444444444,
             "#bd3786"
            ],
            [
             0.5555555555555556,
             "#d8576b"
            ],
            [
             0.6666666666666666,
             "#ed7953"
            ],
            [
             0.7777777777777778,
             "#fb9f3a"
            ],
            [
             0.8888888888888888,
             "#fdca26"
            ],
            [
             1,
             "#f0f921"
            ]
           ]
          },
          "colorway": [
           "#636efa",
           "#EF553B",
           "#00cc96",
           "#ab63fa",
           "#FFA15A",
           "#19d3f3",
           "#FF6692",
           "#B6E880",
           "#FF97FF",
           "#FECB52"
          ],
          "font": {
           "color": "#2a3f5f"
          },
          "geo": {
           "bgcolor": "white",
           "lakecolor": "white",
           "landcolor": "#E5ECF6",
           "showlakes": true,
           "showland": true,
           "subunitcolor": "white"
          },
          "hoverlabel": {
           "align": "left"
          },
          "hovermode": "closest",
          "mapbox": {
           "style": "light"
          },
          "paper_bgcolor": "white",
          "plot_bgcolor": "#E5ECF6",
          "polar": {
           "angularaxis": {
            "gridcolor": "white",
            "linecolor": "white",
            "ticks": ""
           },
           "bgcolor": "#E5ECF6",
           "radialaxis": {
            "gridcolor": "white",
            "linecolor": "white",
            "ticks": ""
           }
          },
          "scene": {
           "xaxis": {
            "backgroundcolor": "#E5ECF6",
            "gridcolor": "white",
            "gridwidth": 2,
            "linecolor": "white",
            "showbackground": true,
            "ticks": "",
            "zerolinecolor": "white"
           },
           "yaxis": {
            "backgroundcolor": "#E5ECF6",
            "gridcolor": "white",
            "gridwidth": 2,
            "linecolor": "white",
            "showbackground": true,
            "ticks": "",
            "zerolinecolor": "white"
           },
           "zaxis": {
            "backgroundcolor": "#E5ECF6",
            "gridcolor": "white",
            "gridwidth": 2,
            "linecolor": "white",
            "showbackground": true,
            "ticks": "",
            "zerolinecolor": "white"
           }
          },
          "shapedefaults": {
           "line": {
            "color": "#2a3f5f"
           }
          },
          "ternary": {
           "aaxis": {
            "gridcolor": "white",
            "linecolor": "white",
            "ticks": ""
           },
           "baxis": {
            "gridcolor": "white",
            "linecolor": "white",
            "ticks": ""
           },
           "bgcolor": "#E5ECF6",
           "caxis": {
            "gridcolor": "white",
            "linecolor": "white",
            "ticks": ""
           }
          },
          "title": {
           "x": 0.05
          },
          "xaxis": {
           "automargin": true,
           "gridcolor": "white",
           "linecolor": "white",
           "ticks": "",
           "title": {
            "standoff": 15
           },
           "zerolinecolor": "white",
           "zerolinewidth": 2
          },
          "yaxis": {
           "automargin": true,
           "gridcolor": "white",
           "linecolor": "white",
           "ticks": "",
           "title": {
            "standoff": 15
           },
           "zerolinecolor": "white",
           "zerolinewidth": 2
          }
         }
        },
        "title": {
         "text": "Eğitim ve Doğrulama Metrikleri"
        },
        "width": 800,
        "xaxis": {
         "anchor": "y",
         "domain": [
          0,
          0.45
         ]
        },
        "xaxis2": {
         "anchor": "y2",
         "domain": [
          0.55,
          1
         ]
        },
        "yaxis": {
         "anchor": "x",
         "domain": [
          0,
          1
         ]
        },
        "yaxis2": {
         "anchor": "x2",
         "domain": [
          0,
          1
         ]
        }
       }
      }
     },
     "metadata": {},
     "output_type": "display_data"
    }
   ],
   "source": [
    "# Eğitim ve doğrulama kayıp grafiği ve Eğitim ve doğrulama başarı grafiği\n",
    "\n",
    "import plotly.graph_objects as go\n",
    "from plotly.subplots import make_subplots\n",
    "\n",
    "fig = make_subplots(rows=1, cols=2)\n",
    "\n",
    "fig.add_trace(\n",
    "    go.Scatter(y=history.history['loss'], name=\"Eğitim Kaybı\"),\n",
    "    row=1, col=1\n",
    ")\n",
    "\n",
    "fig.add_trace(\n",
    "    go.Scatter(y=history.history['val_loss'], name=\"Doğrulama Kaybı\"),\n",
    "    row=1, col=1\n",
    ")\n",
    "\n",
    "fig.add_trace(\n",
    "    go.Scatter(y=history.history['accuracy'], name=\"Eğitim Başarısı\"),\n",
    "    row=1, col=2\n",
    ")\n",
    "\n",
    "fig.add_trace(\n",
    "    go.Scatter(y=history.history['val_accuracy'], name=\"Doğrulama Başarısı\"),\n",
    "    row=1, col=2\n",
    ")\n",
    "\n",
    "fig.update_layout(height=500, width=800, title_text=\"Eğitim ve Doğrulama Metrikleri\")\n",
    "fig.show()\n",
    "\n"
   ]
  },
  {
   "cell_type": "code",
   "execution_count": 346,
   "metadata": {},
   "outputs": [
    {
     "name": "stdout",
     "output_type": "stream",
     "text": [
      "24/24 - 0s - loss: 1.6263e-06 - accuracy: 1.0000 - 36ms/epoch - 1ms/step\n",
      "24/24 [==============================] - 0s 832us/step\n"
     ]
    },
    {
     "name": "stderr",
     "output_type": "stream",
     "text": [
      "c:\\Users\\PC\\AppData\\Local\\Programs\\Python\\Python311\\Lib\\site-packages\\sklearn\\preprocessing\\_label.py:155: DataConversionWarning:\n",
      "\n",
      "A column-vector y was passed when a 1d array was expected. Please change the shape of y to (n_samples, ), for example using ravel().\n",
      "\n"
     ]
    },
    {
     "data": {
      "application/vnd.plotly.v1+json": {
       "config": {
        "plotlyServerURL": "https://plot.ly"
       },
       "data": [
        {
         "colorscale": [
          [
           0,
           "#440154"
          ],
          [
           0.1111111111111111,
           "#482878"
          ],
          [
           0.2222222222222222,
           "#3e4989"
          ],
          [
           0.3333333333333333,
           "#31688e"
          ],
          [
           0.4444444444444444,
           "#26828e"
          ],
          [
           0.5555555555555556,
           "#1f9e89"
          ],
          [
           0.6666666666666666,
           "#35b779"
          ],
          [
           0.7777777777777778,
           "#6ece58"
          ],
          [
           0.8888888888888888,
           "#b5de2b"
          ],
          [
           1,
           "#fde725"
          ]
         ],
         "reversescale": false,
         "showscale": false,
         "type": "heatmap",
         "x": [
          "Food",
          "HC",
          "PC"
         ],
         "y": [
          "Food",
          "HC",
          "PC"
         ],
         "z": [
          [
           0,
           0,
           0
          ],
          [
           0,
           171,
           0
          ],
          [
           0,
           0,
           324
          ]
         ]
        }
       ],
       "layout": {
        "annotations": [
         {
          "font": {
           "color": "#FFFFFF"
          },
          "showarrow": false,
          "text": "0",
          "x": "Food",
          "xref": "x",
          "y": "Food",
          "yref": "y"
         },
         {
          "font": {
           "color": "#FFFFFF"
          },
          "showarrow": false,
          "text": "0",
          "x": "HC",
          "xref": "x",
          "y": "Food",
          "yref": "y"
         },
         {
          "font": {
           "color": "#FFFFFF"
          },
          "showarrow": false,
          "text": "0",
          "x": "PC",
          "xref": "x",
          "y": "Food",
          "yref": "y"
         },
         {
          "font": {
           "color": "#FFFFFF"
          },
          "showarrow": false,
          "text": "0",
          "x": "Food",
          "xref": "x",
          "y": "HC",
          "yref": "y"
         },
         {
          "font": {
           "color": "#000000"
          },
          "showarrow": false,
          "text": "171",
          "x": "HC",
          "xref": "x",
          "y": "HC",
          "yref": "y"
         },
         {
          "font": {
           "color": "#FFFFFF"
          },
          "showarrow": false,
          "text": "0",
          "x": "PC",
          "xref": "x",
          "y": "HC",
          "yref": "y"
         },
         {
          "font": {
           "color": "#FFFFFF"
          },
          "showarrow": false,
          "text": "0",
          "x": "Food",
          "xref": "x",
          "y": "PC",
          "yref": "y"
         },
         {
          "font": {
           "color": "#FFFFFF"
          },
          "showarrow": false,
          "text": "0",
          "x": "HC",
          "xref": "x",
          "y": "PC",
          "yref": "y"
         },
         {
          "font": {
           "color": "#000000"
          },
          "showarrow": false,
          "text": "324",
          "x": "PC",
          "xref": "x",
          "y": "PC",
          "yref": "y"
         }
        ],
        "template": {
         "data": {
          "bar": [
           {
            "error_x": {
             "color": "#2a3f5f"
            },
            "error_y": {
             "color": "#2a3f5f"
            },
            "marker": {
             "line": {
              "color": "#E5ECF6",
              "width": 0.5
             },
             "pattern": {
              "fillmode": "overlay",
              "size": 10,
              "solidity": 0.2
             }
            },
            "type": "bar"
           }
          ],
          "barpolar": [
           {
            "marker": {
             "line": {
              "color": "#E5ECF6",
              "width": 0.5
             },
             "pattern": {
              "fillmode": "overlay",
              "size": 10,
              "solidity": 0.2
             }
            },
            "type": "barpolar"
           }
          ],
          "carpet": [
           {
            "aaxis": {
             "endlinecolor": "#2a3f5f",
             "gridcolor": "white",
             "linecolor": "white",
             "minorgridcolor": "white",
             "startlinecolor": "#2a3f5f"
            },
            "baxis": {
             "endlinecolor": "#2a3f5f",
             "gridcolor": "white",
             "linecolor": "white",
             "minorgridcolor": "white",
             "startlinecolor": "#2a3f5f"
            },
            "type": "carpet"
           }
          ],
          "choropleth": [
           {
            "colorbar": {
             "outlinewidth": 0,
             "ticks": ""
            },
            "type": "choropleth"
           }
          ],
          "contour": [
           {
            "colorbar": {
             "outlinewidth": 0,
             "ticks": ""
            },
            "colorscale": [
             [
              0,
              "#0d0887"
             ],
             [
              0.1111111111111111,
              "#46039f"
             ],
             [
              0.2222222222222222,
              "#7201a8"
             ],
             [
              0.3333333333333333,
              "#9c179e"
             ],
             [
              0.4444444444444444,
              "#bd3786"
             ],
             [
              0.5555555555555556,
              "#d8576b"
             ],
             [
              0.6666666666666666,
              "#ed7953"
             ],
             [
              0.7777777777777778,
              "#fb9f3a"
             ],
             [
              0.8888888888888888,
              "#fdca26"
             ],
             [
              1,
              "#f0f921"
             ]
            ],
            "type": "contour"
           }
          ],
          "contourcarpet": [
           {
            "colorbar": {
             "outlinewidth": 0,
             "ticks": ""
            },
            "type": "contourcarpet"
           }
          ],
          "heatmap": [
           {
            "colorbar": {
             "outlinewidth": 0,
             "ticks": ""
            },
            "colorscale": [
             [
              0,
              "#0d0887"
             ],
             [
              0.1111111111111111,
              "#46039f"
             ],
             [
              0.2222222222222222,
              "#7201a8"
             ],
             [
              0.3333333333333333,
              "#9c179e"
             ],
             [
              0.4444444444444444,
              "#bd3786"
             ],
             [
              0.5555555555555556,
              "#d8576b"
             ],
             [
              0.6666666666666666,
              "#ed7953"
             ],
             [
              0.7777777777777778,
              "#fb9f3a"
             ],
             [
              0.8888888888888888,
              "#fdca26"
             ],
             [
              1,
              "#f0f921"
             ]
            ],
            "type": "heatmap"
           }
          ],
          "heatmapgl": [
           {
            "colorbar": {
             "outlinewidth": 0,
             "ticks": ""
            },
            "colorscale": [
             [
              0,
              "#0d0887"
             ],
             [
              0.1111111111111111,
              "#46039f"
             ],
             [
              0.2222222222222222,
              "#7201a8"
             ],
             [
              0.3333333333333333,
              "#9c179e"
             ],
             [
              0.4444444444444444,
              "#bd3786"
             ],
             [
              0.5555555555555556,
              "#d8576b"
             ],
             [
              0.6666666666666666,
              "#ed7953"
             ],
             [
              0.7777777777777778,
              "#fb9f3a"
             ],
             [
              0.8888888888888888,
              "#fdca26"
             ],
             [
              1,
              "#f0f921"
             ]
            ],
            "type": "heatmapgl"
           }
          ],
          "histogram": [
           {
            "marker": {
             "pattern": {
              "fillmode": "overlay",
              "size": 10,
              "solidity": 0.2
             }
            },
            "type": "histogram"
           }
          ],
          "histogram2d": [
           {
            "colorbar": {
             "outlinewidth": 0,
             "ticks": ""
            },
            "colorscale": [
             [
              0,
              "#0d0887"
             ],
             [
              0.1111111111111111,
              "#46039f"
             ],
             [
              0.2222222222222222,
              "#7201a8"
             ],
             [
              0.3333333333333333,
              "#9c179e"
             ],
             [
              0.4444444444444444,
              "#bd3786"
             ],
             [
              0.5555555555555556,
              "#d8576b"
             ],
             [
              0.6666666666666666,
              "#ed7953"
             ],
             [
              0.7777777777777778,
              "#fb9f3a"
             ],
             [
              0.8888888888888888,
              "#fdca26"
             ],
             [
              1,
              "#f0f921"
             ]
            ],
            "type": "histogram2d"
           }
          ],
          "histogram2dcontour": [
           {
            "colorbar": {
             "outlinewidth": 0,
             "ticks": ""
            },
            "colorscale": [
             [
              0,
              "#0d0887"
             ],
             [
              0.1111111111111111,
              "#46039f"
             ],
             [
              0.2222222222222222,
              "#7201a8"
             ],
             [
              0.3333333333333333,
              "#9c179e"
             ],
             [
              0.4444444444444444,
              "#bd3786"
             ],
             [
              0.5555555555555556,
              "#d8576b"
             ],
             [
              0.6666666666666666,
              "#ed7953"
             ],
             [
              0.7777777777777778,
              "#fb9f3a"
             ],
             [
              0.8888888888888888,
              "#fdca26"
             ],
             [
              1,
              "#f0f921"
             ]
            ],
            "type": "histogram2dcontour"
           }
          ],
          "mesh3d": [
           {
            "colorbar": {
             "outlinewidth": 0,
             "ticks": ""
            },
            "type": "mesh3d"
           }
          ],
          "parcoords": [
           {
            "line": {
             "colorbar": {
              "outlinewidth": 0,
              "ticks": ""
             }
            },
            "type": "parcoords"
           }
          ],
          "pie": [
           {
            "automargin": true,
            "type": "pie"
           }
          ],
          "scatter": [
           {
            "fillpattern": {
             "fillmode": "overlay",
             "size": 10,
             "solidity": 0.2
            },
            "type": "scatter"
           }
          ],
          "scatter3d": [
           {
            "line": {
             "colorbar": {
              "outlinewidth": 0,
              "ticks": ""
             }
            },
            "marker": {
             "colorbar": {
              "outlinewidth": 0,
              "ticks": ""
             }
            },
            "type": "scatter3d"
           }
          ],
          "scattercarpet": [
           {
            "marker": {
             "colorbar": {
              "outlinewidth": 0,
              "ticks": ""
             }
            },
            "type": "scattercarpet"
           }
          ],
          "scattergeo": [
           {
            "marker": {
             "colorbar": {
              "outlinewidth": 0,
              "ticks": ""
             }
            },
            "type": "scattergeo"
           }
          ],
          "scattergl": [
           {
            "marker": {
             "colorbar": {
              "outlinewidth": 0,
              "ticks": ""
             }
            },
            "type": "scattergl"
           }
          ],
          "scattermapbox": [
           {
            "marker": {
             "colorbar": {
              "outlinewidth": 0,
              "ticks": ""
             }
            },
            "type": "scattermapbox"
           }
          ],
          "scatterpolar": [
           {
            "marker": {
             "colorbar": {
              "outlinewidth": 0,
              "ticks": ""
             }
            },
            "type": "scatterpolar"
           }
          ],
          "scatterpolargl": [
           {
            "marker": {
             "colorbar": {
              "outlinewidth": 0,
              "ticks": ""
             }
            },
            "type": "scatterpolargl"
           }
          ],
          "scatterternary": [
           {
            "marker": {
             "colorbar": {
              "outlinewidth": 0,
              "ticks": ""
             }
            },
            "type": "scatterternary"
           }
          ],
          "surface": [
           {
            "colorbar": {
             "outlinewidth": 0,
             "ticks": ""
            },
            "colorscale": [
             [
              0,
              "#0d0887"
             ],
             [
              0.1111111111111111,
              "#46039f"
             ],
             [
              0.2222222222222222,
              "#7201a8"
             ],
             [
              0.3333333333333333,
              "#9c179e"
             ],
             [
              0.4444444444444444,
              "#bd3786"
             ],
             [
              0.5555555555555556,
              "#d8576b"
             ],
             [
              0.6666666666666666,
              "#ed7953"
             ],
             [
              0.7777777777777778,
              "#fb9f3a"
             ],
             [
              0.8888888888888888,
              "#fdca26"
             ],
             [
              1,
              "#f0f921"
             ]
            ],
            "type": "surface"
           }
          ],
          "table": [
           {
            "cells": {
             "fill": {
              "color": "#EBF0F8"
             },
             "line": {
              "color": "white"
             }
            },
            "header": {
             "fill": {
              "color": "#C8D4E3"
             },
             "line": {
              "color": "white"
             }
            },
            "type": "table"
           }
          ]
         },
         "layout": {
          "annotationdefaults": {
           "arrowcolor": "#2a3f5f",
           "arrowhead": 0,
           "arrowwidth": 1
          },
          "autotypenumbers": "strict",
          "coloraxis": {
           "colorbar": {
            "outlinewidth": 0,
            "ticks": ""
           }
          },
          "colorscale": {
           "diverging": [
            [
             0,
             "#8e0152"
            ],
            [
             0.1,
             "#c51b7d"
            ],
            [
             0.2,
             "#de77ae"
            ],
            [
             0.3,
             "#f1b6da"
            ],
            [
             0.4,
             "#fde0ef"
            ],
            [
             0.5,
             "#f7f7f7"
            ],
            [
             0.6,
             "#e6f5d0"
            ],
            [
             0.7,
             "#b8e186"
            ],
            [
             0.8,
             "#7fbc41"
            ],
            [
             0.9,
             "#4d9221"
            ],
            [
             1,
             "#276419"
            ]
           ],
           "sequential": [
            [
             0,
             "#0d0887"
            ],
            [
             0.1111111111111111,
             "#46039f"
            ],
            [
             0.2222222222222222,
             "#7201a8"
            ],
            [
             0.3333333333333333,
             "#9c179e"
            ],
            [
             0.4444444444444444,
             "#bd3786"
            ],
            [
             0.5555555555555556,
             "#d8576b"
            ],
            [
             0.6666666666666666,
             "#ed7953"
            ],
            [
             0.7777777777777778,
             "#fb9f3a"
            ],
            [
             0.8888888888888888,
             "#fdca26"
            ],
            [
             1,
             "#f0f921"
            ]
           ],
           "sequentialminus": [
            [
             0,
             "#0d0887"
            ],
            [
             0.1111111111111111,
             "#46039f"
            ],
            [
             0.2222222222222222,
             "#7201a8"
            ],
            [
             0.3333333333333333,
             "#9c179e"
            ],
            [
             0.4444444444444444,
             "#bd3786"
            ],
            [
             0.5555555555555556,
             "#d8576b"
            ],
            [
             0.6666666666666666,
             "#ed7953"
            ],
            [
             0.7777777777777778,
             "#fb9f3a"
            ],
            [
             0.8888888888888888,
             "#fdca26"
            ],
            [
             1,
             "#f0f921"
            ]
           ]
          },
          "colorway": [
           "#636efa",
           "#EF553B",
           "#00cc96",
           "#ab63fa",
           "#FFA15A",
           "#19d3f3",
           "#FF6692",
           "#B6E880",
           "#FF97FF",
           "#FECB52"
          ],
          "font": {
           "color": "#2a3f5f"
          },
          "geo": {
           "bgcolor": "white",
           "lakecolor": "white",
           "landcolor": "#E5ECF6",
           "showlakes": true,
           "showland": true,
           "subunitcolor": "white"
          },
          "hoverlabel": {
           "align": "left"
          },
          "hovermode": "closest",
          "mapbox": {
           "style": "light"
          },
          "paper_bgcolor": "white",
          "plot_bgcolor": "#E5ECF6",
          "polar": {
           "angularaxis": {
            "gridcolor": "white",
            "linecolor": "white",
            "ticks": ""
           },
           "bgcolor": "#E5ECF6",
           "radialaxis": {
            "gridcolor": "white",
            "linecolor": "white",
            "ticks": ""
           }
          },
          "scene": {
           "xaxis": {
            "backgroundcolor": "#E5ECF6",
            "gridcolor": "white",
            "gridwidth": 2,
            "linecolor": "white",
            "showbackground": true,
            "ticks": "",
            "zerolinecolor": "white"
           },
           "yaxis": {
            "backgroundcolor": "#E5ECF6",
            "gridcolor": "white",
            "gridwidth": 2,
            "linecolor": "white",
            "showbackground": true,
            "ticks": "",
            "zerolinecolor": "white"
           },
           "zaxis": {
            "backgroundcolor": "#E5ECF6",
            "gridcolor": "white",
            "gridwidth": 2,
            "linecolor": "white",
            "showbackground": true,
            "ticks": "",
            "zerolinecolor": "white"
           }
          },
          "shapedefaults": {
           "line": {
            "color": "#2a3f5f"
           }
          },
          "ternary": {
           "aaxis": {
            "gridcolor": "white",
            "linecolor": "white",
            "ticks": ""
           },
           "baxis": {
            "gridcolor": "white",
            "linecolor": "white",
            "ticks": ""
           },
           "bgcolor": "#E5ECF6",
           "caxis": {
            "gridcolor": "white",
            "linecolor": "white",
            "ticks": ""
           }
          },
          "title": {
           "x": 0.05
          },
          "xaxis": {
           "automargin": true,
           "gridcolor": "white",
           "linecolor": "white",
           "ticks": "",
           "title": {
            "standoff": 15
           },
           "zerolinecolor": "white",
           "zerolinewidth": 2
          },
          "yaxis": {
           "automargin": true,
           "gridcolor": "white",
           "linecolor": "white",
           "ticks": "",
           "title": {
            "standoff": 15
           },
           "zerolinecolor": "white",
           "zerolinewidth": 2
          }
         }
        },
        "title": {
         "text": "Karmaşıklık Matrisi"
        },
        "xaxis": {
         "dtick": 1,
         "gridcolor": "rgb(0, 0, 0)",
         "side": "top",
         "ticks": "",
         "title": {
          "text": "Tahmin"
         }
        },
        "yaxis": {
         "dtick": 1,
         "ticks": "",
         "ticksuffix": "  ",
         "title": {
          "text": "Gerçek"
         }
        }
       }
      }
     },
     "metadata": {},
     "output_type": "display_data"
    }
   ],
   "source": [
    "# Test verileri üzerinde modeli değerlendirin\n",
    "X_test = X_test.toarray()\n",
    "y_test = y_test.reshape(-1, 1)\n",
    "model.evaluate(X_test, y_test, verbose=2)\n",
    "\n",
    "# Test verileri üzerinde tahmin yapın\n",
    "y_pred = model.predict(X_test)\n",
    "y_pred = np.argmax(y_pred, axis=1)\n",
    "y_pred = le.inverse_transform(y_pred)\n",
    "\n",
    "y_test = le.inverse_transform(y_test)\n",
    "\n",
    "from sklearn.metrics import confusion_matrix\n",
    "import plotly.figure_factory as ff\n",
    "\n",
    "cm = confusion_matrix(y_test, y_pred, labels=[\"Food\", \"HC\", \"PC\"])\n",
    "\n",
    "fig = ff.create_annotated_heatmap(\n",
    "    z=cm,\n",
    "    x=[\"Food\", \"HC\", \"PC\"],\n",
    "    y=[\"Food\", \"HC\", \"PC\"],\n",
    "    colorscale='Viridis'\n",
    ")\n",
    "\n",
    "fig.update_layout(title_text='Karmaşıklık Matrisi', xaxis = dict(title='Tahmin'), yaxis = dict(title='Gerçek'))\n",
    "\n",
    "fig.show()\n"
   ]
  }
 ],
 "metadata": {
  "kernelspec": {
   "display_name": "Python 3.11.0 64-bit",
   "language": "python",
   "name": "python3"
  },
  "language_info": {
   "codemirror_mode": {
    "name": "ipython",
    "version": 3
   },
   "file_extension": ".py",
   "mimetype": "text/x-python",
   "name": "python",
   "nbconvert_exporter": "python",
   "pygments_lexer": "ipython3",
   "version": "3.11.0"
  },
  "orig_nbformat": 4,
  "vscode": {
   "interpreter": {
    "hash": "5ffd7eb2cebf9ac436b5021ba01877e9cee6b03524e01bf8c8637d3e64111215"
   }
  }
 },
 "nbformat": 4,
 "nbformat_minor": 2
}
