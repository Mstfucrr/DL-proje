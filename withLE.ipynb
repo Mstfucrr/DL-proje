{
 "cells": [
  {
   "cell_type": "markdown",
   "metadata": {},
   "source": [
    "## Importing the libraries"
   ]
  },
  {
   "cell_type": "code",
   "execution_count": 1,
   "metadata": {},
   "outputs": [],
   "source": [
    "import matplotlib.pyplot as plt\n",
    "import numpy as np\n",
    "import pandas as pd\n",
    "import seaborn as sns"
   ]
  },
  {
   "cell_type": "markdown",
   "metadata": {},
   "source": [
    "## Importing the dataset"
   ]
  },
  {
   "cell_type": "code",
   "execution_count": 2,
   "metadata": {},
   "outputs": [
    {
     "data": {
      "text/html": [
       "<div>\n",
       "<style scoped>\n",
       "    .dataframe tbody tr th:only-of-type {\n",
       "        vertical-align: middle;\n",
       "    }\n",
       "\n",
       "    .dataframe tbody tr th {\n",
       "        vertical-align: top;\n",
       "    }\n",
       "\n",
       "    .dataframe thead th {\n",
       "        text-align: right;\n",
       "    }\n",
       "</style>\n",
       "<table border=\"1\" class=\"dataframe\">\n",
       "  <thead>\n",
       "    <tr style=\"text-align: right;\">\n",
       "      <th></th>\n",
       "      <th>KOD</th>\n",
       "      <th>BARKOD</th>\n",
       "      <th>MAMUL</th>\n",
       "      <th>K.İÇİ</th>\n",
       "      <th>GR</th>\n",
       "      <th>LİSTE</th>\n",
       "      <th>FATURA ALTI %</th>\n",
       "      <th>DÖNEM SONU %</th>\n",
       "      <th>KDV</th>\n",
       "      <th>NET MALİYET</th>\n",
       "      <th>Ö.RAF</th>\n",
       "      <th>KATEGORİ</th>\n",
       "      <th>AY</th>\n",
       "    </tr>\n",
       "  </thead>\n",
       "  <tbody>\n",
       "    <tr>\n",
       "      <th>0</th>\n",
       "      <td>67293883</td>\n",
       "      <td>8690637840746</td>\n",
       "      <td>1</td>\n",
       "      <td>8</td>\n",
       "      <td>400.0</td>\n",
       "      <td>21.85</td>\n",
       "      <td>12.0</td>\n",
       "      <td>5</td>\n",
       "      <td>0.01</td>\n",
       "      <td>18.449266</td>\n",
       "      <td>23.061583</td>\n",
       "      <td>FOOD</td>\n",
       "      <td>MART</td>\n",
       "    </tr>\n",
       "    <tr>\n",
       "      <th>1</th>\n",
       "      <td>67293891</td>\n",
       "      <td>8690637840821</td>\n",
       "      <td>1</td>\n",
       "      <td>8</td>\n",
       "      <td>400.0</td>\n",
       "      <td>21.85</td>\n",
       "      <td>12.0</td>\n",
       "      <td>5</td>\n",
       "      <td>0.01</td>\n",
       "      <td>18.449266</td>\n",
       "      <td>23.061583</td>\n",
       "      <td>FOOD</td>\n",
       "      <td>MART</td>\n",
       "    </tr>\n",
       "    <tr>\n",
       "      <th>2</th>\n",
       "      <td>67767533</td>\n",
       "      <td>8690637905896</td>\n",
       "      <td>1</td>\n",
       "      <td>12</td>\n",
       "      <td>600.0</td>\n",
       "      <td>27.00</td>\n",
       "      <td>13.0</td>\n",
       "      <td>5</td>\n",
       "      <td>0.01</td>\n",
       "      <td>22.538655</td>\n",
       "      <td>28.173319</td>\n",
       "      <td>FOOD</td>\n",
       "      <td>MART</td>\n",
       "    </tr>\n",
       "    <tr>\n",
       "      <th>3</th>\n",
       "      <td>67754288</td>\n",
       "      <td>8690637905193</td>\n",
       "      <td>1</td>\n",
       "      <td>12</td>\n",
       "      <td>600.0</td>\n",
       "      <td>27.00</td>\n",
       "      <td>13.0</td>\n",
       "      <td>5</td>\n",
       "      <td>0.01</td>\n",
       "      <td>22.538655</td>\n",
       "      <td>28.173319</td>\n",
       "      <td>FOOD</td>\n",
       "      <td>MART</td>\n",
       "    </tr>\n",
       "    <tr>\n",
       "      <th>4</th>\n",
       "      <td>68612788</td>\n",
       "      <td>8690637999277</td>\n",
       "      <td>1</td>\n",
       "      <td>8</td>\n",
       "      <td>335.0</td>\n",
       "      <td>39.75</td>\n",
       "      <td>10.0</td>\n",
       "      <td>5</td>\n",
       "      <td>0.01</td>\n",
       "      <td>34.326113</td>\n",
       "      <td>42.907641</td>\n",
       "      <td>FOOD</td>\n",
       "      <td>MART</td>\n",
       "    </tr>\n",
       "  </tbody>\n",
       "</table>\n",
       "</div>"
      ],
      "text/plain": [
       "        KOD         BARKOD  MAMUL  K.İÇİ     GR  LİSTE  FATURA ALTI %  \\\n",
       "0  67293883  8690637840746      1      8  400.0  21.85           12.0   \n",
       "1  67293891  8690637840821      1      8  400.0  21.85           12.0   \n",
       "2  67767533  8690637905896      1     12  600.0  27.00           13.0   \n",
       "3  67754288  8690637905193      1     12  600.0  27.00           13.0   \n",
       "4  68612788  8690637999277      1      8  335.0  39.75           10.0   \n",
       "\n",
       "   DÖNEM SONU %   KDV  NET MALİYET      Ö.RAF KATEGORİ    AY  \n",
       "0             5  0.01    18.449266  23.061583     FOOD  MART  \n",
       "1             5  0.01    18.449266  23.061583     FOOD  MART  \n",
       "2             5  0.01    22.538655  28.173319     FOOD  MART  \n",
       "3             5  0.01    22.538655  28.173319     FOOD  MART  \n",
       "4             5  0.01    34.326113  42.907641     FOOD  MART  "
      ]
     },
     "execution_count": 2,
     "metadata": {},
     "output_type": "execute_result"
    }
   ],
   "source": [
    "dataset = pd.read_excel(\"dataset.xlsx\")\n",
    "dataset.head()"
   ]
  },
  {
   "cell_type": "code",
   "execution_count": 3,
   "metadata": {},
   "outputs": [
    {
     "data": {
      "text/html": [
       "<div>\n",
       "<style scoped>\n",
       "    .dataframe tbody tr th:only-of-type {\n",
       "        vertical-align: middle;\n",
       "    }\n",
       "\n",
       "    .dataframe tbody tr th {\n",
       "        vertical-align: top;\n",
       "    }\n",
       "\n",
       "    .dataframe thead th {\n",
       "        text-align: right;\n",
       "    }\n",
       "</style>\n",
       "<table border=\"1\" class=\"dataframe\">\n",
       "  <thead>\n",
       "    <tr style=\"text-align: right;\">\n",
       "      <th></th>\n",
       "      <th>KATEGORİ</th>\n",
       "      <th>AY</th>\n",
       "      <th>MAMUL</th>\n",
       "      <th>K.İÇİ</th>\n",
       "      <th>GR</th>\n",
       "      <th>LİSTE</th>\n",
       "      <th>NET MALİYET</th>\n",
       "    </tr>\n",
       "  </thead>\n",
       "  <tbody>\n",
       "    <tr>\n",
       "      <th>0</th>\n",
       "      <td>FOOD</td>\n",
       "      <td>MART</td>\n",
       "      <td>1</td>\n",
       "      <td>8</td>\n",
       "      <td>400.0</td>\n",
       "      <td>21.85</td>\n",
       "      <td>18.449266</td>\n",
       "    </tr>\n",
       "    <tr>\n",
       "      <th>1</th>\n",
       "      <td>FOOD</td>\n",
       "      <td>MART</td>\n",
       "      <td>1</td>\n",
       "      <td>8</td>\n",
       "      <td>400.0</td>\n",
       "      <td>21.85</td>\n",
       "      <td>18.449266</td>\n",
       "    </tr>\n",
       "    <tr>\n",
       "      <th>2</th>\n",
       "      <td>FOOD</td>\n",
       "      <td>MART</td>\n",
       "      <td>1</td>\n",
       "      <td>12</td>\n",
       "      <td>600.0</td>\n",
       "      <td>27.00</td>\n",
       "      <td>22.538655</td>\n",
       "    </tr>\n",
       "    <tr>\n",
       "      <th>3</th>\n",
       "      <td>FOOD</td>\n",
       "      <td>MART</td>\n",
       "      <td>1</td>\n",
       "      <td>12</td>\n",
       "      <td>600.0</td>\n",
       "      <td>27.00</td>\n",
       "      <td>22.538655</td>\n",
       "    </tr>\n",
       "    <tr>\n",
       "      <th>4</th>\n",
       "      <td>FOOD</td>\n",
       "      <td>MART</td>\n",
       "      <td>1</td>\n",
       "      <td>8</td>\n",
       "      <td>335.0</td>\n",
       "      <td>39.75</td>\n",
       "      <td>34.326113</td>\n",
       "    </tr>\n",
       "  </tbody>\n",
       "</table>\n",
       "</div>"
      ],
      "text/plain": [
       "  KATEGORİ    AY  MAMUL  K.İÇİ     GR  LİSTE  NET MALİYET\n",
       "0     FOOD  MART      1      8  400.0  21.85    18.449266\n",
       "1     FOOD  MART      1      8  400.0  21.85    18.449266\n",
       "2     FOOD  MART      1     12  600.0  27.00    22.538655\n",
       "3     FOOD  MART      1     12  600.0  27.00    22.538655\n",
       "4     FOOD  MART      1      8  335.0  39.75    34.326113"
      ]
     },
     "execution_count": 3,
     "metadata": {},
     "output_type": "execute_result"
    }
   ],
   "source": [
    "selected_columns = ['KATEGORİ', 'AY', 'MAMUL', 'K.İÇİ', 'GR', 'LİSTE', 'NET MALİYET']\n",
    "data_selected = dataset[selected_columns]\n",
    "data_selected.head()"
   ]
  },
  {
   "cell_type": "code",
   "execution_count": 4,
   "metadata": {},
   "outputs": [],
   "source": [
    "X = data_selected.drop(columns=[\"KATEGORİ\"])  # Giriş verileri\n",
    "y = data_selected[\"KATEGORİ\"]  # Çıkış (etiket) verileri"
   ]
  },
  {
   "cell_type": "code",
   "execution_count": 5,
   "metadata": {},
   "outputs": [
    {
     "name": "stdout",
     "output_type": "stream",
     "text": [
      "<class 'pandas.core.frame.DataFrame'>\n",
      "RangeIndex: 3820 entries, 0 to 3819\n",
      "Data columns (total 6 columns):\n",
      " #   Column       Non-Null Count  Dtype  \n",
      "---  ------       --------------  -----  \n",
      " 0   AY           3820 non-null   object \n",
      " 1   MAMUL        3820 non-null   int64  \n",
      " 2   K.İÇİ        3820 non-null   int64  \n",
      " 3   GR           3820 non-null   float64\n",
      " 4   LİSTE        3820 non-null   float64\n",
      " 5   NET MALİYET  3820 non-null   float64\n",
      "dtypes: float64(3), int64(2), object(1)\n",
      "memory usage: 179.2+ KB\n"
     ]
    }
   ],
   "source": [
    "X.info()"
   ]
  },
  {
   "cell_type": "code",
   "execution_count": 6,
   "metadata": {},
   "outputs": [
    {
     "name": "stdout",
     "output_type": "stream",
     "text": [
      "     AY  MAMUL  K.İÇİ     GR  LİSTE  NET MALİYET\n",
      "0  MART      1      8  400.0  21.85    18.449266\n",
      "1  MART      1      8  400.0  21.85    18.449266\n",
      "2  MART      1     12  600.0  27.00    22.538655\n",
      "3  MART      1     12  600.0  27.00    22.538655\n",
      "4  MART      1      8  335.0  39.75    34.326113\n",
      "0    FOOD\n",
      "1    FOOD\n",
      "2    FOOD\n",
      "3    FOOD\n",
      "4    FOOD\n",
      "Name: KATEGORİ, dtype: object\n"
     ]
    }
   ],
   "source": [
    "print(X.head())\n",
    "print(y.head())"
   ]
  },
  {
   "cell_type": "code",
   "execution_count": 7,
   "metadata": {},
   "outputs": [],
   "source": [
    "categorical_columns = ['AY']\n",
    "numeric_columns = ['K.İÇİ', 'GR', 'LİSTE']"
   ]
  },
  {
   "cell_type": "code",
   "execution_count": 8,
   "metadata": {},
   "outputs": [
    {
     "data": {
      "text/html": [
       "<div>\n",
       "<style scoped>\n",
       "    .dataframe tbody tr th:only-of-type {\n",
       "        vertical-align: middle;\n",
       "    }\n",
       "\n",
       "    .dataframe tbody tr th {\n",
       "        vertical-align: top;\n",
       "    }\n",
       "\n",
       "    .dataframe thead th {\n",
       "        text-align: right;\n",
       "    }\n",
       "</style>\n",
       "<table border=\"1\" class=\"dataframe\">\n",
       "  <thead>\n",
       "    <tr style=\"text-align: right;\">\n",
       "      <th></th>\n",
       "      <th>AY</th>\n",
       "      <th>MAMUL</th>\n",
       "    </tr>\n",
       "  </thead>\n",
       "  <tbody>\n",
       "    <tr>\n",
       "      <th>0</th>\n",
       "      <td>MART</td>\n",
       "      <td>1</td>\n",
       "    </tr>\n",
       "    <tr>\n",
       "      <th>1</th>\n",
       "      <td>MART</td>\n",
       "      <td>1</td>\n",
       "    </tr>\n",
       "    <tr>\n",
       "      <th>2</th>\n",
       "      <td>MART</td>\n",
       "      <td>1</td>\n",
       "    </tr>\n",
       "    <tr>\n",
       "      <th>3</th>\n",
       "      <td>MART</td>\n",
       "      <td>1</td>\n",
       "    </tr>\n",
       "    <tr>\n",
       "      <th>4</th>\n",
       "      <td>MART</td>\n",
       "      <td>1</td>\n",
       "    </tr>\n",
       "    <tr>\n",
       "      <th>...</th>\n",
       "      <td>...</td>\n",
       "      <td>...</td>\n",
       "    </tr>\n",
       "    <tr>\n",
       "      <th>3815</th>\n",
       "      <td>EKİM</td>\n",
       "      <td>17</td>\n",
       "    </tr>\n",
       "    <tr>\n",
       "      <th>3816</th>\n",
       "      <td>EKİM</td>\n",
       "      <td>17</td>\n",
       "    </tr>\n",
       "    <tr>\n",
       "      <th>3817</th>\n",
       "      <td>EKİM</td>\n",
       "      <td>17</td>\n",
       "    </tr>\n",
       "    <tr>\n",
       "      <th>3818</th>\n",
       "      <td>EKİM</td>\n",
       "      <td>17</td>\n",
       "    </tr>\n",
       "    <tr>\n",
       "      <th>3819</th>\n",
       "      <td>EKİM</td>\n",
       "      <td>17</td>\n",
       "    </tr>\n",
       "  </tbody>\n",
       "</table>\n",
       "<p>3820 rows × 2 columns</p>\n",
       "</div>"
      ],
      "text/plain": [
       "        AY  MAMUL\n",
       "0     MART      1\n",
       "1     MART      1\n",
       "2     MART      1\n",
       "3     MART      1\n",
       "4     MART      1\n",
       "...    ...    ...\n",
       "3815  EKİM     17\n",
       "3816  EKİM     17\n",
       "3817  EKİM     17\n",
       "3818  EKİM     17\n",
       "3819  EKİM     17\n",
       "\n",
       "[3820 rows x 2 columns]"
      ]
     },
     "execution_count": 8,
     "metadata": {},
     "output_type": "execute_result"
    }
   ],
   "source": [
    "X.iloc[:, 0:2]"
   ]
  },
  {
   "cell_type": "code",
   "execution_count": 9,
   "metadata": {},
   "outputs": [
    {
     "name": "stderr",
     "output_type": "stream",
     "text": [
      "C:\\Users\\PC\\AppData\\Local\\Temp\\ipykernel_8240\\2145388497.py:16: FutureWarning: In a future version, `df.iloc[:, i] = newvals` will attempt to set the values inplace instead of always setting a new array. To retain the old behavior, use either `df[df.columns[i]] = newvals` or, if columns are non-unique, `df.isetitem(i, newvals)`\n",
      "  X.iloc[:, 0] = le.fit_transform(X.iloc[:, 0])\n"
     ]
    },
    {
     "data": {
      "text/plain": [
       "'\\n    AY\\n    0\\n    1\\n    2\\n'"
      ]
     },
     "execution_count": 9,
     "metadata": {},
     "output_type": "execute_result"
    }
   ],
   "source": [
    "from sklearn.compose import ColumnTransformer\n",
    "from sklearn.preprocessing import StandardScaler, LabelEncoder, OneHotEncoder\n",
    "\n",
    "# Sayısal ve kategorik sütunları işlemek için bir sütun dönüştürücü oluşturun\n",
    "preprocessor = ColumnTransformer(\n",
    "    transformers=[\n",
    "        (\"sayısal\", StandardScaler(), numeric_columns),\n",
    "    ],\n",
    "    remainder=\"passthrough\",\n",
    ")\n",
    "\n",
    "X.iloc[:, 2:] = preprocessor.fit_transform(X.iloc[:, 2:])\n",
    "# Verileri dönüştürün\n",
    "# X.iloc[:, 1:] = preprocessor.fit_transform(X.iloc[:, 1:])\n",
    "le = LabelEncoder()\n",
    "X.iloc[:, 0] = le.fit_transform(X.iloc[:, 0])\n",
    "X.iloc[:, 1] = le.fit_transform(X.iloc[:, 1])\n",
    "\n",
    "y = le.fit_transform(y)\n",
    "\n",
    "\n",
    "\"\"\"\n",
    "    AY\n",
    "    Mart\n",
    "    Nisan\n",
    "    Mayıs\n",
    "\n",
    "\"\"\"\n",
    "\n",
    "\"\"\"\n",
    "    AY\n",
    "    0\n",
    "    1\n",
    "    2\n",
    "\"\"\"\n"
   ]
  },
  {
   "cell_type": "code",
   "execution_count": 10,
   "metadata": {},
   "outputs": [
    {
     "data": {
      "text/html": [
       "<div>\n",
       "<style scoped>\n",
       "    .dataframe tbody tr th:only-of-type {\n",
       "        vertical-align: middle;\n",
       "    }\n",
       "\n",
       "    .dataframe tbody tr th {\n",
       "        vertical-align: top;\n",
       "    }\n",
       "\n",
       "    .dataframe thead th {\n",
       "        text-align: right;\n",
       "    }\n",
       "</style>\n",
       "<table border=\"1\" class=\"dataframe\">\n",
       "  <thead>\n",
       "    <tr style=\"text-align: right;\">\n",
       "      <th></th>\n",
       "      <th>AY</th>\n",
       "      <th>MAMUL</th>\n",
       "      <th>K.İÇİ</th>\n",
       "      <th>GR</th>\n",
       "      <th>LİSTE</th>\n",
       "      <th>NET MALİYET</th>\n",
       "    </tr>\n",
       "  </thead>\n",
       "  <tbody>\n",
       "    <tr>\n",
       "      <th>0</th>\n",
       "      <td>4</td>\n",
       "      <td>0</td>\n",
       "      <td>-0.565928</td>\n",
       "      <td>-0.110449</td>\n",
       "      <td>-0.986225</td>\n",
       "      <td>18.449266</td>\n",
       "    </tr>\n",
       "    <tr>\n",
       "      <th>1</th>\n",
       "      <td>4</td>\n",
       "      <td>0</td>\n",
       "      <td>-0.565928</td>\n",
       "      <td>-0.110449</td>\n",
       "      <td>-0.986225</td>\n",
       "      <td>18.449266</td>\n",
       "    </tr>\n",
       "    <tr>\n",
       "      <th>2</th>\n",
       "      <td>4</td>\n",
       "      <td>0</td>\n",
       "      <td>-0.470838</td>\n",
       "      <td>0.121934</td>\n",
       "      <td>-0.829472</td>\n",
       "      <td>22.538655</td>\n",
       "    </tr>\n",
       "    <tr>\n",
       "      <th>3</th>\n",
       "      <td>4</td>\n",
       "      <td>0</td>\n",
       "      <td>-0.470838</td>\n",
       "      <td>0.121934</td>\n",
       "      <td>-0.829472</td>\n",
       "      <td>22.538655</td>\n",
       "    </tr>\n",
       "    <tr>\n",
       "      <th>4</th>\n",
       "      <td>4</td>\n",
       "      <td>0</td>\n",
       "      <td>-0.565928</td>\n",
       "      <td>-0.185974</td>\n",
       "      <td>-0.441394</td>\n",
       "      <td>34.326113</td>\n",
       "    </tr>\n",
       "  </tbody>\n",
       "</table>\n",
       "</div>"
      ],
      "text/plain": [
       "   AY  MAMUL     K.İÇİ        GR     LİSTE  NET MALİYET\n",
       "0   4      0 -0.565928 -0.110449 -0.986225    18.449266\n",
       "1   4      0 -0.565928 -0.110449 -0.986225    18.449266\n",
       "2   4      0 -0.470838  0.121934 -0.829472    22.538655\n",
       "3   4      0 -0.470838  0.121934 -0.829472    22.538655\n",
       "4   4      0 -0.565928 -0.185974 -0.441394    34.326113"
      ]
     },
     "execution_count": 10,
     "metadata": {},
     "output_type": "execute_result"
    }
   ],
   "source": [
    "x_dataset = pd.DataFrame(X)\n",
    "x_dataset.head()"
   ]
  },
  {
   "cell_type": "code",
   "execution_count": 11,
   "metadata": {},
   "outputs": [
    {
     "data": {
      "text/plain": [
       "array([ 0,  1,  2,  3,  4,  9, 10,  7,  6,  8, 11, 12,  5], dtype=int64)"
      ]
     },
     "execution_count": 11,
     "metadata": {},
     "output_type": "execute_result"
    }
   ],
   "source": [
    "x_dataset.MAMUL.unique()"
   ]
  },
  {
   "cell_type": "code",
   "execution_count": 12,
   "metadata": {},
   "outputs": [],
   "source": [
    "from sklearn.model_selection import train_test_split\n",
    "\n",
    "# Verileri eğitim ve test kümelerine bölün\n",
    "X_train, X_test, y_train, y_test = train_test_split(X, y, test_size=0.2, random_state=42)"
   ]
  },
  {
   "cell_type": "markdown",
   "metadata": {},
   "source": [
    "#### Modeli oluşturun"
   ]
  },
  {
   "cell_type": "code",
   "execution_count": 13,
   "metadata": {},
   "outputs": [],
   "source": [
    "from tensorflow import keras\n",
    "from keras import layers\n",
    "\n",
    "model = keras.Sequential([ # Sıralı bir model oluşturun\n",
    "    layers.Dense(64, activation='relu', input_shape=[X_train.shape[1]]), # Giriş katmanı\n",
    "    layers.Dense(64, activation='relu'), # Gizli katman\n",
    "    layers.Dense(3, activation='softmax') # Çıkış katmanı\n",
    "])\n"
   ]
  },
  {
   "cell_type": "markdown",
   "metadata": {},
   "source": [
    "#### Modeli Derle"
   ]
  },
  {
   "cell_type": "code",
   "execution_count": 14,
   "metadata": {},
   "outputs": [],
   "source": [
    "model.compile(\n",
    "    optimizer='adam', # Optimizasyon fonksiyonu\n",
    "    loss='sparse_categorical_crossentropy', # Kayıp fonksiyonu\n",
    "    metrics=['accuracy'] # Başarı metriği\n",
    ")"
   ]
  },
  {
   "cell_type": "code",
   "execution_count": 15,
   "metadata": {},
   "outputs": [],
   "source": [
    "y_train = y_train.reshape(-1, 1)"
   ]
  },
  {
   "cell_type": "markdown",
   "metadata": {},
   "source": [
    "#### Eğitim işlemini başlatın"
   ]
  },
  {
   "cell_type": "code",
   "execution_count": 16,
   "metadata": {},
   "outputs": [
    {
     "name": "stdout",
     "output_type": "stream",
     "text": [
      "Epoch 1/100\n",
      "77/77 [==============================] - 1s 2ms/step - loss: 1.3685 - accuracy: 0.6502 - val_loss: 0.5236 - val_accuracy: 0.8497\n",
      "Epoch 2/100\n",
      "77/77 [==============================] - 0s 974us/step - loss: 0.3955 - accuracy: 0.8789 - val_loss: 0.3078 - val_accuracy: 0.9134\n",
      "Epoch 3/100\n",
      "77/77 [==============================] - 0s 949us/step - loss: 0.2408 - accuracy: 0.9439 - val_loss: 0.2312 - val_accuracy: 0.9281\n",
      "Epoch 4/100\n",
      "77/77 [==============================] - 0s 928us/step - loss: 0.1515 - accuracy: 0.9709 - val_loss: 0.1402 - val_accuracy: 0.9673\n",
      "Epoch 5/100\n",
      "77/77 [==============================] - 0s 897us/step - loss: 0.1088 - accuracy: 0.9759 - val_loss: 0.1176 - val_accuracy: 0.9657\n",
      "Epoch 6/100\n",
      "77/77 [==============================] - 0s 903us/step - loss: 0.0836 - accuracy: 0.9808 - val_loss: 0.1169 - val_accuracy: 0.9575\n",
      "Epoch 7/100\n",
      "77/77 [==============================] - 0s 914us/step - loss: 0.0878 - accuracy: 0.9755 - val_loss: 0.1123 - val_accuracy: 0.9624\n",
      "Epoch 8/100\n",
      "77/77 [==============================] - 0s 938us/step - loss: 0.0751 - accuracy: 0.9759 - val_loss: 0.0804 - val_accuracy: 0.9755\n",
      "Epoch 9/100\n",
      "77/77 [==============================] - 0s 916us/step - loss: 0.0649 - accuracy: 0.9828 - val_loss: 0.0783 - val_accuracy: 0.9641\n",
      "Epoch 10/100\n",
      "77/77 [==============================] - 0s 935us/step - loss: 0.0543 - accuracy: 0.9816 - val_loss: 0.1177 - val_accuracy: 0.9559\n",
      "Epoch 11/100\n",
      "77/77 [==============================] - 0s 947us/step - loss: 0.0511 - accuracy: 0.9845 - val_loss: 0.0710 - val_accuracy: 0.9673\n",
      "Epoch 12/100\n",
      "77/77 [==============================] - 0s 963us/step - loss: 0.0565 - accuracy: 0.9804 - val_loss: 0.0732 - val_accuracy: 0.9641\n",
      "Epoch 13/100\n",
      "77/77 [==============================] - 0s 980us/step - loss: 0.0449 - accuracy: 0.9865 - val_loss: 0.0579 - val_accuracy: 0.9853\n",
      "Epoch 14/100\n",
      "77/77 [==============================] - 0s 989us/step - loss: 0.0438 - accuracy: 0.9853 - val_loss: 0.1105 - val_accuracy: 0.9559\n",
      "Epoch 15/100\n",
      "77/77 [==============================] - 0s 933us/step - loss: 0.0411 - accuracy: 0.9869 - val_loss: 0.0559 - val_accuracy: 0.9804\n",
      "Epoch 16/100\n",
      "77/77 [==============================] - 0s 973us/step - loss: 0.0440 - accuracy: 0.9873 - val_loss: 0.0686 - val_accuracy: 0.9673\n",
      "Epoch 17/100\n",
      "77/77 [==============================] - 0s 984us/step - loss: 0.0510 - accuracy: 0.9845 - val_loss: 0.1175 - val_accuracy: 0.9559\n",
      "Epoch 18/100\n",
      "77/77 [==============================] - 0s 966us/step - loss: 0.0401 - accuracy: 0.9873 - val_loss: 0.0640 - val_accuracy: 0.9755\n",
      "Epoch 19/100\n",
      "77/77 [==============================] - 0s 960us/step - loss: 0.0404 - accuracy: 0.9881 - val_loss: 0.0601 - val_accuracy: 0.9771\n",
      "Epoch 20/100\n",
      "77/77 [==============================] - 0s 950us/step - loss: 0.0361 - accuracy: 0.9890 - val_loss: 0.0402 - val_accuracy: 0.9869\n",
      "Epoch 21/100\n",
      "77/77 [==============================] - 0s 950us/step - loss: 0.0349 - accuracy: 0.9906 - val_loss: 0.0400 - val_accuracy: 0.9804\n",
      "Epoch 22/100\n",
      "77/77 [==============================] - 0s 974us/step - loss: 0.0343 - accuracy: 0.9890 - val_loss: 0.0572 - val_accuracy: 0.9804\n",
      "Epoch 23/100\n",
      "77/77 [==============================] - 0s 975us/step - loss: 0.0354 - accuracy: 0.9898 - val_loss: 0.0493 - val_accuracy: 0.9820\n",
      "Epoch 24/100\n",
      "77/77 [==============================] - 0s 1ms/step - loss: 0.0413 - accuracy: 0.9845 - val_loss: 0.0527 - val_accuracy: 0.9804\n",
      "Epoch 25/100\n",
      "77/77 [==============================] - 0s 929us/step - loss: 0.0420 - accuracy: 0.9865 - val_loss: 0.0350 - val_accuracy: 0.9853\n",
      "Epoch 26/100\n",
      "77/77 [==============================] - 0s 949us/step - loss: 0.0285 - accuracy: 0.9910 - val_loss: 0.0336 - val_accuracy: 0.9886\n",
      "Epoch 27/100\n",
      "77/77 [==============================] - 0s 947us/step - loss: 0.0320 - accuracy: 0.9865 - val_loss: 0.0334 - val_accuracy: 0.9935\n",
      "Epoch 28/100\n",
      "77/77 [==============================] - 0s 915us/step - loss: 0.0504 - accuracy: 0.9836 - val_loss: 0.0427 - val_accuracy: 0.9804\n",
      "Epoch 29/100\n",
      "77/77 [==============================] - 0s 920us/step - loss: 0.0313 - accuracy: 0.9910 - val_loss: 0.0430 - val_accuracy: 0.9771\n",
      "Epoch 30/100\n",
      "77/77 [==============================] - 0s 908us/step - loss: 0.0365 - accuracy: 0.9877 - val_loss: 0.0404 - val_accuracy: 0.9853\n",
      "Epoch 31/100\n",
      "77/77 [==============================] - 0s 924us/step - loss: 0.0247 - accuracy: 0.9926 - val_loss: 0.0372 - val_accuracy: 0.9902\n",
      "Epoch 32/100\n",
      "77/77 [==============================] - 0s 914us/step - loss: 0.0299 - accuracy: 0.9910 - val_loss: 0.0348 - val_accuracy: 0.9804\n",
      "Epoch 33/100\n",
      "77/77 [==============================] - 0s 934us/step - loss: 0.0232 - accuracy: 0.9939 - val_loss: 0.0330 - val_accuracy: 0.9853\n",
      "Epoch 34/100\n",
      "77/77 [==============================] - 0s 948us/step - loss: 0.0219 - accuracy: 0.9947 - val_loss: 0.0347 - val_accuracy: 0.9853\n",
      "Epoch 35/100\n",
      "77/77 [==============================] - 0s 935us/step - loss: 0.0382 - accuracy: 0.9873 - val_loss: 0.0372 - val_accuracy: 0.9853\n",
      "Epoch 36/100\n",
      "77/77 [==============================] - 0s 899us/step - loss: 0.0298 - accuracy: 0.9902 - val_loss: 0.0270 - val_accuracy: 0.9837\n",
      "Epoch 37/100\n",
      "77/77 [==============================] - 0s 931us/step - loss: 0.0308 - accuracy: 0.9869 - val_loss: 0.0211 - val_accuracy: 0.9918\n",
      "Epoch 38/100\n",
      "77/77 [==============================] - 0s 930us/step - loss: 0.0301 - accuracy: 0.9918 - val_loss: 0.0326 - val_accuracy: 0.9837\n",
      "Epoch 39/100\n",
      "77/77 [==============================] - 0s 930us/step - loss: 0.0385 - accuracy: 0.9890 - val_loss: 0.0659 - val_accuracy: 0.9755\n",
      "Epoch 40/100\n",
      "77/77 [==============================] - 0s 964us/step - loss: 0.0310 - accuracy: 0.9918 - val_loss: 0.0242 - val_accuracy: 0.9886\n",
      "Epoch 41/100\n",
      "77/77 [==============================] - 0s 921us/step - loss: 0.0244 - accuracy: 0.9935 - val_loss: 0.0226 - val_accuracy: 0.9902\n",
      "Epoch 42/100\n",
      "77/77 [==============================] - 0s 909us/step - loss: 0.0179 - accuracy: 0.9963 - val_loss: 0.0258 - val_accuracy: 0.9869\n",
      "Epoch 43/100\n",
      "77/77 [==============================] - 0s 933us/step - loss: 0.0225 - accuracy: 0.9943 - val_loss: 0.0252 - val_accuracy: 0.9853\n",
      "Epoch 44/100\n",
      "77/77 [==============================] - 0s 907us/step - loss: 0.0191 - accuracy: 0.9947 - val_loss: 0.0257 - val_accuracy: 0.9869\n",
      "Epoch 45/100\n",
      "77/77 [==============================] - 0s 902us/step - loss: 0.0177 - accuracy: 0.9943 - val_loss: 0.0196 - val_accuracy: 0.9918\n",
      "Epoch 46/100\n",
      "77/77 [==============================] - 0s 920us/step - loss: 0.0168 - accuracy: 0.9980 - val_loss: 0.0215 - val_accuracy: 0.9902\n",
      "Epoch 47/100\n",
      "77/77 [==============================] - 0s 917us/step - loss: 0.0167 - accuracy: 0.9955 - val_loss: 0.0137 - val_accuracy: 0.9951\n",
      "Epoch 48/100\n",
      "77/77 [==============================] - 0s 968us/step - loss: 0.0172 - accuracy: 0.9971 - val_loss: 0.0216 - val_accuracy: 0.9918\n",
      "Epoch 49/100\n",
      "77/77 [==============================] - 0s 962us/step - loss: 0.0177 - accuracy: 0.9967 - val_loss: 0.0244 - val_accuracy: 0.9886\n",
      "Epoch 50/100\n",
      "77/77 [==============================] - 0s 967us/step - loss: 0.0155 - accuracy: 0.9955 - val_loss: 0.0210 - val_accuracy: 0.9902\n",
      "Epoch 51/100\n",
      "77/77 [==============================] - 0s 933us/step - loss: 0.0192 - accuracy: 0.9935 - val_loss: 0.0301 - val_accuracy: 0.9935\n",
      "Epoch 52/100\n",
      "77/77 [==============================] - 0s 1ms/step - loss: 0.0315 - accuracy: 0.9894 - val_loss: 0.0181 - val_accuracy: 0.9918\n",
      "Epoch 53/100\n",
      "77/77 [==============================] - 0s 959us/step - loss: 0.0143 - accuracy: 0.9980 - val_loss: 0.0212 - val_accuracy: 0.9951\n",
      "Epoch 54/100\n",
      "77/77 [==============================] - 0s 944us/step - loss: 0.0147 - accuracy: 0.9975 - val_loss: 0.0228 - val_accuracy: 0.9853\n",
      "Epoch 55/100\n",
      "77/77 [==============================] - 0s 961us/step - loss: 0.0275 - accuracy: 0.9914 - val_loss: 0.0150 - val_accuracy: 0.9951\n",
      "Epoch 56/100\n",
      "77/77 [==============================] - 0s 960us/step - loss: 0.0174 - accuracy: 0.9967 - val_loss: 0.0116 - val_accuracy: 0.9935\n",
      "Epoch 57/100\n",
      "77/77 [==============================] - 0s 947us/step - loss: 0.0151 - accuracy: 0.9971 - val_loss: 0.0460 - val_accuracy: 0.9902\n",
      "Epoch 58/100\n",
      "77/77 [==============================] - 0s 950us/step - loss: 0.0301 - accuracy: 0.9930 - val_loss: 0.0287 - val_accuracy: 0.9820\n",
      "Epoch 59/100\n",
      "77/77 [==============================] - 0s 932us/step - loss: 0.0314 - accuracy: 0.9914 - val_loss: 0.0138 - val_accuracy: 0.9951\n",
      "Epoch 60/100\n",
      "77/77 [==============================] - 0s 911us/step - loss: 0.0138 - accuracy: 0.9959 - val_loss: 0.0103 - val_accuracy: 0.9951\n",
      "Epoch 61/100\n",
      "77/77 [==============================] - 0s 921us/step - loss: 0.0127 - accuracy: 0.9971 - val_loss: 0.0165 - val_accuracy: 0.9951\n",
      "Epoch 62/100\n",
      "77/77 [==============================] - 0s 908us/step - loss: 0.0113 - accuracy: 0.9984 - val_loss: 0.0170 - val_accuracy: 0.9935\n",
      "Epoch 63/100\n",
      "77/77 [==============================] - 0s 908us/step - loss: 0.0147 - accuracy: 0.9967 - val_loss: 0.0148 - val_accuracy: 0.9967\n",
      "Epoch 64/100\n",
      "77/77 [==============================] - 0s 923us/step - loss: 0.0168 - accuracy: 0.9963 - val_loss: 0.0349 - val_accuracy: 0.9853\n",
      "Epoch 65/100\n",
      "77/77 [==============================] - 0s 954us/step - loss: 0.0170 - accuracy: 0.9955 - val_loss: 0.0113 - val_accuracy: 0.9984\n",
      "Epoch 66/100\n",
      "77/77 [==============================] - 0s 926us/step - loss: 0.0120 - accuracy: 0.9984 - val_loss: 0.0098 - val_accuracy: 1.0000\n",
      "Epoch 67/100\n",
      "77/77 [==============================] - 0s 933us/step - loss: 0.0133 - accuracy: 0.9963 - val_loss: 0.0268 - val_accuracy: 0.9869\n",
      "Epoch 68/100\n",
      "77/77 [==============================] - 0s 1ms/step - loss: 0.0260 - accuracy: 0.9926 - val_loss: 0.0245 - val_accuracy: 0.9886\n",
      "Epoch 69/100\n",
      "77/77 [==============================] - 0s 921us/step - loss: 0.0227 - accuracy: 0.9922 - val_loss: 0.0991 - val_accuracy: 0.9673\n",
      "Epoch 70/100\n",
      "77/77 [==============================] - 0s 921us/step - loss: 0.0265 - accuracy: 0.9926 - val_loss: 0.0146 - val_accuracy: 0.9918\n",
      "Epoch 71/100\n",
      "77/77 [==============================] - 0s 908us/step - loss: 0.0128 - accuracy: 0.9955 - val_loss: 0.0347 - val_accuracy: 0.9869\n",
      "Epoch 72/100\n",
      "77/77 [==============================] - 0s 913us/step - loss: 0.0290 - accuracy: 0.9906 - val_loss: 0.0230 - val_accuracy: 0.9902\n",
      "Epoch 73/100\n",
      "77/77 [==============================] - 0s 947us/step - loss: 0.0209 - accuracy: 0.9955 - val_loss: 0.0127 - val_accuracy: 0.9951\n",
      "Epoch 74/100\n",
      "77/77 [==============================] - 0s 975us/step - loss: 0.0107 - accuracy: 0.9975 - val_loss: 0.0190 - val_accuracy: 0.9918\n",
      "Epoch 75/100\n",
      "77/77 [==============================] - 0s 962us/step - loss: 0.0136 - accuracy: 0.9971 - val_loss: 0.0145 - val_accuracy: 0.9918\n",
      "Epoch 76/100\n",
      "77/77 [==============================] - 0s 1ms/step - loss: 0.0120 - accuracy: 0.9967 - val_loss: 0.0094 - val_accuracy: 0.9951\n",
      "Epoch 77/100\n",
      "77/77 [==============================] - 0s 938us/step - loss: 0.0111 - accuracy: 0.9963 - val_loss: 0.0074 - val_accuracy: 0.9984\n",
      "Epoch 78/100\n",
      "77/77 [==============================] - 0s 960us/step - loss: 0.0124 - accuracy: 0.9971 - val_loss: 0.0098 - val_accuracy: 0.9984\n",
      "Epoch 79/100\n",
      "77/77 [==============================] - 0s 938us/step - loss: 0.0270 - accuracy: 0.9926 - val_loss: 0.0076 - val_accuracy: 1.0000\n",
      "Epoch 80/100\n",
      "77/77 [==============================] - 0s 982us/step - loss: 0.0111 - accuracy: 0.9971 - val_loss: 0.0120 - val_accuracy: 1.0000\n",
      "Epoch 81/100\n",
      "77/77 [==============================] - 0s 934us/step - loss: 0.0085 - accuracy: 0.9975 - val_loss: 0.0134 - val_accuracy: 0.9902\n",
      "Epoch 82/100\n",
      "77/77 [==============================] - 0s 915us/step - loss: 0.0102 - accuracy: 0.9980 - val_loss: 0.0526 - val_accuracy: 0.9804\n",
      "Epoch 83/100\n",
      "77/77 [==============================] - 0s 934us/step - loss: 0.0128 - accuracy: 0.9980 - val_loss: 0.0314 - val_accuracy: 0.9902\n",
      "Epoch 84/100\n",
      "77/77 [==============================] - 0s 951us/step - loss: 0.0169 - accuracy: 0.9955 - val_loss: 0.0066 - val_accuracy: 0.9984\n",
      "Epoch 85/100\n",
      "77/77 [==============================] - 0s 1ms/step - loss: 0.0102 - accuracy: 0.9984 - val_loss: 0.0081 - val_accuracy: 0.9984\n",
      "Epoch 86/100\n",
      "77/77 [==============================] - 0s 1ms/step - loss: 0.0086 - accuracy: 0.9984 - val_loss: 0.0078 - val_accuracy: 0.9951\n",
      "Epoch 87/100\n",
      "77/77 [==============================] - 0s 1ms/step - loss: 0.0141 - accuracy: 0.9967 - val_loss: 0.0079 - val_accuracy: 0.9951\n",
      "Epoch 88/100\n",
      "77/77 [==============================] - 0s 954us/step - loss: 0.0123 - accuracy: 0.9959 - val_loss: 0.0091 - val_accuracy: 0.9918\n",
      "Epoch 89/100\n",
      "77/77 [==============================] - 0s 954us/step - loss: 0.0385 - accuracy: 0.9869 - val_loss: 0.0182 - val_accuracy: 0.9951\n",
      "Epoch 90/100\n",
      "77/77 [==============================] - 0s 944us/step - loss: 0.0126 - accuracy: 0.9963 - val_loss: 0.0326 - val_accuracy: 0.9837\n",
      "Epoch 91/100\n",
      "77/77 [==============================] - 0s 947us/step - loss: 0.0124 - accuracy: 0.9971 - val_loss: 0.0051 - val_accuracy: 1.0000\n",
      "Epoch 92/100\n",
      "77/77 [==============================] - 0s 921us/step - loss: 0.0722 - accuracy: 0.9836 - val_loss: 0.0115 - val_accuracy: 0.9967\n",
      "Epoch 93/100\n",
      "77/77 [==============================] - 0s 915us/step - loss: 0.0091 - accuracy: 0.9984 - val_loss: 0.0050 - val_accuracy: 1.0000\n",
      "Epoch 94/100\n",
      "77/77 [==============================] - 0s 921us/step - loss: 0.0096 - accuracy: 0.9988 - val_loss: 0.0108 - val_accuracy: 0.9951\n",
      "Epoch 95/100\n",
      "77/77 [==============================] - 0s 921us/step - loss: 0.0115 - accuracy: 0.9975 - val_loss: 0.0105 - val_accuracy: 0.9951\n",
      "Epoch 96/100\n",
      "77/77 [==============================] - 0s 937us/step - loss: 0.0104 - accuracy: 0.9975 - val_loss: 0.0250 - val_accuracy: 0.9886\n",
      "Epoch 97/100\n",
      "77/77 [==============================] - 0s 934us/step - loss: 0.0105 - accuracy: 0.9975 - val_loss: 0.0119 - val_accuracy: 0.9951\n",
      "Epoch 98/100\n",
      "77/77 [==============================] - 0s 959us/step - loss: 0.0095 - accuracy: 0.9988 - val_loss: 0.0129 - val_accuracy: 0.9951\n",
      "Epoch 99/100\n",
      "77/77 [==============================] - 0s 951us/step - loss: 0.0205 - accuracy: 0.9926 - val_loss: 0.0089 - val_accuracy: 0.9984\n",
      "Epoch 100/100\n",
      "77/77 [==============================] - 0s 989us/step - loss: 0.0072 - accuracy: 0.9984 - val_loss: 0.0081 - val_accuracy: 0.9984\n"
     ]
    }
   ],
   "source": [
    "history = model.fit(\n",
    "    X_train, y_train, # Eğitim verileri\n",
    "    validation_split=0.2, # Eğitim verilerinin %20'sini doğrulama verileri olarak kullanın\n",
    "    batch_size=32, # Her iterasyonda 32 örnek kullanın\n",
    "    epochs=100, # 100 iterasyon\n",
    "    verbose=1 # Her iterasyonda ekrana çıktı ver\n",
    ")"
   ]
  },
  {
   "cell_type": "markdown",
   "metadata": {},
   "source": [
    "#### Eğitim ve doğrulama kayıp grafiği"
   ]
  },
  {
   "cell_type": "code",
   "execution_count": 20,
   "metadata": {},
   "outputs": [
    {
     "data": {
      "application/vnd.plotly.v1+json": {
       "config": {
        "plotlyServerURL": "https://plot.ly"
       },
       "data": [
        {
         "name": "Eğitim Kaybı",
         "type": "scatter",
         "xaxis": "x",
         "y": [
          1.368451714515686,
          0.39554768800735474,
          0.2407621443271637,
          0.15151642262935638,
          0.1087932214140892,
          0.08356737345457077,
          0.08780686557292938,
          0.07505044341087341,
          0.06487489491701126,
          0.054254673421382904,
          0.051119569689035416,
          0.05653594061732292,
          0.04486396908760071,
          0.0437517911195755,
          0.04105602577328682,
          0.04400560259819031,
          0.050966281443834305,
          0.04012800008058548,
          0.04041706398129463,
          0.03608435392379761,
          0.034918926656246185,
          0.034265775233507156,
          0.03543710336089134,
          0.04125632345676422,
          0.0420447438955307,
          0.028542349115014076,
          0.03199166804552078,
          0.05040799826383591,
          0.03132304921746254,
          0.03645535930991173,
          0.024722397327423096,
          0.029944080859422684,
          0.02318517491221428,
          0.021908968687057495,
          0.03823212534189224,
          0.02983885258436203,
          0.03077814169228077,
          0.03005119599401951,
          0.03845084086060524,
          0.03100147657096386,
          0.02441033348441124,
          0.01789245381951332,
          0.02254996821284294,
          0.019131559878587723,
          0.017682725563645363,
          0.016765428707003593,
          0.01670791208744049,
          0.017170211300253868,
          0.017682846635580063,
          0.01554064266383648,
          0.019195137545466423,
          0.031510017812252045,
          0.014265833422541618,
          0.014702425338327885,
          0.027469072490930557,
          0.017361048609018326,
          0.015050661750137806,
          0.030086664482951164,
          0.03137333318591118,
          0.013836001046001911,
          0.012683470733463764,
          0.011308953166007996,
          0.014707338996231556,
          0.016833214089274406,
          0.01698377914726734,
          0.012027897872030735,
          0.013316838070750237,
          0.025988036766648293,
          0.02268492802977562,
          0.026538386940956116,
          0.012812826782464981,
          0.029047848656773567,
          0.020863013342022896,
          0.01066560484468937,
          0.013618025928735733,
          0.011952392756938934,
          0.011077848263084888,
          0.012379055842757225,
          0.026966294273734093,
          0.011072002351284027,
          0.008461187593638897,
          0.010187916457653046,
          0.012827609665691853,
          0.01690831407904625,
          0.010173733346164227,
          0.008556399494409561,
          0.014148092828691006,
          0.012271475046873093,
          0.03854391723871231,
          0.012556550092995167,
          0.012381451204419136,
          0.0721730887889862,
          0.009113493375480175,
          0.009593567810952663,
          0.011474808678030968,
          0.0104310167953372,
          0.010545610450208187,
          0.009475144557654858,
          0.02048577554523945,
          0.00715989712625742
         ],
         "yaxis": "y"
        },
        {
         "name": "Doğrulama Kaybı",
         "type": "scatter",
         "xaxis": "x",
         "y": [
          0.52359539270401,
          0.30775129795074463,
          0.23115938901901245,
          0.1401752084493637,
          0.11755348742008209,
          0.11693872511386871,
          0.11233140528202057,
          0.08035632967948914,
          0.07827828079462051,
          0.11768152564764023,
          0.07097545266151428,
          0.07321547716856003,
          0.05792493745684624,
          0.11053552478551865,
          0.05586720630526543,
          0.06859401613473892,
          0.11748532205820084,
          0.06396454572677612,
          0.060120731592178345,
          0.04019036516547203,
          0.04001505300402641,
          0.05715160071849823,
          0.04926040396094322,
          0.05266756936907768,
          0.03504405543208122,
          0.03357807174324989,
          0.03339557349681854,
          0.042668845504522324,
          0.043047647923231125,
          0.04043419286608696,
          0.03717106580734253,
          0.03483773395419121,
          0.03303815424442291,
          0.03474727272987366,
          0.03723069280385971,
          0.027048319578170776,
          0.021061088889837265,
          0.03258812427520752,
          0.0659099742770195,
          0.0241714958101511,
          0.022643176838755608,
          0.025751367211341858,
          0.025193609297275543,
          0.025670597329735756,
          0.019595598801970482,
          0.02151366136968136,
          0.013722393661737442,
          0.021582111716270447,
          0.024417167529463768,
          0.020996488630771637,
          0.03013002499938011,
          0.018113091588020325,
          0.021197672933340073,
          0.02277730219066143,
          0.015039199031889439,
          0.011564846150577068,
          0.0460091307759285,
          0.028746627271175385,
          0.013834386132657528,
          0.010312211699783802,
          0.016505202278494835,
          0.017025895416736603,
          0.014819054864346981,
          0.034897420555353165,
          0.011251842603087425,
          0.009765750728547573,
          0.02678673528134823,
          0.024507682770490646,
          0.09913988411426544,
          0.014580280520021915,
          0.034694854170084,
          0.02303759567439556,
          0.012670058757066727,
          0.01902678981423378,
          0.014542155899107456,
          0.00944708101451397,
          0.007406382821500301,
          0.009825856424868107,
          0.0075807650573551655,
          0.011999707669019699,
          0.013367190025746822,
          0.052561528980731964,
          0.03143860772252083,
          0.006601837929338217,
          0.008105674758553505,
          0.007802516687661409,
          0.007881829515099525,
          0.009060915559530258,
          0.01815306395292282,
          0.03262892737984657,
          0.005103904753923416,
          0.011493642814457417,
          0.00499735726043582,
          0.01083531603217125,
          0.010547783225774765,
          0.02503778040409088,
          0.01192246749997139,
          0.012918478809297085,
          0.008886191993951797,
          0.008054479956626892
         ],
         "yaxis": "y"
        },
        {
         "mode": "markers",
         "name": "Eğitim Başarısı",
         "type": "scatter",
         "xaxis": "x2",
         "y": [
          0.6501636505126953,
          0.8788870573043823,
          0.9439443349838257,
          0.9709492921829224,
          0.9758592247962952,
          0.9807692170143127,
          0.9754500985145569,
          0.9758592247962952,
          0.9828150868415833,
          0.9815875887870789,
          0.9844517111778259,
          0.9803600907325745,
          0.9864975214004517,
          0.9852700233459473,
          0.9869067072868347,
          0.9873158931732178,
          0.9844517111778259,
          0.9873158931732178,
          0.9881342053413391,
          0.9889525175094604,
          0.9905892014503479,
          0.9889525175094604,
          0.9897708892822266,
          0.9844517111778259,
          0.9864975214004517,
          0.990998387336731,
          0.9864975214004517,
          0.9836333990097046,
          0.990998387336731,
          0.987725019454956,
          0.9926350116729736,
          0.990998387336731,
          0.993862509727478,
          0.9946808218955994,
          0.9873158931732178,
          0.9901800155639648,
          0.9869067072868347,
          0.9918166995048523,
          0.9889525175094604,
          0.9918166995048523,
          0.9934533834457397,
          0.9963175058364868,
          0.9942716956138611,
          0.9946808218955994,
          0.9942716956138611,
          0.9979541897773743,
          0.9954991936683655,
          0.9971358180046082,
          0.9967266917228699,
          0.9954991936683655,
          0.9934533834457397,
          0.9893617033958435,
          0.9979541897773743,
          0.9975450038909912,
          0.9914075136184692,
          0.9967266917228699,
          0.9971358180046082,
          0.9930441975593567,
          0.9914075136184692,
          0.9959083199501038,
          0.9971358180046082,
          0.9983633160591125,
          0.9967266917228699,
          0.9963175058364868,
          0.9954991936683655,
          0.9983633160591125,
          0.9963175058364868,
          0.9926350116729736,
          0.9922258853912354,
          0.9926350116729736,
          0.9954991936683655,
          0.9905892014503479,
          0.9954991936683655,
          0.9975450038909912,
          0.9971358180046082,
          0.9967266917228699,
          0.9963175058364868,
          0.9971358180046082,
          0.9926350116729736,
          0.9971358180046082,
          0.9975450038909912,
          0.9979541897773743,
          0.9979541897773743,
          0.9954991936683655,
          0.9983633160591125,
          0.9983633160591125,
          0.9967266917228699,
          0.9959083199501038,
          0.9869067072868347,
          0.9963175058364868,
          0.9971358180046082,
          0.9836333990097046,
          0.9983633160591125,
          0.9987725019454956,
          0.9975450038909912,
          0.9975450038909912,
          0.9975450038909912,
          0.9987725019454956,
          0.9926350116729736,
          0.9983633160591125
         ],
         "yaxis": "y2"
        },
        {
         "line": {
          "color": "firebrick",
          "dash": "dash",
          "width": 1
         },
         "mode": "lines",
         "name": "Doğrulama Başarısı",
         "type": "scatter",
         "xaxis": "x2",
         "y": [
          0.8496732115745544,
          0.9133986830711365,
          0.9281045794487,
          0.9673202633857727,
          0.9656862616539001,
          0.9575163125991821,
          0.9624183177947998,
          0.9754902124404907,
          0.9640522599220276,
          0.9558823704719543,
          0.9673202633857727,
          0.9640522599220276,
          0.9852941036224365,
          0.9558823704719543,
          0.9803921580314636,
          0.9673202633857727,
          0.9558823704719543,
          0.9754902124404907,
          0.9771241545677185,
          0.9869281053543091,
          0.9803921580314636,
          0.9803921580314636,
          0.9820261597633362,
          0.9803921580314636,
          0.9852941036224365,
          0.9885621070861816,
          0.9934640526771545,
          0.9803921580314636,
          0.9771241545677185,
          0.9852941036224365,
          0.9901960492134094,
          0.9803921580314636,
          0.9852941036224365,
          0.9852941036224365,
          0.9852941036224365,
          0.983660101890564,
          0.991830050945282,
          0.983660101890564,
          0.9754902124404907,
          0.9885621070861816,
          0.9901960492134094,
          0.9869281053543091,
          0.9852941036224365,
          0.9869281053543091,
          0.991830050945282,
          0.9901960492134094,
          0.9950980544090271,
          0.991830050945282,
          0.9885621070861816,
          0.9901960492134094,
          0.9934640526771545,
          0.991830050945282,
          0.9950980544090271,
          0.9852941036224365,
          0.9950980544090271,
          0.9934640526771545,
          0.9901960492134094,
          0.9820261597633362,
          0.9950980544090271,
          0.9950980544090271,
          0.9950980544090271,
          0.9934640526771545,
          0.9967319965362549,
          0.9852941036224365,
          0.9983659982681274,
          1,
          0.9869281053543091,
          0.9885621070861816,
          0.9673202633857727,
          0.991830050945282,
          0.9869281053543091,
          0.9901960492134094,
          0.9950980544090271,
          0.991830050945282,
          0.991830050945282,
          0.9950980544090271,
          0.9983659982681274,
          0.9983659982681274,
          1,
          1,
          0.9901960492134094,
          0.9803921580314636,
          0.9901960492134094,
          0.9983659982681274,
          0.9983659982681274,
          0.9950980544090271,
          0.9950980544090271,
          0.991830050945282,
          0.9950980544090271,
          0.983660101890564,
          1,
          0.9967319965362549,
          1,
          0.9950980544090271,
          0.9950980544090271,
          0.9885621070861816,
          0.9950980544090271,
          0.9950980544090271,
          0.9983659982681274,
          0.9983659982681274
         ],
         "yaxis": "y2"
        }
       ],
       "layout": {
        "height": 500,
        "template": {
         "data": {
          "bar": [
           {
            "error_x": {
             "color": "#2a3f5f"
            },
            "error_y": {
             "color": "#2a3f5f"
            },
            "marker": {
             "line": {
              "color": "#E5ECF6",
              "width": 0.5
             },
             "pattern": {
              "fillmode": "overlay",
              "size": 10,
              "solidity": 0.2
             }
            },
            "type": "bar"
           }
          ],
          "barpolar": [
           {
            "marker": {
             "line": {
              "color": "#E5ECF6",
              "width": 0.5
             },
             "pattern": {
              "fillmode": "overlay",
              "size": 10,
              "solidity": 0.2
             }
            },
            "type": "barpolar"
           }
          ],
          "carpet": [
           {
            "aaxis": {
             "endlinecolor": "#2a3f5f",
             "gridcolor": "white",
             "linecolor": "white",
             "minorgridcolor": "white",
             "startlinecolor": "#2a3f5f"
            },
            "baxis": {
             "endlinecolor": "#2a3f5f",
             "gridcolor": "white",
             "linecolor": "white",
             "minorgridcolor": "white",
             "startlinecolor": "#2a3f5f"
            },
            "type": "carpet"
           }
          ],
          "choropleth": [
           {
            "colorbar": {
             "outlinewidth": 0,
             "ticks": ""
            },
            "type": "choropleth"
           }
          ],
          "contour": [
           {
            "colorbar": {
             "outlinewidth": 0,
             "ticks": ""
            },
            "colorscale": [
             [
              0,
              "#0d0887"
             ],
             [
              0.1111111111111111,
              "#46039f"
             ],
             [
              0.2222222222222222,
              "#7201a8"
             ],
             [
              0.3333333333333333,
              "#9c179e"
             ],
             [
              0.4444444444444444,
              "#bd3786"
             ],
             [
              0.5555555555555556,
              "#d8576b"
             ],
             [
              0.6666666666666666,
              "#ed7953"
             ],
             [
              0.7777777777777778,
              "#fb9f3a"
             ],
             [
              0.8888888888888888,
              "#fdca26"
             ],
             [
              1,
              "#f0f921"
             ]
            ],
            "type": "contour"
           }
          ],
          "contourcarpet": [
           {
            "colorbar": {
             "outlinewidth": 0,
             "ticks": ""
            },
            "type": "contourcarpet"
           }
          ],
          "heatmap": [
           {
            "colorbar": {
             "outlinewidth": 0,
             "ticks": ""
            },
            "colorscale": [
             [
              0,
              "#0d0887"
             ],
             [
              0.1111111111111111,
              "#46039f"
             ],
             [
              0.2222222222222222,
              "#7201a8"
             ],
             [
              0.3333333333333333,
              "#9c179e"
             ],
             [
              0.4444444444444444,
              "#bd3786"
             ],
             [
              0.5555555555555556,
              "#d8576b"
             ],
             [
              0.6666666666666666,
              "#ed7953"
             ],
             [
              0.7777777777777778,
              "#fb9f3a"
             ],
             [
              0.8888888888888888,
              "#fdca26"
             ],
             [
              1,
              "#f0f921"
             ]
            ],
            "type": "heatmap"
           }
          ],
          "heatmapgl": [
           {
            "colorbar": {
             "outlinewidth": 0,
             "ticks": ""
            },
            "colorscale": [
             [
              0,
              "#0d0887"
             ],
             [
              0.1111111111111111,
              "#46039f"
             ],
             [
              0.2222222222222222,
              "#7201a8"
             ],
             [
              0.3333333333333333,
              "#9c179e"
             ],
             [
              0.4444444444444444,
              "#bd3786"
             ],
             [
              0.5555555555555556,
              "#d8576b"
             ],
             [
              0.6666666666666666,
              "#ed7953"
             ],
             [
              0.7777777777777778,
              "#fb9f3a"
             ],
             [
              0.8888888888888888,
              "#fdca26"
             ],
             [
              1,
              "#f0f921"
             ]
            ],
            "type": "heatmapgl"
           }
          ],
          "histogram": [
           {
            "marker": {
             "pattern": {
              "fillmode": "overlay",
              "size": 10,
              "solidity": 0.2
             }
            },
            "type": "histogram"
           }
          ],
          "histogram2d": [
           {
            "colorbar": {
             "outlinewidth": 0,
             "ticks": ""
            },
            "colorscale": [
             [
              0,
              "#0d0887"
             ],
             [
              0.1111111111111111,
              "#46039f"
             ],
             [
              0.2222222222222222,
              "#7201a8"
             ],
             [
              0.3333333333333333,
              "#9c179e"
             ],
             [
              0.4444444444444444,
              "#bd3786"
             ],
             [
              0.5555555555555556,
              "#d8576b"
             ],
             [
              0.6666666666666666,
              "#ed7953"
             ],
             [
              0.7777777777777778,
              "#fb9f3a"
             ],
             [
              0.8888888888888888,
              "#fdca26"
             ],
             [
              1,
              "#f0f921"
             ]
            ],
            "type": "histogram2d"
           }
          ],
          "histogram2dcontour": [
           {
            "colorbar": {
             "outlinewidth": 0,
             "ticks": ""
            },
            "colorscale": [
             [
              0,
              "#0d0887"
             ],
             [
              0.1111111111111111,
              "#46039f"
             ],
             [
              0.2222222222222222,
              "#7201a8"
             ],
             [
              0.3333333333333333,
              "#9c179e"
             ],
             [
              0.4444444444444444,
              "#bd3786"
             ],
             [
              0.5555555555555556,
              "#d8576b"
             ],
             [
              0.6666666666666666,
              "#ed7953"
             ],
             [
              0.7777777777777778,
              "#fb9f3a"
             ],
             [
              0.8888888888888888,
              "#fdca26"
             ],
             [
              1,
              "#f0f921"
             ]
            ],
            "type": "histogram2dcontour"
           }
          ],
          "mesh3d": [
           {
            "colorbar": {
             "outlinewidth": 0,
             "ticks": ""
            },
            "type": "mesh3d"
           }
          ],
          "parcoords": [
           {
            "line": {
             "colorbar": {
              "outlinewidth": 0,
              "ticks": ""
             }
            },
            "type": "parcoords"
           }
          ],
          "pie": [
           {
            "automargin": true,
            "type": "pie"
           }
          ],
          "scatter": [
           {
            "fillpattern": {
             "fillmode": "overlay",
             "size": 10,
             "solidity": 0.2
            },
            "type": "scatter"
           }
          ],
          "scatter3d": [
           {
            "line": {
             "colorbar": {
              "outlinewidth": 0,
              "ticks": ""
             }
            },
            "marker": {
             "colorbar": {
              "outlinewidth": 0,
              "ticks": ""
             }
            },
            "type": "scatter3d"
           }
          ],
          "scattercarpet": [
           {
            "marker": {
             "colorbar": {
              "outlinewidth": 0,
              "ticks": ""
             }
            },
            "type": "scattercarpet"
           }
          ],
          "scattergeo": [
           {
            "marker": {
             "colorbar": {
              "outlinewidth": 0,
              "ticks": ""
             }
            },
            "type": "scattergeo"
           }
          ],
          "scattergl": [
           {
            "marker": {
             "colorbar": {
              "outlinewidth": 0,
              "ticks": ""
             }
            },
            "type": "scattergl"
           }
          ],
          "scattermapbox": [
           {
            "marker": {
             "colorbar": {
              "outlinewidth": 0,
              "ticks": ""
             }
            },
            "type": "scattermapbox"
           }
          ],
          "scatterpolar": [
           {
            "marker": {
             "colorbar": {
              "outlinewidth": 0,
              "ticks": ""
             }
            },
            "type": "scatterpolar"
           }
          ],
          "scatterpolargl": [
           {
            "marker": {
             "colorbar": {
              "outlinewidth": 0,
              "ticks": ""
             }
            },
            "type": "scatterpolargl"
           }
          ],
          "scatterternary": [
           {
            "marker": {
             "colorbar": {
              "outlinewidth": 0,
              "ticks": ""
             }
            },
            "type": "scatterternary"
           }
          ],
          "surface": [
           {
            "colorbar": {
             "outlinewidth": 0,
             "ticks": ""
            },
            "colorscale": [
             [
              0,
              "#0d0887"
             ],
             [
              0.1111111111111111,
              "#46039f"
             ],
             [
              0.2222222222222222,
              "#7201a8"
             ],
             [
              0.3333333333333333,
              "#9c179e"
             ],
             [
              0.4444444444444444,
              "#bd3786"
             ],
             [
              0.5555555555555556,
              "#d8576b"
             ],
             [
              0.6666666666666666,
              "#ed7953"
             ],
             [
              0.7777777777777778,
              "#fb9f3a"
             ],
             [
              0.8888888888888888,
              "#fdca26"
             ],
             [
              1,
              "#f0f921"
             ]
            ],
            "type": "surface"
           }
          ],
          "table": [
           {
            "cells": {
             "fill": {
              "color": "#EBF0F8"
             },
             "line": {
              "color": "white"
             }
            },
            "header": {
             "fill": {
              "color": "#C8D4E3"
             },
             "line": {
              "color": "white"
             }
            },
            "type": "table"
           }
          ]
         },
         "layout": {
          "annotationdefaults": {
           "arrowcolor": "#2a3f5f",
           "arrowhead": 0,
           "arrowwidth": 1
          },
          "autotypenumbers": "strict",
          "coloraxis": {
           "colorbar": {
            "outlinewidth": 0,
            "ticks": ""
           }
          },
          "colorscale": {
           "diverging": [
            [
             0,
             "#8e0152"
            ],
            [
             0.1,
             "#c51b7d"
            ],
            [
             0.2,
             "#de77ae"
            ],
            [
             0.3,
             "#f1b6da"
            ],
            [
             0.4,
             "#fde0ef"
            ],
            [
             0.5,
             "#f7f7f7"
            ],
            [
             0.6,
             "#e6f5d0"
            ],
            [
             0.7,
             "#b8e186"
            ],
            [
             0.8,
             "#7fbc41"
            ],
            [
             0.9,
             "#4d9221"
            ],
            [
             1,
             "#276419"
            ]
           ],
           "sequential": [
            [
             0,
             "#0d0887"
            ],
            [
             0.1111111111111111,
             "#46039f"
            ],
            [
             0.2222222222222222,
             "#7201a8"
            ],
            [
             0.3333333333333333,
             "#9c179e"
            ],
            [
             0.4444444444444444,
             "#bd3786"
            ],
            [
             0.5555555555555556,
             "#d8576b"
            ],
            [
             0.6666666666666666,
             "#ed7953"
            ],
            [
             0.7777777777777778,
             "#fb9f3a"
            ],
            [
             0.8888888888888888,
             "#fdca26"
            ],
            [
             1,
             "#f0f921"
            ]
           ],
           "sequentialminus": [
            [
             0,
             "#0d0887"
            ],
            [
             0.1111111111111111,
             "#46039f"
            ],
            [
             0.2222222222222222,
             "#7201a8"
            ],
            [
             0.3333333333333333,
             "#9c179e"
            ],
            [
             0.4444444444444444,
             "#bd3786"
            ],
            [
             0.5555555555555556,
             "#d8576b"
            ],
            [
             0.6666666666666666,
             "#ed7953"
            ],
            [
             0.7777777777777778,
             "#fb9f3a"
            ],
            [
             0.8888888888888888,
             "#fdca26"
            ],
            [
             1,
             "#f0f921"
            ]
           ]
          },
          "colorway": [
           "#636efa",
           "#EF553B",
           "#00cc96",
           "#ab63fa",
           "#FFA15A",
           "#19d3f3",
           "#FF6692",
           "#B6E880",
           "#FF97FF",
           "#FECB52"
          ],
          "font": {
           "color": "#2a3f5f"
          },
          "geo": {
           "bgcolor": "white",
           "lakecolor": "white",
           "landcolor": "#E5ECF6",
           "showlakes": true,
           "showland": true,
           "subunitcolor": "white"
          },
          "hoverlabel": {
           "align": "left"
          },
          "hovermode": "closest",
          "mapbox": {
           "style": "light"
          },
          "paper_bgcolor": "white",
          "plot_bgcolor": "#E5ECF6",
          "polar": {
           "angularaxis": {
            "gridcolor": "white",
            "linecolor": "white",
            "ticks": ""
           },
           "bgcolor": "#E5ECF6",
           "radialaxis": {
            "gridcolor": "white",
            "linecolor": "white",
            "ticks": ""
           }
          },
          "scene": {
           "xaxis": {
            "backgroundcolor": "#E5ECF6",
            "gridcolor": "white",
            "gridwidth": 2,
            "linecolor": "white",
            "showbackground": true,
            "ticks": "",
            "zerolinecolor": "white"
           },
           "yaxis": {
            "backgroundcolor": "#E5ECF6",
            "gridcolor": "white",
            "gridwidth": 2,
            "linecolor": "white",
            "showbackground": true,
            "ticks": "",
            "zerolinecolor": "white"
           },
           "zaxis": {
            "backgroundcolor": "#E5ECF6",
            "gridcolor": "white",
            "gridwidth": 2,
            "linecolor": "white",
            "showbackground": true,
            "ticks": "",
            "zerolinecolor": "white"
           }
          },
          "shapedefaults": {
           "line": {
            "color": "#2a3f5f"
           }
          },
          "ternary": {
           "aaxis": {
            "gridcolor": "white",
            "linecolor": "white",
            "ticks": ""
           },
           "baxis": {
            "gridcolor": "white",
            "linecolor": "white",
            "ticks": ""
           },
           "bgcolor": "#E5ECF6",
           "caxis": {
            "gridcolor": "white",
            "linecolor": "white",
            "ticks": ""
           }
          },
          "title": {
           "x": 0.05
          },
          "xaxis": {
           "automargin": true,
           "gridcolor": "white",
           "linecolor": "white",
           "ticks": "",
           "title": {
            "standoff": 15
           },
           "zerolinecolor": "white",
           "zerolinewidth": 2
          },
          "yaxis": {
           "automargin": true,
           "gridcolor": "white",
           "linecolor": "white",
           "ticks": "",
           "title": {
            "standoff": 15
           },
           "zerolinecolor": "white",
           "zerolinewidth": 2
          }
         }
        },
        "title": {
         "text": "Eğitim ve Doğrulama Metrikleri"
        },
        "width": 1000,
        "xaxis": {
         "anchor": "y",
         "domain": [
          0,
          0.45
         ]
        },
        "xaxis2": {
         "anchor": "y2",
         "domain": [
          0.55,
          1
         ]
        },
        "yaxis": {
         "anchor": "x",
         "domain": [
          0,
          1
         ]
        },
        "yaxis2": {
         "anchor": "x2",
         "domain": [
          0,
          1
         ]
        }
       }
      }
     },
     "metadata": {},
     "output_type": "display_data"
    }
   ],
   "source": [
    "# Eğitim ve doğrulama kayıp grafiği ve Eğitim ve doğrulama başarı grafiği\n",
    "\n",
    "import plotly.graph_objects as go\n",
    "from plotly.subplots import make_subplots\n",
    "\n",
    "fig = make_subplots(rows=1, cols=2)\n",
    "\n",
    "fig.add_trace(\n",
    "    go.Scatter(y=history.history['loss'], name=\"Eğitim Kaybı\"),\n",
    "    row=1, col=1\n",
    ")\n",
    "\n",
    "fig.add_trace(\n",
    "    go.Scatter(y=history.history['val_loss'], name=\"Doğrulama Kaybı\"),\n",
    "    row=1, col=1\n",
    ")\n",
    "\n",
    "fig.add_trace(\n",
    "    go.Scatter(y=history.history['accuracy'], name=\"Eğitim Başarısı\", \n",
    "            mode='markers'\n",
    "               ),\n",
    "    row=1, col=2\n",
    ")\n",
    "\n",
    "fig.add_trace(\n",
    "    go.Scatter(y=history.history['val_accuracy'], name=\"Doğrulama Başarısı\",\n",
    "               mode='lines', line=dict(color='firebrick', width=1, dash='dash')\n",
    "               ),\n",
    "    row=1, col=2\n",
    ")\n",
    "fig.update_layout(height=500, width=1000, title_text=\"Eğitim ve Doğrulama Metrikleri\")\n",
    "fig.show()\n",
    "\n"
   ]
  },
  {
   "cell_type": "code",
   "execution_count": 18,
   "metadata": {},
   "outputs": [
    {
     "name": "stdout",
     "output_type": "stream",
     "text": [
      "24/24 - 0s - loss: 0.0123 - accuracy: 0.9948 - 31ms/epoch - 1ms/step\n",
      "24/24 [==============================] - 0s 609us/step\n"
     ]
    },
    {
     "name": "stderr",
     "output_type": "stream",
     "text": [
      "c:\\Users\\PC\\AppData\\Local\\Programs\\Python\\Python311\\Lib\\site-packages\\sklearn\\preprocessing\\_label.py:155: DataConversionWarning:\n",
      "\n",
      "A column-vector y was passed when a 1d array was expected. Please change the shape of y to (n_samples, ), for example using ravel().\n",
      "\n"
     ]
    },
    {
     "data": {
      "application/vnd.plotly.v1+json": {
       "config": {
        "plotlyServerURL": "https://plot.ly"
       },
       "data": [
        {
         "colorscale": [
          [
           0,
           "#440154"
          ],
          [
           0.1111111111111111,
           "#482878"
          ],
          [
           0.2222222222222222,
           "#3e4989"
          ],
          [
           0.3333333333333333,
           "#31688e"
          ],
          [
           0.4444444444444444,
           "#26828e"
          ],
          [
           0.5555555555555556,
           "#1f9e89"
          ],
          [
           0.6666666666666666,
           "#35b779"
          ],
          [
           0.7777777777777778,
           "#6ece58"
          ],
          [
           0.8888888888888888,
           "#b5de2b"
          ],
          [
           1,
           "#fde725"
          ]
         ],
         "reversescale": false,
         "showscale": false,
         "type": "heatmap",
         "x": [
          "Food",
          "HC",
          "PC"
         ],
         "y": [
          "Food",
          "HC",
          "PC"
         ],
         "z": [
          [
           0,
           0,
           0
          ],
          [
           0,
           167,
           4
          ],
          [
           0,
           0,
           324
          ]
         ]
        }
       ],
       "layout": {
        "annotations": [
         {
          "font": {
           "color": "#FFFFFF"
          },
          "showarrow": false,
          "text": "0",
          "x": "Food",
          "xref": "x",
          "y": "Food",
          "yref": "y"
         },
         {
          "font": {
           "color": "#FFFFFF"
          },
          "showarrow": false,
          "text": "0",
          "x": "HC",
          "xref": "x",
          "y": "Food",
          "yref": "y"
         },
         {
          "font": {
           "color": "#FFFFFF"
          },
          "showarrow": false,
          "text": "0",
          "x": "PC",
          "xref": "x",
          "y": "Food",
          "yref": "y"
         },
         {
          "font": {
           "color": "#FFFFFF"
          },
          "showarrow": false,
          "text": "0",
          "x": "Food",
          "xref": "x",
          "y": "HC",
          "yref": "y"
         },
         {
          "font": {
           "color": "#000000"
          },
          "showarrow": false,
          "text": "167",
          "x": "HC",
          "xref": "x",
          "y": "HC",
          "yref": "y"
         },
         {
          "font": {
           "color": "#FFFFFF"
          },
          "showarrow": false,
          "text": "4",
          "x": "PC",
          "xref": "x",
          "y": "HC",
          "yref": "y"
         },
         {
          "font": {
           "color": "#FFFFFF"
          },
          "showarrow": false,
          "text": "0",
          "x": "Food",
          "xref": "x",
          "y": "PC",
          "yref": "y"
         },
         {
          "font": {
           "color": "#FFFFFF"
          },
          "showarrow": false,
          "text": "0",
          "x": "HC",
          "xref": "x",
          "y": "PC",
          "yref": "y"
         },
         {
          "font": {
           "color": "#000000"
          },
          "showarrow": false,
          "text": "324",
          "x": "PC",
          "xref": "x",
          "y": "PC",
          "yref": "y"
         }
        ],
        "template": {
         "data": {
          "bar": [
           {
            "error_x": {
             "color": "#2a3f5f"
            },
            "error_y": {
             "color": "#2a3f5f"
            },
            "marker": {
             "line": {
              "color": "#E5ECF6",
              "width": 0.5
             },
             "pattern": {
              "fillmode": "overlay",
              "size": 10,
              "solidity": 0.2
             }
            },
            "type": "bar"
           }
          ],
          "barpolar": [
           {
            "marker": {
             "line": {
              "color": "#E5ECF6",
              "width": 0.5
             },
             "pattern": {
              "fillmode": "overlay",
              "size": 10,
              "solidity": 0.2
             }
            },
            "type": "barpolar"
           }
          ],
          "carpet": [
           {
            "aaxis": {
             "endlinecolor": "#2a3f5f",
             "gridcolor": "white",
             "linecolor": "white",
             "minorgridcolor": "white",
             "startlinecolor": "#2a3f5f"
            },
            "baxis": {
             "endlinecolor": "#2a3f5f",
             "gridcolor": "white",
             "linecolor": "white",
             "minorgridcolor": "white",
             "startlinecolor": "#2a3f5f"
            },
            "type": "carpet"
           }
          ],
          "choropleth": [
           {
            "colorbar": {
             "outlinewidth": 0,
             "ticks": ""
            },
            "type": "choropleth"
           }
          ],
          "contour": [
           {
            "colorbar": {
             "outlinewidth": 0,
             "ticks": ""
            },
            "colorscale": [
             [
              0,
              "#0d0887"
             ],
             [
              0.1111111111111111,
              "#46039f"
             ],
             [
              0.2222222222222222,
              "#7201a8"
             ],
             [
              0.3333333333333333,
              "#9c179e"
             ],
             [
              0.4444444444444444,
              "#bd3786"
             ],
             [
              0.5555555555555556,
              "#d8576b"
             ],
             [
              0.6666666666666666,
              "#ed7953"
             ],
             [
              0.7777777777777778,
              "#fb9f3a"
             ],
             [
              0.8888888888888888,
              "#fdca26"
             ],
             [
              1,
              "#f0f921"
             ]
            ],
            "type": "contour"
           }
          ],
          "contourcarpet": [
           {
            "colorbar": {
             "outlinewidth": 0,
             "ticks": ""
            },
            "type": "contourcarpet"
           }
          ],
          "heatmap": [
           {
            "colorbar": {
             "outlinewidth": 0,
             "ticks": ""
            },
            "colorscale": [
             [
              0,
              "#0d0887"
             ],
             [
              0.1111111111111111,
              "#46039f"
             ],
             [
              0.2222222222222222,
              "#7201a8"
             ],
             [
              0.3333333333333333,
              "#9c179e"
             ],
             [
              0.4444444444444444,
              "#bd3786"
             ],
             [
              0.5555555555555556,
              "#d8576b"
             ],
             [
              0.6666666666666666,
              "#ed7953"
             ],
             [
              0.7777777777777778,
              "#fb9f3a"
             ],
             [
              0.8888888888888888,
              "#fdca26"
             ],
             [
              1,
              "#f0f921"
             ]
            ],
            "type": "heatmap"
           }
          ],
          "heatmapgl": [
           {
            "colorbar": {
             "outlinewidth": 0,
             "ticks": ""
            },
            "colorscale": [
             [
              0,
              "#0d0887"
             ],
             [
              0.1111111111111111,
              "#46039f"
             ],
             [
              0.2222222222222222,
              "#7201a8"
             ],
             [
              0.3333333333333333,
              "#9c179e"
             ],
             [
              0.4444444444444444,
              "#bd3786"
             ],
             [
              0.5555555555555556,
              "#d8576b"
             ],
             [
              0.6666666666666666,
              "#ed7953"
             ],
             [
              0.7777777777777778,
              "#fb9f3a"
             ],
             [
              0.8888888888888888,
              "#fdca26"
             ],
             [
              1,
              "#f0f921"
             ]
            ],
            "type": "heatmapgl"
           }
          ],
          "histogram": [
           {
            "marker": {
             "pattern": {
              "fillmode": "overlay",
              "size": 10,
              "solidity": 0.2
             }
            },
            "type": "histogram"
           }
          ],
          "histogram2d": [
           {
            "colorbar": {
             "outlinewidth": 0,
             "ticks": ""
            },
            "colorscale": [
             [
              0,
              "#0d0887"
             ],
             [
              0.1111111111111111,
              "#46039f"
             ],
             [
              0.2222222222222222,
              "#7201a8"
             ],
             [
              0.3333333333333333,
              "#9c179e"
             ],
             [
              0.4444444444444444,
              "#bd3786"
             ],
             [
              0.5555555555555556,
              "#d8576b"
             ],
             [
              0.6666666666666666,
              "#ed7953"
             ],
             [
              0.7777777777777778,
              "#fb9f3a"
             ],
             [
              0.8888888888888888,
              "#fdca26"
             ],
             [
              1,
              "#f0f921"
             ]
            ],
            "type": "histogram2d"
           }
          ],
          "histogram2dcontour": [
           {
            "colorbar": {
             "outlinewidth": 0,
             "ticks": ""
            },
            "colorscale": [
             [
              0,
              "#0d0887"
             ],
             [
              0.1111111111111111,
              "#46039f"
             ],
             [
              0.2222222222222222,
              "#7201a8"
             ],
             [
              0.3333333333333333,
              "#9c179e"
             ],
             [
              0.4444444444444444,
              "#bd3786"
             ],
             [
              0.5555555555555556,
              "#d8576b"
             ],
             [
              0.6666666666666666,
              "#ed7953"
             ],
             [
              0.7777777777777778,
              "#fb9f3a"
             ],
             [
              0.8888888888888888,
              "#fdca26"
             ],
             [
              1,
              "#f0f921"
             ]
            ],
            "type": "histogram2dcontour"
           }
          ],
          "mesh3d": [
           {
            "colorbar": {
             "outlinewidth": 0,
             "ticks": ""
            },
            "type": "mesh3d"
           }
          ],
          "parcoords": [
           {
            "line": {
             "colorbar": {
              "outlinewidth": 0,
              "ticks": ""
             }
            },
            "type": "parcoords"
           }
          ],
          "pie": [
           {
            "automargin": true,
            "type": "pie"
           }
          ],
          "scatter": [
           {
            "fillpattern": {
             "fillmode": "overlay",
             "size": 10,
             "solidity": 0.2
            },
            "type": "scatter"
           }
          ],
          "scatter3d": [
           {
            "line": {
             "colorbar": {
              "outlinewidth": 0,
              "ticks": ""
             }
            },
            "marker": {
             "colorbar": {
              "outlinewidth": 0,
              "ticks": ""
             }
            },
            "type": "scatter3d"
           }
          ],
          "scattercarpet": [
           {
            "marker": {
             "colorbar": {
              "outlinewidth": 0,
              "ticks": ""
             }
            },
            "type": "scattercarpet"
           }
          ],
          "scattergeo": [
           {
            "marker": {
             "colorbar": {
              "outlinewidth": 0,
              "ticks": ""
             }
            },
            "type": "scattergeo"
           }
          ],
          "scattergl": [
           {
            "marker": {
             "colorbar": {
              "outlinewidth": 0,
              "ticks": ""
             }
            },
            "type": "scattergl"
           }
          ],
          "scattermapbox": [
           {
            "marker": {
             "colorbar": {
              "outlinewidth": 0,
              "ticks": ""
             }
            },
            "type": "scattermapbox"
           }
          ],
          "scatterpolar": [
           {
            "marker": {
             "colorbar": {
              "outlinewidth": 0,
              "ticks": ""
             }
            },
            "type": "scatterpolar"
           }
          ],
          "scatterpolargl": [
           {
            "marker": {
             "colorbar": {
              "outlinewidth": 0,
              "ticks": ""
             }
            },
            "type": "scatterpolargl"
           }
          ],
          "scatterternary": [
           {
            "marker": {
             "colorbar": {
              "outlinewidth": 0,
              "ticks": ""
             }
            },
            "type": "scatterternary"
           }
          ],
          "surface": [
           {
            "colorbar": {
             "outlinewidth": 0,
             "ticks": ""
            },
            "colorscale": [
             [
              0,
              "#0d0887"
             ],
             [
              0.1111111111111111,
              "#46039f"
             ],
             [
              0.2222222222222222,
              "#7201a8"
             ],
             [
              0.3333333333333333,
              "#9c179e"
             ],
             [
              0.4444444444444444,
              "#bd3786"
             ],
             [
              0.5555555555555556,
              "#d8576b"
             ],
             [
              0.6666666666666666,
              "#ed7953"
             ],
             [
              0.7777777777777778,
              "#fb9f3a"
             ],
             [
              0.8888888888888888,
              "#fdca26"
             ],
             [
              1,
              "#f0f921"
             ]
            ],
            "type": "surface"
           }
          ],
          "table": [
           {
            "cells": {
             "fill": {
              "color": "#EBF0F8"
             },
             "line": {
              "color": "white"
             }
            },
            "header": {
             "fill": {
              "color": "#C8D4E3"
             },
             "line": {
              "color": "white"
             }
            },
            "type": "table"
           }
          ]
         },
         "layout": {
          "annotationdefaults": {
           "arrowcolor": "#2a3f5f",
           "arrowhead": 0,
           "arrowwidth": 1
          },
          "autotypenumbers": "strict",
          "coloraxis": {
           "colorbar": {
            "outlinewidth": 0,
            "ticks": ""
           }
          },
          "colorscale": {
           "diverging": [
            [
             0,
             "#8e0152"
            ],
            [
             0.1,
             "#c51b7d"
            ],
            [
             0.2,
             "#de77ae"
            ],
            [
             0.3,
             "#f1b6da"
            ],
            [
             0.4,
             "#fde0ef"
            ],
            [
             0.5,
             "#f7f7f7"
            ],
            [
             0.6,
             "#e6f5d0"
            ],
            [
             0.7,
             "#b8e186"
            ],
            [
             0.8,
             "#7fbc41"
            ],
            [
             0.9,
             "#4d9221"
            ],
            [
             1,
             "#276419"
            ]
           ],
           "sequential": [
            [
             0,
             "#0d0887"
            ],
            [
             0.1111111111111111,
             "#46039f"
            ],
            [
             0.2222222222222222,
             "#7201a8"
            ],
            [
             0.3333333333333333,
             "#9c179e"
            ],
            [
             0.4444444444444444,
             "#bd3786"
            ],
            [
             0.5555555555555556,
             "#d8576b"
            ],
            [
             0.6666666666666666,
             "#ed7953"
            ],
            [
             0.7777777777777778,
             "#fb9f3a"
            ],
            [
             0.8888888888888888,
             "#fdca26"
            ],
            [
             1,
             "#f0f921"
            ]
           ],
           "sequentialminus": [
            [
             0,
             "#0d0887"
            ],
            [
             0.1111111111111111,
             "#46039f"
            ],
            [
             0.2222222222222222,
             "#7201a8"
            ],
            [
             0.3333333333333333,
             "#9c179e"
            ],
            [
             0.4444444444444444,
             "#bd3786"
            ],
            [
             0.5555555555555556,
             "#d8576b"
            ],
            [
             0.6666666666666666,
             "#ed7953"
            ],
            [
             0.7777777777777778,
             "#fb9f3a"
            ],
            [
             0.8888888888888888,
             "#fdca26"
            ],
            [
             1,
             "#f0f921"
            ]
           ]
          },
          "colorway": [
           "#636efa",
           "#EF553B",
           "#00cc96",
           "#ab63fa",
           "#FFA15A",
           "#19d3f3",
           "#FF6692",
           "#B6E880",
           "#FF97FF",
           "#FECB52"
          ],
          "font": {
           "color": "#2a3f5f"
          },
          "geo": {
           "bgcolor": "white",
           "lakecolor": "white",
           "landcolor": "#E5ECF6",
           "showlakes": true,
           "showland": true,
           "subunitcolor": "white"
          },
          "hoverlabel": {
           "align": "left"
          },
          "hovermode": "closest",
          "mapbox": {
           "style": "light"
          },
          "paper_bgcolor": "white",
          "plot_bgcolor": "#E5ECF6",
          "polar": {
           "angularaxis": {
            "gridcolor": "white",
            "linecolor": "white",
            "ticks": ""
           },
           "bgcolor": "#E5ECF6",
           "radialaxis": {
            "gridcolor": "white",
            "linecolor": "white",
            "ticks": ""
           }
          },
          "scene": {
           "xaxis": {
            "backgroundcolor": "#E5ECF6",
            "gridcolor": "white",
            "gridwidth": 2,
            "linecolor": "white",
            "showbackground": true,
            "ticks": "",
            "zerolinecolor": "white"
           },
           "yaxis": {
            "backgroundcolor": "#E5ECF6",
            "gridcolor": "white",
            "gridwidth": 2,
            "linecolor": "white",
            "showbackground": true,
            "ticks": "",
            "zerolinecolor": "white"
           },
           "zaxis": {
            "backgroundcolor": "#E5ECF6",
            "gridcolor": "white",
            "gridwidth": 2,
            "linecolor": "white",
            "showbackground": true,
            "ticks": "",
            "zerolinecolor": "white"
           }
          },
          "shapedefaults": {
           "line": {
            "color": "#2a3f5f"
           }
          },
          "ternary": {
           "aaxis": {
            "gridcolor": "white",
            "linecolor": "white",
            "ticks": ""
           },
           "baxis": {
            "gridcolor": "white",
            "linecolor": "white",
            "ticks": ""
           },
           "bgcolor": "#E5ECF6",
           "caxis": {
            "gridcolor": "white",
            "linecolor": "white",
            "ticks": ""
           }
          },
          "title": {
           "x": 0.05
          },
          "xaxis": {
           "automargin": true,
           "gridcolor": "white",
           "linecolor": "white",
           "ticks": "",
           "title": {
            "standoff": 15
           },
           "zerolinecolor": "white",
           "zerolinewidth": 2
          },
          "yaxis": {
           "automargin": true,
           "gridcolor": "white",
           "linecolor": "white",
           "ticks": "",
           "title": {
            "standoff": 15
           },
           "zerolinecolor": "white",
           "zerolinewidth": 2
          }
         }
        },
        "title": {
         "text": "Karmaşıklık Matrisi"
        },
        "xaxis": {
         "dtick": 1,
         "gridcolor": "rgb(0, 0, 0)",
         "side": "top",
         "ticks": "",
         "title": {
          "text": "Tahmin"
         }
        },
        "yaxis": {
         "dtick": 1,
         "ticks": "",
         "ticksuffix": "  ",
         "title": {
          "text": "Gerçek"
         }
        }
       }
      }
     },
     "metadata": {},
     "output_type": "display_data"
    }
   ],
   "source": [
    "# Test verileri üzerinde modeli değerlendirin\n",
    "y_test = y_test.reshape(-1, 1)\n",
    "model.evaluate(X_test, y_test, verbose=2)\n",
    "\n",
    "# Test verileri üzerinde tahmin yapın\n",
    "y_pred = model.predict(X_test)\n",
    "y_pred = np.argmax(y_pred, axis=1)\n",
    "y_pred = le.inverse_transform(y_pred)\n",
    "\n",
    "y_test = le.inverse_transform(y_test)\n",
    "\n",
    "from sklearn.metrics import confusion_matrix\n",
    "import plotly.figure_factory as ff\n",
    "\n",
    "cm = confusion_matrix(y_test, y_pred, labels=[\"Food\", \"HC\", \"PC\"])\n",
    "\n",
    "fig = ff.create_annotated_heatmap(\n",
    "    z=cm,\n",
    "    x=[\"Food\", \"HC\", \"PC\"],\n",
    "    y=[\"Food\", \"HC\", \"PC\"],\n",
    "    colorscale='Viridis'\n",
    ")\n",
    "\n",
    "fig.update_layout(title_text='Karmaşıklık Matrisi', xaxis = dict(title='Tahmin'), yaxis = dict(title='Gerçek'))\n",
    "\n",
    "fig.show()\n"
   ]
  }
 ],
 "metadata": {
  "kernelspec": {
   "display_name": "Python 3.11.0 64-bit",
   "language": "python",
   "name": "python3"
  },
  "language_info": {
   "codemirror_mode": {
    "name": "ipython",
    "version": 3
   },
   "file_extension": ".py",
   "mimetype": "text/x-python",
   "name": "python",
   "nbconvert_exporter": "python",
   "pygments_lexer": "ipython3",
   "version": "3.11.0"
  },
  "orig_nbformat": 4,
  "vscode": {
   "interpreter": {
    "hash": "5ffd7eb2cebf9ac436b5021ba01877e9cee6b03524e01bf8c8637d3e64111215"
   }
  }
 },
 "nbformat": 4,
 "nbformat_minor": 2
}
