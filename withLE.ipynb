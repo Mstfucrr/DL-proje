{
 "cells": [
  {
   "cell_type": "markdown",
   "metadata": {},
   "source": [
    "## Importing the libraries"
   ]
  },
  {
   "cell_type": "code",
   "execution_count": 439,
   "metadata": {},
   "outputs": [],
   "source": [
    "import matplotlib.pyplot as plt\n",
    "import numpy as np\n",
    "import pandas as pd\n",
    "import seaborn as sns"
   ]
  },
  {
   "cell_type": "markdown",
   "metadata": {},
   "source": [
    "## Importing the dataset"
   ]
  },
  {
   "cell_type": "code",
   "execution_count": 440,
   "metadata": {},
   "outputs": [
    {
     "data": {
      "text/html": [
       "<div>\n",
       "<style scoped>\n",
       "    .dataframe tbody tr th:only-of-type {\n",
       "        vertical-align: middle;\n",
       "    }\n",
       "\n",
       "    .dataframe tbody tr th {\n",
       "        vertical-align: top;\n",
       "    }\n",
       "\n",
       "    .dataframe thead th {\n",
       "        text-align: right;\n",
       "    }\n",
       "</style>\n",
       "<table border=\"1\" class=\"dataframe\">\n",
       "  <thead>\n",
       "    <tr style=\"text-align: right;\">\n",
       "      <th></th>\n",
       "      <th>KOD</th>\n",
       "      <th>BARKOD</th>\n",
       "      <th>MAMUL</th>\n",
       "      <th>K.İÇİ</th>\n",
       "      <th>GR</th>\n",
       "      <th>LİSTE</th>\n",
       "      <th>FATURA ALTI %</th>\n",
       "      <th>DÖNEM SONU %</th>\n",
       "      <th>KDV</th>\n",
       "      <th>NET MALİYET</th>\n",
       "      <th>Ö.RAF</th>\n",
       "      <th>KATEGORİ</th>\n",
       "      <th>AY</th>\n",
       "    </tr>\n",
       "  </thead>\n",
       "  <tbody>\n",
       "    <tr>\n",
       "      <th>0</th>\n",
       "      <td>67293883</td>\n",
       "      <td>8690637840746</td>\n",
       "      <td>1</td>\n",
       "      <td>8</td>\n",
       "      <td>400.0</td>\n",
       "      <td>21.85</td>\n",
       "      <td>12.0</td>\n",
       "      <td>5</td>\n",
       "      <td>0.01</td>\n",
       "      <td>18.449266</td>\n",
       "      <td>23.061583</td>\n",
       "      <td>FOOD</td>\n",
       "      <td>MART</td>\n",
       "    </tr>\n",
       "    <tr>\n",
       "      <th>1</th>\n",
       "      <td>67293891</td>\n",
       "      <td>8690637840821</td>\n",
       "      <td>1</td>\n",
       "      <td>8</td>\n",
       "      <td>400.0</td>\n",
       "      <td>21.85</td>\n",
       "      <td>12.0</td>\n",
       "      <td>5</td>\n",
       "      <td>0.01</td>\n",
       "      <td>18.449266</td>\n",
       "      <td>23.061583</td>\n",
       "      <td>FOOD</td>\n",
       "      <td>MART</td>\n",
       "    </tr>\n",
       "    <tr>\n",
       "      <th>2</th>\n",
       "      <td>67767533</td>\n",
       "      <td>8690637905896</td>\n",
       "      <td>1</td>\n",
       "      <td>12</td>\n",
       "      <td>600.0</td>\n",
       "      <td>27.00</td>\n",
       "      <td>13.0</td>\n",
       "      <td>5</td>\n",
       "      <td>0.01</td>\n",
       "      <td>22.538655</td>\n",
       "      <td>28.173319</td>\n",
       "      <td>FOOD</td>\n",
       "      <td>MART</td>\n",
       "    </tr>\n",
       "    <tr>\n",
       "      <th>3</th>\n",
       "      <td>67754288</td>\n",
       "      <td>8690637905193</td>\n",
       "      <td>1</td>\n",
       "      <td>12</td>\n",
       "      <td>600.0</td>\n",
       "      <td>27.00</td>\n",
       "      <td>13.0</td>\n",
       "      <td>5</td>\n",
       "      <td>0.01</td>\n",
       "      <td>22.538655</td>\n",
       "      <td>28.173319</td>\n",
       "      <td>FOOD</td>\n",
       "      <td>MART</td>\n",
       "    </tr>\n",
       "    <tr>\n",
       "      <th>4</th>\n",
       "      <td>68612788</td>\n",
       "      <td>8690637999277</td>\n",
       "      <td>1</td>\n",
       "      <td>8</td>\n",
       "      <td>335.0</td>\n",
       "      <td>39.75</td>\n",
       "      <td>10.0</td>\n",
       "      <td>5</td>\n",
       "      <td>0.01</td>\n",
       "      <td>34.326113</td>\n",
       "      <td>42.907641</td>\n",
       "      <td>FOOD</td>\n",
       "      <td>MART</td>\n",
       "    </tr>\n",
       "  </tbody>\n",
       "</table>\n",
       "</div>"
      ],
      "text/plain": [
       "        KOD         BARKOD  MAMUL  K.İÇİ     GR  LİSTE  FATURA ALTI %  \\\n",
       "0  67293883  8690637840746      1      8  400.0  21.85           12.0   \n",
       "1  67293891  8690637840821      1      8  400.0  21.85           12.0   \n",
       "2  67767533  8690637905896      1     12  600.0  27.00           13.0   \n",
       "3  67754288  8690637905193      1     12  600.0  27.00           13.0   \n",
       "4  68612788  8690637999277      1      8  335.0  39.75           10.0   \n",
       "\n",
       "   DÖNEM SONU %   KDV  NET MALİYET      Ö.RAF KATEGORİ    AY  \n",
       "0             5  0.01    18.449266  23.061583     FOOD  MART  \n",
       "1             5  0.01    18.449266  23.061583     FOOD  MART  \n",
       "2             5  0.01    22.538655  28.173319     FOOD  MART  \n",
       "3             5  0.01    22.538655  28.173319     FOOD  MART  \n",
       "4             5  0.01    34.326113  42.907641     FOOD  MART  "
      ]
     },
     "execution_count": 440,
     "metadata": {},
     "output_type": "execute_result"
    }
   ],
   "source": [
    "dataset = pd.read_excel(\"dataset.xlsx\")\n",
    "dataset.head()"
   ]
  },
  {
   "cell_type": "code",
   "execution_count": 441,
   "metadata": {},
   "outputs": [
    {
     "data": {
      "text/html": [
       "<div>\n",
       "<style scoped>\n",
       "    .dataframe tbody tr th:only-of-type {\n",
       "        vertical-align: middle;\n",
       "    }\n",
       "\n",
       "    .dataframe tbody tr th {\n",
       "        vertical-align: top;\n",
       "    }\n",
       "\n",
       "    .dataframe thead th {\n",
       "        text-align: right;\n",
       "    }\n",
       "</style>\n",
       "<table border=\"1\" class=\"dataframe\">\n",
       "  <thead>\n",
       "    <tr style=\"text-align: right;\">\n",
       "      <th></th>\n",
       "      <th>KATEGORİ</th>\n",
       "      <th>AY</th>\n",
       "      <th>MAMUL</th>\n",
       "      <th>K.İÇİ</th>\n",
       "      <th>GR</th>\n",
       "      <th>LİSTE</th>\n",
       "      <th>NET MALİYET</th>\n",
       "    </tr>\n",
       "  </thead>\n",
       "  <tbody>\n",
       "    <tr>\n",
       "      <th>0</th>\n",
       "      <td>FOOD</td>\n",
       "      <td>MART</td>\n",
       "      <td>1</td>\n",
       "      <td>8</td>\n",
       "      <td>400.0</td>\n",
       "      <td>21.85</td>\n",
       "      <td>18.449266</td>\n",
       "    </tr>\n",
       "    <tr>\n",
       "      <th>1</th>\n",
       "      <td>FOOD</td>\n",
       "      <td>MART</td>\n",
       "      <td>1</td>\n",
       "      <td>8</td>\n",
       "      <td>400.0</td>\n",
       "      <td>21.85</td>\n",
       "      <td>18.449266</td>\n",
       "    </tr>\n",
       "    <tr>\n",
       "      <th>2</th>\n",
       "      <td>FOOD</td>\n",
       "      <td>MART</td>\n",
       "      <td>1</td>\n",
       "      <td>12</td>\n",
       "      <td>600.0</td>\n",
       "      <td>27.00</td>\n",
       "      <td>22.538655</td>\n",
       "    </tr>\n",
       "    <tr>\n",
       "      <th>3</th>\n",
       "      <td>FOOD</td>\n",
       "      <td>MART</td>\n",
       "      <td>1</td>\n",
       "      <td>12</td>\n",
       "      <td>600.0</td>\n",
       "      <td>27.00</td>\n",
       "      <td>22.538655</td>\n",
       "    </tr>\n",
       "    <tr>\n",
       "      <th>4</th>\n",
       "      <td>FOOD</td>\n",
       "      <td>MART</td>\n",
       "      <td>1</td>\n",
       "      <td>8</td>\n",
       "      <td>335.0</td>\n",
       "      <td>39.75</td>\n",
       "      <td>34.326113</td>\n",
       "    </tr>\n",
       "  </tbody>\n",
       "</table>\n",
       "</div>"
      ],
      "text/plain": [
       "  KATEGORİ    AY  MAMUL  K.İÇİ     GR  LİSTE  NET MALİYET\n",
       "0     FOOD  MART      1      8  400.0  21.85    18.449266\n",
       "1     FOOD  MART      1      8  400.0  21.85    18.449266\n",
       "2     FOOD  MART      1     12  600.0  27.00    22.538655\n",
       "3     FOOD  MART      1     12  600.0  27.00    22.538655\n",
       "4     FOOD  MART      1      8  335.0  39.75    34.326113"
      ]
     },
     "execution_count": 441,
     "metadata": {},
     "output_type": "execute_result"
    }
   ],
   "source": [
    "selected_columns = ['KATEGORİ', 'AY', 'MAMUL', 'K.İÇİ', 'GR', 'LİSTE', 'NET MALİYET']\n",
    "data_selected = dataset[selected_columns]\n",
    "data_selected.head()"
   ]
  },
  {
   "cell_type": "code",
   "execution_count": 442,
   "metadata": {},
   "outputs": [],
   "source": [
    "X = data_selected.drop(columns=[\"KATEGORİ\"])  # Giriş verileri\n",
    "y = data_selected[\"KATEGORİ\"]  # Çıkış (etiket) verileri"
   ]
  },
  {
   "cell_type": "code",
   "execution_count": 443,
   "metadata": {},
   "outputs": [
    {
     "name": "stdout",
     "output_type": "stream",
     "text": [
      "<class 'pandas.core.frame.DataFrame'>\n",
      "RangeIndex: 3820 entries, 0 to 3819\n",
      "Data columns (total 6 columns):\n",
      " #   Column       Non-Null Count  Dtype  \n",
      "---  ------       --------------  -----  \n",
      " 0   AY           3820 non-null   object \n",
      " 1   MAMUL        3820 non-null   int64  \n",
      " 2   K.İÇİ        3820 non-null   int64  \n",
      " 3   GR           3820 non-null   float64\n",
      " 4   LİSTE        3820 non-null   float64\n",
      " 5   NET MALİYET  3820 non-null   float64\n",
      "dtypes: float64(3), int64(2), object(1)\n",
      "memory usage: 179.2+ KB\n"
     ]
    }
   ],
   "source": [
    "X.info()"
   ]
  },
  {
   "cell_type": "code",
   "execution_count": 444,
   "metadata": {},
   "outputs": [
    {
     "name": "stdout",
     "output_type": "stream",
     "text": [
      "     AY  MAMUL  K.İÇİ     GR  LİSTE  NET MALİYET\n",
      "0  MART      1      8  400.0  21.85    18.449266\n",
      "1  MART      1      8  400.0  21.85    18.449266\n",
      "2  MART      1     12  600.0  27.00    22.538655\n",
      "3  MART      1     12  600.0  27.00    22.538655\n",
      "4  MART      1      8  335.0  39.75    34.326113\n",
      "0    FOOD\n",
      "1    FOOD\n",
      "2    FOOD\n",
      "3    FOOD\n",
      "4    FOOD\n",
      "Name: KATEGORİ, dtype: object\n"
     ]
    }
   ],
   "source": [
    "print(X.head())\n",
    "print(y.head())"
   ]
  },
  {
   "cell_type": "code",
   "execution_count": 445,
   "metadata": {},
   "outputs": [],
   "source": [
    "categorical_columns = ['AY']\n",
    "numeric_columns = ['K.İÇİ', 'GR', 'LİSTE']"
   ]
  },
  {
   "cell_type": "code",
   "execution_count": 446,
   "metadata": {},
   "outputs": [
    {
     "name": "stderr",
     "output_type": "stream",
     "text": [
      "C:\\Users\\PC\\AppData\\Local\\Temp\\ipykernel_31212\\2324700065.py:16: FutureWarning:\n",
      "\n",
      "In a future version, `df.iloc[:, i] = newvals` will attempt to set the values inplace instead of always setting a new array. To retain the old behavior, use either `df[df.columns[i]] = newvals` or, if columns are non-unique, `df.isetitem(i, newvals)`\n",
      "\n"
     ]
    }
   ],
   "source": [
    "from sklearn.compose import ColumnTransformer\n",
    "from sklearn.preprocessing import StandardScaler, LabelEncoder, OneHotEncoder\n",
    "\n",
    "# Sayısal ve kategorik sütunları işlemek için bir sütun dönüştürücü oluşturun\n",
    "preprocessor = ColumnTransformer(\n",
    "    transformers=[\n",
    "        (\"sayısal\", StandardScaler(), numeric_columns),\n",
    "        # (\"kategori\", OneHotEncoder(), categorical_columns),\n",
    "    ],\n",
    "    remainder=\"passthrough\",\n",
    ")\n",
    "\n",
    "# Verileri dönüştürün\n",
    "X.iloc[:, 1:] = preprocessor.fit_transform(X.iloc[:, 1:])\n",
    "le = LabelEncoder()\n",
    "X.iloc[:, 0] = le.fit_transform(X.iloc[:, 0])\n",
    "y = le.fit_transform(y)\n"
   ]
  },
  {
   "cell_type": "code",
   "execution_count": 447,
   "metadata": {},
   "outputs": [
    {
     "data": {
      "text/html": [
       "<div>\n",
       "<style scoped>\n",
       "    .dataframe tbody tr th:only-of-type {\n",
       "        vertical-align: middle;\n",
       "    }\n",
       "\n",
       "    .dataframe tbody tr th {\n",
       "        vertical-align: top;\n",
       "    }\n",
       "\n",
       "    .dataframe thead th {\n",
       "        text-align: right;\n",
       "    }\n",
       "</style>\n",
       "<table border=\"1\" class=\"dataframe\">\n",
       "  <thead>\n",
       "    <tr style=\"text-align: right;\">\n",
       "      <th></th>\n",
       "      <th>AY</th>\n",
       "      <th>MAMUL</th>\n",
       "      <th>K.İÇİ</th>\n",
       "      <th>GR</th>\n",
       "      <th>LİSTE</th>\n",
       "      <th>NET MALİYET</th>\n",
       "    </tr>\n",
       "  </thead>\n",
       "  <tbody>\n",
       "    <tr>\n",
       "      <th>0</th>\n",
       "      <td>4</td>\n",
       "      <td>-0.565928</td>\n",
       "      <td>-0.110449</td>\n",
       "      <td>-0.986225</td>\n",
       "      <td>1.0</td>\n",
       "      <td>18.449266</td>\n",
       "    </tr>\n",
       "    <tr>\n",
       "      <th>1</th>\n",
       "      <td>4</td>\n",
       "      <td>-0.565928</td>\n",
       "      <td>-0.110449</td>\n",
       "      <td>-0.986225</td>\n",
       "      <td>1.0</td>\n",
       "      <td>18.449266</td>\n",
       "    </tr>\n",
       "    <tr>\n",
       "      <th>2</th>\n",
       "      <td>4</td>\n",
       "      <td>-0.470838</td>\n",
       "      <td>0.121934</td>\n",
       "      <td>-0.829472</td>\n",
       "      <td>1.0</td>\n",
       "      <td>22.538655</td>\n",
       "    </tr>\n",
       "    <tr>\n",
       "      <th>3</th>\n",
       "      <td>4</td>\n",
       "      <td>-0.470838</td>\n",
       "      <td>0.121934</td>\n",
       "      <td>-0.829472</td>\n",
       "      <td>1.0</td>\n",
       "      <td>22.538655</td>\n",
       "    </tr>\n",
       "    <tr>\n",
       "      <th>4</th>\n",
       "      <td>4</td>\n",
       "      <td>-0.565928</td>\n",
       "      <td>-0.185974</td>\n",
       "      <td>-0.441394</td>\n",
       "      <td>1.0</td>\n",
       "      <td>34.326113</td>\n",
       "    </tr>\n",
       "  </tbody>\n",
       "</table>\n",
       "</div>"
      ],
      "text/plain": [
       "   AY     MAMUL     K.İÇİ        GR  LİSTE  NET MALİYET\n",
       "0   4 -0.565928 -0.110449 -0.986225    1.0    18.449266\n",
       "1   4 -0.565928 -0.110449 -0.986225    1.0    18.449266\n",
       "2   4 -0.470838  0.121934 -0.829472    1.0    22.538655\n",
       "3   4 -0.470838  0.121934 -0.829472    1.0    22.538655\n",
       "4   4 -0.565928 -0.185974 -0.441394    1.0    34.326113"
      ]
     },
     "execution_count": 447,
     "metadata": {},
     "output_type": "execute_result"
    }
   ],
   "source": [
    "x_dataset = pd.DataFrame(X)\n",
    "x_dataset.head()"
   ]
  },
  {
   "cell_type": "code",
   "execution_count": 448,
   "metadata": {},
   "outputs": [],
   "source": [
    "from sklearn.model_selection import train_test_split\n",
    "\n",
    "# Verileri eğitim ve test kümelerine bölün\n",
    "X_train, X_test, y_train, y_test = train_test_split(X, y, test_size=0.2, random_state=42)"
   ]
  },
  {
   "cell_type": "markdown",
   "metadata": {},
   "source": [
    "#### Modeli oluşturun"
   ]
  },
  {
   "cell_type": "code",
   "execution_count": 449,
   "metadata": {},
   "outputs": [],
   "source": [
    "from tensorflow import keras\n",
    "from keras import layers\n",
    "\n",
    "model = keras.Sequential([ # Sıralı bir model oluşturun\n",
    "    layers.Dense(64, activation='relu', input_shape=[X_train.shape[1]]), # Giriş katmanı\n",
    "    layers.Dense(64, activation='relu'), # Gizli katman\n",
    "    layers.Dense(3, activation='softmax') # Çıkış katmanı\n",
    "])\n"
   ]
  },
  {
   "cell_type": "markdown",
   "metadata": {},
   "source": [
    "#### Modeli Derle"
   ]
  },
  {
   "cell_type": "code",
   "execution_count": 450,
   "metadata": {},
   "outputs": [],
   "source": [
    "model.compile(\n",
    "    optimizer='adam', # Optimizasyon fonksiyonu\n",
    "    loss='sparse_categorical_crossentropy', # Kayıp fonksiyonu\n",
    "    metrics=['accuracy'] # Başarı metriği\n",
    ")"
   ]
  },
  {
   "cell_type": "code",
   "execution_count": 451,
   "metadata": {},
   "outputs": [],
   "source": [
    "y_train = y_train.reshape(-1, 1)"
   ]
  },
  {
   "cell_type": "markdown",
   "metadata": {},
   "source": [
    "#### Eğitim işlemini başlatın"
   ]
  },
  {
   "cell_type": "code",
   "execution_count": 452,
   "metadata": {},
   "outputs": [
    {
     "name": "stdout",
     "output_type": "stream",
     "text": [
      "Epoch 1/100\n",
      "77/77 [==============================] - 1s 3ms/step - loss: 0.9635 - accuracy: 0.7034 - val_loss: 0.4539 - val_accuracy: 0.8039\n",
      "Epoch 2/100\n",
      "77/77 [==============================] - 0s 1ms/step - loss: 0.3114 - accuracy: 0.8953 - val_loss: 0.2959 - val_accuracy: 0.8807\n",
      "Epoch 3/100\n",
      "77/77 [==============================] - 0s 1ms/step - loss: 0.1947 - accuracy: 0.9452 - val_loss: 0.1886 - val_accuracy: 0.9395\n",
      "Epoch 4/100\n",
      "77/77 [==============================] - 0s 1ms/step - loss: 0.1377 - accuracy: 0.9660 - val_loss: 0.1600 - val_accuracy: 0.9428\n",
      "Epoch 5/100\n",
      "77/77 [==============================] - 0s 1ms/step - loss: 0.1301 - accuracy: 0.9624 - val_loss: 0.1619 - val_accuracy: 0.9412\n",
      "Epoch 6/100\n",
      "77/77 [==============================] - 0s 1ms/step - loss: 0.1076 - accuracy: 0.9689 - val_loss: 0.1246 - val_accuracy: 0.9542\n",
      "Epoch 7/100\n",
      "77/77 [==============================] - 0s 1ms/step - loss: 0.0852 - accuracy: 0.9738 - val_loss: 0.1051 - val_accuracy: 0.9592\n",
      "Epoch 8/100\n",
      "77/77 [==============================] - 0s 1ms/step - loss: 0.0763 - accuracy: 0.9783 - val_loss: 0.1008 - val_accuracy: 0.9608\n",
      "Epoch 9/100\n",
      "77/77 [==============================] - 0s 1ms/step - loss: 0.0808 - accuracy: 0.9738 - val_loss: 0.0973 - val_accuracy: 0.9657\n",
      "Epoch 10/100\n",
      "77/77 [==============================] - 0s 1ms/step - loss: 0.0686 - accuracy: 0.9795 - val_loss: 0.0952 - val_accuracy: 0.9575\n",
      "Epoch 11/100\n",
      "77/77 [==============================] - 0s 1ms/step - loss: 0.0734 - accuracy: 0.9795 - val_loss: 0.0954 - val_accuracy: 0.9592\n",
      "Epoch 12/100\n",
      "77/77 [==============================] - 0s 1ms/step - loss: 0.0878 - accuracy: 0.9709 - val_loss: 0.0800 - val_accuracy: 0.9771\n",
      "Epoch 13/100\n",
      "77/77 [==============================] - 0s 1ms/step - loss: 0.0600 - accuracy: 0.9836 - val_loss: 0.0963 - val_accuracy: 0.9624\n",
      "Epoch 14/100\n",
      "77/77 [==============================] - 0s 1ms/step - loss: 0.0579 - accuracy: 0.9820 - val_loss: 0.1122 - val_accuracy: 0.9657\n",
      "Epoch 15/100\n",
      "77/77 [==============================] - 0s 1ms/step - loss: 0.0675 - accuracy: 0.9791 - val_loss: 0.0874 - val_accuracy: 0.9690\n",
      "Epoch 16/100\n",
      "77/77 [==============================] - 0s 1ms/step - loss: 0.0617 - accuracy: 0.9779 - val_loss: 0.0782 - val_accuracy: 0.9673\n",
      "Epoch 17/100\n",
      "77/77 [==============================] - 0s 1ms/step - loss: 0.0576 - accuracy: 0.9804 - val_loss: 0.0959 - val_accuracy: 0.9706\n",
      "Epoch 18/100\n",
      "77/77 [==============================] - 0s 1ms/step - loss: 0.0525 - accuracy: 0.9849 - val_loss: 0.0729 - val_accuracy: 0.9739\n",
      "Epoch 19/100\n",
      "77/77 [==============================] - 0s 1ms/step - loss: 0.0501 - accuracy: 0.9824 - val_loss: 0.0852 - val_accuracy: 0.9624\n",
      "Epoch 20/100\n",
      "77/77 [==============================] - 0s 1ms/step - loss: 0.0549 - accuracy: 0.9812 - val_loss: 0.0734 - val_accuracy: 0.9690\n",
      "Epoch 21/100\n",
      "77/77 [==============================] - 0s 1ms/step - loss: 0.0578 - accuracy: 0.9820 - val_loss: 0.1009 - val_accuracy: 0.9592\n",
      "Epoch 22/100\n",
      "77/77 [==============================] - 0s 1ms/step - loss: 0.0502 - accuracy: 0.9828 - val_loss: 0.0700 - val_accuracy: 0.9755\n",
      "Epoch 23/100\n",
      "77/77 [==============================] - 0s 1ms/step - loss: 0.0515 - accuracy: 0.9832 - val_loss: 0.0677 - val_accuracy: 0.9755\n",
      "Epoch 24/100\n",
      "77/77 [==============================] - 0s 1ms/step - loss: 0.0539 - accuracy: 0.9812 - val_loss: 0.0676 - val_accuracy: 0.9788\n",
      "Epoch 25/100\n",
      "77/77 [==============================] - 0s 1ms/step - loss: 0.0439 - accuracy: 0.9849 - val_loss: 0.0791 - val_accuracy: 0.9673\n",
      "Epoch 26/100\n",
      "77/77 [==============================] - 0s 1ms/step - loss: 0.0367 - accuracy: 0.9902 - val_loss: 0.0901 - val_accuracy: 0.9706\n",
      "Epoch 27/100\n",
      "77/77 [==============================] - 0s 1ms/step - loss: 0.0466 - accuracy: 0.9849 - val_loss: 0.0572 - val_accuracy: 0.9771\n",
      "Epoch 28/100\n",
      "77/77 [==============================] - 0s 1ms/step - loss: 0.0374 - accuracy: 0.9877 - val_loss: 0.0556 - val_accuracy: 0.9788\n",
      "Epoch 29/100\n",
      "77/77 [==============================] - 0s 1ms/step - loss: 0.0372 - accuracy: 0.9890 - val_loss: 0.0930 - val_accuracy: 0.9739\n",
      "Epoch 30/100\n",
      "77/77 [==============================] - 0s 1ms/step - loss: 0.0381 - accuracy: 0.9873 - val_loss: 0.0509 - val_accuracy: 0.9820\n",
      "Epoch 31/100\n",
      "77/77 [==============================] - 0s 1ms/step - loss: 0.0378 - accuracy: 0.9898 - val_loss: 0.0668 - val_accuracy: 0.9771\n",
      "Epoch 32/100\n",
      "77/77 [==============================] - 0s 1ms/step - loss: 0.0364 - accuracy: 0.9877 - val_loss: 0.0544 - val_accuracy: 0.9804\n",
      "Epoch 33/100\n",
      "77/77 [==============================] - 0s 1ms/step - loss: 0.0389 - accuracy: 0.9873 - val_loss: 0.0654 - val_accuracy: 0.9771\n",
      "Epoch 34/100\n",
      "77/77 [==============================] - 0s 1ms/step - loss: 0.0427 - accuracy: 0.9853 - val_loss: 0.0747 - val_accuracy: 0.9788\n",
      "Epoch 35/100\n",
      "77/77 [==============================] - 0s 1ms/step - loss: 0.0357 - accuracy: 0.9902 - val_loss: 0.0612 - val_accuracy: 0.9690\n",
      "Epoch 36/100\n",
      "77/77 [==============================] - 0s 1ms/step - loss: 0.0404 - accuracy: 0.9877 - val_loss: 0.0497 - val_accuracy: 0.9820\n",
      "Epoch 37/100\n",
      "77/77 [==============================] - 0s 1ms/step - loss: 0.0347 - accuracy: 0.9865 - val_loss: 0.0716 - val_accuracy: 0.9739\n",
      "Epoch 38/100\n",
      "77/77 [==============================] - 0s 1ms/step - loss: 0.0311 - accuracy: 0.9885 - val_loss: 0.0441 - val_accuracy: 0.9820\n",
      "Epoch 39/100\n",
      "77/77 [==============================] - 0s 1ms/step - loss: 0.0389 - accuracy: 0.9873 - val_loss: 0.0626 - val_accuracy: 0.9690\n",
      "Epoch 40/100\n",
      "77/77 [==============================] - 0s 1ms/step - loss: 0.0309 - accuracy: 0.9922 - val_loss: 0.0575 - val_accuracy: 0.9804\n",
      "Epoch 41/100\n",
      "77/77 [==============================] - 0s 2ms/step - loss: 0.0341 - accuracy: 0.9898 - val_loss: 0.0557 - val_accuracy: 0.9804\n",
      "Epoch 42/100\n",
      "77/77 [==============================] - 0s 1ms/step - loss: 0.0287 - accuracy: 0.9906 - val_loss: 0.0446 - val_accuracy: 0.9820\n",
      "Epoch 43/100\n",
      "77/77 [==============================] - 0s 1ms/step - loss: 0.0277 - accuracy: 0.9898 - val_loss: 0.0494 - val_accuracy: 0.9755\n",
      "Epoch 44/100\n",
      "77/77 [==============================] - 0s 1ms/step - loss: 0.0316 - accuracy: 0.9922 - val_loss: 0.0458 - val_accuracy: 0.9788\n",
      "Epoch 45/100\n",
      "77/77 [==============================] - 0s 1ms/step - loss: 0.0436 - accuracy: 0.9816 - val_loss: 0.0506 - val_accuracy: 0.9755\n",
      "Epoch 46/100\n",
      "77/77 [==============================] - 0s 1ms/step - loss: 0.0505 - accuracy: 0.9824 - val_loss: 0.0582 - val_accuracy: 0.9804\n",
      "Epoch 47/100\n",
      "77/77 [==============================] - 0s 1ms/step - loss: 0.0317 - accuracy: 0.9898 - val_loss: 0.0489 - val_accuracy: 0.9755\n",
      "Epoch 48/100\n",
      "77/77 [==============================] - 0s 1ms/step - loss: 0.0359 - accuracy: 0.9885 - val_loss: 0.0425 - val_accuracy: 0.9837\n",
      "Epoch 49/100\n",
      "77/77 [==============================] - 0s 1ms/step - loss: 0.0616 - accuracy: 0.9791 - val_loss: 0.0762 - val_accuracy: 0.9706\n",
      "Epoch 50/100\n",
      "77/77 [==============================] - 0s 1ms/step - loss: 0.0301 - accuracy: 0.9918 - val_loss: 0.0321 - val_accuracy: 0.9886\n",
      "Epoch 51/100\n",
      "77/77 [==============================] - 0s 1ms/step - loss: 0.0245 - accuracy: 0.9922 - val_loss: 0.0495 - val_accuracy: 0.9837\n",
      "Epoch 52/100\n",
      "77/77 [==============================] - 0s 1ms/step - loss: 0.0268 - accuracy: 0.9910 - val_loss: 0.0412 - val_accuracy: 0.9788\n",
      "Epoch 53/100\n",
      "77/77 [==============================] - 0s 1ms/step - loss: 0.0244 - accuracy: 0.9922 - val_loss: 0.1177 - val_accuracy: 0.9526\n",
      "Epoch 54/100\n",
      "77/77 [==============================] - 0s 1ms/step - loss: 0.0372 - accuracy: 0.9869 - val_loss: 0.0668 - val_accuracy: 0.9755\n",
      "Epoch 55/100\n",
      "77/77 [==============================] - 0s 1ms/step - loss: 0.0287 - accuracy: 0.9914 - val_loss: 0.0441 - val_accuracy: 0.9820\n",
      "Epoch 56/100\n",
      "77/77 [==============================] - 0s 1ms/step - loss: 0.0221 - accuracy: 0.9930 - val_loss: 0.0376 - val_accuracy: 0.9804\n",
      "Epoch 57/100\n",
      "77/77 [==============================] - 0s 1ms/step - loss: 0.0225 - accuracy: 0.9939 - val_loss: 0.0320 - val_accuracy: 0.9837\n",
      "Epoch 58/100\n",
      "77/77 [==============================] - 0s 1ms/step - loss: 0.0291 - accuracy: 0.9914 - val_loss: 0.0340 - val_accuracy: 0.9853\n",
      "Epoch 59/100\n",
      "77/77 [==============================] - 0s 1ms/step - loss: 0.0196 - accuracy: 0.9951 - val_loss: 0.0328 - val_accuracy: 0.9837\n",
      "Epoch 60/100\n",
      "77/77 [==============================] - 0s 1ms/step - loss: 0.0279 - accuracy: 0.9922 - val_loss: 0.0297 - val_accuracy: 0.9869\n",
      "Epoch 61/100\n",
      "77/77 [==============================] - 0s 1ms/step - loss: 0.0402 - accuracy: 0.9861 - val_loss: 0.1315 - val_accuracy: 0.9608\n",
      "Epoch 62/100\n",
      "77/77 [==============================] - 0s 1ms/step - loss: 0.0454 - accuracy: 0.9853 - val_loss: 0.0483 - val_accuracy: 0.9804\n",
      "Epoch 63/100\n",
      "77/77 [==============================] - 0s 1ms/step - loss: 0.0372 - accuracy: 0.9865 - val_loss: 0.1196 - val_accuracy: 0.9722\n",
      "Epoch 64/100\n",
      "77/77 [==============================] - 0s 1ms/step - loss: 0.0347 - accuracy: 0.9890 - val_loss: 0.0280 - val_accuracy: 0.9837\n",
      "Epoch 65/100\n",
      "77/77 [==============================] - 0s 1ms/step - loss: 0.0219 - accuracy: 0.9914 - val_loss: 0.0352 - val_accuracy: 0.9771\n",
      "Epoch 66/100\n",
      "77/77 [==============================] - 0s 1ms/step - loss: 0.0195 - accuracy: 0.9947 - val_loss: 0.0571 - val_accuracy: 0.9755\n",
      "Epoch 67/100\n",
      "77/77 [==============================] - 0s 1ms/step - loss: 0.0191 - accuracy: 0.9963 - val_loss: 0.0601 - val_accuracy: 0.9788\n",
      "Epoch 68/100\n",
      "77/77 [==============================] - 0s 1ms/step - loss: 0.0212 - accuracy: 0.9926 - val_loss: 0.0373 - val_accuracy: 0.9820\n",
      "Epoch 69/100\n",
      "77/77 [==============================] - 0s 1ms/step - loss: 0.0258 - accuracy: 0.9914 - val_loss: 0.0320 - val_accuracy: 0.9902\n",
      "Epoch 70/100\n",
      "77/77 [==============================] - 0s 1ms/step - loss: 0.0183 - accuracy: 0.9951 - val_loss: 0.0311 - val_accuracy: 0.9869\n",
      "Epoch 71/100\n",
      "77/77 [==============================] - 0s 1ms/step - loss: 0.0165 - accuracy: 0.9955 - val_loss: 0.0376 - val_accuracy: 0.9837\n",
      "Epoch 72/100\n",
      "77/77 [==============================] - 0s 1ms/step - loss: 0.0280 - accuracy: 0.9910 - val_loss: 0.0303 - val_accuracy: 0.9902\n",
      "Epoch 73/100\n",
      "77/77 [==============================] - 0s 1ms/step - loss: 0.0325 - accuracy: 0.9894 - val_loss: 0.0494 - val_accuracy: 0.9820\n",
      "Epoch 74/100\n",
      "77/77 [==============================] - 0s 2ms/step - loss: 0.0299 - accuracy: 0.9898 - val_loss: 0.0316 - val_accuracy: 0.9886\n",
      "Epoch 75/100\n",
      "77/77 [==============================] - 0s 1ms/step - loss: 0.0175 - accuracy: 0.9951 - val_loss: 0.0200 - val_accuracy: 0.9984\n",
      "Epoch 76/100\n",
      "77/77 [==============================] - 0s 1ms/step - loss: 0.0191 - accuracy: 0.9951 - val_loss: 0.0256 - val_accuracy: 0.9902\n",
      "Epoch 77/100\n",
      "77/77 [==============================] - 0s 1ms/step - loss: 0.0157 - accuracy: 0.9959 - val_loss: 0.0259 - val_accuracy: 0.9853\n",
      "Epoch 78/100\n",
      "77/77 [==============================] - 0s 1ms/step - loss: 0.0179 - accuracy: 0.9959 - val_loss: 0.0387 - val_accuracy: 0.9820\n",
      "Epoch 79/100\n",
      "77/77 [==============================] - 0s 1ms/step - loss: 0.0212 - accuracy: 0.9951 - val_loss: 0.0221 - val_accuracy: 0.9918\n",
      "Epoch 80/100\n",
      "77/77 [==============================] - 0s 1ms/step - loss: 0.0166 - accuracy: 0.9967 - val_loss: 0.0277 - val_accuracy: 0.9886\n",
      "Epoch 81/100\n",
      "77/77 [==============================] - 0s 1ms/step - loss: 0.0158 - accuracy: 0.9959 - val_loss: 0.0186 - val_accuracy: 0.9967\n",
      "Epoch 82/100\n",
      "77/77 [==============================] - 0s 1ms/step - loss: 0.0155 - accuracy: 0.9959 - val_loss: 0.0428 - val_accuracy: 0.9804\n",
      "Epoch 83/100\n",
      "77/77 [==============================] - 0s 1ms/step - loss: 0.0209 - accuracy: 0.9930 - val_loss: 0.0253 - val_accuracy: 0.9886\n",
      "Epoch 84/100\n",
      "77/77 [==============================] - 0s 1ms/step - loss: 0.0249 - accuracy: 0.9922 - val_loss: 0.0254 - val_accuracy: 0.9886\n",
      "Epoch 85/100\n",
      "77/77 [==============================] - 0s 1ms/step - loss: 0.0156 - accuracy: 0.9951 - val_loss: 0.0370 - val_accuracy: 0.9804\n",
      "Epoch 86/100\n",
      "77/77 [==============================] - 0s 1ms/step - loss: 0.0251 - accuracy: 0.9902 - val_loss: 0.0355 - val_accuracy: 0.9837\n",
      "Epoch 87/100\n",
      "77/77 [==============================] - 0s 2ms/step - loss: 0.0165 - accuracy: 0.9963 - val_loss: 0.0226 - val_accuracy: 0.9902\n",
      "Epoch 88/100\n",
      "77/77 [==============================] - 0s 1ms/step - loss: 0.0184 - accuracy: 0.9930 - val_loss: 0.0608 - val_accuracy: 0.9869\n",
      "Epoch 89/100\n",
      "77/77 [==============================] - 0s 1ms/step - loss: 0.0305 - accuracy: 0.9902 - val_loss: 0.0137 - val_accuracy: 0.9935\n",
      "Epoch 90/100\n",
      "77/77 [==============================] - 0s 1ms/step - loss: 0.0152 - accuracy: 0.9955 - val_loss: 0.0187 - val_accuracy: 0.9935\n",
      "Epoch 91/100\n",
      "77/77 [==============================] - 0s 1ms/step - loss: 0.0114 - accuracy: 0.9971 - val_loss: 0.0194 - val_accuracy: 0.9918\n",
      "Epoch 92/100\n",
      "77/77 [==============================] - 0s 1ms/step - loss: 0.0133 - accuracy: 0.9967 - val_loss: 0.0583 - val_accuracy: 0.9739\n",
      "Epoch 93/100\n",
      "77/77 [==============================] - 0s 1ms/step - loss: 0.0265 - accuracy: 0.9906 - val_loss: 0.0179 - val_accuracy: 0.9935\n",
      "Epoch 94/100\n",
      "77/77 [==============================] - 0s 1ms/step - loss: 0.0145 - accuracy: 0.9959 - val_loss: 0.0224 - val_accuracy: 0.9902\n",
      "Epoch 95/100\n",
      "77/77 [==============================] - 0s 1ms/step - loss: 0.0346 - accuracy: 0.9902 - val_loss: 0.0489 - val_accuracy: 0.9886\n",
      "Epoch 96/100\n",
      "77/77 [==============================] - 0s 1ms/step - loss: 0.0171 - accuracy: 0.9951 - val_loss: 0.0307 - val_accuracy: 0.9853\n",
      "Epoch 97/100\n",
      "77/77 [==============================] - 0s 1ms/step - loss: 0.0124 - accuracy: 0.9980 - val_loss: 0.0321 - val_accuracy: 0.9869\n",
      "Epoch 98/100\n",
      "77/77 [==============================] - 0s 1ms/step - loss: 0.0146 - accuracy: 0.9971 - val_loss: 0.0290 - val_accuracy: 0.9804\n",
      "Epoch 99/100\n",
      "77/77 [==============================] - 0s 1ms/step - loss: 0.0144 - accuracy: 0.9963 - val_loss: 0.0173 - val_accuracy: 0.9918\n",
      "Epoch 100/100\n",
      "77/77 [==============================] - 0s 1ms/step - loss: 0.0204 - accuracy: 0.9935 - val_loss: 0.0213 - val_accuracy: 0.9902\n"
     ]
    }
   ],
   "source": [
    "history = model.fit(\n",
    "    X_train, y_train, # Eğitim verileri\n",
    "    validation_split=0.2, # Eğitim verilerinin %20'sini doğrulama verileri olarak kullanın\n",
    "    batch_size=32, # Her iterasyonda 32 örnek kullanın\n",
    "    epochs=100, # 100 iterasyon\n",
    "    verbose=1 # Her iterasyonda ekrana çıktı ver\n",
    ")"
   ]
  },
  {
   "cell_type": "markdown",
   "metadata": {},
   "source": [
    "#### Eğitim ve doğrulama kayıp grafiği"
   ]
  },
  {
   "cell_type": "code",
   "execution_count": 453,
   "metadata": {},
   "outputs": [
    {
     "data": {
      "application/vnd.plotly.v1+json": {
       "config": {
        "plotlyServerURL": "https://plot.ly"
       },
       "data": [
        {
         "name": "Eğitim Kaybı",
         "type": "scatter",
         "xaxis": "x",
         "y": [
          0.9634556174278259,
          0.3113614320755005,
          0.19473467767238617,
          0.13774047791957855,
          0.13013839721679688,
          0.10762247443199158,
          0.08519933372735977,
          0.07634347677230835,
          0.0808364674448967,
          0.06859288364648819,
          0.07336261123418808,
          0.08781302720308304,
          0.06002529710531235,
          0.05788971111178398,
          0.06747812032699585,
          0.06170064955949783,
          0.0575888492166996,
          0.05246727913618088,
          0.05007440969347954,
          0.05490074306726456,
          0.05777239799499512,
          0.0501847080886364,
          0.051535461097955704,
          0.05394221097230911,
          0.043899066746234894,
          0.03666272014379501,
          0.046627845615148544,
          0.037432536482810974,
          0.03722750023007393,
          0.038056112825870514,
          0.03777478262782097,
          0.03639707714319229,
          0.038897089660167694,
          0.04271719232201576,
          0.03565326705574989,
          0.040388546884059906,
          0.03468703478574753,
          0.031133592128753662,
          0.03890848904848099,
          0.030865758657455444,
          0.03408320993185043,
          0.02874252013862133,
          0.02765589952468872,
          0.031614162027835846,
          0.04362570866942406,
          0.05049774423241615,
          0.031715575605630875,
          0.03588346391916275,
          0.06162190064787865,
          0.0300756748765707,
          0.02453126572072506,
          0.026842398568987846,
          0.024378648027777672,
          0.037169523537158966,
          0.028737997636198997,
          0.022058920934796333,
          0.02254308946430683,
          0.029140274971723557,
          0.01961401477456093,
          0.02789056859910488,
          0.040194593369960785,
          0.045373156666755676,
          0.03718027099967003,
          0.034689877182245255,
          0.021894976496696472,
          0.019530609250068665,
          0.019132954999804497,
          0.021219370886683464,
          0.025783659890294075,
          0.018341900780797005,
          0.016538359224796295,
          0.027995554730296135,
          0.03252997621893883,
          0.029912034049630165,
          0.01746601238846779,
          0.019060153514146805,
          0.01567387767136097,
          0.017920810729265213,
          0.02115413174033165,
          0.016578668728470802,
          0.015815390273928642,
          0.015462887473404408,
          0.0209499578922987,
          0.024934196844697,
          0.01563519984483719,
          0.025066066533327103,
          0.016492657363414764,
          0.01842779666185379,
          0.030474724248051643,
          0.015195735730230808,
          0.011355588212609291,
          0.01332905050367117,
          0.026507286354899406,
          0.014544193632900715,
          0.03457977622747421,
          0.017070980742573738,
          0.012382038868963718,
          0.014567532576620579,
          0.014357716776430607,
          0.020412545651197433
         ],
         "yaxis": "y"
        },
        {
         "name": "Doğrulama Kaybı",
         "type": "scatter",
         "xaxis": "x",
         "y": [
          0.4539403021335602,
          0.2959175705909729,
          0.1886482536792755,
          0.1599784642457962,
          0.16188989579677582,
          0.12464849650859833,
          0.10506498068571091,
          0.10076839476823807,
          0.09727441519498825,
          0.09524980187416077,
          0.0953562781214714,
          0.07999822497367859,
          0.09632079303264618,
          0.11222198605537415,
          0.08743847161531448,
          0.0781913548707962,
          0.09585936367511749,
          0.07287336140871048,
          0.08521970361471176,
          0.07339466363191605,
          0.10092082619667053,
          0.07003933191299438,
          0.06770425289869308,
          0.0676385685801506,
          0.07906703650951385,
          0.09010224789381027,
          0.0571768656373024,
          0.05557634308934212,
          0.09302262216806412,
          0.050895821303129196,
          0.06682590395212173,
          0.05437773838639259,
          0.06541433185338974,
          0.07472920417785645,
          0.06119978800415993,
          0.04967314749956131,
          0.07159136980772018,
          0.04413030296564102,
          0.06262975931167603,
          0.05748908221721649,
          0.05568743869662285,
          0.04456574469804764,
          0.04938922077417374,
          0.04576684162020683,
          0.05057547613978386,
          0.05820400267839432,
          0.0488954596221447,
          0.04246846213936806,
          0.07618226110935211,
          0.032133959233760834,
          0.049484435468912125,
          0.041249342262744904,
          0.11766922473907471,
          0.06684321165084839,
          0.04414442926645279,
          0.03757999464869499,
          0.031973157078027725,
          0.03402454033493996,
          0.0327983982861042,
          0.02966482564806938,
          0.13150912523269653,
          0.04826970025897026,
          0.11963029205799103,
          0.028022121638059616,
          0.03517904505133629,
          0.057142775505781174,
          0.06012670323252678,
          0.037312109023332596,
          0.03201361745595932,
          0.03108711540699005,
          0.037556421011686325,
          0.030295340344309807,
          0.04937127232551575,
          0.031649548560380936,
          0.01997729204595089,
          0.02563931979238987,
          0.025868410244584084,
          0.038692787289619446,
          0.022143369540572166,
          0.027749856933951378,
          0.018643539398908615,
          0.042818937450647354,
          0.02530801296234131,
          0.02538185566663742,
          0.037045761942863464,
          0.03547125682234764,
          0.022601988166570663,
          0.06079571694135666,
          0.01365535706281662,
          0.018668675795197487,
          0.01939372904598713,
          0.058278344571590424,
          0.017876818776130676,
          0.022425789386034012,
          0.04894409701228142,
          0.030657880008220673,
          0.03212248906493187,
          0.028952205553650856,
          0.017305416986346245,
          0.021319182589650154
         ],
         "yaxis": "y"
        },
        {
         "name": "Eğitim Başarısı",
         "type": "scatter",
         "xaxis": "x2",
         "y": [
          0.7033551335334778,
          0.8952536582946777,
          0.9451718330383301,
          0.9660392999649048,
          0.9623568058013916,
          0.9689034223556519,
          0.9738134145736694,
          0.978314220905304,
          0.9738134145736694,
          0.9795417189598083,
          0.9795417189598083,
          0.9709492921829224,
          0.9836333990097046,
          0.9819967150688171,
          0.9791325926780701,
          0.9779050946235657,
          0.9803600907325745,
          0.984860897064209,
          0.9824059009552002,
          0.9811784029006958,
          0.9819967150688171,
          0.9828150868415833,
          0.9832242131233215,
          0.9811784029006958,
          0.984860897064209,
          0.9901800155639648,
          0.984860897064209,
          0.987725019454956,
          0.9889525175094604,
          0.9873158931732178,
          0.9897708892822266,
          0.987725019454956,
          0.9873158931732178,
          0.9852700233459473,
          0.9901800155639648,
          0.987725019454956,
          0.9864975214004517,
          0.9885433912277222,
          0.9873158931732178,
          0.9922258853912354,
          0.9897708892822266,
          0.9905892014503479,
          0.9897708892822266,
          0.9922258853912354,
          0.9815875887870789,
          0.9824059009552002,
          0.9897708892822266,
          0.9885433912277222,
          0.9791325926780701,
          0.9918166995048523,
          0.9922258853912354,
          0.990998387336731,
          0.9922258853912354,
          0.9869067072868347,
          0.9914075136184692,
          0.9930441975593567,
          0.993862509727478,
          0.9914075136184692,
          0.9950900077819824,
          0.9922258853912354,
          0.9860883951187134,
          0.9852700233459473,
          0.9864975214004517,
          0.9889525175094604,
          0.9914075136184692,
          0.9946808218955994,
          0.9963175058364868,
          0.9926350116729736,
          0.9914075136184692,
          0.9950900077819824,
          0.9954991936683655,
          0.990998387336731,
          0.9893617033958435,
          0.9897708892822266,
          0.9950900077819824,
          0.9950900077819824,
          0.9959083199501038,
          0.9959083199501038,
          0.9950900077819824,
          0.9967266917228699,
          0.9959083199501038,
          0.9959083199501038,
          0.9930441975593567,
          0.9922258853912354,
          0.9950900077819824,
          0.9901800155639648,
          0.9963175058364868,
          0.9930441975593567,
          0.9901800155639648,
          0.9954991936683655,
          0.9971358180046082,
          0.9967266917228699,
          0.9905892014503479,
          0.9959083199501038,
          0.9901800155639648,
          0.9950900077819824,
          0.9979541897773743,
          0.9971358180046082,
          0.9963175058364868,
          0.9934533834457397
         ],
         "yaxis": "y2"
        },
        {
         "name": "Doğrulama Başarısı",
         "type": "scatter",
         "xaxis": "x2",
         "y": [
          0.8039215803146362,
          0.8807189464569092,
          0.9395424723625183,
          0.9428104758262634,
          0.9411764740943909,
          0.9542483687400818,
          0.9591503143310547,
          0.9607843160629272,
          0.9656862616539001,
          0.9575163125991821,
          0.9591503143310547,
          0.9771241545677185,
          0.9624183177947998,
          0.9656862616539001,
          0.9689542651176453,
          0.9673202633857727,
          0.970588207244873,
          0.9738562107086182,
          0.9624183177947998,
          0.9689542651176453,
          0.9591503143310547,
          0.9754902124404907,
          0.9754902124404907,
          0.9787581562995911,
          0.9673202633857727,
          0.970588207244873,
          0.9771241545677185,
          0.9787581562995911,
          0.9738562107086182,
          0.9820261597633362,
          0.9771241545677185,
          0.9803921580314636,
          0.9771241545677185,
          0.9787581562995911,
          0.9689542651176453,
          0.9820261597633362,
          0.9738562107086182,
          0.9820261597633362,
          0.9689542651176453,
          0.9803921580314636,
          0.9803921580314636,
          0.9820261597633362,
          0.9754902124404907,
          0.9787581562995911,
          0.9754902124404907,
          0.9803921580314636,
          0.9754902124404907,
          0.983660101890564,
          0.970588207244873,
          0.9885621070861816,
          0.983660101890564,
          0.9787581562995911,
          0.9526143670082092,
          0.9754902124404907,
          0.9820261597633362,
          0.9803921580314636,
          0.983660101890564,
          0.9852941036224365,
          0.983660101890564,
          0.9869281053543091,
          0.9607843160629272,
          0.9803921580314636,
          0.9722222089767456,
          0.983660101890564,
          0.9771241545677185,
          0.9754902124404907,
          0.9787581562995911,
          0.9820261597633362,
          0.9901960492134094,
          0.9869281053543091,
          0.983660101890564,
          0.9901960492134094,
          0.9820261597633362,
          0.9885621070861816,
          0.9983659982681274,
          0.9901960492134094,
          0.9852941036224365,
          0.9820261597633362,
          0.991830050945282,
          0.9885621070861816,
          0.9967319965362549,
          0.9803921580314636,
          0.9885621070861816,
          0.9885621070861816,
          0.9803921580314636,
          0.983660101890564,
          0.9901960492134094,
          0.9869281053543091,
          0.9934640526771545,
          0.9934640526771545,
          0.991830050945282,
          0.9738562107086182,
          0.9934640526771545,
          0.9901960492134094,
          0.9885621070861816,
          0.9852941036224365,
          0.9869281053543091,
          0.9803921580314636,
          0.991830050945282,
          0.9901960492134094
         ],
         "yaxis": "y2"
        }
       ],
       "layout": {
        "height": 500,
        "template": {
         "data": {
          "bar": [
           {
            "error_x": {
             "color": "#2a3f5f"
            },
            "error_y": {
             "color": "#2a3f5f"
            },
            "marker": {
             "line": {
              "color": "#E5ECF6",
              "width": 0.5
             },
             "pattern": {
              "fillmode": "overlay",
              "size": 10,
              "solidity": 0.2
             }
            },
            "type": "bar"
           }
          ],
          "barpolar": [
           {
            "marker": {
             "line": {
              "color": "#E5ECF6",
              "width": 0.5
             },
             "pattern": {
              "fillmode": "overlay",
              "size": 10,
              "solidity": 0.2
             }
            },
            "type": "barpolar"
           }
          ],
          "carpet": [
           {
            "aaxis": {
             "endlinecolor": "#2a3f5f",
             "gridcolor": "white",
             "linecolor": "white",
             "minorgridcolor": "white",
             "startlinecolor": "#2a3f5f"
            },
            "baxis": {
             "endlinecolor": "#2a3f5f",
             "gridcolor": "white",
             "linecolor": "white",
             "minorgridcolor": "white",
             "startlinecolor": "#2a3f5f"
            },
            "type": "carpet"
           }
          ],
          "choropleth": [
           {
            "colorbar": {
             "outlinewidth": 0,
             "ticks": ""
            },
            "type": "choropleth"
           }
          ],
          "contour": [
           {
            "colorbar": {
             "outlinewidth": 0,
             "ticks": ""
            },
            "colorscale": [
             [
              0,
              "#0d0887"
             ],
             [
              0.1111111111111111,
              "#46039f"
             ],
             [
              0.2222222222222222,
              "#7201a8"
             ],
             [
              0.3333333333333333,
              "#9c179e"
             ],
             [
              0.4444444444444444,
              "#bd3786"
             ],
             [
              0.5555555555555556,
              "#d8576b"
             ],
             [
              0.6666666666666666,
              "#ed7953"
             ],
             [
              0.7777777777777778,
              "#fb9f3a"
             ],
             [
              0.8888888888888888,
              "#fdca26"
             ],
             [
              1,
              "#f0f921"
             ]
            ],
            "type": "contour"
           }
          ],
          "contourcarpet": [
           {
            "colorbar": {
             "outlinewidth": 0,
             "ticks": ""
            },
            "type": "contourcarpet"
           }
          ],
          "heatmap": [
           {
            "colorbar": {
             "outlinewidth": 0,
             "ticks": ""
            },
            "colorscale": [
             [
              0,
              "#0d0887"
             ],
             [
              0.1111111111111111,
              "#46039f"
             ],
             [
              0.2222222222222222,
              "#7201a8"
             ],
             [
              0.3333333333333333,
              "#9c179e"
             ],
             [
              0.4444444444444444,
              "#bd3786"
             ],
             [
              0.5555555555555556,
              "#d8576b"
             ],
             [
              0.6666666666666666,
              "#ed7953"
             ],
             [
              0.7777777777777778,
              "#fb9f3a"
             ],
             [
              0.8888888888888888,
              "#fdca26"
             ],
             [
              1,
              "#f0f921"
             ]
            ],
            "type": "heatmap"
           }
          ],
          "heatmapgl": [
           {
            "colorbar": {
             "outlinewidth": 0,
             "ticks": ""
            },
            "colorscale": [
             [
              0,
              "#0d0887"
             ],
             [
              0.1111111111111111,
              "#46039f"
             ],
             [
              0.2222222222222222,
              "#7201a8"
             ],
             [
              0.3333333333333333,
              "#9c179e"
             ],
             [
              0.4444444444444444,
              "#bd3786"
             ],
             [
              0.5555555555555556,
              "#d8576b"
             ],
             [
              0.6666666666666666,
              "#ed7953"
             ],
             [
              0.7777777777777778,
              "#fb9f3a"
             ],
             [
              0.8888888888888888,
              "#fdca26"
             ],
             [
              1,
              "#f0f921"
             ]
            ],
            "type": "heatmapgl"
           }
          ],
          "histogram": [
           {
            "marker": {
             "pattern": {
              "fillmode": "overlay",
              "size": 10,
              "solidity": 0.2
             }
            },
            "type": "histogram"
           }
          ],
          "histogram2d": [
           {
            "colorbar": {
             "outlinewidth": 0,
             "ticks": ""
            },
            "colorscale": [
             [
              0,
              "#0d0887"
             ],
             [
              0.1111111111111111,
              "#46039f"
             ],
             [
              0.2222222222222222,
              "#7201a8"
             ],
             [
              0.3333333333333333,
              "#9c179e"
             ],
             [
              0.4444444444444444,
              "#bd3786"
             ],
             [
              0.5555555555555556,
              "#d8576b"
             ],
             [
              0.6666666666666666,
              "#ed7953"
             ],
             [
              0.7777777777777778,
              "#fb9f3a"
             ],
             [
              0.8888888888888888,
              "#fdca26"
             ],
             [
              1,
              "#f0f921"
             ]
            ],
            "type": "histogram2d"
           }
          ],
          "histogram2dcontour": [
           {
            "colorbar": {
             "outlinewidth": 0,
             "ticks": ""
            },
            "colorscale": [
             [
              0,
              "#0d0887"
             ],
             [
              0.1111111111111111,
              "#46039f"
             ],
             [
              0.2222222222222222,
              "#7201a8"
             ],
             [
              0.3333333333333333,
              "#9c179e"
             ],
             [
              0.4444444444444444,
              "#bd3786"
             ],
             [
              0.5555555555555556,
              "#d8576b"
             ],
             [
              0.6666666666666666,
              "#ed7953"
             ],
             [
              0.7777777777777778,
              "#fb9f3a"
             ],
             [
              0.8888888888888888,
              "#fdca26"
             ],
             [
              1,
              "#f0f921"
             ]
            ],
            "type": "histogram2dcontour"
           }
          ],
          "mesh3d": [
           {
            "colorbar": {
             "outlinewidth": 0,
             "ticks": ""
            },
            "type": "mesh3d"
           }
          ],
          "parcoords": [
           {
            "line": {
             "colorbar": {
              "outlinewidth": 0,
              "ticks": ""
             }
            },
            "type": "parcoords"
           }
          ],
          "pie": [
           {
            "automargin": true,
            "type": "pie"
           }
          ],
          "scatter": [
           {
            "fillpattern": {
             "fillmode": "overlay",
             "size": 10,
             "solidity": 0.2
            },
            "type": "scatter"
           }
          ],
          "scatter3d": [
           {
            "line": {
             "colorbar": {
              "outlinewidth": 0,
              "ticks": ""
             }
            },
            "marker": {
             "colorbar": {
              "outlinewidth": 0,
              "ticks": ""
             }
            },
            "type": "scatter3d"
           }
          ],
          "scattercarpet": [
           {
            "marker": {
             "colorbar": {
              "outlinewidth": 0,
              "ticks": ""
             }
            },
            "type": "scattercarpet"
           }
          ],
          "scattergeo": [
           {
            "marker": {
             "colorbar": {
              "outlinewidth": 0,
              "ticks": ""
             }
            },
            "type": "scattergeo"
           }
          ],
          "scattergl": [
           {
            "marker": {
             "colorbar": {
              "outlinewidth": 0,
              "ticks": ""
             }
            },
            "type": "scattergl"
           }
          ],
          "scattermapbox": [
           {
            "marker": {
             "colorbar": {
              "outlinewidth": 0,
              "ticks": ""
             }
            },
            "type": "scattermapbox"
           }
          ],
          "scatterpolar": [
           {
            "marker": {
             "colorbar": {
              "outlinewidth": 0,
              "ticks": ""
             }
            },
            "type": "scatterpolar"
           }
          ],
          "scatterpolargl": [
           {
            "marker": {
             "colorbar": {
              "outlinewidth": 0,
              "ticks": ""
             }
            },
            "type": "scatterpolargl"
           }
          ],
          "scatterternary": [
           {
            "marker": {
             "colorbar": {
              "outlinewidth": 0,
              "ticks": ""
             }
            },
            "type": "scatterternary"
           }
          ],
          "surface": [
           {
            "colorbar": {
             "outlinewidth": 0,
             "ticks": ""
            },
            "colorscale": [
             [
              0,
              "#0d0887"
             ],
             [
              0.1111111111111111,
              "#46039f"
             ],
             [
              0.2222222222222222,
              "#7201a8"
             ],
             [
              0.3333333333333333,
              "#9c179e"
             ],
             [
              0.4444444444444444,
              "#bd3786"
             ],
             [
              0.5555555555555556,
              "#d8576b"
             ],
             [
              0.6666666666666666,
              "#ed7953"
             ],
             [
              0.7777777777777778,
              "#fb9f3a"
             ],
             [
              0.8888888888888888,
              "#fdca26"
             ],
             [
              1,
              "#f0f921"
             ]
            ],
            "type": "surface"
           }
          ],
          "table": [
           {
            "cells": {
             "fill": {
              "color": "#EBF0F8"
             },
             "line": {
              "color": "white"
             }
            },
            "header": {
             "fill": {
              "color": "#C8D4E3"
             },
             "line": {
              "color": "white"
             }
            },
            "type": "table"
           }
          ]
         },
         "layout": {
          "annotationdefaults": {
           "arrowcolor": "#2a3f5f",
           "arrowhead": 0,
           "arrowwidth": 1
          },
          "autotypenumbers": "strict",
          "coloraxis": {
           "colorbar": {
            "outlinewidth": 0,
            "ticks": ""
           }
          },
          "colorscale": {
           "diverging": [
            [
             0,
             "#8e0152"
            ],
            [
             0.1,
             "#c51b7d"
            ],
            [
             0.2,
             "#de77ae"
            ],
            [
             0.3,
             "#f1b6da"
            ],
            [
             0.4,
             "#fde0ef"
            ],
            [
             0.5,
             "#f7f7f7"
            ],
            [
             0.6,
             "#e6f5d0"
            ],
            [
             0.7,
             "#b8e186"
            ],
            [
             0.8,
             "#7fbc41"
            ],
            [
             0.9,
             "#4d9221"
            ],
            [
             1,
             "#276419"
            ]
           ],
           "sequential": [
            [
             0,
             "#0d0887"
            ],
            [
             0.1111111111111111,
             "#46039f"
            ],
            [
             0.2222222222222222,
             "#7201a8"
            ],
            [
             0.3333333333333333,
             "#9c179e"
            ],
            [
             0.4444444444444444,
             "#bd3786"
            ],
            [
             0.5555555555555556,
             "#d8576b"
            ],
            [
             0.6666666666666666,
             "#ed7953"
            ],
            [
             0.7777777777777778,
             "#fb9f3a"
            ],
            [
             0.8888888888888888,
             "#fdca26"
            ],
            [
             1,
             "#f0f921"
            ]
           ],
           "sequentialminus": [
            [
             0,
             "#0d0887"
            ],
            [
             0.1111111111111111,
             "#46039f"
            ],
            [
             0.2222222222222222,
             "#7201a8"
            ],
            [
             0.3333333333333333,
             "#9c179e"
            ],
            [
             0.4444444444444444,
             "#bd3786"
            ],
            [
             0.5555555555555556,
             "#d8576b"
            ],
            [
             0.6666666666666666,
             "#ed7953"
            ],
            [
             0.7777777777777778,
             "#fb9f3a"
            ],
            [
             0.8888888888888888,
             "#fdca26"
            ],
            [
             1,
             "#f0f921"
            ]
           ]
          },
          "colorway": [
           "#636efa",
           "#EF553B",
           "#00cc96",
           "#ab63fa",
           "#FFA15A",
           "#19d3f3",
           "#FF6692",
           "#B6E880",
           "#FF97FF",
           "#FECB52"
          ],
          "font": {
           "color": "#2a3f5f"
          },
          "geo": {
           "bgcolor": "white",
           "lakecolor": "white",
           "landcolor": "#E5ECF6",
           "showlakes": true,
           "showland": true,
           "subunitcolor": "white"
          },
          "hoverlabel": {
           "align": "left"
          },
          "hovermode": "closest",
          "mapbox": {
           "style": "light"
          },
          "paper_bgcolor": "white",
          "plot_bgcolor": "#E5ECF6",
          "polar": {
           "angularaxis": {
            "gridcolor": "white",
            "linecolor": "white",
            "ticks": ""
           },
           "bgcolor": "#E5ECF6",
           "radialaxis": {
            "gridcolor": "white",
            "linecolor": "white",
            "ticks": ""
           }
          },
          "scene": {
           "xaxis": {
            "backgroundcolor": "#E5ECF6",
            "gridcolor": "white",
            "gridwidth": 2,
            "linecolor": "white",
            "showbackground": true,
            "ticks": "",
            "zerolinecolor": "white"
           },
           "yaxis": {
            "backgroundcolor": "#E5ECF6",
            "gridcolor": "white",
            "gridwidth": 2,
            "linecolor": "white",
            "showbackground": true,
            "ticks": "",
            "zerolinecolor": "white"
           },
           "zaxis": {
            "backgroundcolor": "#E5ECF6",
            "gridcolor": "white",
            "gridwidth": 2,
            "linecolor": "white",
            "showbackground": true,
            "ticks": "",
            "zerolinecolor": "white"
           }
          },
          "shapedefaults": {
           "line": {
            "color": "#2a3f5f"
           }
          },
          "ternary": {
           "aaxis": {
            "gridcolor": "white",
            "linecolor": "white",
            "ticks": ""
           },
           "baxis": {
            "gridcolor": "white",
            "linecolor": "white",
            "ticks": ""
           },
           "bgcolor": "#E5ECF6",
           "caxis": {
            "gridcolor": "white",
            "linecolor": "white",
            "ticks": ""
           }
          },
          "title": {
           "x": 0.05
          },
          "xaxis": {
           "automargin": true,
           "gridcolor": "white",
           "linecolor": "white",
           "ticks": "",
           "title": {
            "standoff": 15
           },
           "zerolinecolor": "white",
           "zerolinewidth": 2
          },
          "yaxis": {
           "automargin": true,
           "gridcolor": "white",
           "linecolor": "white",
           "ticks": "",
           "title": {
            "standoff": 15
           },
           "zerolinecolor": "white",
           "zerolinewidth": 2
          }
         }
        },
        "title": {
         "text": "Eğitim ve Doğrulama Metrikleri"
        },
        "width": 800,
        "xaxis": {
         "anchor": "y",
         "domain": [
          0,
          0.45
         ]
        },
        "xaxis2": {
         "anchor": "y2",
         "domain": [
          0.55,
          1
         ]
        },
        "yaxis": {
         "anchor": "x",
         "domain": [
          0,
          1
         ]
        },
        "yaxis2": {
         "anchor": "x2",
         "domain": [
          0,
          1
         ]
        }
       }
      }
     },
     "metadata": {},
     "output_type": "display_data"
    }
   ],
   "source": [
    "# Eğitim ve doğrulama kayıp grafiği ve Eğitim ve doğrulama başarı grafiği\n",
    "\n",
    "import plotly.graph_objects as go\n",
    "from plotly.subplots import make_subplots\n",
    "\n",
    "fig = make_subplots(rows=1, cols=2)\n",
    "\n",
    "fig.add_trace(\n",
    "    go.Scatter(y=history.history['loss'], name=\"Eğitim Kaybı\"),\n",
    "    row=1, col=1\n",
    ")\n",
    "\n",
    "fig.add_trace(\n",
    "    go.Scatter(y=history.history['val_loss'], name=\"Doğrulama Kaybı\"),\n",
    "    row=1, col=1\n",
    ")\n",
    "\n",
    "fig.add_trace(\n",
    "    go.Scatter(y=history.history['accuracy'], name=\"Eğitim Başarısı\"),\n",
    "    row=1, col=2\n",
    ")\n",
    "\n",
    "fig.add_trace(\n",
    "    go.Scatter(y=history.history['val_accuracy'], name=\"Doğrulama Başarısı\"),\n",
    "    row=1, col=2\n",
    ")\n",
    "\n",
    "fig.update_layout(height=500, width=800, title_text=\"Eğitim ve Doğrulama Metrikleri\")\n",
    "fig.show()\n",
    "\n"
   ]
  },
  {
   "cell_type": "code",
   "execution_count": 454,
   "metadata": {},
   "outputs": [
    {
     "name": "stdout",
     "output_type": "stream",
     "text": [
      "24/24 - 0s - loss: 0.0244 - accuracy: 0.9935 - 35ms/epoch - 1ms/step\n",
      "24/24 [==============================] - 0s 826us/step\n"
     ]
    },
    {
     "name": "stderr",
     "output_type": "stream",
     "text": [
      "c:\\Users\\PC\\AppData\\Local\\Programs\\Python\\Python311\\Lib\\site-packages\\sklearn\\preprocessing\\_label.py:155: DataConversionWarning:\n",
      "\n",
      "A column-vector y was passed when a 1d array was expected. Please change the shape of y to (n_samples, ), for example using ravel().\n",
      "\n"
     ]
    },
    {
     "data": {
      "application/vnd.plotly.v1+json": {
       "config": {
        "plotlyServerURL": "https://plot.ly"
       },
       "data": [
        {
         "colorscale": [
          [
           0,
           "#440154"
          ],
          [
           0.1111111111111111,
           "#482878"
          ],
          [
           0.2222222222222222,
           "#3e4989"
          ],
          [
           0.3333333333333333,
           "#31688e"
          ],
          [
           0.4444444444444444,
           "#26828e"
          ],
          [
           0.5555555555555556,
           "#1f9e89"
          ],
          [
           0.6666666666666666,
           "#35b779"
          ],
          [
           0.7777777777777778,
           "#6ece58"
          ],
          [
           0.8888888888888888,
           "#b5de2b"
          ],
          [
           1,
           "#fde725"
          ]
         ],
         "reversescale": false,
         "showscale": false,
         "type": "heatmap",
         "x": [
          "Food",
          "HC",
          "PC"
         ],
         "y": [
          "Food",
          "HC",
          "PC"
         ],
         "z": [
          [
           0,
           0,
           0
          ],
          [
           0,
           166,
           5
          ],
          [
           0,
           0,
           324
          ]
         ]
        }
       ],
       "layout": {
        "annotations": [
         {
          "font": {
           "color": "#FFFFFF"
          },
          "showarrow": false,
          "text": "0",
          "x": "Food",
          "xref": "x",
          "y": "Food",
          "yref": "y"
         },
         {
          "font": {
           "color": "#FFFFFF"
          },
          "showarrow": false,
          "text": "0",
          "x": "HC",
          "xref": "x",
          "y": "Food",
          "yref": "y"
         },
         {
          "font": {
           "color": "#FFFFFF"
          },
          "showarrow": false,
          "text": "0",
          "x": "PC",
          "xref": "x",
          "y": "Food",
          "yref": "y"
         },
         {
          "font": {
           "color": "#FFFFFF"
          },
          "showarrow": false,
          "text": "0",
          "x": "Food",
          "xref": "x",
          "y": "HC",
          "yref": "y"
         },
         {
          "font": {
           "color": "#000000"
          },
          "showarrow": false,
          "text": "166",
          "x": "HC",
          "xref": "x",
          "y": "HC",
          "yref": "y"
         },
         {
          "font": {
           "color": "#FFFFFF"
          },
          "showarrow": false,
          "text": "5",
          "x": "PC",
          "xref": "x",
          "y": "HC",
          "yref": "y"
         },
         {
          "font": {
           "color": "#FFFFFF"
          },
          "showarrow": false,
          "text": "0",
          "x": "Food",
          "xref": "x",
          "y": "PC",
          "yref": "y"
         },
         {
          "font": {
           "color": "#FFFFFF"
          },
          "showarrow": false,
          "text": "0",
          "x": "HC",
          "xref": "x",
          "y": "PC",
          "yref": "y"
         },
         {
          "font": {
           "color": "#000000"
          },
          "showarrow": false,
          "text": "324",
          "x": "PC",
          "xref": "x",
          "y": "PC",
          "yref": "y"
         }
        ],
        "template": {
         "data": {
          "bar": [
           {
            "error_x": {
             "color": "#2a3f5f"
            },
            "error_y": {
             "color": "#2a3f5f"
            },
            "marker": {
             "line": {
              "color": "#E5ECF6",
              "width": 0.5
             },
             "pattern": {
              "fillmode": "overlay",
              "size": 10,
              "solidity": 0.2
             }
            },
            "type": "bar"
           }
          ],
          "barpolar": [
           {
            "marker": {
             "line": {
              "color": "#E5ECF6",
              "width": 0.5
             },
             "pattern": {
              "fillmode": "overlay",
              "size": 10,
              "solidity": 0.2
             }
            },
            "type": "barpolar"
           }
          ],
          "carpet": [
           {
            "aaxis": {
             "endlinecolor": "#2a3f5f",
             "gridcolor": "white",
             "linecolor": "white",
             "minorgridcolor": "white",
             "startlinecolor": "#2a3f5f"
            },
            "baxis": {
             "endlinecolor": "#2a3f5f",
             "gridcolor": "white",
             "linecolor": "white",
             "minorgridcolor": "white",
             "startlinecolor": "#2a3f5f"
            },
            "type": "carpet"
           }
          ],
          "choropleth": [
           {
            "colorbar": {
             "outlinewidth": 0,
             "ticks": ""
            },
            "type": "choropleth"
           }
          ],
          "contour": [
           {
            "colorbar": {
             "outlinewidth": 0,
             "ticks": ""
            },
            "colorscale": [
             [
              0,
              "#0d0887"
             ],
             [
              0.1111111111111111,
              "#46039f"
             ],
             [
              0.2222222222222222,
              "#7201a8"
             ],
             [
              0.3333333333333333,
              "#9c179e"
             ],
             [
              0.4444444444444444,
              "#bd3786"
             ],
             [
              0.5555555555555556,
              "#d8576b"
             ],
             [
              0.6666666666666666,
              "#ed7953"
             ],
             [
              0.7777777777777778,
              "#fb9f3a"
             ],
             [
              0.8888888888888888,
              "#fdca26"
             ],
             [
              1,
              "#f0f921"
             ]
            ],
            "type": "contour"
           }
          ],
          "contourcarpet": [
           {
            "colorbar": {
             "outlinewidth": 0,
             "ticks": ""
            },
            "type": "contourcarpet"
           }
          ],
          "heatmap": [
           {
            "colorbar": {
             "outlinewidth": 0,
             "ticks": ""
            },
            "colorscale": [
             [
              0,
              "#0d0887"
             ],
             [
              0.1111111111111111,
              "#46039f"
             ],
             [
              0.2222222222222222,
              "#7201a8"
             ],
             [
              0.3333333333333333,
              "#9c179e"
             ],
             [
              0.4444444444444444,
              "#bd3786"
             ],
             [
              0.5555555555555556,
              "#d8576b"
             ],
             [
              0.6666666666666666,
              "#ed7953"
             ],
             [
              0.7777777777777778,
              "#fb9f3a"
             ],
             [
              0.8888888888888888,
              "#fdca26"
             ],
             [
              1,
              "#f0f921"
             ]
            ],
            "type": "heatmap"
           }
          ],
          "heatmapgl": [
           {
            "colorbar": {
             "outlinewidth": 0,
             "ticks": ""
            },
            "colorscale": [
             [
              0,
              "#0d0887"
             ],
             [
              0.1111111111111111,
              "#46039f"
             ],
             [
              0.2222222222222222,
              "#7201a8"
             ],
             [
              0.3333333333333333,
              "#9c179e"
             ],
             [
              0.4444444444444444,
              "#bd3786"
             ],
             [
              0.5555555555555556,
              "#d8576b"
             ],
             [
              0.6666666666666666,
              "#ed7953"
             ],
             [
              0.7777777777777778,
              "#fb9f3a"
             ],
             [
              0.8888888888888888,
              "#fdca26"
             ],
             [
              1,
              "#f0f921"
             ]
            ],
            "type": "heatmapgl"
           }
          ],
          "histogram": [
           {
            "marker": {
             "pattern": {
              "fillmode": "overlay",
              "size": 10,
              "solidity": 0.2
             }
            },
            "type": "histogram"
           }
          ],
          "histogram2d": [
           {
            "colorbar": {
             "outlinewidth": 0,
             "ticks": ""
            },
            "colorscale": [
             [
              0,
              "#0d0887"
             ],
             [
              0.1111111111111111,
              "#46039f"
             ],
             [
              0.2222222222222222,
              "#7201a8"
             ],
             [
              0.3333333333333333,
              "#9c179e"
             ],
             [
              0.4444444444444444,
              "#bd3786"
             ],
             [
              0.5555555555555556,
              "#d8576b"
             ],
             [
              0.6666666666666666,
              "#ed7953"
             ],
             [
              0.7777777777777778,
              "#fb9f3a"
             ],
             [
              0.8888888888888888,
              "#fdca26"
             ],
             [
              1,
              "#f0f921"
             ]
            ],
            "type": "histogram2d"
           }
          ],
          "histogram2dcontour": [
           {
            "colorbar": {
             "outlinewidth": 0,
             "ticks": ""
            },
            "colorscale": [
             [
              0,
              "#0d0887"
             ],
             [
              0.1111111111111111,
              "#46039f"
             ],
             [
              0.2222222222222222,
              "#7201a8"
             ],
             [
              0.3333333333333333,
              "#9c179e"
             ],
             [
              0.4444444444444444,
              "#bd3786"
             ],
             [
              0.5555555555555556,
              "#d8576b"
             ],
             [
              0.6666666666666666,
              "#ed7953"
             ],
             [
              0.7777777777777778,
              "#fb9f3a"
             ],
             [
              0.8888888888888888,
              "#fdca26"
             ],
             [
              1,
              "#f0f921"
             ]
            ],
            "type": "histogram2dcontour"
           }
          ],
          "mesh3d": [
           {
            "colorbar": {
             "outlinewidth": 0,
             "ticks": ""
            },
            "type": "mesh3d"
           }
          ],
          "parcoords": [
           {
            "line": {
             "colorbar": {
              "outlinewidth": 0,
              "ticks": ""
             }
            },
            "type": "parcoords"
           }
          ],
          "pie": [
           {
            "automargin": true,
            "type": "pie"
           }
          ],
          "scatter": [
           {
            "fillpattern": {
             "fillmode": "overlay",
             "size": 10,
             "solidity": 0.2
            },
            "type": "scatter"
           }
          ],
          "scatter3d": [
           {
            "line": {
             "colorbar": {
              "outlinewidth": 0,
              "ticks": ""
             }
            },
            "marker": {
             "colorbar": {
              "outlinewidth": 0,
              "ticks": ""
             }
            },
            "type": "scatter3d"
           }
          ],
          "scattercarpet": [
           {
            "marker": {
             "colorbar": {
              "outlinewidth": 0,
              "ticks": ""
             }
            },
            "type": "scattercarpet"
           }
          ],
          "scattergeo": [
           {
            "marker": {
             "colorbar": {
              "outlinewidth": 0,
              "ticks": ""
             }
            },
            "type": "scattergeo"
           }
          ],
          "scattergl": [
           {
            "marker": {
             "colorbar": {
              "outlinewidth": 0,
              "ticks": ""
             }
            },
            "type": "scattergl"
           }
          ],
          "scattermapbox": [
           {
            "marker": {
             "colorbar": {
              "outlinewidth": 0,
              "ticks": ""
             }
            },
            "type": "scattermapbox"
           }
          ],
          "scatterpolar": [
           {
            "marker": {
             "colorbar": {
              "outlinewidth": 0,
              "ticks": ""
             }
            },
            "type": "scatterpolar"
           }
          ],
          "scatterpolargl": [
           {
            "marker": {
             "colorbar": {
              "outlinewidth": 0,
              "ticks": ""
             }
            },
            "type": "scatterpolargl"
           }
          ],
          "scatterternary": [
           {
            "marker": {
             "colorbar": {
              "outlinewidth": 0,
              "ticks": ""
             }
            },
            "type": "scatterternary"
           }
          ],
          "surface": [
           {
            "colorbar": {
             "outlinewidth": 0,
             "ticks": ""
            },
            "colorscale": [
             [
              0,
              "#0d0887"
             ],
             [
              0.1111111111111111,
              "#46039f"
             ],
             [
              0.2222222222222222,
              "#7201a8"
             ],
             [
              0.3333333333333333,
              "#9c179e"
             ],
             [
              0.4444444444444444,
              "#bd3786"
             ],
             [
              0.5555555555555556,
              "#d8576b"
             ],
             [
              0.6666666666666666,
              "#ed7953"
             ],
             [
              0.7777777777777778,
              "#fb9f3a"
             ],
             [
              0.8888888888888888,
              "#fdca26"
             ],
             [
              1,
              "#f0f921"
             ]
            ],
            "type": "surface"
           }
          ],
          "table": [
           {
            "cells": {
             "fill": {
              "color": "#EBF0F8"
             },
             "line": {
              "color": "white"
             }
            },
            "header": {
             "fill": {
              "color": "#C8D4E3"
             },
             "line": {
              "color": "white"
             }
            },
            "type": "table"
           }
          ]
         },
         "layout": {
          "annotationdefaults": {
           "arrowcolor": "#2a3f5f",
           "arrowhead": 0,
           "arrowwidth": 1
          },
          "autotypenumbers": "strict",
          "coloraxis": {
           "colorbar": {
            "outlinewidth": 0,
            "ticks": ""
           }
          },
          "colorscale": {
           "diverging": [
            [
             0,
             "#8e0152"
            ],
            [
             0.1,
             "#c51b7d"
            ],
            [
             0.2,
             "#de77ae"
            ],
            [
             0.3,
             "#f1b6da"
            ],
            [
             0.4,
             "#fde0ef"
            ],
            [
             0.5,
             "#f7f7f7"
            ],
            [
             0.6,
             "#e6f5d0"
            ],
            [
             0.7,
             "#b8e186"
            ],
            [
             0.8,
             "#7fbc41"
            ],
            [
             0.9,
             "#4d9221"
            ],
            [
             1,
             "#276419"
            ]
           ],
           "sequential": [
            [
             0,
             "#0d0887"
            ],
            [
             0.1111111111111111,
             "#46039f"
            ],
            [
             0.2222222222222222,
             "#7201a8"
            ],
            [
             0.3333333333333333,
             "#9c179e"
            ],
            [
             0.4444444444444444,
             "#bd3786"
            ],
            [
             0.5555555555555556,
             "#d8576b"
            ],
            [
             0.6666666666666666,
             "#ed7953"
            ],
            [
             0.7777777777777778,
             "#fb9f3a"
            ],
            [
             0.8888888888888888,
             "#fdca26"
            ],
            [
             1,
             "#f0f921"
            ]
           ],
           "sequentialminus": [
            [
             0,
             "#0d0887"
            ],
            [
             0.1111111111111111,
             "#46039f"
            ],
            [
             0.2222222222222222,
             "#7201a8"
            ],
            [
             0.3333333333333333,
             "#9c179e"
            ],
            [
             0.4444444444444444,
             "#bd3786"
            ],
            [
             0.5555555555555556,
             "#d8576b"
            ],
            [
             0.6666666666666666,
             "#ed7953"
            ],
            [
             0.7777777777777778,
             "#fb9f3a"
            ],
            [
             0.8888888888888888,
             "#fdca26"
            ],
            [
             1,
             "#f0f921"
            ]
           ]
          },
          "colorway": [
           "#636efa",
           "#EF553B",
           "#00cc96",
           "#ab63fa",
           "#FFA15A",
           "#19d3f3",
           "#FF6692",
           "#B6E880",
           "#FF97FF",
           "#FECB52"
          ],
          "font": {
           "color": "#2a3f5f"
          },
          "geo": {
           "bgcolor": "white",
           "lakecolor": "white",
           "landcolor": "#E5ECF6",
           "showlakes": true,
           "showland": true,
           "subunitcolor": "white"
          },
          "hoverlabel": {
           "align": "left"
          },
          "hovermode": "closest",
          "mapbox": {
           "style": "light"
          },
          "paper_bgcolor": "white",
          "plot_bgcolor": "#E5ECF6",
          "polar": {
           "angularaxis": {
            "gridcolor": "white",
            "linecolor": "white",
            "ticks": ""
           },
           "bgcolor": "#E5ECF6",
           "radialaxis": {
            "gridcolor": "white",
            "linecolor": "white",
            "ticks": ""
           }
          },
          "scene": {
           "xaxis": {
            "backgroundcolor": "#E5ECF6",
            "gridcolor": "white",
            "gridwidth": 2,
            "linecolor": "white",
            "showbackground": true,
            "ticks": "",
            "zerolinecolor": "white"
           },
           "yaxis": {
            "backgroundcolor": "#E5ECF6",
            "gridcolor": "white",
            "gridwidth": 2,
            "linecolor": "white",
            "showbackground": true,
            "ticks": "",
            "zerolinecolor": "white"
           },
           "zaxis": {
            "backgroundcolor": "#E5ECF6",
            "gridcolor": "white",
            "gridwidth": 2,
            "linecolor": "white",
            "showbackground": true,
            "ticks": "",
            "zerolinecolor": "white"
           }
          },
          "shapedefaults": {
           "line": {
            "color": "#2a3f5f"
           }
          },
          "ternary": {
           "aaxis": {
            "gridcolor": "white",
            "linecolor": "white",
            "ticks": ""
           },
           "baxis": {
            "gridcolor": "white",
            "linecolor": "white",
            "ticks": ""
           },
           "bgcolor": "#E5ECF6",
           "caxis": {
            "gridcolor": "white",
            "linecolor": "white",
            "ticks": ""
           }
          },
          "title": {
           "x": 0.05
          },
          "xaxis": {
           "automargin": true,
           "gridcolor": "white",
           "linecolor": "white",
           "ticks": "",
           "title": {
            "standoff": 15
           },
           "zerolinecolor": "white",
           "zerolinewidth": 2
          },
          "yaxis": {
           "automargin": true,
           "gridcolor": "white",
           "linecolor": "white",
           "ticks": "",
           "title": {
            "standoff": 15
           },
           "zerolinecolor": "white",
           "zerolinewidth": 2
          }
         }
        },
        "title": {
         "text": "Karmaşıklık Matrisi"
        },
        "xaxis": {
         "dtick": 1,
         "gridcolor": "rgb(0, 0, 0)",
         "side": "top",
         "ticks": "",
         "title": {
          "text": "Tahmin"
         }
        },
        "yaxis": {
         "dtick": 1,
         "ticks": "",
         "ticksuffix": "  ",
         "title": {
          "text": "Gerçek"
         }
        }
       }
      }
     },
     "metadata": {},
     "output_type": "display_data"
    }
   ],
   "source": [
    "# Test verileri üzerinde modeli değerlendirin\n",
    "y_test = y_test.reshape(-1, 1)\n",
    "model.evaluate(X_test, y_test, verbose=2)\n",
    "\n",
    "# Test verileri üzerinde tahmin yapın\n",
    "y_pred = model.predict(X_test)\n",
    "y_pred = np.argmax(y_pred, axis=1)\n",
    "y_pred = le.inverse_transform(y_pred)\n",
    "\n",
    "y_test = le.inverse_transform(y_test)\n",
    "\n",
    "from sklearn.metrics import confusion_matrix\n",
    "import plotly.figure_factory as ff\n",
    "\n",
    "cm = confusion_matrix(y_test, y_pred, labels=[\"Food\", \"HC\", \"PC\"])\n",
    "\n",
    "fig = ff.create_annotated_heatmap(\n",
    "    z=cm,\n",
    "    x=[\"Food\", \"HC\", \"PC\"],\n",
    "    y=[\"Food\", \"HC\", \"PC\"],\n",
    "    colorscale='Viridis'\n",
    ")\n",
    "\n",
    "fig.update_layout(title_text='Karmaşıklık Matrisi', xaxis = dict(title='Tahmin'), yaxis = dict(title='Gerçek'))\n",
    "\n",
    "fig.show()\n"
   ]
  }
 ],
 "metadata": {
  "kernelspec": {
   "display_name": "Python 3.11.0 64-bit",
   "language": "python",
   "name": "python3"
  },
  "language_info": {
   "codemirror_mode": {
    "name": "ipython",
    "version": 3
   },
   "file_extension": ".py",
   "mimetype": "text/x-python",
   "name": "python",
   "nbconvert_exporter": "python",
   "pygments_lexer": "ipython3",
   "version": "3.11.0"
  },
  "orig_nbformat": 4,
  "vscode": {
   "interpreter": {
    "hash": "5ffd7eb2cebf9ac436b5021ba01877e9cee6b03524e01bf8c8637d3e64111215"
   }
  }
 },
 "nbformat": 4,
 "nbformat_minor": 2
}
