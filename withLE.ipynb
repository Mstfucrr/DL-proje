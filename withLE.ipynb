{
 "cells": [
  {
   "cell_type": "markdown",
   "metadata": {},
   "source": [
    "## Importing the libraries"
   ]
  },
  {
   "cell_type": "code",
   "execution_count": 112,
   "metadata": {},
   "outputs": [],
   "source": [
    "import matplotlib.pyplot as plt\n",
    "import numpy as np\n",
    "import pandas as pd\n",
    "import seaborn as sns"
   ]
  },
  {
   "cell_type": "markdown",
   "metadata": {},
   "source": [
    "## Importing the dataset"
   ]
  },
  {
   "cell_type": "code",
   "execution_count": 113,
   "metadata": {},
   "outputs": [
    {
     "data": {
      "text/html": [
       "<div>\n",
       "<style scoped>\n",
       "    .dataframe tbody tr th:only-of-type {\n",
       "        vertical-align: middle;\n",
       "    }\n",
       "\n",
       "    .dataframe tbody tr th {\n",
       "        vertical-align: top;\n",
       "    }\n",
       "\n",
       "    .dataframe thead th {\n",
       "        text-align: right;\n",
       "    }\n",
       "</style>\n",
       "<table border=\"1\" class=\"dataframe\">\n",
       "  <thead>\n",
       "    <tr style=\"text-align: right;\">\n",
       "      <th></th>\n",
       "      <th>KOD</th>\n",
       "      <th>BARKOD</th>\n",
       "      <th>MAMUL</th>\n",
       "      <th>K.İÇİ</th>\n",
       "      <th>GR</th>\n",
       "      <th>LİSTE</th>\n",
       "      <th>FATURA ALTI %</th>\n",
       "      <th>DÖNEM SONU %</th>\n",
       "      <th>KDV</th>\n",
       "      <th>NET MALİYET</th>\n",
       "      <th>Ö.RAF</th>\n",
       "      <th>KATEGORİ</th>\n",
       "      <th>AY</th>\n",
       "    </tr>\n",
       "  </thead>\n",
       "  <tbody>\n",
       "    <tr>\n",
       "      <th>0</th>\n",
       "      <td>67293883</td>\n",
       "      <td>8690637840746</td>\n",
       "      <td>1</td>\n",
       "      <td>8</td>\n",
       "      <td>400.0</td>\n",
       "      <td>21.85</td>\n",
       "      <td>12.0</td>\n",
       "      <td>5</td>\n",
       "      <td>0.01</td>\n",
       "      <td>18.449266</td>\n",
       "      <td>23.061583</td>\n",
       "      <td>FOOD</td>\n",
       "      <td>MART</td>\n",
       "    </tr>\n",
       "    <tr>\n",
       "      <th>1</th>\n",
       "      <td>67293891</td>\n",
       "      <td>8690637840821</td>\n",
       "      <td>1</td>\n",
       "      <td>8</td>\n",
       "      <td>400.0</td>\n",
       "      <td>21.85</td>\n",
       "      <td>12.0</td>\n",
       "      <td>5</td>\n",
       "      <td>0.01</td>\n",
       "      <td>18.449266</td>\n",
       "      <td>23.061583</td>\n",
       "      <td>FOOD</td>\n",
       "      <td>MART</td>\n",
       "    </tr>\n",
       "    <tr>\n",
       "      <th>2</th>\n",
       "      <td>67767533</td>\n",
       "      <td>8690637905896</td>\n",
       "      <td>1</td>\n",
       "      <td>12</td>\n",
       "      <td>600.0</td>\n",
       "      <td>27.00</td>\n",
       "      <td>13.0</td>\n",
       "      <td>5</td>\n",
       "      <td>0.01</td>\n",
       "      <td>22.538655</td>\n",
       "      <td>28.173319</td>\n",
       "      <td>FOOD</td>\n",
       "      <td>MART</td>\n",
       "    </tr>\n",
       "    <tr>\n",
       "      <th>3</th>\n",
       "      <td>67754288</td>\n",
       "      <td>8690637905193</td>\n",
       "      <td>1</td>\n",
       "      <td>12</td>\n",
       "      <td>600.0</td>\n",
       "      <td>27.00</td>\n",
       "      <td>13.0</td>\n",
       "      <td>5</td>\n",
       "      <td>0.01</td>\n",
       "      <td>22.538655</td>\n",
       "      <td>28.173319</td>\n",
       "      <td>FOOD</td>\n",
       "      <td>MART</td>\n",
       "    </tr>\n",
       "    <tr>\n",
       "      <th>4</th>\n",
       "      <td>68612788</td>\n",
       "      <td>8690637999277</td>\n",
       "      <td>1</td>\n",
       "      <td>8</td>\n",
       "      <td>335.0</td>\n",
       "      <td>39.75</td>\n",
       "      <td>10.0</td>\n",
       "      <td>5</td>\n",
       "      <td>0.01</td>\n",
       "      <td>34.326113</td>\n",
       "      <td>42.907641</td>\n",
       "      <td>FOOD</td>\n",
       "      <td>MART</td>\n",
       "    </tr>\n",
       "  </tbody>\n",
       "</table>\n",
       "</div>"
      ],
      "text/plain": [
       "        KOD         BARKOD  MAMUL  K.İÇİ     GR  LİSTE  FATURA ALTI %  \\\n",
       "0  67293883  8690637840746      1      8  400.0  21.85           12.0   \n",
       "1  67293891  8690637840821      1      8  400.0  21.85           12.0   \n",
       "2  67767533  8690637905896      1     12  600.0  27.00           13.0   \n",
       "3  67754288  8690637905193      1     12  600.0  27.00           13.0   \n",
       "4  68612788  8690637999277      1      8  335.0  39.75           10.0   \n",
       "\n",
       "   DÖNEM SONU %   KDV  NET MALİYET      Ö.RAF KATEGORİ    AY  \n",
       "0             5  0.01    18.449266  23.061583     FOOD  MART  \n",
       "1             5  0.01    18.449266  23.061583     FOOD  MART  \n",
       "2             5  0.01    22.538655  28.173319     FOOD  MART  \n",
       "3             5  0.01    22.538655  28.173319     FOOD  MART  \n",
       "4             5  0.01    34.326113  42.907641     FOOD  MART  "
      ]
     },
     "execution_count": 113,
     "metadata": {},
     "output_type": "execute_result"
    }
   ],
   "source": [
    "dataset = pd.read_excel(\"dataset.xlsx\")\n",
    "dataset.head()"
   ]
  },
  {
   "cell_type": "code",
   "execution_count": 114,
   "metadata": {},
   "outputs": [
    {
     "data": {
      "text/html": [
       "<div>\n",
       "<style scoped>\n",
       "    .dataframe tbody tr th:only-of-type {\n",
       "        vertical-align: middle;\n",
       "    }\n",
       "\n",
       "    .dataframe tbody tr th {\n",
       "        vertical-align: top;\n",
       "    }\n",
       "\n",
       "    .dataframe thead th {\n",
       "        text-align: right;\n",
       "    }\n",
       "</style>\n",
       "<table border=\"1\" class=\"dataframe\">\n",
       "  <thead>\n",
       "    <tr style=\"text-align: right;\">\n",
       "      <th></th>\n",
       "      <th>KATEGORİ</th>\n",
       "      <th>AY</th>\n",
       "      <th>MAMUL</th>\n",
       "      <th>K.İÇİ</th>\n",
       "      <th>GR</th>\n",
       "      <th>LİSTE</th>\n",
       "      <th>NET MALİYET</th>\n",
       "    </tr>\n",
       "  </thead>\n",
       "  <tbody>\n",
       "    <tr>\n",
       "      <th>0</th>\n",
       "      <td>FOOD</td>\n",
       "      <td>MART</td>\n",
       "      <td>1</td>\n",
       "      <td>8</td>\n",
       "      <td>400.0</td>\n",
       "      <td>21.85</td>\n",
       "      <td>18.449266</td>\n",
       "    </tr>\n",
       "    <tr>\n",
       "      <th>1</th>\n",
       "      <td>FOOD</td>\n",
       "      <td>MART</td>\n",
       "      <td>1</td>\n",
       "      <td>8</td>\n",
       "      <td>400.0</td>\n",
       "      <td>21.85</td>\n",
       "      <td>18.449266</td>\n",
       "    </tr>\n",
       "    <tr>\n",
       "      <th>2</th>\n",
       "      <td>FOOD</td>\n",
       "      <td>MART</td>\n",
       "      <td>1</td>\n",
       "      <td>12</td>\n",
       "      <td>600.0</td>\n",
       "      <td>27.00</td>\n",
       "      <td>22.538655</td>\n",
       "    </tr>\n",
       "    <tr>\n",
       "      <th>3</th>\n",
       "      <td>FOOD</td>\n",
       "      <td>MART</td>\n",
       "      <td>1</td>\n",
       "      <td>12</td>\n",
       "      <td>600.0</td>\n",
       "      <td>27.00</td>\n",
       "      <td>22.538655</td>\n",
       "    </tr>\n",
       "    <tr>\n",
       "      <th>4</th>\n",
       "      <td>FOOD</td>\n",
       "      <td>MART</td>\n",
       "      <td>1</td>\n",
       "      <td>8</td>\n",
       "      <td>335.0</td>\n",
       "      <td>39.75</td>\n",
       "      <td>34.326113</td>\n",
       "    </tr>\n",
       "  </tbody>\n",
       "</table>\n",
       "</div>"
      ],
      "text/plain": [
       "  KATEGORİ    AY  MAMUL  K.İÇİ     GR  LİSTE  NET MALİYET\n",
       "0     FOOD  MART      1      8  400.0  21.85    18.449266\n",
       "1     FOOD  MART      1      8  400.0  21.85    18.449266\n",
       "2     FOOD  MART      1     12  600.0  27.00    22.538655\n",
       "3     FOOD  MART      1     12  600.0  27.00    22.538655\n",
       "4     FOOD  MART      1      8  335.0  39.75    34.326113"
      ]
     },
     "execution_count": 114,
     "metadata": {},
     "output_type": "execute_result"
    }
   ],
   "source": [
    "selected_columns = ['KATEGORİ', 'AY', 'MAMUL', 'K.İÇİ', 'GR', 'LİSTE', 'NET MALİYET']\n",
    "data_selected = dataset[selected_columns]\n",
    "data_selected.head()"
   ]
  },
  {
   "cell_type": "code",
   "execution_count": 115,
   "metadata": {},
   "outputs": [],
   "source": [
    "X = data_selected.drop(columns=[\"KATEGORİ\"])  # Giriş verileri\n",
    "y = data_selected[\"KATEGORİ\"]  # Çıkış (etiket) verileri"
   ]
  },
  {
   "cell_type": "code",
   "execution_count": 116,
   "metadata": {},
   "outputs": [
    {
     "name": "stdout",
     "output_type": "stream",
     "text": [
      "<class 'pandas.core.frame.DataFrame'>\n",
      "RangeIndex: 3820 entries, 0 to 3819\n",
      "Data columns (total 6 columns):\n",
      " #   Column       Non-Null Count  Dtype  \n",
      "---  ------       --------------  -----  \n",
      " 0   AY           3820 non-null   object \n",
      " 1   MAMUL        3820 non-null   int64  \n",
      " 2   K.İÇİ        3820 non-null   int64  \n",
      " 3   GR           3820 non-null   float64\n",
      " 4   LİSTE        3820 non-null   float64\n",
      " 5   NET MALİYET  3820 non-null   float64\n",
      "dtypes: float64(3), int64(2), object(1)\n",
      "memory usage: 179.2+ KB\n"
     ]
    }
   ],
   "source": [
    "X.info()"
   ]
  },
  {
   "cell_type": "code",
   "execution_count": 117,
   "metadata": {},
   "outputs": [
    {
     "name": "stdout",
     "output_type": "stream",
     "text": [
      "     AY  MAMUL  K.İÇİ     GR  LİSTE  NET MALİYET\n",
      "0  MART      1      8  400.0  21.85    18.449266\n",
      "1  MART      1      8  400.0  21.85    18.449266\n",
      "2  MART      1     12  600.0  27.00    22.538655\n",
      "3  MART      1     12  600.0  27.00    22.538655\n",
      "4  MART      1      8  335.0  39.75    34.326113\n",
      "0    FOOD\n",
      "1    FOOD\n",
      "2    FOOD\n",
      "3    FOOD\n",
      "4    FOOD\n",
      "Name: KATEGORİ, dtype: object\n"
     ]
    }
   ],
   "source": [
    "print(X.head())\n",
    "print(y.head())"
   ]
  },
  {
   "cell_type": "code",
   "execution_count": 118,
   "metadata": {},
   "outputs": [],
   "source": [
    "categorical_columns = ['AY']\n",
    "numeric_columns = ['K.İÇİ', 'GR', 'LİSTE']"
   ]
  },
  {
   "cell_type": "code",
   "execution_count": 119,
   "metadata": {},
   "outputs": [
    {
     "data": {
      "text/html": [
       "<div>\n",
       "<style scoped>\n",
       "    .dataframe tbody tr th:only-of-type {\n",
       "        vertical-align: middle;\n",
       "    }\n",
       "\n",
       "    .dataframe tbody tr th {\n",
       "        vertical-align: top;\n",
       "    }\n",
       "\n",
       "    .dataframe thead th {\n",
       "        text-align: right;\n",
       "    }\n",
       "</style>\n",
       "<table border=\"1\" class=\"dataframe\">\n",
       "  <thead>\n",
       "    <tr style=\"text-align: right;\">\n",
       "      <th></th>\n",
       "      <th>AY</th>\n",
       "      <th>MAMUL</th>\n",
       "    </tr>\n",
       "  </thead>\n",
       "  <tbody>\n",
       "    <tr>\n",
       "      <th>0</th>\n",
       "      <td>MART</td>\n",
       "      <td>1</td>\n",
       "    </tr>\n",
       "    <tr>\n",
       "      <th>1</th>\n",
       "      <td>MART</td>\n",
       "      <td>1</td>\n",
       "    </tr>\n",
       "    <tr>\n",
       "      <th>2</th>\n",
       "      <td>MART</td>\n",
       "      <td>1</td>\n",
       "    </tr>\n",
       "    <tr>\n",
       "      <th>3</th>\n",
       "      <td>MART</td>\n",
       "      <td>1</td>\n",
       "    </tr>\n",
       "    <tr>\n",
       "      <th>4</th>\n",
       "      <td>MART</td>\n",
       "      <td>1</td>\n",
       "    </tr>\n",
       "    <tr>\n",
       "      <th>...</th>\n",
       "      <td>...</td>\n",
       "      <td>...</td>\n",
       "    </tr>\n",
       "    <tr>\n",
       "      <th>3815</th>\n",
       "      <td>EKİM</td>\n",
       "      <td>17</td>\n",
       "    </tr>\n",
       "    <tr>\n",
       "      <th>3816</th>\n",
       "      <td>EKİM</td>\n",
       "      <td>17</td>\n",
       "    </tr>\n",
       "    <tr>\n",
       "      <th>3817</th>\n",
       "      <td>EKİM</td>\n",
       "      <td>17</td>\n",
       "    </tr>\n",
       "    <tr>\n",
       "      <th>3818</th>\n",
       "      <td>EKİM</td>\n",
       "      <td>17</td>\n",
       "    </tr>\n",
       "    <tr>\n",
       "      <th>3819</th>\n",
       "      <td>EKİM</td>\n",
       "      <td>17</td>\n",
       "    </tr>\n",
       "  </tbody>\n",
       "</table>\n",
       "<p>3820 rows × 2 columns</p>\n",
       "</div>"
      ],
      "text/plain": [
       "        AY  MAMUL\n",
       "0     MART      1\n",
       "1     MART      1\n",
       "2     MART      1\n",
       "3     MART      1\n",
       "4     MART      1\n",
       "...    ...    ...\n",
       "3815  EKİM     17\n",
       "3816  EKİM     17\n",
       "3817  EKİM     17\n",
       "3818  EKİM     17\n",
       "3819  EKİM     17\n",
       "\n",
       "[3820 rows x 2 columns]"
      ]
     },
     "execution_count": 119,
     "metadata": {},
     "output_type": "execute_result"
    }
   ],
   "source": [
    "X.iloc[:, 0:2]"
   ]
  },
  {
   "cell_type": "code",
   "execution_count": 120,
   "metadata": {},
   "outputs": [
    {
     "name": "stderr",
     "output_type": "stream",
     "text": [
      "C:\\Users\\PC\\AppData\\Local\\Temp\\ipykernel_22488\\234877515.py:16: FutureWarning:\n",
      "\n",
      "In a future version, `df.iloc[:, i] = newvals` will attempt to set the values inplace instead of always setting a new array. To retain the old behavior, use either `df[df.columns[i]] = newvals` or, if columns are non-unique, `df.isetitem(i, newvals)`\n",
      "\n"
     ]
    }
   ],
   "source": [
    "from sklearn.compose import ColumnTransformer\n",
    "from sklearn.preprocessing import StandardScaler, LabelEncoder, OneHotEncoder\n",
    "\n",
    "# Sayısal ve kategorik sütunları işlemek için bir sütun dönüştürücü oluşturun\n",
    "preprocessor = ColumnTransformer(\n",
    "    transformers=[\n",
    "        (\"sayısal\", StandardScaler(), numeric_columns),\n",
    "    ],\n",
    "    remainder=\"passthrough\",\n",
    ")\n",
    "\n",
    "X.iloc[:, 2:] = preprocessor.fit_transform(X.iloc[:, 2:])\n",
    "# Verileri dönüştürün\n",
    "# X.iloc[:, 1:] = preprocessor.fit_transform(X.iloc[:, 1:])\n",
    "le = LabelEncoder()\n",
    "X.iloc[:, 0] = le.fit_transform(X.iloc[:, 0])\n",
    "X.iloc[:, 1] = le.fit_transform(X.iloc[:, 1])\n",
    "\n",
    "y = le.fit_transform(y)\n"
   ]
  },
  {
   "cell_type": "code",
   "execution_count": 121,
   "metadata": {},
   "outputs": [
    {
     "data": {
      "text/html": [
       "<div>\n",
       "<style scoped>\n",
       "    .dataframe tbody tr th:only-of-type {\n",
       "        vertical-align: middle;\n",
       "    }\n",
       "\n",
       "    .dataframe tbody tr th {\n",
       "        vertical-align: top;\n",
       "    }\n",
       "\n",
       "    .dataframe thead th {\n",
       "        text-align: right;\n",
       "    }\n",
       "</style>\n",
       "<table border=\"1\" class=\"dataframe\">\n",
       "  <thead>\n",
       "    <tr style=\"text-align: right;\">\n",
       "      <th></th>\n",
       "      <th>AY</th>\n",
       "      <th>MAMUL</th>\n",
       "      <th>K.İÇİ</th>\n",
       "      <th>GR</th>\n",
       "      <th>LİSTE</th>\n",
       "      <th>NET MALİYET</th>\n",
       "    </tr>\n",
       "  </thead>\n",
       "  <tbody>\n",
       "    <tr>\n",
       "      <th>0</th>\n",
       "      <td>4</td>\n",
       "      <td>0</td>\n",
       "      <td>-0.565928</td>\n",
       "      <td>-0.110449</td>\n",
       "      <td>-0.986225</td>\n",
       "      <td>18.449266</td>\n",
       "    </tr>\n",
       "    <tr>\n",
       "      <th>1</th>\n",
       "      <td>4</td>\n",
       "      <td>0</td>\n",
       "      <td>-0.565928</td>\n",
       "      <td>-0.110449</td>\n",
       "      <td>-0.986225</td>\n",
       "      <td>18.449266</td>\n",
       "    </tr>\n",
       "    <tr>\n",
       "      <th>2</th>\n",
       "      <td>4</td>\n",
       "      <td>0</td>\n",
       "      <td>-0.470838</td>\n",
       "      <td>0.121934</td>\n",
       "      <td>-0.829472</td>\n",
       "      <td>22.538655</td>\n",
       "    </tr>\n",
       "    <tr>\n",
       "      <th>3</th>\n",
       "      <td>4</td>\n",
       "      <td>0</td>\n",
       "      <td>-0.470838</td>\n",
       "      <td>0.121934</td>\n",
       "      <td>-0.829472</td>\n",
       "      <td>22.538655</td>\n",
       "    </tr>\n",
       "    <tr>\n",
       "      <th>4</th>\n",
       "      <td>4</td>\n",
       "      <td>0</td>\n",
       "      <td>-0.565928</td>\n",
       "      <td>-0.185974</td>\n",
       "      <td>-0.441394</td>\n",
       "      <td>34.326113</td>\n",
       "    </tr>\n",
       "  </tbody>\n",
       "</table>\n",
       "</div>"
      ],
      "text/plain": [
       "   AY  MAMUL     K.İÇİ        GR     LİSTE  NET MALİYET\n",
       "0   4      0 -0.565928 -0.110449 -0.986225    18.449266\n",
       "1   4      0 -0.565928 -0.110449 -0.986225    18.449266\n",
       "2   4      0 -0.470838  0.121934 -0.829472    22.538655\n",
       "3   4      0 -0.470838  0.121934 -0.829472    22.538655\n",
       "4   4      0 -0.565928 -0.185974 -0.441394    34.326113"
      ]
     },
     "execution_count": 121,
     "metadata": {},
     "output_type": "execute_result"
    }
   ],
   "source": [
    "x_dataset = pd.DataFrame(X)\n",
    "x_dataset.head()"
   ]
  },
  {
   "cell_type": "code",
   "execution_count": 122,
   "metadata": {},
   "outputs": [
    {
     "data": {
      "text/plain": [
       "array([ 0,  1,  2,  3,  4,  9, 10,  7,  6,  8, 11, 12,  5], dtype=int64)"
      ]
     },
     "execution_count": 122,
     "metadata": {},
     "output_type": "execute_result"
    }
   ],
   "source": [
    "x_dataset.MAMUL.unique()"
   ]
  },
  {
   "cell_type": "code",
   "execution_count": 123,
   "metadata": {},
   "outputs": [],
   "source": [
    "from sklearn.model_selection import train_test_split\n",
    "\n",
    "# Verileri eğitim ve test kümelerine bölün\n",
    "X_train, X_test, y_train, y_test = train_test_split(X, y, test_size=0.2, random_state=42)"
   ]
  },
  {
   "cell_type": "markdown",
   "metadata": {},
   "source": [
    "#### Modeli oluşturun"
   ]
  },
  {
   "cell_type": "code",
   "execution_count": 124,
   "metadata": {},
   "outputs": [],
   "source": [
    "from tensorflow import keras\n",
    "from keras import layers\n",
    "\n",
    "model = keras.Sequential([ # Sıralı bir model oluşturun\n",
    "    layers.Dense(64, activation='relu', input_shape=[X_train.shape[1]]), # Giriş katmanı\n",
    "    layers.Dense(64, activation='relu'), # Gizli katman\n",
    "    layers.Dense(3, activation='softmax') # Çıkış katmanı\n",
    "])\n"
   ]
  },
  {
   "cell_type": "markdown",
   "metadata": {},
   "source": [
    "#### Modeli Derle"
   ]
  },
  {
   "cell_type": "code",
   "execution_count": 125,
   "metadata": {},
   "outputs": [],
   "source": [
    "model.compile(\n",
    "    optimizer='adam', # Optimizasyon fonksiyonu\n",
    "    loss='sparse_categorical_crossentropy', # Kayıp fonksiyonu\n",
    "    metrics=['accuracy'] # Başarı metriği\n",
    ")"
   ]
  },
  {
   "cell_type": "code",
   "execution_count": 126,
   "metadata": {},
   "outputs": [],
   "source": [
    "y_train = y_train.reshape(-1, 1)"
   ]
  },
  {
   "cell_type": "markdown",
   "metadata": {},
   "source": [
    "#### Eğitim işlemini başlatın"
   ]
  },
  {
   "cell_type": "code",
   "execution_count": 127,
   "metadata": {},
   "outputs": [
    {
     "name": "stdout",
     "output_type": "stream",
     "text": [
      "Epoch 1/100\n"
     ]
    },
    {
     "name": "stdout",
     "output_type": "stream",
     "text": [
      "77/77 [==============================] - 1s 2ms/step - loss: 0.8786 - accuracy: 0.6408 - val_loss: 0.5377 - val_accuracy: 0.8301\n",
      "Epoch 2/100\n",
      "77/77 [==============================] - 0s 990us/step - loss: 0.3684 - accuracy: 0.9043 - val_loss: 0.2887 - val_accuracy: 0.8987\n",
      "Epoch 3/100\n",
      "77/77 [==============================] - 0s 929us/step - loss: 0.2325 - accuracy: 0.9366 - val_loss: 0.2052 - val_accuracy: 0.9412\n",
      "Epoch 4/100\n",
      "77/77 [==============================] - 0s 989us/step - loss: 0.1379 - accuracy: 0.9701 - val_loss: 0.1465 - val_accuracy: 0.9526\n",
      "Epoch 5/100\n",
      "77/77 [==============================] - 0s 929us/step - loss: 0.1067 - accuracy: 0.9767 - val_loss: 0.1245 - val_accuracy: 0.9592\n",
      "Epoch 6/100\n",
      "77/77 [==============================] - 0s 926us/step - loss: 0.0920 - accuracy: 0.9759 - val_loss: 0.0964 - val_accuracy: 0.9641\n",
      "Epoch 7/100\n",
      "77/77 [==============================] - 0s 929us/step - loss: 0.0767 - accuracy: 0.9812 - val_loss: 0.0934 - val_accuracy: 0.9690\n",
      "Epoch 8/100\n",
      "77/77 [==============================] - 0s 944us/step - loss: 0.0665 - accuracy: 0.9812 - val_loss: 0.0940 - val_accuracy: 0.9755\n",
      "Epoch 9/100\n",
      "77/77 [==============================] - 0s 924us/step - loss: 0.0655 - accuracy: 0.9824 - val_loss: 0.0903 - val_accuracy: 0.9722\n",
      "Epoch 10/100\n",
      "77/77 [==============================] - 0s 903us/step - loss: 0.0745 - accuracy: 0.9771 - val_loss: 0.0764 - val_accuracy: 0.9690\n",
      "Epoch 11/100\n",
      "77/77 [==============================] - 0s 915us/step - loss: 0.0576 - accuracy: 0.9845 - val_loss: 0.0735 - val_accuracy: 0.9722\n",
      "Epoch 12/100\n",
      "77/77 [==============================] - 0s 916us/step - loss: 0.0788 - accuracy: 0.9734 - val_loss: 0.0849 - val_accuracy: 0.9690\n",
      "Epoch 13/100\n",
      "77/77 [==============================] - 0s 903us/step - loss: 0.0471 - accuracy: 0.9845 - val_loss: 0.0681 - val_accuracy: 0.9755\n",
      "Epoch 14/100\n",
      "77/77 [==============================] - 0s 909us/step - loss: 0.0479 - accuracy: 0.9865 - val_loss: 0.0637 - val_accuracy: 0.9755\n",
      "Epoch 15/100\n",
      "77/77 [==============================] - 0s 919us/step - loss: 0.0448 - accuracy: 0.9861 - val_loss: 0.0972 - val_accuracy: 0.9592\n",
      "Epoch 16/100\n",
      "77/77 [==============================] - 0s 960us/step - loss: 0.0478 - accuracy: 0.9845 - val_loss: 0.0573 - val_accuracy: 0.9820\n",
      "Epoch 17/100\n",
      "77/77 [==============================] - 0s 1ms/step - loss: 0.0418 - accuracy: 0.9877 - val_loss: 0.0615 - val_accuracy: 0.9739\n",
      "Epoch 18/100\n",
      "77/77 [==============================] - 0s 931us/step - loss: 0.0509 - accuracy: 0.9828 - val_loss: 0.0738 - val_accuracy: 0.9690\n",
      "Epoch 19/100\n",
      "77/77 [==============================] - 0s 915us/step - loss: 0.0394 - accuracy: 0.9885 - val_loss: 0.0512 - val_accuracy: 0.9755\n",
      "Epoch 20/100\n",
      "77/77 [==============================] - 0s 936us/step - loss: 0.0391 - accuracy: 0.9873 - val_loss: 0.0933 - val_accuracy: 0.9624\n",
      "Epoch 21/100\n",
      "77/77 [==============================] - 0s 921us/step - loss: 0.0382 - accuracy: 0.9857 - val_loss: 0.0448 - val_accuracy: 0.9837\n",
      "Epoch 22/100\n",
      "77/77 [==============================] - 0s 926us/step - loss: 0.0353 - accuracy: 0.9898 - val_loss: 0.0457 - val_accuracy: 0.9820\n",
      "Epoch 23/100\n",
      "77/77 [==============================] - 0s 918us/step - loss: 0.0316 - accuracy: 0.9914 - val_loss: 0.0566 - val_accuracy: 0.9771\n",
      "Epoch 24/100\n",
      "77/77 [==============================] - 0s 962us/step - loss: 0.0302 - accuracy: 0.9914 - val_loss: 0.0490 - val_accuracy: 0.9869\n",
      "Epoch 25/100\n",
      "77/77 [==============================] - 0s 1ms/step - loss: 0.0368 - accuracy: 0.9890 - val_loss: 0.0553 - val_accuracy: 0.9804\n",
      "Epoch 26/100\n",
      "77/77 [==============================] - 0s 961us/step - loss: 0.0522 - accuracy: 0.9840 - val_loss: 0.0591 - val_accuracy: 0.9804\n",
      "Epoch 27/100\n",
      "77/77 [==============================] - 0s 911us/step - loss: 0.0292 - accuracy: 0.9902 - val_loss: 0.0686 - val_accuracy: 0.9706\n",
      "Epoch 28/100\n",
      "77/77 [==============================] - 0s 911us/step - loss: 0.0321 - accuracy: 0.9885 - val_loss: 0.0514 - val_accuracy: 0.9771\n",
      "Epoch 29/100\n",
      "77/77 [==============================] - 0s 924us/step - loss: 0.0408 - accuracy: 0.9865 - val_loss: 0.0852 - val_accuracy: 0.9722\n",
      "Epoch 30/100\n",
      "77/77 [==============================] - 0s 927us/step - loss: 0.0283 - accuracy: 0.9926 - val_loss: 0.0380 - val_accuracy: 0.9886\n",
      "Epoch 31/100\n",
      "77/77 [==============================] - 0s 983us/step - loss: 0.0271 - accuracy: 0.9914 - val_loss: 0.0757 - val_accuracy: 0.9755\n",
      "Epoch 32/100\n",
      "77/77 [==============================] - 0s 1ms/step - loss: 0.0285 - accuracy: 0.9902 - val_loss: 0.0359 - val_accuracy: 0.9820\n",
      "Epoch 33/100\n",
      "77/77 [==============================] - 0s 948us/step - loss: 0.0296 - accuracy: 0.9906 - val_loss: 0.0476 - val_accuracy: 0.9771\n",
      "Epoch 34/100\n",
      "77/77 [==============================] - 0s 979us/step - loss: 0.0260 - accuracy: 0.9935 - val_loss: 0.0385 - val_accuracy: 0.9853\n",
      "Epoch 35/100\n",
      "77/77 [==============================] - 0s 1ms/step - loss: 0.0274 - accuracy: 0.9926 - val_loss: 0.0424 - val_accuracy: 0.9820\n",
      "Epoch 36/100\n",
      "77/77 [==============================] - 0s 981us/step - loss: 0.0319 - accuracy: 0.9906 - val_loss: 0.0508 - val_accuracy: 0.9771\n",
      "Epoch 37/100\n",
      "77/77 [==============================] - 0s 917us/step - loss: 0.0359 - accuracy: 0.9890 - val_loss: 0.0324 - val_accuracy: 0.9902\n",
      "Epoch 38/100\n",
      "77/77 [==============================] - 0s 946us/step - loss: 0.0381 - accuracy: 0.9885 - val_loss: 0.0385 - val_accuracy: 0.9804\n",
      "Epoch 39/100\n",
      "77/77 [==============================] - 0s 928us/step - loss: 0.0228 - accuracy: 0.9959 - val_loss: 0.0337 - val_accuracy: 0.9886\n",
      "Epoch 40/100\n",
      "77/77 [==============================] - 0s 961us/step - loss: 0.0230 - accuracy: 0.9939 - val_loss: 0.0468 - val_accuracy: 0.9804\n",
      "Epoch 41/100\n",
      "77/77 [==============================] - 0s 965us/step - loss: 0.0233 - accuracy: 0.9935 - val_loss: 0.0322 - val_accuracy: 0.9837\n",
      "Epoch 42/100\n",
      "77/77 [==============================] - 0s 1ms/step - loss: 0.0319 - accuracy: 0.9890 - val_loss: 0.0301 - val_accuracy: 0.9902\n",
      "Epoch 43/100\n",
      "77/77 [==============================] - 0s 1ms/step - loss: 0.0205 - accuracy: 0.9955 - val_loss: 0.0329 - val_accuracy: 0.9869\n",
      "Epoch 44/100\n",
      "77/77 [==============================] - 0s 969us/step - loss: 0.0189 - accuracy: 0.9935 - val_loss: 0.0383 - val_accuracy: 0.9886\n",
      "Epoch 45/100\n",
      "77/77 [==============================] - 0s 920us/step - loss: 0.0354 - accuracy: 0.9885 - val_loss: 0.0526 - val_accuracy: 0.9804\n",
      "Epoch 46/100\n",
      "77/77 [==============================] - 0s 920us/step - loss: 0.0299 - accuracy: 0.9902 - val_loss: 0.0812 - val_accuracy: 0.9739\n",
      "Epoch 47/100\n",
      "77/77 [==============================] - 0s 913us/step - loss: 0.0272 - accuracy: 0.9898 - val_loss: 0.0394 - val_accuracy: 0.9820\n",
      "Epoch 48/100\n",
      "77/77 [==============================] - 0s 941us/step - loss: 0.0235 - accuracy: 0.9935 - val_loss: 0.0284 - val_accuracy: 0.9820\n",
      "Epoch 49/100\n",
      "77/77 [==============================] - 0s 964us/step - loss: 0.0176 - accuracy: 0.9951 - val_loss: 0.0281 - val_accuracy: 0.9902\n",
      "Epoch 50/100\n",
      "77/77 [==============================] - 0s 920us/step - loss: 0.0184 - accuracy: 0.9951 - val_loss: 0.0308 - val_accuracy: 0.9853\n",
      "Epoch 51/100\n",
      "77/77 [==============================] - 0s 926us/step - loss: 0.0214 - accuracy: 0.9951 - val_loss: 0.0456 - val_accuracy: 0.9820\n",
      "Epoch 52/100\n",
      "77/77 [==============================] - 0s 918us/step - loss: 0.0187 - accuracy: 0.9943 - val_loss: 0.0244 - val_accuracy: 0.9918\n",
      "Epoch 53/100\n",
      "77/77 [==============================] - 0s 924us/step - loss: 0.0199 - accuracy: 0.9943 - val_loss: 0.0241 - val_accuracy: 0.9902\n",
      "Epoch 54/100\n",
      "77/77 [==============================] - 0s 963us/step - loss: 0.0161 - accuracy: 0.9963 - val_loss: 0.0240 - val_accuracy: 0.9902\n",
      "Epoch 55/100\n",
      "77/77 [==============================] - 0s 1ms/step - loss: 0.0212 - accuracy: 0.9939 - val_loss: 0.0431 - val_accuracy: 0.9820\n",
      "Epoch 56/100\n",
      "77/77 [==============================] - 0s 966us/step - loss: 0.0165 - accuracy: 0.9947 - val_loss: 0.0258 - val_accuracy: 0.9853\n",
      "Epoch 57/100\n",
      "77/77 [==============================] - 0s 935us/step - loss: 0.0161 - accuracy: 0.9955 - val_loss: 0.0239 - val_accuracy: 0.9853\n",
      "Epoch 58/100\n",
      "77/77 [==============================] - 0s 924us/step - loss: 0.0186 - accuracy: 0.9947 - val_loss: 0.0428 - val_accuracy: 0.9886\n",
      "Epoch 59/100\n",
      "77/77 [==============================] - 0s 918us/step - loss: 0.0185 - accuracy: 0.9959 - val_loss: 0.0533 - val_accuracy: 0.9820\n",
      "Epoch 60/100\n",
      "77/77 [==============================] - 0s 1ms/step - loss: 0.0149 - accuracy: 0.9947 - val_loss: 0.0326 - val_accuracy: 0.9886\n",
      "Epoch 61/100\n",
      "77/77 [==============================] - 0s 929us/step - loss: 0.0333 - accuracy: 0.9890 - val_loss: 0.0219 - val_accuracy: 0.9935\n",
      "Epoch 62/100\n",
      "77/77 [==============================] - 0s 923us/step - loss: 0.0217 - accuracy: 0.9930 - val_loss: 0.0223 - val_accuracy: 0.9886\n",
      "Epoch 63/100\n",
      "77/77 [==============================] - 0s 921us/step - loss: 0.0175 - accuracy: 0.9959 - val_loss: 0.0203 - val_accuracy: 0.9869\n",
      "Epoch 64/100\n",
      "77/77 [==============================] - 0s 917us/step - loss: 0.0142 - accuracy: 0.9959 - val_loss: 0.0135 - val_accuracy: 0.9951\n",
      "Epoch 65/100\n",
      "77/77 [==============================] - 0s 907us/step - loss: 0.0332 - accuracy: 0.9881 - val_loss: 0.1098 - val_accuracy: 0.9706\n",
      "Epoch 66/100\n",
      "77/77 [==============================] - 0s 933us/step - loss: 0.0183 - accuracy: 0.9947 - val_loss: 0.0179 - val_accuracy: 0.9918\n",
      "Epoch 67/100\n",
      "77/77 [==============================] - 0s 924us/step - loss: 0.0141 - accuracy: 0.9975 - val_loss: 0.0200 - val_accuracy: 0.9935\n",
      "Epoch 68/100\n",
      "77/77 [==============================] - 0s 913us/step - loss: 0.0141 - accuracy: 0.9971 - val_loss: 0.0142 - val_accuracy: 0.9951\n",
      "Epoch 69/100\n",
      "77/77 [==============================] - 0s 923us/step - loss: 0.0127 - accuracy: 0.9959 - val_loss: 0.0180 - val_accuracy: 0.9935\n",
      "Epoch 70/100\n",
      "77/77 [==============================] - 0s 1ms/step - loss: 0.0154 - accuracy: 0.9951 - val_loss: 0.0160 - val_accuracy: 1.0000\n",
      "Epoch 71/100\n",
      "77/77 [==============================] - 0s 1ms/step - loss: 0.0130 - accuracy: 0.9971 - val_loss: 0.0114 - val_accuracy: 0.9935\n",
      "Epoch 72/100\n",
      "77/77 [==============================] - 0s 926us/step - loss: 0.0106 - accuracy: 0.9975 - val_loss: 0.0115 - val_accuracy: 0.9951\n",
      "Epoch 73/100\n",
      "77/77 [==============================] - 0s 915us/step - loss: 0.0160 - accuracy: 0.9967 - val_loss: 0.0155 - val_accuracy: 0.9951\n",
      "Epoch 74/100\n",
      "77/77 [==============================] - 0s 902us/step - loss: 0.0405 - accuracy: 0.9898 - val_loss: 0.0475 - val_accuracy: 0.9853\n",
      "Epoch 75/100\n",
      "77/77 [==============================] - 0s 921us/step - loss: 0.0182 - accuracy: 0.9963 - val_loss: 0.0131 - val_accuracy: 0.9967\n",
      "Epoch 76/100\n",
      "77/77 [==============================] - 0s 928us/step - loss: 0.0107 - accuracy: 0.9975 - val_loss: 0.0186 - val_accuracy: 0.9902\n",
      "Epoch 77/100\n",
      "77/77 [==============================] - 0s 936us/step - loss: 0.0142 - accuracy: 0.9951 - val_loss: 0.0228 - val_accuracy: 0.9902\n",
      "Epoch 78/100\n",
      "77/77 [==============================] - 0s 921us/step - loss: 0.0099 - accuracy: 0.9984 - val_loss: 0.0182 - val_accuracy: 0.9902\n",
      "Epoch 79/100\n",
      "77/77 [==============================] - 0s 919us/step - loss: 0.0088 - accuracy: 0.9988 - val_loss: 0.0108 - val_accuracy: 0.9951\n",
      "Epoch 80/100\n",
      "77/77 [==============================] - 0s 920us/step - loss: 0.0098 - accuracy: 0.9984 - val_loss: 0.0191 - val_accuracy: 0.9984\n",
      "Epoch 81/100\n",
      "77/77 [==============================] - 0s 923us/step - loss: 0.0102 - accuracy: 0.9975 - val_loss: 0.0114 - val_accuracy: 0.9935\n",
      "Epoch 82/100\n",
      "77/77 [==============================] - 0s 973us/step - loss: 0.0084 - accuracy: 0.9980 - val_loss: 0.0110 - val_accuracy: 0.9967\n",
      "Epoch 83/100\n",
      "77/77 [==============================] - 0s 986us/step - loss: 0.0155 - accuracy: 0.9935 - val_loss: 0.0287 - val_accuracy: 0.9804\n",
      "Epoch 84/100\n",
      "77/77 [==============================] - 0s 948us/step - loss: 0.0120 - accuracy: 0.9975 - val_loss: 0.0120 - val_accuracy: 0.9967\n",
      "Epoch 85/100\n",
      "77/77 [==============================] - 0s 959us/step - loss: 0.0076 - accuracy: 0.9996 - val_loss: 0.0093 - val_accuracy: 0.9951\n",
      "Epoch 86/100\n",
      "77/77 [==============================] - 0s 1ms/step - loss: 0.0097 - accuracy: 0.9984 - val_loss: 0.0085 - val_accuracy: 1.0000\n",
      "Epoch 87/100\n",
      "77/77 [==============================] - 0s 1ms/step - loss: 0.0092 - accuracy: 0.9975 - val_loss: 0.0114 - val_accuracy: 0.9951\n",
      "Epoch 88/100\n",
      "77/77 [==============================] - 0s 935us/step - loss: 0.0112 - accuracy: 0.9967 - val_loss: 0.0249 - val_accuracy: 0.9935\n",
      "Epoch 89/100\n",
      "77/77 [==============================] - 0s 952us/step - loss: 0.0105 - accuracy: 0.9975 - val_loss: 0.0090 - val_accuracy: 0.9967\n",
      "Epoch 90/100\n",
      "77/77 [==============================] - 0s 934us/step - loss: 0.0071 - accuracy: 0.9992 - val_loss: 0.0076 - val_accuracy: 0.9984\n",
      "Epoch 91/100\n",
      "77/77 [==============================] - 0s 926us/step - loss: 0.0084 - accuracy: 0.9992 - val_loss: 0.0067 - val_accuracy: 1.0000\n",
      "Epoch 92/100\n",
      "77/77 [==============================] - 0s 905us/step - loss: 0.0097 - accuracy: 0.9975 - val_loss: 0.0100 - val_accuracy: 0.9984\n",
      "Epoch 93/100\n",
      "77/77 [==============================] - 0s 931us/step - loss: 0.0087 - accuracy: 0.9980 - val_loss: 0.0082 - val_accuracy: 1.0000\n",
      "Epoch 94/100\n",
      "77/77 [==============================] - 0s 970us/step - loss: 0.0088 - accuracy: 0.9984 - val_loss: 0.0083 - val_accuracy: 1.0000\n",
      "Epoch 95/100\n",
      "77/77 [==============================] - 0s 983us/step - loss: 0.0162 - accuracy: 0.9939 - val_loss: 0.0550 - val_accuracy: 0.9788\n",
      "Epoch 96/100\n",
      "77/77 [==============================] - 0s 944us/step - loss: 0.0166 - accuracy: 0.9935 - val_loss: 0.0145 - val_accuracy: 0.9967\n",
      "Epoch 97/100\n",
      "77/77 [==============================] - 0s 930us/step - loss: 0.0091 - accuracy: 0.9988 - val_loss: 0.0060 - val_accuracy: 1.0000\n",
      "Epoch 98/100\n",
      "77/77 [==============================] - 0s 921us/step - loss: 0.0091 - accuracy: 0.9980 - val_loss: 0.0192 - val_accuracy: 0.9935\n",
      "Epoch 99/100\n",
      "77/77 [==============================] - 0s 934us/step - loss: 0.0127 - accuracy: 0.9971 - val_loss: 0.0087 - val_accuracy: 0.9984\n",
      "Epoch 100/100\n",
      "77/77 [==============================] - 0s 927us/step - loss: 0.0066 - accuracy: 0.9992 - val_loss: 0.0089 - val_accuracy: 0.9967\n"
     ]
    }
   ],
   "source": [
    "history = model.fit(\n",
    "    X_train, y_train, # Eğitim verileri\n",
    "    validation_split=0.2, # Eğitim verilerinin %20'sini doğrulama verileri olarak kullanın\n",
    "    batch_size=32, # Her iterasyonda 32 örnek kullanın\n",
    "    epochs=100, # 100 iterasyon\n",
    "    verbose=1 # Her iterasyonda ekrana çıktı ver\n",
    ")"
   ]
  },
  {
   "cell_type": "markdown",
   "metadata": {},
   "source": [
    "#### Eğitim ve doğrulama kayıp grafiği"
   ]
  },
  {
   "cell_type": "code",
   "execution_count": 128,
   "metadata": {},
   "outputs": [
    {
     "data": {
      "application/vnd.plotly.v1+json": {
       "config": {
        "plotlyServerURL": "https://plot.ly"
       },
       "data": [
        {
         "name": "Eğitim Kaybı",
         "type": "scatter",
         "xaxis": "x",
         "y": [
          0.8786300420761108,
          0.3683745861053467,
          0.2324623316526413,
          0.1378757506608963,
          0.10668374598026276,
          0.091970294713974,
          0.07666169852018356,
          0.06653575599193573,
          0.06546659022569656,
          0.07454371452331543,
          0.05755259841680527,
          0.07883128523826599,
          0.04710712283849716,
          0.047900035977363586,
          0.044840939342975616,
          0.0478120855987072,
          0.04176033288240433,
          0.05086291581392288,
          0.03938741236925125,
          0.03910955786705017,
          0.03824680298566818,
          0.03532979264855385,
          0.03161555528640747,
          0.030193738639354706,
          0.03675909712910652,
          0.052223145961761475,
          0.0291985422372818,
          0.0321090891957283,
          0.0408145934343338,
          0.028253810480237007,
          0.027102671563625336,
          0.028459707275032997,
          0.02955314889550209,
          0.02600221335887909,
          0.02740495465695858,
          0.031885430216789246,
          0.035914160311222076,
          0.03813368082046509,
          0.022802354767918587,
          0.023034578189253807,
          0.02327694557607174,
          0.0319255106151104,
          0.020506175234913826,
          0.018891530111432076,
          0.035380538552999496,
          0.029891030862927437,
          0.02718675695359707,
          0.02351505123078823,
          0.017613762989640236,
          0.0183633491396904,
          0.021405989304184914,
          0.018731242045760155,
          0.01991315372288227,
          0.01609284244477749,
          0.0212432611733675,
          0.016484759747982025,
          0.01610598899424076,
          0.018609225749969482,
          0.018524011597037315,
          0.014937179163098335,
          0.03332776948809624,
          0.021697038784623146,
          0.017458608373999596,
          0.014216115698218346,
          0.03320411592721939,
          0.018264077603816986,
          0.014118731953203678,
          0.014139986597001553,
          0.012660804204642773,
          0.015449926257133484,
          0.012964872643351555,
          0.01061596255749464,
          0.01599283330142498,
          0.04052311182022095,
          0.01824248395860195,
          0.01069797482341528,
          0.014239094220101833,
          0.009864997118711472,
          0.008791713044047356,
          0.009838550351560116,
          0.010198569856584072,
          0.008397052995860577,
          0.01546804141253233,
          0.01203954592347145,
          0.007631981745362282,
          0.009701952338218689,
          0.00923569779843092,
          0.01122530922293663,
          0.010534887202084064,
          0.007093026768416166,
          0.008438076823949814,
          0.009658611379563808,
          0.008656364865601063,
          0.008785729296505451,
          0.016197526827454567,
          0.016579225659370422,
          0.00905072595924139,
          0.009073770605027676,
          0.012664598412811756,
          0.006615062709897757
         ],
         "yaxis": "y"
        },
        {
         "name": "Doğrulama Kaybı",
         "type": "scatter",
         "xaxis": "x",
         "y": [
          0.5376920700073242,
          0.2887326776981354,
          0.20520596206188202,
          0.14647294580936432,
          0.12452425062656403,
          0.09637019038200378,
          0.09344270080327988,
          0.09400589764118195,
          0.09028899669647217,
          0.07636880874633789,
          0.07349821925163269,
          0.0848856121301651,
          0.0681004524230957,
          0.06367682665586472,
          0.09724991768598557,
          0.057327352464199066,
          0.06146794185042381,
          0.07383064180612564,
          0.05118216574192047,
          0.09327173233032227,
          0.04484329745173454,
          0.045656681060791016,
          0.05662063509225845,
          0.04897676780819893,
          0.055316582322120667,
          0.05905359610915184,
          0.06857893615961075,
          0.05144267529249191,
          0.08523090183734894,
          0.03798850625753403,
          0.07573918253183365,
          0.03590792044997215,
          0.04755174741148949,
          0.03853368014097214,
          0.042398035526275635,
          0.05084832385182381,
          0.03240598365664482,
          0.03849026933312416,
          0.03372852876782417,
          0.04678015783429146,
          0.032225072383880615,
          0.0300788264721632,
          0.03291134908795357,
          0.03832186758518219,
          0.052587538957595825,
          0.0811561644077301,
          0.03937288373708725,
          0.028419040143489838,
          0.02813444659113884,
          0.03081325814127922,
          0.04555182531476021,
          0.02437671273946762,
          0.024130305275321007,
          0.0239967443048954,
          0.043096620589494705,
          0.025842156261205673,
          0.023893700912594795,
          0.04278329014778137,
          0.053269773721694946,
          0.03255743533372879,
          0.021875353530049324,
          0.022333811968564987,
          0.020257066935300827,
          0.013545064255595207,
          0.10978980362415314,
          0.017933012917637825,
          0.019991861656308174,
          0.014223311096429825,
          0.018019812181591988,
          0.01602371782064438,
          0.01142854429781437,
          0.01147173997014761,
          0.01546336617320776,
          0.04749641939997673,
          0.013094657100737095,
          0.018618760630488396,
          0.022779271006584167,
          0.01822816953063011,
          0.010805932804942131,
          0.01913079060614109,
          0.011418424546718597,
          0.011023838073015213,
          0.028702041134238243,
          0.012032825499773026,
          0.009322823956608772,
          0.008452288806438446,
          0.01140422560274601,
          0.02489694207906723,
          0.008995991200208664,
          0.007566302549093962,
          0.006701434962451458,
          0.010017798282206059,
          0.008171615190804005,
          0.008341803215444088,
          0.05495598912239075,
          0.014531495980918407,
          0.005982815288007259,
          0.019195325672626495,
          0.008741372264921665,
          0.008946573361754417
         ],
         "yaxis": "y"
        },
        {
         "name": "Eğitim Başarısı",
         "type": "scatter",
         "xaxis": "x2",
         "y": [
          0.6407528519630432,
          0.9042553305625916,
          0.9365794062614441,
          0.9701309204101562,
          0.9766775965690613,
          0.9758592247962952,
          0.9811784029006958,
          0.9811784029006958,
          0.9824059009552002,
          0.9770867228507996,
          0.9844517111778259,
          0.9734042286872864,
          0.9844517111778259,
          0.9864975214004517,
          0.9860883951187134,
          0.9844517111778259,
          0.987725019454956,
          0.9828150868415833,
          0.9885433912277222,
          0.9873158931732178,
          0.9856792092323303,
          0.9897708892822266,
          0.9914075136184692,
          0.9914075136184692,
          0.9889525175094604,
          0.9840425252914429,
          0.9901800155639648,
          0.9885433912277222,
          0.9864975214004517,
          0.9926350116729736,
          0.9914075136184692,
          0.9901800155639648,
          0.9905892014503479,
          0.9934533834457397,
          0.9926350116729736,
          0.9905892014503479,
          0.9889525175094604,
          0.9885433912277222,
          0.9959083199501038,
          0.993862509727478,
          0.9934533834457397,
          0.9889525175094604,
          0.9954991936683655,
          0.9934533834457397,
          0.9885433912277222,
          0.9901800155639648,
          0.9897708892822266,
          0.9934533834457397,
          0.9950900077819824,
          0.9950900077819824,
          0.9950900077819824,
          0.9942716956138611,
          0.9942716956138611,
          0.9963175058364868,
          0.993862509727478,
          0.9946808218955994,
          0.9954991936683655,
          0.9946808218955994,
          0.9959083199501038,
          0.9946808218955994,
          0.9889525175094604,
          0.9930441975593567,
          0.9959083199501038,
          0.9959083199501038,
          0.9881342053413391,
          0.9946808218955994,
          0.9975450038909912,
          0.9971358180046082,
          0.9959083199501038,
          0.9950900077819824,
          0.9971358180046082,
          0.9975450038909912,
          0.9967266917228699,
          0.9897708892822266,
          0.9963175058364868,
          0.9975450038909912,
          0.9950900077819824,
          0.9983633160591125,
          0.9987725019454956,
          0.9983633160591125,
          0.9975450038909912,
          0.9979541897773743,
          0.9934533834457397,
          0.9975450038909912,
          0.9995908141136169,
          0.9983633160591125,
          0.9975450038909912,
          0.9967266917228699,
          0.9975450038909912,
          0.9991816878318787,
          0.9991816878318787,
          0.9975450038909912,
          0.9979541897773743,
          0.9983633160591125,
          0.993862509727478,
          0.9934533834457397,
          0.9987725019454956,
          0.9979541897773743,
          0.9971358180046082,
          0.9991816878318787
         ],
         "yaxis": "y2"
        },
        {
         "name": "Doğrulama Başarısı",
         "type": "scatter",
         "xaxis": "x2",
         "y": [
          0.8300653696060181,
          0.898692786693573,
          0.9411764740943909,
          0.9526143670082092,
          0.9591503143310547,
          0.9640522599220276,
          0.9689542651176453,
          0.9754902124404907,
          0.9722222089767456,
          0.9689542651176453,
          0.9722222089767456,
          0.9689542651176453,
          0.9754902124404907,
          0.9754902124404907,
          0.9591503143310547,
          0.9820261597633362,
          0.9738562107086182,
          0.9689542651176453,
          0.9754902124404907,
          0.9624183177947998,
          0.983660101890564,
          0.9820261597633362,
          0.9771241545677185,
          0.9869281053543091,
          0.9803921580314636,
          0.9803921580314636,
          0.970588207244873,
          0.9771241545677185,
          0.9722222089767456,
          0.9885621070861816,
          0.9754902124404907,
          0.9820261597633362,
          0.9771241545677185,
          0.9852941036224365,
          0.9820261597633362,
          0.9771241545677185,
          0.9901960492134094,
          0.9803921580314636,
          0.9885621070861816,
          0.9803921580314636,
          0.983660101890564,
          0.9901960492134094,
          0.9869281053543091,
          0.9885621070861816,
          0.9803921580314636,
          0.9738562107086182,
          0.9820261597633362,
          0.9820261597633362,
          0.9901960492134094,
          0.9852941036224365,
          0.9820261597633362,
          0.991830050945282,
          0.9901960492134094,
          0.9901960492134094,
          0.9820261597633362,
          0.9852941036224365,
          0.9852941036224365,
          0.9885621070861816,
          0.9820261597633362,
          0.9885621070861816,
          0.9934640526771545,
          0.9885621070861816,
          0.9869281053543091,
          0.9950980544090271,
          0.970588207244873,
          0.991830050945282,
          0.9934640526771545,
          0.9950980544090271,
          0.9934640526771545,
          1,
          0.9934640526771545,
          0.9950980544090271,
          0.9950980544090271,
          0.9852941036224365,
          0.9967319965362549,
          0.9901960492134094,
          0.9901960492134094,
          0.9901960492134094,
          0.9950980544090271,
          0.9983659982681274,
          0.9934640526771545,
          0.9967319965362549,
          0.9803921580314636,
          0.9967319965362549,
          0.9950980544090271,
          1,
          0.9950980544090271,
          0.9934640526771545,
          0.9967319965362549,
          0.9983659982681274,
          1,
          0.9983659982681274,
          1,
          1,
          0.9787581562995911,
          0.9967319965362549,
          1,
          0.9934640526771545,
          0.9983659982681274,
          0.9967319965362549
         ],
         "yaxis": "y2"
        }
       ],
       "layout": {
        "height": 500,
        "template": {
         "data": {
          "bar": [
           {
            "error_x": {
             "color": "#2a3f5f"
            },
            "error_y": {
             "color": "#2a3f5f"
            },
            "marker": {
             "line": {
              "color": "#E5ECF6",
              "width": 0.5
             },
             "pattern": {
              "fillmode": "overlay",
              "size": 10,
              "solidity": 0.2
             }
            },
            "type": "bar"
           }
          ],
          "barpolar": [
           {
            "marker": {
             "line": {
              "color": "#E5ECF6",
              "width": 0.5
             },
             "pattern": {
              "fillmode": "overlay",
              "size": 10,
              "solidity": 0.2
             }
            },
            "type": "barpolar"
           }
          ],
          "carpet": [
           {
            "aaxis": {
             "endlinecolor": "#2a3f5f",
             "gridcolor": "white",
             "linecolor": "white",
             "minorgridcolor": "white",
             "startlinecolor": "#2a3f5f"
            },
            "baxis": {
             "endlinecolor": "#2a3f5f",
             "gridcolor": "white",
             "linecolor": "white",
             "minorgridcolor": "white",
             "startlinecolor": "#2a3f5f"
            },
            "type": "carpet"
           }
          ],
          "choropleth": [
           {
            "colorbar": {
             "outlinewidth": 0,
             "ticks": ""
            },
            "type": "choropleth"
           }
          ],
          "contour": [
           {
            "colorbar": {
             "outlinewidth": 0,
             "ticks": ""
            },
            "colorscale": [
             [
              0,
              "#0d0887"
             ],
             [
              0.1111111111111111,
              "#46039f"
             ],
             [
              0.2222222222222222,
              "#7201a8"
             ],
             [
              0.3333333333333333,
              "#9c179e"
             ],
             [
              0.4444444444444444,
              "#bd3786"
             ],
             [
              0.5555555555555556,
              "#d8576b"
             ],
             [
              0.6666666666666666,
              "#ed7953"
             ],
             [
              0.7777777777777778,
              "#fb9f3a"
             ],
             [
              0.8888888888888888,
              "#fdca26"
             ],
             [
              1,
              "#f0f921"
             ]
            ],
            "type": "contour"
           }
          ],
          "contourcarpet": [
           {
            "colorbar": {
             "outlinewidth": 0,
             "ticks": ""
            },
            "type": "contourcarpet"
           }
          ],
          "heatmap": [
           {
            "colorbar": {
             "outlinewidth": 0,
             "ticks": ""
            },
            "colorscale": [
             [
              0,
              "#0d0887"
             ],
             [
              0.1111111111111111,
              "#46039f"
             ],
             [
              0.2222222222222222,
              "#7201a8"
             ],
             [
              0.3333333333333333,
              "#9c179e"
             ],
             [
              0.4444444444444444,
              "#bd3786"
             ],
             [
              0.5555555555555556,
              "#d8576b"
             ],
             [
              0.6666666666666666,
              "#ed7953"
             ],
             [
              0.7777777777777778,
              "#fb9f3a"
             ],
             [
              0.8888888888888888,
              "#fdca26"
             ],
             [
              1,
              "#f0f921"
             ]
            ],
            "type": "heatmap"
           }
          ],
          "heatmapgl": [
           {
            "colorbar": {
             "outlinewidth": 0,
             "ticks": ""
            },
            "colorscale": [
             [
              0,
              "#0d0887"
             ],
             [
              0.1111111111111111,
              "#46039f"
             ],
             [
              0.2222222222222222,
              "#7201a8"
             ],
             [
              0.3333333333333333,
              "#9c179e"
             ],
             [
              0.4444444444444444,
              "#bd3786"
             ],
             [
              0.5555555555555556,
              "#d8576b"
             ],
             [
              0.6666666666666666,
              "#ed7953"
             ],
             [
              0.7777777777777778,
              "#fb9f3a"
             ],
             [
              0.8888888888888888,
              "#fdca26"
             ],
             [
              1,
              "#f0f921"
             ]
            ],
            "type": "heatmapgl"
           }
          ],
          "histogram": [
           {
            "marker": {
             "pattern": {
              "fillmode": "overlay",
              "size": 10,
              "solidity": 0.2
             }
            },
            "type": "histogram"
           }
          ],
          "histogram2d": [
           {
            "colorbar": {
             "outlinewidth": 0,
             "ticks": ""
            },
            "colorscale": [
             [
              0,
              "#0d0887"
             ],
             [
              0.1111111111111111,
              "#46039f"
             ],
             [
              0.2222222222222222,
              "#7201a8"
             ],
             [
              0.3333333333333333,
              "#9c179e"
             ],
             [
              0.4444444444444444,
              "#bd3786"
             ],
             [
              0.5555555555555556,
              "#d8576b"
             ],
             [
              0.6666666666666666,
              "#ed7953"
             ],
             [
              0.7777777777777778,
              "#fb9f3a"
             ],
             [
              0.8888888888888888,
              "#fdca26"
             ],
             [
              1,
              "#f0f921"
             ]
            ],
            "type": "histogram2d"
           }
          ],
          "histogram2dcontour": [
           {
            "colorbar": {
             "outlinewidth": 0,
             "ticks": ""
            },
            "colorscale": [
             [
              0,
              "#0d0887"
             ],
             [
              0.1111111111111111,
              "#46039f"
             ],
             [
              0.2222222222222222,
              "#7201a8"
             ],
             [
              0.3333333333333333,
              "#9c179e"
             ],
             [
              0.4444444444444444,
              "#bd3786"
             ],
             [
              0.5555555555555556,
              "#d8576b"
             ],
             [
              0.6666666666666666,
              "#ed7953"
             ],
             [
              0.7777777777777778,
              "#fb9f3a"
             ],
             [
              0.8888888888888888,
              "#fdca26"
             ],
             [
              1,
              "#f0f921"
             ]
            ],
            "type": "histogram2dcontour"
           }
          ],
          "mesh3d": [
           {
            "colorbar": {
             "outlinewidth": 0,
             "ticks": ""
            },
            "type": "mesh3d"
           }
          ],
          "parcoords": [
           {
            "line": {
             "colorbar": {
              "outlinewidth": 0,
              "ticks": ""
             }
            },
            "type": "parcoords"
           }
          ],
          "pie": [
           {
            "automargin": true,
            "type": "pie"
           }
          ],
          "scatter": [
           {
            "fillpattern": {
             "fillmode": "overlay",
             "size": 10,
             "solidity": 0.2
            },
            "type": "scatter"
           }
          ],
          "scatter3d": [
           {
            "line": {
             "colorbar": {
              "outlinewidth": 0,
              "ticks": ""
             }
            },
            "marker": {
             "colorbar": {
              "outlinewidth": 0,
              "ticks": ""
             }
            },
            "type": "scatter3d"
           }
          ],
          "scattercarpet": [
           {
            "marker": {
             "colorbar": {
              "outlinewidth": 0,
              "ticks": ""
             }
            },
            "type": "scattercarpet"
           }
          ],
          "scattergeo": [
           {
            "marker": {
             "colorbar": {
              "outlinewidth": 0,
              "ticks": ""
             }
            },
            "type": "scattergeo"
           }
          ],
          "scattergl": [
           {
            "marker": {
             "colorbar": {
              "outlinewidth": 0,
              "ticks": ""
             }
            },
            "type": "scattergl"
           }
          ],
          "scattermapbox": [
           {
            "marker": {
             "colorbar": {
              "outlinewidth": 0,
              "ticks": ""
             }
            },
            "type": "scattermapbox"
           }
          ],
          "scatterpolar": [
           {
            "marker": {
             "colorbar": {
              "outlinewidth": 0,
              "ticks": ""
             }
            },
            "type": "scatterpolar"
           }
          ],
          "scatterpolargl": [
           {
            "marker": {
             "colorbar": {
              "outlinewidth": 0,
              "ticks": ""
             }
            },
            "type": "scatterpolargl"
           }
          ],
          "scatterternary": [
           {
            "marker": {
             "colorbar": {
              "outlinewidth": 0,
              "ticks": ""
             }
            },
            "type": "scatterternary"
           }
          ],
          "surface": [
           {
            "colorbar": {
             "outlinewidth": 0,
             "ticks": ""
            },
            "colorscale": [
             [
              0,
              "#0d0887"
             ],
             [
              0.1111111111111111,
              "#46039f"
             ],
             [
              0.2222222222222222,
              "#7201a8"
             ],
             [
              0.3333333333333333,
              "#9c179e"
             ],
             [
              0.4444444444444444,
              "#bd3786"
             ],
             [
              0.5555555555555556,
              "#d8576b"
             ],
             [
              0.6666666666666666,
              "#ed7953"
             ],
             [
              0.7777777777777778,
              "#fb9f3a"
             ],
             [
              0.8888888888888888,
              "#fdca26"
             ],
             [
              1,
              "#f0f921"
             ]
            ],
            "type": "surface"
           }
          ],
          "table": [
           {
            "cells": {
             "fill": {
              "color": "#EBF0F8"
             },
             "line": {
              "color": "white"
             }
            },
            "header": {
             "fill": {
              "color": "#C8D4E3"
             },
             "line": {
              "color": "white"
             }
            },
            "type": "table"
           }
          ]
         },
         "layout": {
          "annotationdefaults": {
           "arrowcolor": "#2a3f5f",
           "arrowhead": 0,
           "arrowwidth": 1
          },
          "autotypenumbers": "strict",
          "coloraxis": {
           "colorbar": {
            "outlinewidth": 0,
            "ticks": ""
           }
          },
          "colorscale": {
           "diverging": [
            [
             0,
             "#8e0152"
            ],
            [
             0.1,
             "#c51b7d"
            ],
            [
             0.2,
             "#de77ae"
            ],
            [
             0.3,
             "#f1b6da"
            ],
            [
             0.4,
             "#fde0ef"
            ],
            [
             0.5,
             "#f7f7f7"
            ],
            [
             0.6,
             "#e6f5d0"
            ],
            [
             0.7,
             "#b8e186"
            ],
            [
             0.8,
             "#7fbc41"
            ],
            [
             0.9,
             "#4d9221"
            ],
            [
             1,
             "#276419"
            ]
           ],
           "sequential": [
            [
             0,
             "#0d0887"
            ],
            [
             0.1111111111111111,
             "#46039f"
            ],
            [
             0.2222222222222222,
             "#7201a8"
            ],
            [
             0.3333333333333333,
             "#9c179e"
            ],
            [
             0.4444444444444444,
             "#bd3786"
            ],
            [
             0.5555555555555556,
             "#d8576b"
            ],
            [
             0.6666666666666666,
             "#ed7953"
            ],
            [
             0.7777777777777778,
             "#fb9f3a"
            ],
            [
             0.8888888888888888,
             "#fdca26"
            ],
            [
             1,
             "#f0f921"
            ]
           ],
           "sequentialminus": [
            [
             0,
             "#0d0887"
            ],
            [
             0.1111111111111111,
             "#46039f"
            ],
            [
             0.2222222222222222,
             "#7201a8"
            ],
            [
             0.3333333333333333,
             "#9c179e"
            ],
            [
             0.4444444444444444,
             "#bd3786"
            ],
            [
             0.5555555555555556,
             "#d8576b"
            ],
            [
             0.6666666666666666,
             "#ed7953"
            ],
            [
             0.7777777777777778,
             "#fb9f3a"
            ],
            [
             0.8888888888888888,
             "#fdca26"
            ],
            [
             1,
             "#f0f921"
            ]
           ]
          },
          "colorway": [
           "#636efa",
           "#EF553B",
           "#00cc96",
           "#ab63fa",
           "#FFA15A",
           "#19d3f3",
           "#FF6692",
           "#B6E880",
           "#FF97FF",
           "#FECB52"
          ],
          "font": {
           "color": "#2a3f5f"
          },
          "geo": {
           "bgcolor": "white",
           "lakecolor": "white",
           "landcolor": "#E5ECF6",
           "showlakes": true,
           "showland": true,
           "subunitcolor": "white"
          },
          "hoverlabel": {
           "align": "left"
          },
          "hovermode": "closest",
          "mapbox": {
           "style": "light"
          },
          "paper_bgcolor": "white",
          "plot_bgcolor": "#E5ECF6",
          "polar": {
           "angularaxis": {
            "gridcolor": "white",
            "linecolor": "white",
            "ticks": ""
           },
           "bgcolor": "#E5ECF6",
           "radialaxis": {
            "gridcolor": "white",
            "linecolor": "white",
            "ticks": ""
           }
          },
          "scene": {
           "xaxis": {
            "backgroundcolor": "#E5ECF6",
            "gridcolor": "white",
            "gridwidth": 2,
            "linecolor": "white",
            "showbackground": true,
            "ticks": "",
            "zerolinecolor": "white"
           },
           "yaxis": {
            "backgroundcolor": "#E5ECF6",
            "gridcolor": "white",
            "gridwidth": 2,
            "linecolor": "white",
            "showbackground": true,
            "ticks": "",
            "zerolinecolor": "white"
           },
           "zaxis": {
            "backgroundcolor": "#E5ECF6",
            "gridcolor": "white",
            "gridwidth": 2,
            "linecolor": "white",
            "showbackground": true,
            "ticks": "",
            "zerolinecolor": "white"
           }
          },
          "shapedefaults": {
           "line": {
            "color": "#2a3f5f"
           }
          },
          "ternary": {
           "aaxis": {
            "gridcolor": "white",
            "linecolor": "white",
            "ticks": ""
           },
           "baxis": {
            "gridcolor": "white",
            "linecolor": "white",
            "ticks": ""
           },
           "bgcolor": "#E5ECF6",
           "caxis": {
            "gridcolor": "white",
            "linecolor": "white",
            "ticks": ""
           }
          },
          "title": {
           "x": 0.05
          },
          "xaxis": {
           "automargin": true,
           "gridcolor": "white",
           "linecolor": "white",
           "ticks": "",
           "title": {
            "standoff": 15
           },
           "zerolinecolor": "white",
           "zerolinewidth": 2
          },
          "yaxis": {
           "automargin": true,
           "gridcolor": "white",
           "linecolor": "white",
           "ticks": "",
           "title": {
            "standoff": 15
           },
           "zerolinecolor": "white",
           "zerolinewidth": 2
          }
         }
        },
        "title": {
         "text": "Eğitim ve Doğrulama Metrikleri"
        },
        "width": 800,
        "xaxis": {
         "anchor": "y",
         "domain": [
          0,
          0.45
         ]
        },
        "xaxis2": {
         "anchor": "y2",
         "domain": [
          0.55,
          1
         ]
        },
        "yaxis": {
         "anchor": "x",
         "domain": [
          0,
          1
         ]
        },
        "yaxis2": {
         "anchor": "x2",
         "domain": [
          0,
          1
         ]
        }
       }
      }
     },
     "metadata": {},
     "output_type": "display_data"
    }
   ],
   "source": [
    "# Eğitim ve doğrulama kayıp grafiği ve Eğitim ve doğrulama başarı grafiği\n",
    "\n",
    "import plotly.graph_objects as go\n",
    "from plotly.subplots import make_subplots\n",
    "\n",
    "fig = make_subplots(rows=1, cols=2)\n",
    "\n",
    "fig.add_trace(\n",
    "    go.Scatter(y=history.history['loss'], name=\"Eğitim Kaybı\"),\n",
    "    row=1, col=1\n",
    ")\n",
    "\n",
    "fig.add_trace(\n",
    "    go.Scatter(y=history.history['val_loss'], name=\"Doğrulama Kaybı\"),\n",
    "    row=1, col=1\n",
    ")\n",
    "\n",
    "fig.add_trace(\n",
    "    go.Scatter(y=history.history['accuracy'], name=\"Eğitim Başarısı\"),\n",
    "    row=1, col=2\n",
    ")\n",
    "\n",
    "fig.add_trace(\n",
    "    go.Scatter(y=history.history['val_accuracy'], name=\"Doğrulama Başarısı\"),\n",
    "    row=1, col=2\n",
    ")\n",
    "\n",
    "fig.update_layout(height=500, width=800, title_text=\"Eğitim ve Doğrulama Metrikleri\")\n",
    "fig.show()\n",
    "\n"
   ]
  },
  {
   "cell_type": "code",
   "execution_count": 129,
   "metadata": {},
   "outputs": [
    {
     "name": "stdout",
     "output_type": "stream",
     "text": [
      "24/24 - 0s - loss: 0.0129 - accuracy: 0.9935 - 28ms/epoch - 1ms/step\n",
      "24/24 [==============================] - 0s 478us/step\n"
     ]
    },
    {
     "name": "stderr",
     "output_type": "stream",
     "text": [
      "c:\\Users\\PC\\AppData\\Local\\Programs\\Python\\Python311\\Lib\\site-packages\\sklearn\\preprocessing\\_label.py:155: DataConversionWarning:\n",
      "\n",
      "A column-vector y was passed when a 1d array was expected. Please change the shape of y to (n_samples, ), for example using ravel().\n",
      "\n"
     ]
    },
    {
     "data": {
      "application/vnd.plotly.v1+json": {
       "config": {
        "plotlyServerURL": "https://plot.ly"
       },
       "data": [
        {
         "colorscale": [
          [
           0,
           "#440154"
          ],
          [
           0.1111111111111111,
           "#482878"
          ],
          [
           0.2222222222222222,
           "#3e4989"
          ],
          [
           0.3333333333333333,
           "#31688e"
          ],
          [
           0.4444444444444444,
           "#26828e"
          ],
          [
           0.5555555555555556,
           "#1f9e89"
          ],
          [
           0.6666666666666666,
           "#35b779"
          ],
          [
           0.7777777777777778,
           "#6ece58"
          ],
          [
           0.8888888888888888,
           "#b5de2b"
          ],
          [
           1,
           "#fde725"
          ]
         ],
         "reversescale": false,
         "showscale": false,
         "type": "heatmap",
         "x": [
          "Food",
          "HC",
          "PC"
         ],
         "y": [
          "Food",
          "HC",
          "PC"
         ],
         "z": [
          [
           0,
           0,
           0
          ],
          [
           0,
           166,
           5
          ],
          [
           0,
           0,
           324
          ]
         ]
        }
       ],
       "layout": {
        "annotations": [
         {
          "font": {
           "color": "#FFFFFF"
          },
          "showarrow": false,
          "text": "0",
          "x": "Food",
          "xref": "x",
          "y": "Food",
          "yref": "y"
         },
         {
          "font": {
           "color": "#FFFFFF"
          },
          "showarrow": false,
          "text": "0",
          "x": "HC",
          "xref": "x",
          "y": "Food",
          "yref": "y"
         },
         {
          "font": {
           "color": "#FFFFFF"
          },
          "showarrow": false,
          "text": "0",
          "x": "PC",
          "xref": "x",
          "y": "Food",
          "yref": "y"
         },
         {
          "font": {
           "color": "#FFFFFF"
          },
          "showarrow": false,
          "text": "0",
          "x": "Food",
          "xref": "x",
          "y": "HC",
          "yref": "y"
         },
         {
          "font": {
           "color": "#000000"
          },
          "showarrow": false,
          "text": "166",
          "x": "HC",
          "xref": "x",
          "y": "HC",
          "yref": "y"
         },
         {
          "font": {
           "color": "#FFFFFF"
          },
          "showarrow": false,
          "text": "5",
          "x": "PC",
          "xref": "x",
          "y": "HC",
          "yref": "y"
         },
         {
          "font": {
           "color": "#FFFFFF"
          },
          "showarrow": false,
          "text": "0",
          "x": "Food",
          "xref": "x",
          "y": "PC",
          "yref": "y"
         },
         {
          "font": {
           "color": "#FFFFFF"
          },
          "showarrow": false,
          "text": "0",
          "x": "HC",
          "xref": "x",
          "y": "PC",
          "yref": "y"
         },
         {
          "font": {
           "color": "#000000"
          },
          "showarrow": false,
          "text": "324",
          "x": "PC",
          "xref": "x",
          "y": "PC",
          "yref": "y"
         }
        ],
        "template": {
         "data": {
          "bar": [
           {
            "error_x": {
             "color": "#2a3f5f"
            },
            "error_y": {
             "color": "#2a3f5f"
            },
            "marker": {
             "line": {
              "color": "#E5ECF6",
              "width": 0.5
             },
             "pattern": {
              "fillmode": "overlay",
              "size": 10,
              "solidity": 0.2
             }
            },
            "type": "bar"
           }
          ],
          "barpolar": [
           {
            "marker": {
             "line": {
              "color": "#E5ECF6",
              "width": 0.5
             },
             "pattern": {
              "fillmode": "overlay",
              "size": 10,
              "solidity": 0.2
             }
            },
            "type": "barpolar"
           }
          ],
          "carpet": [
           {
            "aaxis": {
             "endlinecolor": "#2a3f5f",
             "gridcolor": "white",
             "linecolor": "white",
             "minorgridcolor": "white",
             "startlinecolor": "#2a3f5f"
            },
            "baxis": {
             "endlinecolor": "#2a3f5f",
             "gridcolor": "white",
             "linecolor": "white",
             "minorgridcolor": "white",
             "startlinecolor": "#2a3f5f"
            },
            "type": "carpet"
           }
          ],
          "choropleth": [
           {
            "colorbar": {
             "outlinewidth": 0,
             "ticks": ""
            },
            "type": "choropleth"
           }
          ],
          "contour": [
           {
            "colorbar": {
             "outlinewidth": 0,
             "ticks": ""
            },
            "colorscale": [
             [
              0,
              "#0d0887"
             ],
             [
              0.1111111111111111,
              "#46039f"
             ],
             [
              0.2222222222222222,
              "#7201a8"
             ],
             [
              0.3333333333333333,
              "#9c179e"
             ],
             [
              0.4444444444444444,
              "#bd3786"
             ],
             [
              0.5555555555555556,
              "#d8576b"
             ],
             [
              0.6666666666666666,
              "#ed7953"
             ],
             [
              0.7777777777777778,
              "#fb9f3a"
             ],
             [
              0.8888888888888888,
              "#fdca26"
             ],
             [
              1,
              "#f0f921"
             ]
            ],
            "type": "contour"
           }
          ],
          "contourcarpet": [
           {
            "colorbar": {
             "outlinewidth": 0,
             "ticks": ""
            },
            "type": "contourcarpet"
           }
          ],
          "heatmap": [
           {
            "colorbar": {
             "outlinewidth": 0,
             "ticks": ""
            },
            "colorscale": [
             [
              0,
              "#0d0887"
             ],
             [
              0.1111111111111111,
              "#46039f"
             ],
             [
              0.2222222222222222,
              "#7201a8"
             ],
             [
              0.3333333333333333,
              "#9c179e"
             ],
             [
              0.4444444444444444,
              "#bd3786"
             ],
             [
              0.5555555555555556,
              "#d8576b"
             ],
             [
              0.6666666666666666,
              "#ed7953"
             ],
             [
              0.7777777777777778,
              "#fb9f3a"
             ],
             [
              0.8888888888888888,
              "#fdca26"
             ],
             [
              1,
              "#f0f921"
             ]
            ],
            "type": "heatmap"
           }
          ],
          "heatmapgl": [
           {
            "colorbar": {
             "outlinewidth": 0,
             "ticks": ""
            },
            "colorscale": [
             [
              0,
              "#0d0887"
             ],
             [
              0.1111111111111111,
              "#46039f"
             ],
             [
              0.2222222222222222,
              "#7201a8"
             ],
             [
              0.3333333333333333,
              "#9c179e"
             ],
             [
              0.4444444444444444,
              "#bd3786"
             ],
             [
              0.5555555555555556,
              "#d8576b"
             ],
             [
              0.6666666666666666,
              "#ed7953"
             ],
             [
              0.7777777777777778,
              "#fb9f3a"
             ],
             [
              0.8888888888888888,
              "#fdca26"
             ],
             [
              1,
              "#f0f921"
             ]
            ],
            "type": "heatmapgl"
           }
          ],
          "histogram": [
           {
            "marker": {
             "pattern": {
              "fillmode": "overlay",
              "size": 10,
              "solidity": 0.2
             }
            },
            "type": "histogram"
           }
          ],
          "histogram2d": [
           {
            "colorbar": {
             "outlinewidth": 0,
             "ticks": ""
            },
            "colorscale": [
             [
              0,
              "#0d0887"
             ],
             [
              0.1111111111111111,
              "#46039f"
             ],
             [
              0.2222222222222222,
              "#7201a8"
             ],
             [
              0.3333333333333333,
              "#9c179e"
             ],
             [
              0.4444444444444444,
              "#bd3786"
             ],
             [
              0.5555555555555556,
              "#d8576b"
             ],
             [
              0.6666666666666666,
              "#ed7953"
             ],
             [
              0.7777777777777778,
              "#fb9f3a"
             ],
             [
              0.8888888888888888,
              "#fdca26"
             ],
             [
              1,
              "#f0f921"
             ]
            ],
            "type": "histogram2d"
           }
          ],
          "histogram2dcontour": [
           {
            "colorbar": {
             "outlinewidth": 0,
             "ticks": ""
            },
            "colorscale": [
             [
              0,
              "#0d0887"
             ],
             [
              0.1111111111111111,
              "#46039f"
             ],
             [
              0.2222222222222222,
              "#7201a8"
             ],
             [
              0.3333333333333333,
              "#9c179e"
             ],
             [
              0.4444444444444444,
              "#bd3786"
             ],
             [
              0.5555555555555556,
              "#d8576b"
             ],
             [
              0.6666666666666666,
              "#ed7953"
             ],
             [
              0.7777777777777778,
              "#fb9f3a"
             ],
             [
              0.8888888888888888,
              "#fdca26"
             ],
             [
              1,
              "#f0f921"
             ]
            ],
            "type": "histogram2dcontour"
           }
          ],
          "mesh3d": [
           {
            "colorbar": {
             "outlinewidth": 0,
             "ticks": ""
            },
            "type": "mesh3d"
           }
          ],
          "parcoords": [
           {
            "line": {
             "colorbar": {
              "outlinewidth": 0,
              "ticks": ""
             }
            },
            "type": "parcoords"
           }
          ],
          "pie": [
           {
            "automargin": true,
            "type": "pie"
           }
          ],
          "scatter": [
           {
            "fillpattern": {
             "fillmode": "overlay",
             "size": 10,
             "solidity": 0.2
            },
            "type": "scatter"
           }
          ],
          "scatter3d": [
           {
            "line": {
             "colorbar": {
              "outlinewidth": 0,
              "ticks": ""
             }
            },
            "marker": {
             "colorbar": {
              "outlinewidth": 0,
              "ticks": ""
             }
            },
            "type": "scatter3d"
           }
          ],
          "scattercarpet": [
           {
            "marker": {
             "colorbar": {
              "outlinewidth": 0,
              "ticks": ""
             }
            },
            "type": "scattercarpet"
           }
          ],
          "scattergeo": [
           {
            "marker": {
             "colorbar": {
              "outlinewidth": 0,
              "ticks": ""
             }
            },
            "type": "scattergeo"
           }
          ],
          "scattergl": [
           {
            "marker": {
             "colorbar": {
              "outlinewidth": 0,
              "ticks": ""
             }
            },
            "type": "scattergl"
           }
          ],
          "scattermapbox": [
           {
            "marker": {
             "colorbar": {
              "outlinewidth": 0,
              "ticks": ""
             }
            },
            "type": "scattermapbox"
           }
          ],
          "scatterpolar": [
           {
            "marker": {
             "colorbar": {
              "outlinewidth": 0,
              "ticks": ""
             }
            },
            "type": "scatterpolar"
           }
          ],
          "scatterpolargl": [
           {
            "marker": {
             "colorbar": {
              "outlinewidth": 0,
              "ticks": ""
             }
            },
            "type": "scatterpolargl"
           }
          ],
          "scatterternary": [
           {
            "marker": {
             "colorbar": {
              "outlinewidth": 0,
              "ticks": ""
             }
            },
            "type": "scatterternary"
           }
          ],
          "surface": [
           {
            "colorbar": {
             "outlinewidth": 0,
             "ticks": ""
            },
            "colorscale": [
             [
              0,
              "#0d0887"
             ],
             [
              0.1111111111111111,
              "#46039f"
             ],
             [
              0.2222222222222222,
              "#7201a8"
             ],
             [
              0.3333333333333333,
              "#9c179e"
             ],
             [
              0.4444444444444444,
              "#bd3786"
             ],
             [
              0.5555555555555556,
              "#d8576b"
             ],
             [
              0.6666666666666666,
              "#ed7953"
             ],
             [
              0.7777777777777778,
              "#fb9f3a"
             ],
             [
              0.8888888888888888,
              "#fdca26"
             ],
             [
              1,
              "#f0f921"
             ]
            ],
            "type": "surface"
           }
          ],
          "table": [
           {
            "cells": {
             "fill": {
              "color": "#EBF0F8"
             },
             "line": {
              "color": "white"
             }
            },
            "header": {
             "fill": {
              "color": "#C8D4E3"
             },
             "line": {
              "color": "white"
             }
            },
            "type": "table"
           }
          ]
         },
         "layout": {
          "annotationdefaults": {
           "arrowcolor": "#2a3f5f",
           "arrowhead": 0,
           "arrowwidth": 1
          },
          "autotypenumbers": "strict",
          "coloraxis": {
           "colorbar": {
            "outlinewidth": 0,
            "ticks": ""
           }
          },
          "colorscale": {
           "diverging": [
            [
             0,
             "#8e0152"
            ],
            [
             0.1,
             "#c51b7d"
            ],
            [
             0.2,
             "#de77ae"
            ],
            [
             0.3,
             "#f1b6da"
            ],
            [
             0.4,
             "#fde0ef"
            ],
            [
             0.5,
             "#f7f7f7"
            ],
            [
             0.6,
             "#e6f5d0"
            ],
            [
             0.7,
             "#b8e186"
            ],
            [
             0.8,
             "#7fbc41"
            ],
            [
             0.9,
             "#4d9221"
            ],
            [
             1,
             "#276419"
            ]
           ],
           "sequential": [
            [
             0,
             "#0d0887"
            ],
            [
             0.1111111111111111,
             "#46039f"
            ],
            [
             0.2222222222222222,
             "#7201a8"
            ],
            [
             0.3333333333333333,
             "#9c179e"
            ],
            [
             0.4444444444444444,
             "#bd3786"
            ],
            [
             0.5555555555555556,
             "#d8576b"
            ],
            [
             0.6666666666666666,
             "#ed7953"
            ],
            [
             0.7777777777777778,
             "#fb9f3a"
            ],
            [
             0.8888888888888888,
             "#fdca26"
            ],
            [
             1,
             "#f0f921"
            ]
           ],
           "sequentialminus": [
            [
             0,
             "#0d0887"
            ],
            [
             0.1111111111111111,
             "#46039f"
            ],
            [
             0.2222222222222222,
             "#7201a8"
            ],
            [
             0.3333333333333333,
             "#9c179e"
            ],
            [
             0.4444444444444444,
             "#bd3786"
            ],
            [
             0.5555555555555556,
             "#d8576b"
            ],
            [
             0.6666666666666666,
             "#ed7953"
            ],
            [
             0.7777777777777778,
             "#fb9f3a"
            ],
            [
             0.8888888888888888,
             "#fdca26"
            ],
            [
             1,
             "#f0f921"
            ]
           ]
          },
          "colorway": [
           "#636efa",
           "#EF553B",
           "#00cc96",
           "#ab63fa",
           "#FFA15A",
           "#19d3f3",
           "#FF6692",
           "#B6E880",
           "#FF97FF",
           "#FECB52"
          ],
          "font": {
           "color": "#2a3f5f"
          },
          "geo": {
           "bgcolor": "white",
           "lakecolor": "white",
           "landcolor": "#E5ECF6",
           "showlakes": true,
           "showland": true,
           "subunitcolor": "white"
          },
          "hoverlabel": {
           "align": "left"
          },
          "hovermode": "closest",
          "mapbox": {
           "style": "light"
          },
          "paper_bgcolor": "white",
          "plot_bgcolor": "#E5ECF6",
          "polar": {
           "angularaxis": {
            "gridcolor": "white",
            "linecolor": "white",
            "ticks": ""
           },
           "bgcolor": "#E5ECF6",
           "radialaxis": {
            "gridcolor": "white",
            "linecolor": "white",
            "ticks": ""
           }
          },
          "scene": {
           "xaxis": {
            "backgroundcolor": "#E5ECF6",
            "gridcolor": "white",
            "gridwidth": 2,
            "linecolor": "white",
            "showbackground": true,
            "ticks": "",
            "zerolinecolor": "white"
           },
           "yaxis": {
            "backgroundcolor": "#E5ECF6",
            "gridcolor": "white",
            "gridwidth": 2,
            "linecolor": "white",
            "showbackground": true,
            "ticks": "",
            "zerolinecolor": "white"
           },
           "zaxis": {
            "backgroundcolor": "#E5ECF6",
            "gridcolor": "white",
            "gridwidth": 2,
            "linecolor": "white",
            "showbackground": true,
            "ticks": "",
            "zerolinecolor": "white"
           }
          },
          "shapedefaults": {
           "line": {
            "color": "#2a3f5f"
           }
          },
          "ternary": {
           "aaxis": {
            "gridcolor": "white",
            "linecolor": "white",
            "ticks": ""
           },
           "baxis": {
            "gridcolor": "white",
            "linecolor": "white",
            "ticks": ""
           },
           "bgcolor": "#E5ECF6",
           "caxis": {
            "gridcolor": "white",
            "linecolor": "white",
            "ticks": ""
           }
          },
          "title": {
           "x": 0.05
          },
          "xaxis": {
           "automargin": true,
           "gridcolor": "white",
           "linecolor": "white",
           "ticks": "",
           "title": {
            "standoff": 15
           },
           "zerolinecolor": "white",
           "zerolinewidth": 2
          },
          "yaxis": {
           "automargin": true,
           "gridcolor": "white",
           "linecolor": "white",
           "ticks": "",
           "title": {
            "standoff": 15
           },
           "zerolinecolor": "white",
           "zerolinewidth": 2
          }
         }
        },
        "title": {
         "text": "Karmaşıklık Matrisi"
        },
        "xaxis": {
         "dtick": 1,
         "gridcolor": "rgb(0, 0, 0)",
         "side": "top",
         "ticks": "",
         "title": {
          "text": "Tahmin"
         }
        },
        "yaxis": {
         "dtick": 1,
         "ticks": "",
         "ticksuffix": "  ",
         "title": {
          "text": "Gerçek"
         }
        }
       }
      }
     },
     "metadata": {},
     "output_type": "display_data"
    }
   ],
   "source": [
    "# Test verileri üzerinde modeli değerlendirin\n",
    "y_test = y_test.reshape(-1, 1)\n",
    "model.evaluate(X_test, y_test, verbose=2)\n",
    "\n",
    "# Test verileri üzerinde tahmin yapın\n",
    "y_pred = model.predict(X_test)\n",
    "y_pred = np.argmax(y_pred, axis=1)\n",
    "y_pred = le.inverse_transform(y_pred)\n",
    "\n",
    "y_test = le.inverse_transform(y_test)\n",
    "\n",
    "from sklearn.metrics import confusion_matrix\n",
    "import plotly.figure_factory as ff\n",
    "\n",
    "cm = confusion_matrix(y_test, y_pred, labels=[\"Food\", \"HC\", \"PC\"])\n",
    "\n",
    "fig = ff.create_annotated_heatmap(\n",
    "    z=cm,\n",
    "    x=[\"Food\", \"HC\", \"PC\"],\n",
    "    y=[\"Food\", \"HC\", \"PC\"],\n",
    "    colorscale='Viridis'\n",
    ")\n",
    "\n",
    "fig.update_layout(title_text='Karmaşıklık Matrisi', xaxis = dict(title='Tahmin'), yaxis = dict(title='Gerçek'))\n",
    "\n",
    "fig.show()\n"
   ]
  }
 ],
 "metadata": {
  "kernelspec": {
   "display_name": "Python 3.11.0 64-bit",
   "language": "python",
   "name": "python3"
  },
  "language_info": {
   "codemirror_mode": {
    "name": "ipython",
    "version": 3
   },
   "file_extension": ".py",
   "mimetype": "text/x-python",
   "name": "python",
   "nbconvert_exporter": "python",
   "pygments_lexer": "ipython3",
   "version": "3.11.0"
  },
  "orig_nbformat": 4,
  "vscode": {
   "interpreter": {
    "hash": "5ffd7eb2cebf9ac436b5021ba01877e9cee6b03524e01bf8c8637d3e64111215"
   }
  }
 },
 "nbformat": 4,
 "nbformat_minor": 2
}
